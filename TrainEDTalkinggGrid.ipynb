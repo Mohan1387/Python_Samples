{
 "cells": [
  {
   "cell_type": "code",
   "execution_count": 1,
   "metadata": {},
   "outputs": [
    {
     "name": "stderr",
     "output_type": "stream",
     "text": [
      "C:\\Users\\hdadmin\\Anaconda3\\lib\\site-packages\\sklearn\\cross_validation.py:44: DeprecationWarning: This module was deprecated in version 0.18 in favor of the model_selection module into which all the refactored classes and functions are moved. Also note that the interface of the new CV iterators are different from that of this module. This module will be removed in 0.20.\n",
      "  \"This module will be removed in 0.20.\", DeprecationWarning)\n"
     ]
    }
   ],
   "source": [
    "import gc\n",
    "import time\n",
    "import numpy as np\n",
    "import pandas as pd\n",
    "from sklearn.cross_validation import train_test_split\n",
    "import xgboost as xgb\n",
    "from xgboost import plot_importance\n",
    "import matplotlib.pyplot as plt"
   ]
  },
  {
   "cell_type": "code",
   "execution_count": 2,
   "metadata": {
    "collapsed": true
   },
   "outputs": [],
   "source": [
    "path = 'D:\\\\PythonSamples\\\\Talking\\\\'\n",
    "\n",
    "def timeFeatures(df):\n",
    "    # Make some new features with click_time column\n",
    "    df['datetime'] = pd.to_datetime(df['click_time'])\n",
    "    #df['dow']      = df['datetime'].dt.dayofweek\n",
    "    #df[\"doy\"]      = df[\"datetime\"].dt.dayofyear\n",
    "    df[\"date_day\"]      = df[\"datetime\"].dt.day\n",
    "    df[\"date_hour\"]      = df[\"datetime\"].dt.hour\n",
    "    #df[\"dteom\"]    = df[\"datetime\"].dt.daysinmonth - df[\"datetime\"].dt.day\n",
    "    df.drop(['click_time', 'datetime'], axis=1, inplace=True)\n",
    "    return df"
   ]
  },
  {
   "cell_type": "code",
   "execution_count": 3,
   "metadata": {
    "collapsed": true
   },
   "outputs": [],
   "source": [
    "start_time = time.time()\n",
    "\n",
    "train_columns = ['ip', 'app', 'device', 'os', 'channel', 'click_time', 'is_attributed']\n",
    "test_columns  = ['ip', 'app', 'device', 'os', 'channel', 'click_time', 'click_id']\n",
    "dtypes = {\n",
    "        'ip'            : 'uint32',\n",
    "        'app'           : 'uint16',\n",
    "        'device'        : 'uint16',\n",
    "        'os'            : 'uint16',\n",
    "        'channel'       : 'uint16',\n",
    "        'is_attributed' : 'uint8',\n",
    "        'click_id'      : 'uint32'\n",
    "        }"
   ]
  },
  {
   "cell_type": "code",
   "execution_count": 4,
   "metadata": {
    "collapsed": true
   },
   "outputs": [],
   "source": [
    "train_ref = pd.read_csv(path+\"train.csv\", usecols=train_columns, dtype=dtypes)"
   ]
  },
  {
   "cell_type": "code",
   "execution_count": 5,
   "metadata": {
    "collapsed": true
   },
   "outputs": [],
   "source": [
    "test_ref = pd.read_csv(path+\"test.csv\", usecols=test_columns, dtype=dtypes)"
   ]
  },
  {
   "cell_type": "code",
   "execution_count": 6,
   "metadata": {},
   "outputs": [
    {
     "data": {
      "text/html": [
       "<div>\n",
       "<style>\n",
       "    .dataframe thead tr:only-child th {\n",
       "        text-align: right;\n",
       "    }\n",
       "\n",
       "    .dataframe thead th {\n",
       "        text-align: left;\n",
       "    }\n",
       "\n",
       "    .dataframe tbody tr th {\n",
       "        vertical-align: top;\n",
       "    }\n",
       "</style>\n",
       "<table border=\"1\" class=\"dataframe\">\n",
       "  <thead>\n",
       "    <tr style=\"text-align: right;\">\n",
       "      <th></th>\n",
       "      <th>ip</th>\n",
       "      <th>app</th>\n",
       "      <th>device</th>\n",
       "      <th>os</th>\n",
       "      <th>channel</th>\n",
       "      <th>is_attributed</th>\n",
       "    </tr>\n",
       "  </thead>\n",
       "  <tbody>\n",
       "    <tr>\n",
       "      <th>count</th>\n",
       "      <td>1.849039e+08</td>\n",
       "      <td>1.849039e+08</td>\n",
       "      <td>1.849039e+08</td>\n",
       "      <td>1.849039e+08</td>\n",
       "      <td>1.849039e+08</td>\n",
       "      <td>1.849039e+08</td>\n",
       "    </tr>\n",
       "    <tr>\n",
       "      <th>mean</th>\n",
       "      <td>9.087604e+04</td>\n",
       "      <td>1.201131e+01</td>\n",
       "      <td>2.172325e+01</td>\n",
       "      <td>2.267702e+01</td>\n",
       "      <td>2.685789e+02</td>\n",
       "      <td>2.470721e-03</td>\n",
       "    </tr>\n",
       "    <tr>\n",
       "      <th>std</th>\n",
       "      <td>6.952789e+04</td>\n",
       "      <td>1.480521e+01</td>\n",
       "      <td>2.593326e+02</td>\n",
       "      <td>5.525282e+01</td>\n",
       "      <td>1.295882e+02</td>\n",
       "      <td>4.964491e-02</td>\n",
       "    </tr>\n",
       "    <tr>\n",
       "      <th>min</th>\n",
       "      <td>1.000000e+00</td>\n",
       "      <td>0.000000e+00</td>\n",
       "      <td>0.000000e+00</td>\n",
       "      <td>0.000000e+00</td>\n",
       "      <td>0.000000e+00</td>\n",
       "      <td>0.000000e+00</td>\n",
       "    </tr>\n",
       "    <tr>\n",
       "      <th>25%</th>\n",
       "      <td>4.024500e+04</td>\n",
       "      <td>3.000000e+00</td>\n",
       "      <td>1.000000e+00</td>\n",
       "      <td>1.300000e+01</td>\n",
       "      <td>1.400000e+02</td>\n",
       "      <td>0.000000e+00</td>\n",
       "    </tr>\n",
       "    <tr>\n",
       "      <th>50%</th>\n",
       "      <td>7.962200e+04</td>\n",
       "      <td>1.200000e+01</td>\n",
       "      <td>1.000000e+00</td>\n",
       "      <td>1.800000e+01</td>\n",
       "      <td>2.580000e+02</td>\n",
       "      <td>0.000000e+00</td>\n",
       "    </tr>\n",
       "    <tr>\n",
       "      <th>75%</th>\n",
       "      <td>1.182470e+05</td>\n",
       "      <td>1.500000e+01</td>\n",
       "      <td>1.000000e+00</td>\n",
       "      <td>1.900000e+01</td>\n",
       "      <td>3.790000e+02</td>\n",
       "      <td>0.000000e+00</td>\n",
       "    </tr>\n",
       "    <tr>\n",
       "      <th>max</th>\n",
       "      <td>3.647780e+05</td>\n",
       "      <td>7.680000e+02</td>\n",
       "      <td>4.227000e+03</td>\n",
       "      <td>9.560000e+02</td>\n",
       "      <td>5.000000e+02</td>\n",
       "      <td>1.000000e+00</td>\n",
       "    </tr>\n",
       "  </tbody>\n",
       "</table>\n",
       "</div>"
      ],
      "text/plain": [
       "                 ip           app        device            os       channel  \\\n",
       "count  1.849039e+08  1.849039e+08  1.849039e+08  1.849039e+08  1.849039e+08   \n",
       "mean   9.087604e+04  1.201131e+01  2.172325e+01  2.267702e+01  2.685789e+02   \n",
       "std    6.952789e+04  1.480521e+01  2.593326e+02  5.525282e+01  1.295882e+02   \n",
       "min    1.000000e+00  0.000000e+00  0.000000e+00  0.000000e+00  0.000000e+00   \n",
       "25%    4.024500e+04  3.000000e+00  1.000000e+00  1.300000e+01  1.400000e+02   \n",
       "50%    7.962200e+04  1.200000e+01  1.000000e+00  1.800000e+01  2.580000e+02   \n",
       "75%    1.182470e+05  1.500000e+01  1.000000e+00  1.900000e+01  3.790000e+02   \n",
       "max    3.647780e+05  7.680000e+02  4.227000e+03  9.560000e+02  5.000000e+02   \n",
       "\n",
       "       is_attributed  \n",
       "count   1.849039e+08  \n",
       "mean    2.470721e-03  \n",
       "std     4.964491e-02  \n",
       "min     0.000000e+00  \n",
       "25%     0.000000e+00  \n",
       "50%     0.000000e+00  \n",
       "75%     0.000000e+00  \n",
       "max     1.000000e+00  "
      ]
     },
     "execution_count": 6,
     "metadata": {},
     "output_type": "execute_result"
    }
   ],
   "source": [
    "train_ref.describe()"
   ]
  },
  {
   "cell_type": "code",
   "execution_count": 7,
   "metadata": {},
   "outputs": [
    {
     "data": {
      "text/html": [
       "<div>\n",
       "<style>\n",
       "    .dataframe thead tr:only-child th {\n",
       "        text-align: right;\n",
       "    }\n",
       "\n",
       "    .dataframe thead th {\n",
       "        text-align: left;\n",
       "    }\n",
       "\n",
       "    .dataframe tbody tr th {\n",
       "        vertical-align: top;\n",
       "    }\n",
       "</style>\n",
       "<table border=\"1\" class=\"dataframe\">\n",
       "  <thead>\n",
       "    <tr style=\"text-align: right;\">\n",
       "      <th></th>\n",
       "      <th>click_id</th>\n",
       "      <th>ip</th>\n",
       "      <th>app</th>\n",
       "      <th>device</th>\n",
       "      <th>os</th>\n",
       "      <th>channel</th>\n",
       "    </tr>\n",
       "  </thead>\n",
       "  <tbody>\n",
       "    <tr>\n",
       "      <th>count</th>\n",
       "      <td>1.879047e+07</td>\n",
       "      <td>1.879047e+07</td>\n",
       "      <td>1.879047e+07</td>\n",
       "      <td>1.879047e+07</td>\n",
       "      <td>1.879047e+07</td>\n",
       "      <td>1.879047e+07</td>\n",
       "    </tr>\n",
       "    <tr>\n",
       "      <th>mean</th>\n",
       "      <td>9.395234e+06</td>\n",
       "      <td>6.306921e+04</td>\n",
       "      <td>1.221480e+01</td>\n",
       "      <td>1.730513e+00</td>\n",
       "      <td>1.873312e+01</td>\n",
       "      <td>2.648059e+02</td>\n",
       "    </tr>\n",
       "    <tr>\n",
       "      <th>std</th>\n",
       "      <td>5.424341e+06</td>\n",
       "      <td>3.688597e+04</td>\n",
       "      <td>1.164924e+01</td>\n",
       "      <td>2.597038e+01</td>\n",
       "      <td>1.135059e+01</td>\n",
       "      <td>1.355254e+02</td>\n",
       "    </tr>\n",
       "    <tr>\n",
       "      <th>min</th>\n",
       "      <td>0.000000e+00</td>\n",
       "      <td>0.000000e+00</td>\n",
       "      <td>0.000000e+00</td>\n",
       "      <td>0.000000e+00</td>\n",
       "      <td>0.000000e+00</td>\n",
       "      <td>0.000000e+00</td>\n",
       "    </tr>\n",
       "    <tr>\n",
       "      <th>25%</th>\n",
       "      <td>4.697617e+06</td>\n",
       "      <td>3.155800e+04</td>\n",
       "      <td>3.000000e+00</td>\n",
       "      <td>1.000000e+00</td>\n",
       "      <td>1.300000e+01</td>\n",
       "      <td>1.350000e+02</td>\n",
       "    </tr>\n",
       "    <tr>\n",
       "      <th>50%</th>\n",
       "      <td>9.395234e+06</td>\n",
       "      <td>6.393600e+04</td>\n",
       "      <td>1.200000e+01</td>\n",
       "      <td>1.000000e+00</td>\n",
       "      <td>1.800000e+01</td>\n",
       "      <td>2.360000e+02</td>\n",
       "    </tr>\n",
       "    <tr>\n",
       "      <th>75%</th>\n",
       "      <td>1.409285e+07</td>\n",
       "      <td>9.531600e+04</td>\n",
       "      <td>1.800000e+01</td>\n",
       "      <td>1.000000e+00</td>\n",
       "      <td>1.900000e+01</td>\n",
       "      <td>4.010000e+02</td>\n",
       "    </tr>\n",
       "    <tr>\n",
       "      <th>max</th>\n",
       "      <td>1.879047e+07</td>\n",
       "      <td>1.264130e+05</td>\n",
       "      <td>5.210000e+02</td>\n",
       "      <td>3.031000e+03</td>\n",
       "      <td>6.040000e+02</td>\n",
       "      <td>4.980000e+02</td>\n",
       "    </tr>\n",
       "  </tbody>\n",
       "</table>\n",
       "</div>"
      ],
      "text/plain": [
       "           click_id            ip           app        device            os  \\\n",
       "count  1.879047e+07  1.879047e+07  1.879047e+07  1.879047e+07  1.879047e+07   \n",
       "mean   9.395234e+06  6.306921e+04  1.221480e+01  1.730513e+00  1.873312e+01   \n",
       "std    5.424341e+06  3.688597e+04  1.164924e+01  2.597038e+01  1.135059e+01   \n",
       "min    0.000000e+00  0.000000e+00  0.000000e+00  0.000000e+00  0.000000e+00   \n",
       "25%    4.697617e+06  3.155800e+04  3.000000e+00  1.000000e+00  1.300000e+01   \n",
       "50%    9.395234e+06  6.393600e+04  1.200000e+01  1.000000e+00  1.800000e+01   \n",
       "75%    1.409285e+07  9.531600e+04  1.800000e+01  1.000000e+00  1.900000e+01   \n",
       "max    1.879047e+07  1.264130e+05  5.210000e+02  3.031000e+03  6.040000e+02   \n",
       "\n",
       "            channel  \n",
       "count  1.879047e+07  \n",
       "mean   2.648059e+02  \n",
       "std    1.355254e+02  \n",
       "min    0.000000e+00  \n",
       "25%    1.350000e+02  \n",
       "50%    2.360000e+02  \n",
       "75%    4.010000e+02  \n",
       "max    4.980000e+02  "
      ]
     },
     "execution_count": 7,
     "metadata": {},
     "output_type": "execute_result"
    }
   ],
   "source": [
    "test_ref.describe()"
   ]
  },
  {
   "cell_type": "code",
   "execution_count": 8,
   "metadata": {},
   "outputs": [
    {
     "data": {
      "text/plain": [
       "50"
      ]
     },
     "execution_count": 8,
     "metadata": {},
     "output_type": "execute_result"
    }
   ],
   "source": [
    "# Drop the IP and the columns from target\n",
    "train_ref.drop(['is_attributed'], axis=1, inplace=True)\n",
    "gc.collect()\n",
    "#nrow_train = train.shape[0]\n",
    "merge_ref = pd.concat([train_ref, test_ref])\n",
    "del train_ref, test_ref\n",
    "gc.collect()"
   ]
  },
  {
   "cell_type": "code",
   "execution_count": 9,
   "metadata": {
    "collapsed": true,
    "scrolled": true
   },
   "outputs": [],
   "source": [
    "#train_ref = timeFeatures(train_ref)"
   ]
  },
  {
   "cell_type": "code",
   "execution_count": 10,
   "metadata": {
    "collapsed": true
   },
   "outputs": [],
   "source": [
    "ip_appcount = merge_ref.groupby(['ip']).app.nunique().reset_index()\n",
    "ip_appcount.columns = ['ip', 'ip_appcounts']"
   ]
  },
  {
   "cell_type": "code",
   "execution_count": 11,
   "metadata": {
    "collapsed": true
   },
   "outputs": [],
   "source": [
    "ip_oscount = merge_ref.groupby(['ip']).os.nunique().reset_index()\n",
    "ip_oscount.columns = ['ip', 'ip_oscounts']"
   ]
  },
  {
   "cell_type": "code",
   "execution_count": 12,
   "metadata": {
    "collapsed": true
   },
   "outputs": [],
   "source": [
    "app_ipcount = merge_ref.groupby(['app'])['ip'].count().reset_index()\n",
    "app_ipcount.columns = ['app', 'app_clickip']"
   ]
  },
  {
   "cell_type": "code",
   "execution_count": 13,
   "metadata": {
    "collapsed": true
   },
   "outputs": [],
   "source": [
    "app_app_oscount = merge_ref.groupby(['app','os'])['channel'].count().reset_index()\n",
    "app_app_oscount.columns = ['app', 'os', 'app_os_clicks']"
   ]
  },
  {
   "cell_type": "code",
   "execution_count": 14,
   "metadata": {
    "collapsed": true
   },
   "outputs": [],
   "source": [
    "app_app_devcount = merge_ref.groupby(['app','device'])['channel'].count().reset_index()\n",
    "app_app_devcount.columns = ['app', 'device', 'app_device_click']"
   ]
  },
  {
   "cell_type": "code",
   "execution_count": 15,
   "metadata": {
    "collapsed": true
   },
   "outputs": [],
   "source": [
    "# Count the number of clicks by ip\n",
    "ip_count = merge_ref.groupby(['ip'])['channel'].count().reset_index()\n",
    "ip_count.columns = ['ip', 'clicks_by_ip']"
   ]
  },
  {
   "cell_type": "code",
   "execution_count": 16,
   "metadata": {
    "collapsed": true
   },
   "outputs": [],
   "source": [
    "#app_count = merge_ref.groupby(['app'])['channel'].count().reset_index()\n",
    "#app_count.columns = ['app', 'clicks_by_app']"
   ]
  },
  {
   "cell_type": "code",
   "execution_count": 17,
   "metadata": {
    "collapsed": true
   },
   "outputs": [],
   "source": [
    "app_os_dev_count = merge_ref.groupby(['app','os','device'])['channel'].count().reset_index()\n",
    "app_os_dev_count.columns = ['app','os','device','app_os_dev_count']"
   ]
  },
  {
   "cell_type": "code",
   "execution_count": 18,
   "metadata": {},
   "outputs": [
    {
     "data": {
      "text/plain": [
       "28"
      ]
     },
     "execution_count": 18,
     "metadata": {},
     "output_type": "execute_result"
    }
   ],
   "source": [
    "del merge_ref\n",
    "gc.collect()"
   ]
  },
  {
   "cell_type": "code",
   "execution_count": 19,
   "metadata": {
    "collapsed": true
   },
   "outputs": [],
   "source": [
    "train_rank = pd.read_csv(path+\"train.csv\") #, usecols=train_columns, dtype=dtypes)"
   ]
  },
  {
   "cell_type": "code",
   "execution_count": 20,
   "metadata": {
    "collapsed": true
   },
   "outputs": [],
   "source": [
    "#train_rank.isnull().sum()"
   ]
  },
  {
   "cell_type": "code",
   "execution_count": 21,
   "metadata": {
    "collapsed": true
   },
   "outputs": [],
   "source": [
    "#train_rank.head()"
   ]
  },
  {
   "cell_type": "code",
   "execution_count": 22,
   "metadata": {
    "collapsed": true
   },
   "outputs": [],
   "source": [
    "apprank = train_rank.groupby(['app'])['is_attributed'].sum().reset_index().astype('int')\n",
    "apprank.columns = ['app', 'app_sum']"
   ]
  },
  {
   "cell_type": "code",
   "execution_count": 23,
   "metadata": {
    "collapsed": true
   },
   "outputs": [],
   "source": [
    "rnk = apprank.loc[apprank['app_sum'] != 0]"
   ]
  },
  {
   "cell_type": "code",
   "execution_count": 24,
   "metadata": {},
   "outputs": [
    {
     "name": "stderr",
     "output_type": "stream",
     "text": [
      "C:\\Users\\hdadmin\\Anaconda3\\lib\\site-packages\\ipykernel_launcher.py:1: SettingWithCopyWarning: \n",
      "A value is trying to be set on a copy of a slice from a DataFrame.\n",
      "Try using .loc[row_indexer,col_indexer] = value instead\n",
      "\n",
      "See the caveats in the documentation: http://pandas.pydata.org/pandas-docs/stable/indexing.html#indexing-view-versus-copy\n",
      "  \"\"\"Entry point for launching an IPython kernel.\n"
     ]
    }
   ],
   "source": [
    "rnk['app_rank'] = rnk['app_sum'].rank(ascending=False).astype('int')"
   ]
  },
  {
   "cell_type": "code",
   "execution_count": 25,
   "metadata": {},
   "outputs": [
    {
     "name": "stderr",
     "output_type": "stream",
     "text": [
      "C:\\Users\\hdadmin\\Anaconda3\\lib\\site-packages\\ipykernel_launcher.py:1: SettingWithCopyWarning: \n",
      "A value is trying to be set on a copy of a slice from a DataFrame\n",
      "\n",
      "See the caveats in the documentation: http://pandas.pydata.org/pandas-docs/stable/indexing.html#indexing-view-versus-copy\n",
      "  \"\"\"Entry point for launching an IPython kernel.\n"
     ]
    }
   ],
   "source": [
    "rnk.drop(['app_sum'], axis=1, inplace=True)"
   ]
  },
  {
   "cell_type": "code",
   "execution_count": 26,
   "metadata": {},
   "outputs": [
    {
     "data": {
      "text/plain": [
       "45"
      ]
     },
     "execution_count": 26,
     "metadata": {},
     "output_type": "execute_result"
    }
   ],
   "source": [
    "del apprank\n",
    "del train_rank\n",
    "gc.collect()"
   ]
  },
  {
   "cell_type": "code",
   "execution_count": 27,
   "metadata": {
    "collapsed": true
   },
   "outputs": [],
   "source": [
    "train_check_1 = pd.read_csv(path+\"train.csv\", usecols=train_columns, dtype=dtypes)"
   ]
  },
  {
   "cell_type": "code",
   "execution_count": 28,
   "metadata": {
    "collapsed": true
   },
   "outputs": [],
   "source": [
    "test = pd.read_csv(path+\"test.csv\", usecols=test_columns, dtype=dtypes)"
   ]
  },
  {
   "cell_type": "code",
   "execution_count": 29,
   "metadata": {
    "collapsed": true
   },
   "outputs": [],
   "source": [
    "apps = test['app'].unique()"
   ]
  },
  {
   "cell_type": "code",
   "execution_count": 30,
   "metadata": {
    "collapsed": true
   },
   "outputs": [],
   "source": [
    "train_check_1 = train_check_1.loc[train_check_1['app'].isin(apps)]"
   ]
  },
  {
   "cell_type": "code",
   "execution_count": 31,
   "metadata": {
    "collapsed": true
   },
   "outputs": [],
   "source": [
    "devices = test['device'].unique()"
   ]
  },
  {
   "cell_type": "code",
   "execution_count": 32,
   "metadata": {
    "collapsed": true
   },
   "outputs": [],
   "source": [
    "train_check_1 = train_check_1.loc[train_check_1['device'].isin(devices)]"
   ]
  },
  {
   "cell_type": "code",
   "execution_count": 33,
   "metadata": {
    "collapsed": true
   },
   "outputs": [],
   "source": [
    "oss = test['os'].unique()"
   ]
  },
  {
   "cell_type": "code",
   "execution_count": 34,
   "metadata": {
    "collapsed": true
   },
   "outputs": [],
   "source": [
    "train_check_1 = train_check_1.loc[train_check_1['os'].isin(oss)]"
   ]
  },
  {
   "cell_type": "code",
   "execution_count": 35,
   "metadata": {
    "collapsed": true
   },
   "outputs": [],
   "source": [
    "channels = test['channel'].unique()"
   ]
  },
  {
   "cell_type": "code",
   "execution_count": 36,
   "metadata": {
    "collapsed": true
   },
   "outputs": [],
   "source": [
    "train_check_1 = train_check_1.loc[train_check_1['channel'].isin(channels)]"
   ]
  },
  {
   "cell_type": "code",
   "execution_count": 37,
   "metadata": {
    "collapsed": true
   },
   "outputs": [],
   "source": [
    "train_1 = train_check_1.loc[train_check_1[\"is_attributed\"] == 1]"
   ]
  },
  {
   "cell_type": "code",
   "execution_count": 38,
   "metadata": {},
   "outputs": [
    {
     "data": {
      "text/plain": [
       "97"
      ]
     },
     "execution_count": 38,
     "metadata": {},
     "output_type": "execute_result"
    }
   ],
   "source": [
    "del apps,devices,oss,channels\n",
    "gc.collect()"
   ]
  },
  {
   "cell_type": "code",
   "execution_count": 39,
   "metadata": {
    "collapsed": true
   },
   "outputs": [],
   "source": [
    "#train_check = pd.read_csv(path+\"train.csv\", skiprows=range(1,127903891), nrows=57000000, usecols=train_columns, dtype=dtypes)\n",
    "#import random\n",
    "#train = pd.read_csv(path+\"distinct_train.csv\", usecols=train_columns, dtype=dtypes, skiprows=lambda i: i>0 and random.random() > fraction_val)                     "
   ]
  },
  {
   "cell_type": "code",
   "execution_count": 40,
   "metadata": {
    "collapsed": true
   },
   "outputs": [],
   "source": [
    "train_0 = train_check_1.loc[train_check_1[\"is_attributed\"] == 0]"
   ]
  },
  {
   "cell_type": "code",
   "execution_count": 41,
   "metadata": {},
   "outputs": [
    {
     "data": {
      "text/plain": [
       "24"
      ]
     },
     "execution_count": 41,
     "metadata": {},
     "output_type": "execute_result"
    }
   ],
   "source": [
    "del train_check_1\n",
    "gc.collect()"
   ]
  },
  {
   "cell_type": "code",
   "execution_count": 42,
   "metadata": {
    "collapsed": true
   },
   "outputs": [],
   "source": [
    "part1 = train_0.iloc[0:18490381]\n",
    "part2 = train_0.iloc[18490381:36980761]\n",
    "part3 = train_0.iloc[36980761:55471141]\n",
    "part4 = train_0.iloc[55471141:73961521]\n",
    "part5 = train_0.iloc[73961521:92451902]\n",
    "part6 = train_0.iloc[92451901:110942282]\n",
    "part7 = train_0.iloc[110942282:129432662]\n",
    "part8 = train_0.iloc[129432662:147923042]\n",
    "part9 = train_0.iloc[147923042:166413422]\n",
    "part10 = train_0.iloc[166413422:184903890]"
   ]
  },
  {
   "cell_type": "code",
   "execution_count": 43,
   "metadata": {},
   "outputs": [
    {
     "data": {
      "text/plain": [
       "13"
      ]
     },
     "execution_count": 43,
     "metadata": {},
     "output_type": "execute_result"
    }
   ],
   "source": [
    "del train_0\n",
    "gc.collect()"
   ]
  },
  {
   "cell_type": "code",
   "execution_count": 44,
   "metadata": {
    "collapsed": true
   },
   "outputs": [],
   "source": [
    "part1 = part1.sample(n=100000)\n",
    "part2 = part2.sample(n=100000)\n",
    "part3 = part3.sample(n=100000)\n",
    "part4 = part4.sample(n=100000)\n",
    "part5 = part5.sample(n=100000)\n",
    "part6 = part6.sample(n=100000)\n",
    "part7 = part7.sample(n=100000)\n",
    "part8 = part8.sample(n=100000)\n",
    "part9 = part9.sample(n=100000)\n",
    "part10 = part10.sample(n=100000)"
   ]
  },
  {
   "cell_type": "code",
   "execution_count": 45,
   "metadata": {},
   "outputs": [
    {
     "data": {
      "text/plain": [
       "0"
      ]
     },
     "execution_count": 45,
     "metadata": {},
     "output_type": "execute_result"
    }
   ],
   "source": [
    "gc.collect()"
   ]
  },
  {
   "cell_type": "code",
   "execution_count": 46,
   "metadata": {},
   "outputs": [
    {
     "data": {
      "text/plain": [
       "0"
      ]
     },
     "execution_count": 46,
     "metadata": {},
     "output_type": "execute_result"
    }
   ],
   "source": [
    "train = pd.concat([train_1, part1, part2, part3, part4, part5, part6, part7, part8, part9, part10])\n",
    "del  train_1, part1, part2, part3, part4, part5, part6, part7, part8, part9, part10\n",
    "gc.collect()"
   ]
  },
  {
   "cell_type": "code",
   "execution_count": 47,
   "metadata": {
    "collapsed": true
   },
   "outputs": [],
   "source": [
    "#train_0 = train_0.tail(57000000)"
   ]
  },
  {
   "cell_type": "code",
   "execution_count": 48,
   "metadata": {
    "collapsed": true
   },
   "outputs": [],
   "source": [
    "#del train_check_1\n",
    "#gc.collect()"
   ]
  },
  {
   "cell_type": "code",
   "execution_count": 49,
   "metadata": {
    "collapsed": true
   },
   "outputs": [],
   "source": [
    "#fraction_val = 3000000/57000000\n",
    "#print(fraction_val)"
   ]
  },
  {
   "cell_type": "code",
   "execution_count": 50,
   "metadata": {
    "collapsed": true
   },
   "outputs": [],
   "source": [
    "#train_0f = train_0.sample(frac=fraction_val)"
   ]
  },
  {
   "cell_type": "code",
   "execution_count": 51,
   "metadata": {
    "collapsed": true
   },
   "outputs": [],
   "source": [
    "#train = pd.concat([train_1, train_0f])\n",
    "#del  train_0f, train_1\n",
    "#gc.collect()"
   ]
  },
  {
   "cell_type": "code",
   "execution_count": 52,
   "metadata": {
    "collapsed": true
   },
   "outputs": [],
   "source": [
    "train = train.sample(frac=1).reset_index(drop=True)"
   ]
  },
  {
   "cell_type": "code",
   "execution_count": 53,
   "metadata": {},
   "outputs": [
    {
     "data": {
      "text/plain": [
       "42"
      ]
     },
     "execution_count": 53,
     "metadata": {},
     "output_type": "execute_result"
    }
   ],
   "source": [
    "# Drop the IP and the columns from target\n",
    "y = train['is_attributed']\n",
    "train.drop(['is_attributed'], axis=1, inplace=True)\n",
    "\n",
    "# Drop IP and ID from test rows\n",
    "sub = pd.DataFrame()\n",
    "sub['click_id'] = test['click_id'].astype('int')\n",
    "#test.drop(['click_id'], axis=1, inplace=True)\n",
    "#gc.collect()\n",
    "\n",
    "#nrow_train = train.shape[0]\n",
    "#merge = pd.concat([train, test])\n",
    "del test\n",
    "gc.collect()"
   ]
  },
  {
   "cell_type": "code",
   "execution_count": 54,
   "metadata": {
    "collapsed": true
   },
   "outputs": [],
   "source": [
    "train = timeFeatures(train)"
   ]
  },
  {
   "cell_type": "code",
   "execution_count": 55,
   "metadata": {
    "collapsed": true
   },
   "outputs": [],
   "source": [
    "train = pd.merge(train, ip_appcount, on='ip', how='left', sort=False)\n",
    "train['ip_appcounts'].fillna(0, inplace=True)\n",
    "train['ip_appcounts'] = train['ip_appcounts'].astype('uint16')"
   ]
  },
  {
   "cell_type": "code",
   "execution_count": 56,
   "metadata": {
    "collapsed": true
   },
   "outputs": [],
   "source": [
    "train = pd.merge(train, ip_oscount, on='ip', how='left', sort=False)\n",
    "train['ip_oscounts'].fillna(0, inplace=True)\n",
    "train['ip_oscounts'] = train['ip_oscounts'].astype('uint16')"
   ]
  },
  {
   "cell_type": "code",
   "execution_count": 57,
   "metadata": {
    "collapsed": true
   },
   "outputs": [],
   "source": [
    "train = pd.merge(train, app_ipcount, on='app', how='left', sort=False)\n",
    "train['app_clickip'].fillna(0, inplace=True)\n",
    "train['app_clickip'] = train['app_clickip'].astype('uint16')"
   ]
  },
  {
   "cell_type": "code",
   "execution_count": 58,
   "metadata": {
    "collapsed": true
   },
   "outputs": [],
   "source": [
    "train = pd.merge(train, app_app_oscount, on=['app','os'], how='left', sort=False)\n",
    "train['app_os_clicks'].fillna(0, inplace=True)\n",
    "train['app_os_clicks'] = train['app_os_clicks'].astype('uint16')"
   ]
  },
  {
   "cell_type": "code",
   "execution_count": 59,
   "metadata": {
    "collapsed": true
   },
   "outputs": [],
   "source": [
    "train = pd.merge(train, app_app_devcount, on=['app','device'], how='left', sort=False)\n",
    "train['app_device_click'].fillna(0, inplace=True)\n",
    "train['app_device_click'] = train['app_device_click'].astype('uint16')"
   ]
  },
  {
   "cell_type": "code",
   "execution_count": 60,
   "metadata": {
    "collapsed": true
   },
   "outputs": [],
   "source": [
    "train = pd.merge(train, ip_count, on='ip', how='left', sort=False)\n",
    "train['clicks_by_ip'].fillna(0, inplace=True)\n",
    "train['clicks_by_ip'] = train['clicks_by_ip'].astype('uint16')"
   ]
  },
  {
   "cell_type": "code",
   "execution_count": 61,
   "metadata": {
    "collapsed": true
   },
   "outputs": [],
   "source": [
    "#train = pd.merge(train, app_count, on=['app'], how='left', sort=False)\n",
    "#train['clicks_by_app'] = train['clicks_by_app'].astype('uint16')"
   ]
  },
  {
   "cell_type": "code",
   "execution_count": 62,
   "metadata": {
    "collapsed": true
   },
   "outputs": [],
   "source": [
    "train = pd.merge(train, app_os_dev_count, on=['app','os','device'], how='left', sort=False)\n",
    "train['app_os_dev_count'].fillna(0, inplace=True)\n",
    "train['app_os_dev_count'] =train['app_os_dev_count'].astype('uint16')"
   ]
  },
  {
   "cell_type": "code",
   "execution_count": 63,
   "metadata": {
    "collapsed": true
   },
   "outputs": [],
   "source": [
    "train = pd.merge(train, rnk, on=['app'], how='left', sort=False)\n",
    "train['app_rank'].fillna(0, inplace=True)\n",
    "train['app_rank'] = train['app_rank'].astype('uint16')"
   ]
  },
  {
   "cell_type": "code",
   "execution_count": 64,
   "metadata": {},
   "outputs": [
    {
     "data": {
      "text/plain": [
       "84"
      ]
     },
     "execution_count": 64,
     "metadata": {},
     "output_type": "execute_result"
    }
   ],
   "source": [
    "train.drop('ip', axis=1, inplace=True)\n",
    "train.drop('date_day', axis=1, inplace=True)\n",
    "#train.drop('os', axis=1, inplace=True)\n",
    "gc.collect()"
   ]
  },
  {
   "cell_type": "code",
   "execution_count": 65,
   "metadata": {
    "collapsed": true
   },
   "outputs": [],
   "source": [
    "#train.drop('os', axis=1, inplace=True)"
   ]
  },
  {
   "cell_type": "code",
   "execution_count": 66,
   "metadata": {
    "collapsed": true
   },
   "outputs": [],
   "source": [
    "import seaborn as sb\n",
    "%matplotlib inline"
   ]
  },
  {
   "cell_type": "code",
   "execution_count": null,
   "metadata": {
    "collapsed": true
   },
   "outputs": [],
   "source": []
  },
  {
   "cell_type": "code",
   "execution_count": 67,
   "metadata": {},
   "outputs": [
    {
     "data": {
      "text/html": [
       "<div>\n",
       "<style>\n",
       "    .dataframe thead tr:only-child th {\n",
       "        text-align: right;\n",
       "    }\n",
       "\n",
       "    .dataframe thead th {\n",
       "        text-align: left;\n",
       "    }\n",
       "\n",
       "    .dataframe tbody tr th {\n",
       "        vertical-align: top;\n",
       "    }\n",
       "</style>\n",
       "<table border=\"1\" class=\"dataframe\">\n",
       "  <thead>\n",
       "    <tr style=\"text-align: right;\">\n",
       "      <th></th>\n",
       "      <th>app</th>\n",
       "      <th>device</th>\n",
       "      <th>os</th>\n",
       "      <th>channel</th>\n",
       "      <th>date_hour</th>\n",
       "      <th>ip_appcounts</th>\n",
       "      <th>ip_oscounts</th>\n",
       "      <th>app_clickip</th>\n",
       "      <th>app_os_clicks</th>\n",
       "      <th>app_device_click</th>\n",
       "      <th>clicks_by_ip</th>\n",
       "      <th>app_os_dev_count</th>\n",
       "      <th>app_rank</th>\n",
       "    </tr>\n",
       "  </thead>\n",
       "  <tbody>\n",
       "    <tr>\n",
       "      <th>0</th>\n",
       "      <td>12</td>\n",
       "      <td>1</td>\n",
       "      <td>19</td>\n",
       "      <td>326</td>\n",
       "      <td>20</td>\n",
       "      <td>132</td>\n",
       "      <td>114</td>\n",
       "      <td>8542</td>\n",
       "      <td>12172</td>\n",
       "      <td>47068</td>\n",
       "      <td>16902</td>\n",
       "      <td>53250</td>\n",
       "      <td>19</td>\n",
       "    </tr>\n",
       "    <tr>\n",
       "      <th>1</th>\n",
       "      <td>23</td>\n",
       "      <td>1</td>\n",
       "      <td>19</td>\n",
       "      <td>153</td>\n",
       "      <td>22</td>\n",
       "      <td>109</td>\n",
       "      <td>110</td>\n",
       "      <td>22839</td>\n",
       "      <td>44020</td>\n",
       "      <td>1534</td>\n",
       "      <td>47421</td>\n",
       "      <td>40992</td>\n",
       "      <td>112</td>\n",
       "    </tr>\n",
       "    <tr>\n",
       "      <th>2</th>\n",
       "      <td>20</td>\n",
       "      <td>1</td>\n",
       "      <td>13</td>\n",
       "      <td>259</td>\n",
       "      <td>23</td>\n",
       "      <td>193</td>\n",
       "      <td>138</td>\n",
       "      <td>33445</td>\n",
       "      <td>18452</td>\n",
       "      <td>54810</td>\n",
       "      <td>40368</td>\n",
       "      <td>29471</td>\n",
       "      <td>16</td>\n",
       "    </tr>\n",
       "    <tr>\n",
       "      <th>3</th>\n",
       "      <td>10</td>\n",
       "      <td>1</td>\n",
       "      <td>19</td>\n",
       "      <td>377</td>\n",
       "      <td>2</td>\n",
       "      <td>52</td>\n",
       "      <td>44</td>\n",
       "      <td>24588</td>\n",
       "      <td>52695</td>\n",
       "      <td>20011</td>\n",
       "      <td>5982</td>\n",
       "      <td>52154</td>\n",
       "      <td>4</td>\n",
       "    </tr>\n",
       "    <tr>\n",
       "      <th>4</th>\n",
       "      <td>3</td>\n",
       "      <td>1</td>\n",
       "      <td>11</td>\n",
       "      <td>409</td>\n",
       "      <td>3</td>\n",
       "      <td>50</td>\n",
       "      <td>43</td>\n",
       "      <td>2444</td>\n",
       "      <td>60257</td>\n",
       "      <td>63603</td>\n",
       "      <td>3813</td>\n",
       "      <td>34563</td>\n",
       "      <td>9</td>\n",
       "    </tr>\n",
       "  </tbody>\n",
       "</table>\n",
       "</div>"
      ],
      "text/plain": [
       "   app  device  os  channel  date_hour  ip_appcounts  ip_oscounts  \\\n",
       "0   12       1  19      326         20           132          114   \n",
       "1   23       1  19      153         22           109          110   \n",
       "2   20       1  13      259         23           193          138   \n",
       "3   10       1  19      377          2            52           44   \n",
       "4    3       1  11      409          3            50           43   \n",
       "\n",
       "   app_clickip  app_os_clicks  app_device_click  clicks_by_ip  \\\n",
       "0         8542          12172             47068         16902   \n",
       "1        22839          44020              1534         47421   \n",
       "2        33445          18452             54810         40368   \n",
       "3        24588          52695             20011          5982   \n",
       "4         2444          60257             63603          3813   \n",
       "\n",
       "   app_os_dev_count  app_rank  \n",
       "0             53250        19  \n",
       "1             40992       112  \n",
       "2             29471        16  \n",
       "3             52154         4  \n",
       "4             34563         9  "
      ]
     },
     "execution_count": 67,
     "metadata": {},
     "output_type": "execute_result"
    }
   ],
   "source": [
    "train.head()"
   ]
  },
  {
   "cell_type": "code",
   "execution_count": 68,
   "metadata": {
    "collapsed": true
   },
   "outputs": [],
   "source": [
    "test = pd.read_csv(path+\"test.csv\", usecols=test_columns, dtype=dtypes)"
   ]
  },
  {
   "cell_type": "code",
   "execution_count": 69,
   "metadata": {
    "collapsed": true
   },
   "outputs": [],
   "source": [
    "test = timeFeatures(test)"
   ]
  },
  {
   "cell_type": "code",
   "execution_count": 70,
   "metadata": {
    "collapsed": true
   },
   "outputs": [],
   "source": [
    "test = pd.merge(test, ip_appcount, on='ip', how='left', sort=False)\n",
    "test = pd.merge(test, ip_oscount, on='ip', how='left', sort=False)\n",
    "test = pd.merge(test, app_ipcount, on='app', how='left', sort=False)\n",
    "test = pd.merge(test, app_app_oscount, on=['app','os'], how='left', sort=False)\n",
    "test = pd.merge(test, app_app_devcount, on=['app','device'], how='left', sort=False)\n",
    "test = pd.merge(test, ip_count, on='ip', how='left', sort=False)\n",
    "#test = pd.merge(test, app_count, on=['app'], how='left', sort=False)\n",
    "test = pd.merge(test, app_os_dev_count, on=['app','os','device'], how='left', sort=False)"
   ]
  },
  {
   "cell_type": "code",
   "execution_count": 71,
   "metadata": {
    "collapsed": true
   },
   "outputs": [],
   "source": [
    "test['ip_appcounts'].fillna(0, inplace=True)\n",
    "test['ip_oscounts'].fillna(0, inplace=True)\n",
    "test['app_clickip'].fillna(0, inplace=True)\n",
    "test['app_os_clicks'].fillna(0, inplace=True)\n",
    "test['app_device_click'].fillna(0, inplace=True)\n",
    "test['clicks_by_ip'].fillna(0, inplace=True)\n",
    "#test['clicks_by_app'].fillna(0, inplace=True)\n",
    "test['app_os_dev_count'].fillna(0, inplace=True)"
   ]
  },
  {
   "cell_type": "code",
   "execution_count": 72,
   "metadata": {
    "collapsed": true
   },
   "outputs": [],
   "source": [
    "test['ip_appcounts'] = test['ip_appcounts'].astype('uint16')\n",
    "test['ip_oscounts'] = test['ip_oscounts'].astype('uint16')\n",
    "test['app_clickip'] = test['app_clickip'].astype('uint16')\n",
    "test['app_os_clicks'] = test['app_os_clicks'].astype('uint16')\n",
    "test['app_device_click'] = test['app_device_click'].astype('uint16')\n",
    "test['clicks_by_ip'] = test['clicks_by_ip'].astype('uint16')\n",
    "#test['clicks_by_app'] = test['clicks_by_app'].astype('uint16')\n",
    "test['app_os_dev_count'] = test['app_os_dev_count'].astype('uint16')"
   ]
  },
  {
   "cell_type": "code",
   "execution_count": 73,
   "metadata": {
    "collapsed": true
   },
   "outputs": [],
   "source": [
    "test = pd.merge(test, rnk, on=['app'], how='left', sort=False)\n",
    "test['app_rank'].fillna(0, inplace=True)\n",
    "test['app_rank'] = test['app_rank'].astype('uint16')"
   ]
  },
  {
   "cell_type": "code",
   "execution_count": 74,
   "metadata": {},
   "outputs": [
    {
     "data": {
      "text/plain": [
       "196"
      ]
     },
     "execution_count": 74,
     "metadata": {},
     "output_type": "execute_result"
    }
   ],
   "source": [
    "del ip_appcount,app_ipcount,ip_count,app_app_oscount,app_app_devcount\n",
    "del rnk\n",
    "gc.collect()"
   ]
  },
  {
   "cell_type": "code",
   "execution_count": 75,
   "metadata": {
    "collapsed": true
   },
   "outputs": [],
   "source": [
    "test.drop(['click_id', 'ip'], axis=1, inplace=True)\n",
    "test.drop('date_day', axis=1, inplace=True)"
   ]
  },
  {
   "cell_type": "code",
   "execution_count": 76,
   "metadata": {
    "collapsed": true
   },
   "outputs": [],
   "source": [
    "#test.drop('os', axis=1, inplace=True)"
   ]
  },
  {
   "cell_type": "code",
   "execution_count": 77,
   "metadata": {
    "collapsed": true
   },
   "outputs": [],
   "source": [
    "#train.drop(['app_clickip','app_os_clicks','app_device_click','clicks_by_ip'], axis=1, inplace=True)\n",
    "#test.drop(['app_clickip','app_os_clicks','app_device_click','clicks_by_ip'], axis=1, inplace=True)\n",
    "\n",
    "#train.drop(['channel'], axis=1, inplace=True)\n",
    "#test.drop(['channel'], axis=1, inplace=True)"
   ]
  },
  {
   "cell_type": "code",
   "execution_count": 78,
   "metadata": {
    "collapsed": true
   },
   "outputs": [],
   "source": [
    "#train.drop(['date_hour', 'app_os_dev_count'], axis=1, inplace=True)\n",
    "#test.drop(['date_hour', 'app_os_dev_count'], axis=1, inplace=True)"
   ]
  },
  {
   "cell_type": "code",
   "execution_count": 79,
   "metadata": {
    "collapsed": true
   },
   "outputs": [],
   "source": [
    "#train.drop(['device','app_clickip'], axis=1, inplace=True)\n",
    "#test.drop(['device','app_clickip'], axis=1, inplace=True)"
   ]
  },
  {
   "cell_type": "code",
   "execution_count": 80,
   "metadata": {
    "collapsed": true
   },
   "outputs": [],
   "source": [
    "train.drop(['device','ip_appcounts'], axis=1, inplace=True)\n",
    "test.drop(['device','ip_appcounts'], axis=1, inplace=True)"
   ]
  },
  {
   "cell_type": "code",
   "execution_count": 81,
   "metadata": {},
   "outputs": [
    {
     "data": {
      "text/html": [
       "<div>\n",
       "<style>\n",
       "    .dataframe thead tr:only-child th {\n",
       "        text-align: right;\n",
       "    }\n",
       "\n",
       "    .dataframe thead th {\n",
       "        text-align: left;\n",
       "    }\n",
       "\n",
       "    .dataframe tbody tr th {\n",
       "        vertical-align: top;\n",
       "    }\n",
       "</style>\n",
       "<table border=\"1\" class=\"dataframe\">\n",
       "  <thead>\n",
       "    <tr style=\"text-align: right;\">\n",
       "      <th></th>\n",
       "      <th>app</th>\n",
       "      <th>os</th>\n",
       "      <th>channel</th>\n",
       "      <th>date_hour</th>\n",
       "      <th>ip_oscounts</th>\n",
       "      <th>app_clickip</th>\n",
       "      <th>app_os_clicks</th>\n",
       "      <th>app_device_click</th>\n",
       "      <th>clicks_by_ip</th>\n",
       "      <th>app_os_dev_count</th>\n",
       "      <th>app_rank</th>\n",
       "    </tr>\n",
       "  </thead>\n",
       "  <tbody>\n",
       "    <tr>\n",
       "      <th>0</th>\n",
       "      <td>9</td>\n",
       "      <td>3</td>\n",
       "      <td>107</td>\n",
       "      <td>4</td>\n",
       "      <td>44</td>\n",
       "      <td>62860</td>\n",
       "      <td>28887</td>\n",
       "      <td>44385</td>\n",
       "      <td>1134</td>\n",
       "      <td>14506</td>\n",
       "      <td>6</td>\n",
       "    </tr>\n",
       "    <tr>\n",
       "      <th>1</th>\n",
       "      <td>9</td>\n",
       "      <td>3</td>\n",
       "      <td>466</td>\n",
       "      <td>4</td>\n",
       "      <td>67</td>\n",
       "      <td>62860</td>\n",
       "      <td>28887</td>\n",
       "      <td>44385</td>\n",
       "      <td>23273</td>\n",
       "      <td>14506</td>\n",
       "      <td>6</td>\n",
       "    </tr>\n",
       "    <tr>\n",
       "      <th>2</th>\n",
       "      <td>21</td>\n",
       "      <td>19</td>\n",
       "      <td>128</td>\n",
       "      <td>4</td>\n",
       "      <td>60</td>\n",
       "      <td>60834</td>\n",
       "      <td>53180</td>\n",
       "      <td>63605</td>\n",
       "      <td>15544</td>\n",
       "      <td>47470</td>\n",
       "      <td>58</td>\n",
       "    </tr>\n",
       "    <tr>\n",
       "      <th>3</th>\n",
       "      <td>15</td>\n",
       "      <td>13</td>\n",
       "      <td>111</td>\n",
       "      <td>4</td>\n",
       "      <td>57</td>\n",
       "      <td>64259</td>\n",
       "      <td>64622</td>\n",
       "      <td>59348</td>\n",
       "      <td>12827</td>\n",
       "      <td>16402</td>\n",
       "      <td>17</td>\n",
       "    </tr>\n",
       "    <tr>\n",
       "      <th>4</th>\n",
       "      <td>12</td>\n",
       "      <td>13</td>\n",
       "      <td>328</td>\n",
       "      <td>4</td>\n",
       "      <td>33</td>\n",
       "      <td>8542</td>\n",
       "      <td>36788</td>\n",
       "      <td>47068</td>\n",
       "      <td>1441</td>\n",
       "      <td>36875</td>\n",
       "      <td>19</td>\n",
       "    </tr>\n",
       "  </tbody>\n",
       "</table>\n",
       "</div>"
      ],
      "text/plain": [
       "   app  os  channel  date_hour  ip_oscounts  app_clickip  app_os_clicks  \\\n",
       "0    9   3      107          4           44        62860          28887   \n",
       "1    9   3      466          4           67        62860          28887   \n",
       "2   21  19      128          4           60        60834          53180   \n",
       "3   15  13      111          4           57        64259          64622   \n",
       "4   12  13      328          4           33         8542          36788   \n",
       "\n",
       "   app_device_click  clicks_by_ip  app_os_dev_count  app_rank  \n",
       "0             44385          1134             14506         6  \n",
       "1             44385         23273             14506         6  \n",
       "2             63605         15544             47470        58  \n",
       "3             59348         12827             16402        17  \n",
       "4             47068          1441             36875        19  "
      ]
     },
     "execution_count": 81,
     "metadata": {},
     "output_type": "execute_result"
    }
   ],
   "source": [
    "test.head()"
   ]
  },
  {
   "cell_type": "code",
   "execution_count": 82,
   "metadata": {},
   "outputs": [
    {
     "data": {
      "text/plain": [
       "<matplotlib.axes._subplots.AxesSubplot at 0x1af0e709b0>"
      ]
     },
     "execution_count": 82,
     "metadata": {},
     "output_type": "execute_result"
    },
    {
     "data": {
      "image/png": "[encoded data removed]",
      "text/plain": [
       "<matplotlib.figure.Figure at 0x1af0e700b8>"
      ]
     },
     "metadata": {},
     "output_type": "display_data"
    }
   ],
   "source": [
    "sb.heatmap(train.corr())"
   ]
  },
  {
   "cell_type": "code",
   "execution_count": 83,
   "metadata": {},
   "outputs": [
    {
     "data": {
      "text/plain": [
       "<matplotlib.axes._subplots.AxesSubplot at 0x1d7f51eba8>"
      ]
     },
     "execution_count": 83,
     "metadata": {},
     "output_type": "execute_result"
    },
    {
     "data": {
      "image/png": "[encoded data removed]",
      "text/plain": [
       "<matplotlib.figure.Figure at 0x1afff92e48>"
      ]
     },
     "metadata": {},
     "output_type": "display_data"
    }
   ],
   "source": [
    "sb.heatmap(test.corr())"
   ]
  },
  {
   "cell_type": "code",
   "execution_count": 84,
   "metadata": {
    "scrolled": true
   },
   "outputs": [
    {
     "data": {
      "text/html": [
       "<div>\n",
       "<style>\n",
       "    .dataframe thead tr:only-child th {\n",
       "        text-align: right;\n",
       "    }\n",
       "\n",
       "    .dataframe thead th {\n",
       "        text-align: left;\n",
       "    }\n",
       "\n",
       "    .dataframe tbody tr th {\n",
       "        vertical-align: top;\n",
       "    }\n",
       "</style>\n",
       "<table border=\"1\" class=\"dataframe\">\n",
       "  <thead>\n",
       "    <tr style=\"text-align: right;\">\n",
       "      <th></th>\n",
       "      <th>app</th>\n",
       "      <th>os</th>\n",
       "      <th>channel</th>\n",
       "      <th>date_hour</th>\n",
       "      <th>ip_oscounts</th>\n",
       "      <th>app_clickip</th>\n",
       "      <th>app_os_clicks</th>\n",
       "      <th>app_device_click</th>\n",
       "      <th>clicks_by_ip</th>\n",
       "      <th>app_os_dev_count</th>\n",
       "      <th>app_rank</th>\n",
       "    </tr>\n",
       "  </thead>\n",
       "  <tbody>\n",
       "    <tr>\n",
       "      <th>count</th>\n",
       "      <td>1.879047e+07</td>\n",
       "      <td>1.879047e+07</td>\n",
       "      <td>1.879047e+07</td>\n",
       "      <td>1.879047e+07</td>\n",
       "      <td>1.879047e+07</td>\n",
       "      <td>1.879047e+07</td>\n",
       "      <td>1.879047e+07</td>\n",
       "      <td>1.879047e+07</td>\n",
       "      <td>1.879047e+07</td>\n",
       "      <td>1.879047e+07</td>\n",
       "      <td>1.879047e+07</td>\n",
       "    </tr>\n",
       "    <tr>\n",
       "      <th>mean</th>\n",
       "      <td>1.221480e+01</td>\n",
       "      <td>1.873312e+01</td>\n",
       "      <td>2.648059e+02</td>\n",
       "      <td>9.219946e+00</td>\n",
       "      <td>6.180820e+01</td>\n",
       "      <td>3.648960e+04</td>\n",
       "      <td>3.321143e+04</td>\n",
       "      <td>3.384699e+04</td>\n",
       "      <td>1.197942e+04</td>\n",
       "      <td>3.443016e+04</td>\n",
       "      <td>2.092161e+01</td>\n",
       "    </tr>\n",
       "    <tr>\n",
       "      <th>std</th>\n",
       "      <td>1.164924e+01</td>\n",
       "      <td>1.135059e+01</td>\n",
       "      <td>1.355254e+02</td>\n",
       "      <td>3.751926e+00</td>\n",
       "      <td>3.481484e+01</td>\n",
       "      <td>2.365194e+04</td>\n",
       "      <td>1.778136e+04</td>\n",
       "      <td>2.192823e+04</td>\n",
       "      <td>1.400843e+04</td>\n",
       "      <td>1.885363e+04</td>\n",
       "      <td>2.198813e+01</td>\n",
       "    </tr>\n",
       "    <tr>\n",
       "      <th>min</th>\n",
       "      <td>0.000000e+00</td>\n",
       "      <td>0.000000e+00</td>\n",
       "      <td>0.000000e+00</td>\n",
       "      <td>4.000000e+00</td>\n",
       "      <td>1.000000e+00</td>\n",
       "      <td>1.000000e+00</td>\n",
       "      <td>1.000000e+00</td>\n",
       "      <td>1.000000e+00</td>\n",
       "      <td>1.000000e+00</td>\n",
       "      <td>1.000000e+00</td>\n",
       "      <td>0.000000e+00</td>\n",
       "    </tr>\n",
       "    <tr>\n",
       "      <th>25%</th>\n",
       "      <td>3.000000e+00</td>\n",
       "      <td>1.300000e+01</td>\n",
       "      <td>1.350000e+02</td>\n",
       "      <td>5.000000e+00</td>\n",
       "      <td>4.300000e+01</td>\n",
       "      <td>8.542000e+03</td>\n",
       "      <td>1.795400e+04</td>\n",
       "      <td>1.123100e+04</td>\n",
       "      <td>2.300000e+03</td>\n",
       "      <td>1.741800e+04</td>\n",
       "      <td>9.000000e+00</td>\n",
       "    </tr>\n",
       "    <tr>\n",
       "      <th>50%</th>\n",
       "      <td>1.200000e+01</td>\n",
       "      <td>1.800000e+01</td>\n",
       "      <td>2.360000e+02</td>\n",
       "      <td>1.000000e+01</td>\n",
       "      <td>5.500000e+01</td>\n",
       "      <td>4.454300e+04</td>\n",
       "      <td>3.383100e+04</td>\n",
       "      <td>4.438500e+04</td>\n",
       "      <td>6.021000e+03</td>\n",
       "      <td>3.588900e+04</td>\n",
       "      <td>1.200000e+01</td>\n",
       "    </tr>\n",
       "    <tr>\n",
       "      <th>75%</th>\n",
       "      <td>1.800000e+01</td>\n",
       "      <td>1.900000e+01</td>\n",
       "      <td>4.010000e+02</td>\n",
       "      <td>1.300000e+01</td>\n",
       "      <td>7.200000e+01</td>\n",
       "      <td>6.083400e+04</td>\n",
       "      <td>4.792400e+04</td>\n",
       "      <td>5.348500e+04</td>\n",
       "      <td>1.707500e+04</td>\n",
       "      <td>5.325000e+04</td>\n",
       "      <td>2.000000e+01</td>\n",
       "    </tr>\n",
       "    <tr>\n",
       "      <th>max</th>\n",
       "      <td>5.210000e+02</td>\n",
       "      <td>6.040000e+02</td>\n",
       "      <td>4.980000e+02</td>\n",
       "      <td>1.500000e+01</td>\n",
       "      <td>1.990000e+02</td>\n",
       "      <td>6.429700e+04</td>\n",
       "      <td>6.553400e+04</td>\n",
       "      <td>6.471400e+04</td>\n",
       "      <td>6.471800e+04</td>\n",
       "      <td>6.536100e+04</td>\n",
       "      <td>2.070000e+02</td>\n",
       "    </tr>\n",
       "  </tbody>\n",
       "</table>\n",
       "</div>"
      ],
      "text/plain": [
       "                app            os       channel     date_hour   ip_oscounts  \\\n",
       "count  1.879047e+07  1.879047e+07  1.879047e+07  1.879047e+07  1.879047e+07   \n",
       "mean   1.221480e+01  1.873312e+01  2.648059e+02  9.219946e+00  6.180820e+01   \n",
       "std    1.164924e+01  1.135059e+01  1.355254e+02  3.751926e+00  3.481484e+01   \n",
       "min    0.000000e+00  0.000000e+00  0.000000e+00  4.000000e+00  1.000000e+00   \n",
       "25%    3.000000e+00  1.300000e+01  1.350000e+02  5.000000e+00  4.300000e+01   \n",
       "50%    1.200000e+01  1.800000e+01  2.360000e+02  1.000000e+01  5.500000e+01   \n",
       "75%    1.800000e+01  1.900000e+01  4.010000e+02  1.300000e+01  7.200000e+01   \n",
       "max    5.210000e+02  6.040000e+02  4.980000e+02  1.500000e+01  1.990000e+02   \n",
       "\n",
       "        app_clickip  app_os_clicks  app_device_click  clicks_by_ip  \\\n",
       "count  1.879047e+07   1.879047e+07      1.879047e+07  1.879047e+07   \n",
       "mean   3.648960e+04   3.321143e+04      3.384699e+04  1.197942e+04   \n",
       "std    2.365194e+04   1.778136e+04      2.192823e+04  1.400843e+04   \n",
       "min    1.000000e+00   1.000000e+00      1.000000e+00  1.000000e+00   \n",
       "25%    8.542000e+03   1.795400e+04      1.123100e+04  2.300000e+03   \n",
       "50%    4.454300e+04   3.383100e+04      4.438500e+04  6.021000e+03   \n",
       "75%    6.083400e+04   4.792400e+04      5.348500e+04  1.707500e+04   \n",
       "max    6.429700e+04   6.553400e+04      6.471400e+04  6.471800e+04   \n",
       "\n",
       "       app_os_dev_count      app_rank  \n",
       "count      1.879047e+07  1.879047e+07  \n",
       "mean       3.443016e+04  2.092161e+01  \n",
       "std        1.885363e+04  2.198813e+01  \n",
       "min        1.000000e+00  0.000000e+00  \n",
       "25%        1.741800e+04  9.000000e+00  \n",
       "50%        3.588900e+04  1.200000e+01  \n",
       "75%        5.325000e+04  2.000000e+01  \n",
       "max        6.536100e+04  2.070000e+02  "
      ]
     },
     "execution_count": 84,
     "metadata": {},
     "output_type": "execute_result"
    }
   ],
   "source": [
    "test.describe()"
   ]
  },
  {
   "cell_type": "code",
   "execution_count": 85,
   "metadata": {},
   "outputs": [
    {
     "data": {
      "text/plain": [
       "758"
      ]
     },
     "execution_count": 85,
     "metadata": {},
     "output_type": "execute_result"
    }
   ],
   "source": [
    "gc.collect()"
   ]
  },
  {
   "cell_type": "code",
   "execution_count": 86,
   "metadata": {},
   "outputs": [
    {
     "data": {
      "text/html": [
       "<div>\n",
       "<style>\n",
       "    .dataframe thead tr:only-child th {\n",
       "        text-align: right;\n",
       "    }\n",
       "\n",
       "    .dataframe thead th {\n",
       "        text-align: left;\n",
       "    }\n",
       "\n",
       "    .dataframe tbody tr th {\n",
       "        vertical-align: top;\n",
       "    }\n",
       "</style>\n",
       "<table border=\"1\" class=\"dataframe\">\n",
       "  <thead>\n",
       "    <tr style=\"text-align: right;\">\n",
       "      <th></th>\n",
       "      <th>app</th>\n",
       "      <th>os</th>\n",
       "      <th>channel</th>\n",
       "      <th>date_hour</th>\n",
       "      <th>ip_oscounts</th>\n",
       "      <th>app_clickip</th>\n",
       "      <th>app_os_clicks</th>\n",
       "      <th>app_device_click</th>\n",
       "      <th>clicks_by_ip</th>\n",
       "      <th>app_os_dev_count</th>\n",
       "      <th>app_rank</th>\n",
       "    </tr>\n",
       "  </thead>\n",
       "  <tbody>\n",
       "    <tr>\n",
       "      <th>count</th>\n",
       "      <td>1.452407e+06</td>\n",
       "      <td>1.452407e+06</td>\n",
       "      <td>1.452407e+06</td>\n",
       "      <td>1.452407e+06</td>\n",
       "      <td>1.452407e+06</td>\n",
       "      <td>1.452407e+06</td>\n",
       "      <td>1.452407e+06</td>\n",
       "      <td>1.452407e+06</td>\n",
       "      <td>1.452407e+06</td>\n",
       "      <td>1.452407e+06</td>\n",
       "      <td>1.452407e+06</td>\n",
       "    </tr>\n",
       "    <tr>\n",
       "      <th>mean</th>\n",
       "      <td>1.713381e+01</td>\n",
       "      <td>1.902599e+01</td>\n",
       "      <td>2.491856e+02</td>\n",
       "      <td>9.101441e+00</td>\n",
       "      <td>5.336020e+01</td>\n",
       "      <td>2.885798e+04</td>\n",
       "      <td>3.002873e+04</td>\n",
       "      <td>3.116766e+04</td>\n",
       "      <td>1.024507e+04</td>\n",
       "      <td>2.923434e+04</td>\n",
       "      <td>1.683267e+01</td>\n",
       "    </tr>\n",
       "    <tr>\n",
       "      <th>std</th>\n",
       "      <td>2.149883e+01</td>\n",
       "      <td>1.155443e+01</td>\n",
       "      <td>1.284466e+02</td>\n",
       "      <td>6.074046e+00</td>\n",
       "      <td>3.688474e+01</td>\n",
       "      <td>2.279913e+04</td>\n",
       "      <td>1.934144e+04</td>\n",
       "      <td>2.169428e+04</td>\n",
       "      <td>1.343970e+04</td>\n",
       "      <td>1.975315e+04</td>\n",
       "      <td>2.028013e+01</td>\n",
       "    </tr>\n",
       "    <tr>\n",
       "      <th>min</th>\n",
       "      <td>0.000000e+00</td>\n",
       "      <td>0.000000e+00</td>\n",
       "      <td>0.000000e+00</td>\n",
       "      <td>0.000000e+00</td>\n",
       "      <td>1.000000e+00</td>\n",
       "      <td>4.000000e+00</td>\n",
       "      <td>1.000000e+00</td>\n",
       "      <td>1.000000e+00</td>\n",
       "      <td>1.000000e+00</td>\n",
       "      <td>1.000000e+00</td>\n",
       "      <td>0.000000e+00</td>\n",
       "    </tr>\n",
       "    <tr>\n",
       "      <th>25%</th>\n",
       "      <td>5.000000e+00</td>\n",
       "      <td>1.300000e+01</td>\n",
       "      <td>1.350000e+02</td>\n",
       "      <td>4.000000e+00</td>\n",
       "      <td>3.300000e+01</td>\n",
       "      <td>3.860000e+03</td>\n",
       "      <td>1.217200e+04</td>\n",
       "      <td>1.235700e+04</td>\n",
       "      <td>1.059000e+03</td>\n",
       "      <td>1.043700e+04</td>\n",
       "      <td>6.000000e+00</td>\n",
       "    </tr>\n",
       "    <tr>\n",
       "      <th>50%</th>\n",
       "      <td>1.200000e+01</td>\n",
       "      <td>1.900000e+01</td>\n",
       "      <td>2.340000e+02</td>\n",
       "      <td>9.000000e+00</td>\n",
       "      <td>5.100000e+01</td>\n",
       "      <td>2.468800e+04</td>\n",
       "      <td>3.128900e+04</td>\n",
       "      <td>2.292900e+04</td>\n",
       "      <td>4.477000e+03</td>\n",
       "      <td>2.658800e+04</td>\n",
       "      <td>1.000000e+01</td>\n",
       "    </tr>\n",
       "    <tr>\n",
       "      <th>75%</th>\n",
       "      <td>1.900000e+01</td>\n",
       "      <td>2.200000e+01</td>\n",
       "      <td>3.430000e+02</td>\n",
       "      <td>1.300000e+01</td>\n",
       "      <td>6.500000e+01</td>\n",
       "      <td>5.042700e+04</td>\n",
       "      <td>4.586000e+04</td>\n",
       "      <td>4.706800e+04</td>\n",
       "      <td>1.486100e+04</td>\n",
       "      <td>4.755100e+04</td>\n",
       "      <td>1.900000e+01</td>\n",
       "    </tr>\n",
       "    <tr>\n",
       "      <th>max</th>\n",
       "      <td>5.020000e+02</td>\n",
       "      <td>5.660000e+02</td>\n",
       "      <td>4.980000e+02</td>\n",
       "      <td>2.300000e+01</td>\n",
       "      <td>1.990000e+02</td>\n",
       "      <td>6.429700e+04</td>\n",
       "      <td>6.553400e+04</td>\n",
       "      <td>6.471400e+04</td>\n",
       "      <td>6.471800e+04</td>\n",
       "      <td>6.536100e+04</td>\n",
       "      <td>2.070000e+02</td>\n",
       "    </tr>\n",
       "  </tbody>\n",
       "</table>\n",
       "</div>"
      ],
      "text/plain": [
       "                app            os       channel     date_hour   ip_oscounts  \\\n",
       "count  1.452407e+06  1.452407e+06  1.452407e+06  1.452407e+06  1.452407e+06   \n",
       "mean   1.713381e+01  1.902599e+01  2.491856e+02  9.101441e+00  5.336020e+01   \n",
       "std    2.149883e+01  1.155443e+01  1.284466e+02  6.074046e+00  3.688474e+01   \n",
       "min    0.000000e+00  0.000000e+00  0.000000e+00  0.000000e+00  1.000000e+00   \n",
       "25%    5.000000e+00  1.300000e+01  1.350000e+02  4.000000e+00  3.300000e+01   \n",
       "50%    1.200000e+01  1.900000e+01  2.340000e+02  9.000000e+00  5.100000e+01   \n",
       "75%    1.900000e+01  2.200000e+01  3.430000e+02  1.300000e+01  6.500000e+01   \n",
       "max    5.020000e+02  5.660000e+02  4.980000e+02  2.300000e+01  1.990000e+02   \n",
       "\n",
       "        app_clickip  app_os_clicks  app_device_click  clicks_by_ip  \\\n",
       "count  1.452407e+06   1.452407e+06      1.452407e+06  1.452407e+06   \n",
       "mean   2.885798e+04   3.002873e+04      3.116766e+04  1.024507e+04   \n",
       "std    2.279913e+04   1.934144e+04      2.169428e+04  1.343970e+04   \n",
       "min    4.000000e+00   1.000000e+00      1.000000e+00  1.000000e+00   \n",
       "25%    3.860000e+03   1.217200e+04      1.235700e+04  1.059000e+03   \n",
       "50%    2.468800e+04   3.128900e+04      2.292900e+04  4.477000e+03   \n",
       "75%    5.042700e+04   4.586000e+04      4.706800e+04  1.486100e+04   \n",
       "max    6.429700e+04   6.553400e+04      6.471400e+04  6.471800e+04   \n",
       "\n",
       "       app_os_dev_count      app_rank  \n",
       "count      1.452407e+06  1.452407e+06  \n",
       "mean       2.923434e+04  1.683267e+01  \n",
       "std        1.975315e+04  2.028013e+01  \n",
       "min        1.000000e+00  0.000000e+00  \n",
       "25%        1.043700e+04  6.000000e+00  \n",
       "50%        2.658800e+04  1.000000e+01  \n",
       "75%        4.755100e+04  1.900000e+01  \n",
       "max        6.536100e+04  2.070000e+02  "
      ]
     },
     "execution_count": 86,
     "metadata": {},
     "output_type": "execute_result"
    }
   ],
   "source": [
    "train.describe()"
   ]
  },
  {
   "cell_type": "code",
   "execution_count": 87,
   "metadata": {},
   "outputs": [
    {
     "name": "stderr",
     "output_type": "stream",
     "text": [
      "C:\\Users\\hdadmin\\Anaconda3\\lib\\site-packages\\sklearn\\grid_search.py:43: DeprecationWarning: This module was deprecated in version 0.18 in favor of the model_selection module into which all the refactored classes and functions are moved. This module will be removed in 0.20.\n",
      "  DeprecationWarning)\n"
     ]
    }
   ],
   "source": [
    "from sklearn import preprocessing\n",
    "from sklearn.cross_validation import train_test_split\n",
    "from sklearn.cross_validation import *\n",
    "from sklearn.grid_search import GridSearchCV"
   ]
  },
  {
   "cell_type": "code",
   "execution_count": 88,
   "metadata": {},
   "outputs": [
    {
     "name": "stdout",
     "output_type": "stream",
     "text": [
      "['app', 'os', 'channel', 'date_hour', 'ip_oscounts', 'app_clickip', 'app_os_clicks', 'app_device_click', 'clicks_by_ip', 'app_os_dev_count', 'app_rank']\n"
     ]
    }
   ],
   "source": [
    "features = list(train.columns) \n",
    "print(features)"
   ]
  },
  {
   "cell_type": "code",
   "execution_count": 89,
   "metadata": {
    "collapsed": true
   },
   "outputs": [],
   "source": [
    "for f in train.columns:\n",
    "    if train[f].dtype=='object':\n",
    "        #print(f)\n",
    "        lbl = preprocessing.LabelEncoder()\n",
    "        lbl.fit(list(train[f].values) + list(test[f].values))\n",
    "        train[f] = lbl.transform(list(train[f].values))\n",
    "        test[f] = lbl.transform(list(test[f].values))"
   ]
  },
  {
   "cell_type": "code",
   "execution_count": 90,
   "metadata": {
    "collapsed": true
   },
   "outputs": [],
   "source": [
    "xgb_model = xgb.XGBClassifier()"
   ]
  },
  {
   "cell_type": "code",
   "execution_count": 91,
   "metadata": {
    "collapsed": true
   },
   "outputs": [],
   "source": [
    "## Set the params(this params from Pranav kernel) for xgboost model\n",
    "parameters = {'learning_rate': [0.2,0.3],\n",
    "          'booster': [\"gbtree\"],\n",
    "          'max_depth': [7,8],\n",
    "          'subsample': [1.0],\n",
    "          'colsample_bytree': [0.8],    \n",
    "          'min_child_weight':[0,1,20],\n",
    "          'reg_alpha':[5.0],\n",
    "          'gamma':[1.0],\n",
    "          'objective': ['binary:logistic'], \n",
    "          'scale_pos_weight':[1],\n",
    "          'nthread':[5],\n",
    "          'random_state': [99], \n",
    "          'silent': [1]}"
   ]
  },
  {
   "cell_type": "code",
   "execution_count": 92,
   "metadata": {},
   "outputs": [
    {
     "data": {
      "text/plain": [
       "datetime.datetime(2018, 5, 7, 20, 50, 4, 173989)"
      ]
     },
     "execution_count": 92,
     "metadata": {},
     "output_type": "execute_result"
    }
   ],
   "source": [
    "import datetime\n",
    "datetime.datetime.now()"
   ]
  },
  {
   "cell_type": "code",
   "execution_count": 93,
   "metadata": {
    "collapsed": true
   },
   "outputs": [],
   "source": [
    "clf = GridSearchCV(xgb_model, parameters, n_jobs=5, \n",
    "                   cv=StratifiedKFold(y, n_folds=5, shuffle=True), \n",
    "                   scoring='roc_auc',\n",
    "                   verbose=2, refit=True)"
   ]
  },
  {
   "cell_type": "code",
   "execution_count": 94,
   "metadata": {
    "scrolled": true
   },
   "outputs": [
    {
     "name": "stdout",
     "output_type": "stream",
     "text": [
      "Fitting 5 folds for each of 12 candidates, totalling 60 fits\n"
     ]
    },
    {
     "name": "stderr",
     "output_type": "stream",
     "text": [
      "[Parallel(n_jobs=5)]: Done  31 tasks      | elapsed: 44.3min\n",
      "[Parallel(n_jobs=5)]: Done  60 out of  60 | elapsed: 79.1min finished\n"
     ]
    },
    {
     "data": {
      "text/plain": [
       "GridSearchCV(cv=sklearn.cross_validation.StratifiedKFold(labels=[0 0 ..., 0 0], n_folds=5, shuffle=True, random_state=None),\n",
       "       error_score='raise',\n",
       "       estimator=XGBClassifier(base_score=0.5, booster='gbtree', colsample_bylevel=1,\n",
       "       colsample_bytree=1, gamma=0, learning_rate=0.1, max_delta_step=0,\n",
       "       max_depth=3, min_child_weight=1, missing=None, n_estimators=100,\n",
       "       n_jobs=1, nthread=None, objective='binary:logistic', random_state=0,\n",
       "       reg_alpha=0, reg_lambda=1, scale_pos_weight=1, seed=None,\n",
       "       silent=True, subsample=1),\n",
       "       fit_params={}, iid=True, n_jobs=5,\n",
       "       param_grid={'learning_rate': [0.2, 0.3], 'booster': ['gbtree'], 'max_depth': [7, 8], 'subsample': [1.0], 'colsample_bytree': [0.8], 'min_child_weight': [0, 1, 20], 'reg_alpha': [5.0], 'gamma': [1.0], 'objective': ['binary:logistic'], 'scale_pos_weight': [1], 'nthread': [5], 'random_state': [99], 'silent': [1]},\n",
       "       pre_dispatch='2*n_jobs', refit=True, scoring='roc_auc', verbose=2)"
      ]
     },
     "execution_count": 94,
     "metadata": {},
     "output_type": "execute_result"
    }
   ],
   "source": [
    "clf.fit(train[features], y)"
   ]
  },
  {
   "cell_type": "code",
   "execution_count": 95,
   "metadata": {},
   "outputs": [
    {
     "data": {
      "text/plain": [
       "datetime.datetime(2018, 5, 7, 22, 11, 27, 55138)"
      ]
     },
     "execution_count": 95,
     "metadata": {},
     "output_type": "execute_result"
    }
   ],
   "source": [
    "datetime.datetime.now()"
   ]
  },
  {
   "cell_type": "code",
   "execution_count": 96,
   "metadata": {},
   "outputs": [
    {
     "name": "stdout",
     "output_type": "stream",
     "text": [
      "Raw AUC score: 0.9761115608713805\n",
      "booster: 'gbtree'\n",
      "colsample_bytree: 0.8\n",
      "gamma: 1.0\n",
      "learning_rate: 0.3\n",
      "max_depth: 8\n",
      "min_child_weight: 0\n",
      "nthread: 5\n",
      "objective: 'binary:logistic'\n",
      "random_state: 99\n",
      "reg_alpha: 5.0\n",
      "scale_pos_weight: 1\n",
      "silent: 1\n",
      "subsample: 1.0\n"
     ]
    }
   ],
   "source": [
    "#trust your CV!\n",
    "best_parameters, score, _ = max(clf.grid_scores_, key=lambda x: x[1])\n",
    "print('Raw AUC score:', score)\n",
    "for param_name in sorted(best_parameters.keys()):\n",
    "    print(\"%s: %r\" % (param_name, best_parameters[param_name]))"
   ]
  },
  {
   "cell_type": "code",
   "execution_count": 97,
   "metadata": {},
   "outputs": [
    {
     "data": {
      "text/plain": [
       "numpy.ndarray"
      ]
     },
     "execution_count": 97,
     "metadata": {},
     "output_type": "execute_result"
    }
   ],
   "source": [
    "type(clf.best_estimator_.feature_importances_)"
   ]
  },
  {
   "cell_type": "code",
   "execution_count": 98,
   "metadata": {},
   "outputs": [
    {
     "data": {
      "text/plain": [
       "<matplotlib.text.Text at 0x1af031a668>"
      ]
     },
     "execution_count": 98,
     "metadata": {},
     "output_type": "execute_result"
    },
    {
     "data": {
      "image/png": "[encoded data removed]",
      "text/plain": [
       "<matplotlib.figure.Figure at 0x1b5f5f62b0>"
      ]
     },
     "metadata": {},
     "output_type": "display_data"
    }
   ],
   "source": [
    "y_pos = np.arange(len(features))\n",
    "performance = clf.best_estimator_.feature_importances_\n",
    "plt.figure(figsize=(17,6)) \n",
    "plt.bar(y_pos, performance, align='center', alpha=0.5)\n",
    "plt.xticks(y_pos, features)\n",
    "plt.ylabel('Importance')\n",
    "plt.xlabel('Features')\n",
    "plt.title('Feature Importance')"
   ]
  },
  {
   "cell_type": "code",
   "execution_count": 99,
   "metadata": {
    "collapsed": true
   },
   "outputs": [],
   "source": [
    "test_probs = clf.predict_proba(test[features])[:,1]"
   ]
  },
  {
   "cell_type": "code",
   "execution_count": 100,
   "metadata": {
    "collapsed": true
   },
   "outputs": [],
   "source": [
    "sub['is_attributed'] = np.round(test_probs).astype(np.int64)"
   ]
  },
  {
   "cell_type": "code",
   "execution_count": 101,
   "metadata": {
    "scrolled": true
   },
   "outputs": [
    {
     "data": {
      "text/html": [
       "<div>\n",
       "<style>\n",
       "    .dataframe thead tr:only-child th {\n",
       "        text-align: right;\n",
       "    }\n",
       "\n",
       "    .dataframe thead th {\n",
       "        text-align: left;\n",
       "    }\n",
       "\n",
       "    .dataframe tbody tr th {\n",
       "        vertical-align: top;\n",
       "    }\n",
       "</style>\n",
       "<table border=\"1\" class=\"dataframe\">\n",
       "  <thead>\n",
       "    <tr style=\"text-align: right;\">\n",
       "      <th></th>\n",
       "      <th>click_id</th>\n",
       "      <th>is_attributed</th>\n",
       "    </tr>\n",
       "  </thead>\n",
       "  <tbody>\n",
       "    <tr>\n",
       "      <th>0</th>\n",
       "      <td>0</td>\n",
       "      <td>0</td>\n",
       "    </tr>\n",
       "    <tr>\n",
       "      <th>1</th>\n",
       "      <td>1</td>\n",
       "      <td>0</td>\n",
       "    </tr>\n",
       "    <tr>\n",
       "      <th>2</th>\n",
       "      <td>2</td>\n",
       "      <td>0</td>\n",
       "    </tr>\n",
       "    <tr>\n",
       "      <th>3</th>\n",
       "      <td>3</td>\n",
       "      <td>0</td>\n",
       "    </tr>\n",
       "    <tr>\n",
       "      <th>4</th>\n",
       "      <td>4</td>\n",
       "      <td>0</td>\n",
       "    </tr>\n",
       "  </tbody>\n",
       "</table>\n",
       "</div>"
      ],
      "text/plain": [
       "   click_id  is_attributed\n",
       "0         0              0\n",
       "1         1              0\n",
       "2         2              0\n",
       "3         3              0\n",
       "4         4              0"
      ]
     },
     "execution_count": 101,
     "metadata": {},
     "output_type": "execute_result"
    }
   ],
   "source": [
    "sub.head()"
   ]
  },
  {
   "cell_type": "code",
   "execution_count": 102,
   "metadata": {
    "collapsed": true
   },
   "outputs": [],
   "source": [
    "sub.to_csv(path+'xgb_sub.csv',index=False)"
   ]
  },
  {
   "cell_type": "raw",
   "metadata": {
    "collapsed": true
   },
   "source": [
    "part 1 25 = 0 - 46225951\n",
    "part 2 50 = 46225951 - 92451901\n",
    "part 3 75 = 92451901 - 138677851\n",
    "part 4 100 = 138677851 - 184903890"
   ]
  },
  {
   "cell_type": "code",
   "execution_count": 103,
   "metadata": {
    "collapsed": true
   },
   "outputs": [],
   "source": [
    "part1 = 0 - 18490381 \n",
    "part2 = 18490381 - 36980761\n",
    "part3 = 36980761 - 55471141\n",
    "part4 = 55471141 - 73961521\n",
    "part5 = 73961521 - 92451902\n",
    "part6 = 92451901 - 110942282\n",
    "part7 = 110942282 - 129432662\n",
    "part8 = 129432662 - 147923042\n",
    "part9 = 147923042 - 166413422\n",
    "part10 = 166413422 -184903890"
   ]
  },
  {
   "cell_type": "code",
   "execution_count": null,
   "metadata": {
    "collapsed": true
   },
   "outputs": [],
   "source": []
  }
 ],
 "metadata": {
  "kernelspec": {
   "display_name": "Python 3",
   "language": "python",
   "name": "python3"
  },
  "language_info": {
   "codemirror_mode": {
    "name": "ipython",
    "version": 3
   },
   "file_extension": ".py",
   "mimetype": "text/x-python",
   "name": "python",
   "nbconvert_exporter": "python",
   "pygments_lexer": "ipython3",
   "version": "3.6.1"
  }
 },
 "nbformat": 4,
 "nbformat_minor": 2
}
