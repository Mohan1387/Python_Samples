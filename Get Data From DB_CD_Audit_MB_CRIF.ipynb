{
 "cells": [
  {
   "cell_type": "code",
   "execution_count": 1,
   "metadata": {},
   "outputs": [],
   "source": [
    "import pandas as pd\n",
    "import cx_Oracle\n",
    "import pickle"
   ]
  },
  {
   "cell_type": "code",
   "execution_count": 2,
   "metadata": {},
   "outputs": [],
   "source": [
    "ip = '172.16.80.74'\n",
    "port = '1521'\n",
    "SID = 'RPTDB'\n",
    "\n",
    "dsn_tns = cx_Oracle.makedsn(ip, port, SID)\n",
    "connection = cx_Oracle.connect('ANLYUSR', 'ANLYUSR$', dsn_tns)"
   ]
  },
  {
   "cell_type": "raw",
   "metadata": {},
   "source": [
    "query = \"SELECT TB3.PROPNO,count(1) as TBL_TRN_MB_CIB_RESPONSE_SCORE \\\n",
    "FROM \\\n",
    "(SELECT TB1.PROPNO \\\n",
    "FROM \\\n",
    "(SELECT PROPNO \\\n",
    "FROM TBL_TRN_CUSTOMER_DETAILS CUS \\\n",
    "WHERE CUS.AGMT_DATE > TO_DATE('31-MAR-19', 'DD-MON-YY') \\\n",
    "AND CUS.PORTFOLIO='CD') TB1, \\\n",
    "(SELECT PROSPECT_NO FROM BIUSR.TBL_TRN_MB_CIB_RESPONSE_SCORE \\\n",
    "WHERE CREATED_DATE > TO_DATE('31-MAR-19', 'DD-MON-YY') \\\n",
    "AND SUBSTR(PROSPECT_NO,5,2) = 'CD') TB2 \\\n",
    "Where TB1.PROPNO = TB2.PROSPECT_NO) TB3 \\\n",
    "GROUP BY TB3.PROPNO\""
   ]
  },
  {
   "cell_type": "raw",
   "metadata": {},
   "source": [
    "Data = pd.read_sql(query, con=connection, chunksize=10000)"
   ]
  },
  {
   "cell_type": "raw",
   "metadata": {},
   "source": [
    "data = pd.concat([chunk for chunk in Data])"
   ]
  },
  {
   "cell_type": "raw",
   "metadata": {},
   "source": [
    "data.head()"
   ]
  },
  {
   "cell_type": "raw",
   "metadata": {},
   "source": [
    "data.to_pickle(\"D:\\CD\\TBL_TRN_MB_CIB_RESPONSE_SCORE.pkl\")"
   ]
  },
  {
   "cell_type": "code",
   "execution_count": 3,
   "metadata": {},
   "outputs": [],
   "source": [
    "CRIF = ['TBL_TRN_MB_HIGH_ACCOUNTSUMMARY','TBL_TRN_MB_HIGH_INDVRESPONSE','TBL_TRN_MB_HIGH_INDVRESP_ADDR','TBL_TRN_MB_HIGH_INDVRESP_ID','TBL_TRN_MB_HIGH_REQUEST','TBL_TRN_MB_HIGH_SCORE',]"
   ]
  },
  {
   "cell_type": "code",
   "execution_count": 5,
   "metadata": {},
   "outputs": [
    {
     "name": "stdout",
     "output_type": "stream",
     "text": [
      "---------------------------TBL_TRN_MB_HIGH_ACCOUNTSUMMARY----DONE-------------------\n",
      "---------------------------TBL_TRN_MB_HIGH_INDVRESPONSE----DONE-------------------\n",
      "---------------------------TBL_TRN_MB_HIGH_INDVRESP_ADDR----DONE-------------------\n",
      "---------------------------TBL_TRN_MB_HIGH_INDVRESP_ID----DONE-------------------\n",
      "---------------------------TBL_TRN_MB_HIGH_REQUEST----DONE-------------------\n",
      "---------------------------TBL_TRN_MB_HIGH_SCORE----DONE-------------------\n"
     ]
    }
   ],
   "source": [
    "for i in CRIF:\n",
    "    query = \"SELECT TB3.PROPNO,sum(status) as {} \\\n",
    "    FROM \\\n",
    "    (SELECT TB1.PROPNO,decode(TB2.PROSPECT_NO,NULL,0,1) as status \\\n",
    "    FROM \\\n",
    "    (SELECT PROPNO \\\n",
    "    FROM TBL_TRN_CUSTOMER_DETAILS CUS \\\n",
    "    WHERE CUS.AGMT_DATE > TO_DATE('31-OCT-18', 'DD-MON-YY') \\\n",
    "    AND CUS.PORTFOLIO='CD') TB1 LEFT OUTER JOIN \\\n",
    "    (SELECT PROSPECT_NO FROM BIUSR.{} \\\n",
    "    WHERE CREATED_DATE > TO_DATE('31-OCT-18', 'DD-MON-YY') \\\n",
    "    AND SUBSTR(PROSPECT_NO,5,2) = 'CD') TB2 \\\n",
    "    ON TB1.PROPNO = TB2.PROSPECT_NO) TB3 \\\n",
    "    GROUP BY TB3.PROPNO\".format(i,i)\n",
    "\n",
    "    Data = pd.read_sql(query, con=connection, chunksize=10000)\n",
    "    \n",
    "    data = pd.concat([chunk for chunk in Data])\n",
    "    \n",
    "    if i == 'TBL_TRN_MB_HIGH_ACCOUNTSUMMARY':\n",
    "        DF_TBL_TRN_MB_HIGH_ACCOUNTSUMMARY = data\n",
    "    elif i == 'TBL_TRN_MB_HIGH_INDVRESPONSE':\n",
    "        DF_TBL_TRN_MB_HIGH_INDVRESPONSE = data\n",
    "    elif i == 'TBL_TRN_MB_HIGH_INDVRESP_ADDR':\n",
    "        DF_TBL_TRN_MB_HIGH_INDVRESP_ADDR = data\n",
    "    elif i == 'TBL_TRN_MB_HIGH_INDVRESP_ID':\n",
    "        DF_TBL_TRN_MB_HIGH_INDVRESP_ID = data\n",
    "    #elif i == 'TBL_TRN_MB_HIGH_INDVRESP_PHONE':\n",
    "    #    DF_TBL_TRN_MB_HIGH_INDVRESP_PHONE = data\n",
    "    elif i == 'TBL_TRN_MB_HIGH_REQUEST':\n",
    "        DF_TBL_TRN_MB_HIGH_REQUEST = data\n",
    "    elif i == 'TBL_TRN_MB_HIGH_SCORE':\n",
    "        DF_TBL_TRN_MB_HIGH_SCORE = data\n",
    "    print(\"---------------------------\"+i+\"----DONE-------------------\")\n",
    "    "
   ]
  },
  {
   "cell_type": "code",
   "execution_count": 6,
   "metadata": {},
   "outputs": [],
   "source": [
    "DF_Data = pd.merge(DF_TBL_TRN_MB_HIGH_ACCOUNTSUMMARY, DF_TBL_TRN_MB_HIGH_INDVRESPONSE, on='PROPNO', how='inner')"
   ]
  },
  {
   "cell_type": "code",
   "execution_count": 7,
   "metadata": {},
   "outputs": [],
   "source": [
    "DF_Data = pd.merge(DF_Data, DF_TBL_TRN_MB_HIGH_INDVRESP_ADDR, on='PROPNO', how='inner')"
   ]
  },
  {
   "cell_type": "code",
   "execution_count": 8,
   "metadata": {},
   "outputs": [],
   "source": [
    "DF_Data = pd.merge(DF_Data, DF_TBL_TRN_MB_HIGH_INDVRESP_ID, on='PROPNO', how='inner')"
   ]
  },
  {
   "cell_type": "code",
   "execution_count": 9,
   "metadata": {},
   "outputs": [],
   "source": [
    "DF_Data = pd.merge(DF_Data, DF_TBL_TRN_MB_HIGH_REQUEST, on='PROPNO', how='inner')"
   ]
  },
  {
   "cell_type": "code",
   "execution_count": 10,
   "metadata": {},
   "outputs": [],
   "source": [
    "DF_Data = pd.merge(DF_Data, DF_TBL_TRN_MB_HIGH_SCORE, on='PROPNO', how='inner')"
   ]
  },
  {
   "cell_type": "code",
   "execution_count": 11,
   "metadata": {},
   "outputs": [
    {
     "data": {
      "text/html": [
       "<div>\n",
       "<style scoped>\n",
       "    .dataframe tbody tr th:only-of-type {\n",
       "        vertical-align: middle;\n",
       "    }\n",
       "\n",
       "    .dataframe tbody tr th {\n",
       "        vertical-align: top;\n",
       "    }\n",
       "\n",
       "    .dataframe thead th {\n",
       "        text-align: right;\n",
       "    }\n",
       "</style>\n",
       "<table border=\"1\" class=\"dataframe\">\n",
       "  <thead>\n",
       "    <tr style=\"text-align: right;\">\n",
       "      <th></th>\n",
       "      <th>PROPNO</th>\n",
       "      <th>TBL_TRN_MB_HIGH_ACCOUNTSUMMARY</th>\n",
       "      <th>TBL_TRN_MB_HIGH_INDVRESPONSE</th>\n",
       "      <th>TBL_TRN_MB_HIGH_INDVRESP_ADDR</th>\n",
       "      <th>TBL_TRN_MB_HIGH_INDVRESP_ID</th>\n",
       "      <th>TBL_TRN_MB_HIGH_REQUEST</th>\n",
       "      <th>TBL_TRN_MB_HIGH_SCORE</th>\n",
       "    </tr>\n",
       "  </thead>\n",
       "  <tbody>\n",
       "    <tr>\n",
       "      <th>0</th>\n",
       "      <td>3000CD0043323</td>\n",
       "      <td>1</td>\n",
       "      <td>1</td>\n",
       "      <td>0</td>\n",
       "      <td>0</td>\n",
       "      <td>1</td>\n",
       "      <td>1</td>\n",
       "    </tr>\n",
       "    <tr>\n",
       "      <th>1</th>\n",
       "      <td>3000CD0048516</td>\n",
       "      <td>1</td>\n",
       "      <td>1</td>\n",
       "      <td>0</td>\n",
       "      <td>0</td>\n",
       "      <td>1</td>\n",
       "      <td>1</td>\n",
       "    </tr>\n",
       "    <tr>\n",
       "      <th>2</th>\n",
       "      <td>3000CD0049443</td>\n",
       "      <td>1</td>\n",
       "      <td>1</td>\n",
       "      <td>0</td>\n",
       "      <td>0</td>\n",
       "      <td>1</td>\n",
       "      <td>1</td>\n",
       "    </tr>\n",
       "    <tr>\n",
       "      <th>3</th>\n",
       "      <td>3000CD0049455</td>\n",
       "      <td>1</td>\n",
       "      <td>1</td>\n",
       "      <td>2</td>\n",
       "      <td>2</td>\n",
       "      <td>1</td>\n",
       "      <td>1</td>\n",
       "    </tr>\n",
       "    <tr>\n",
       "      <th>4</th>\n",
       "      <td>3000CD0049677</td>\n",
       "      <td>1</td>\n",
       "      <td>1</td>\n",
       "      <td>2</td>\n",
       "      <td>1</td>\n",
       "      <td>1</td>\n",
       "      <td>1</td>\n",
       "    </tr>\n",
       "  </tbody>\n",
       "</table>\n",
       "</div>"
      ],
      "text/plain": [
       "          PROPNO  TBL_TRN_MB_HIGH_ACCOUNTSUMMARY  \\\n",
       "0  3000CD0043323                               1   \n",
       "1  3000CD0048516                               1   \n",
       "2  3000CD0049443                               1   \n",
       "3  3000CD0049455                               1   \n",
       "4  3000CD0049677                               1   \n",
       "\n",
       "   TBL_TRN_MB_HIGH_INDVRESPONSE  TBL_TRN_MB_HIGH_INDVRESP_ADDR  \\\n",
       "0                             1                              0   \n",
       "1                             1                              0   \n",
       "2                             1                              0   \n",
       "3                             1                              2   \n",
       "4                             1                              2   \n",
       "\n",
       "   TBL_TRN_MB_HIGH_INDVRESP_ID  TBL_TRN_MB_HIGH_REQUEST  TBL_TRN_MB_HIGH_SCORE  \n",
       "0                            0                        1                      1  \n",
       "1                            0                        1                      1  \n",
       "2                            0                        1                      1  \n",
       "3                            2                        1                      1  \n",
       "4                            1                        1                      1  "
      ]
     },
     "execution_count": 11,
     "metadata": {},
     "output_type": "execute_result"
    }
   ],
   "source": [
    "DF_Data.head()"
   ]
  },
  {
   "cell_type": "code",
   "execution_count": 12,
   "metadata": {},
   "outputs": [],
   "source": [
    "DF_Data.to_csv(\"D:\\CD\\CD_MB_CRIF_6_months.csv\")"
   ]
  },
  {
   "cell_type": "code",
   "execution_count": null,
   "metadata": {},
   "outputs": [],
   "source": []
  }
 ],
 "metadata": {
  "kernelspec": {
   "display_name": "Python 3",
   "language": "python",
   "name": "python3"
  },
  "language_info": {
   "codemirror_mode": {
    "name": "ipython",
    "version": 3
   },
   "file_extension": ".py",
   "mimetype": "text/x-python",
   "name": "python",
   "nbconvert_exporter": "python",
   "pygments_lexer": "ipython3",
   "version": "3.6.7"
  }
 },
 "nbformat": 4,
 "nbformat_minor": 2
}
