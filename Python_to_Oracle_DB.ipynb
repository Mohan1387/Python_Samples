{
 "cells": [
  {
   "cell_type": "code",
   "execution_count": 1,
   "metadata": {},
   "outputs": [],
   "source": [
    "import pandas as pd"
   ]
  },
  {
   "cell_type": "code",
   "execution_count": 2,
   "metadata": {},
   "outputs": [
    {
     "ename": "SystemError",
     "evalue": "<built-in function connect> returned a result with an error set",
     "output_type": "error",
     "traceback": [
      "\u001b[1;31m---------------------------------------------------------------------------\u001b[0m",
      "\u001b[1;31mKeyboardInterrupt\u001b[0m                         Traceback (most recent call last)",
      "\u001b[1;32m~\\AppData\\Local\\Continuum\\anaconda3\\envs\\trainingenv\\lib\\hashlib.py\u001b[0m in \u001b[0;36m__hash_new\u001b[1;34m(name, data, **kwargs)\u001b[0m\n\u001b[0;32m    138\u001b[0m \u001b[1;33m\u001b[0m\u001b[0m\n\u001b[1;32m--> 139\u001b[1;33m \u001b[1;32mdef\u001b[0m \u001b[0m__hash_new\u001b[0m\u001b[1;33m(\u001b[0m\u001b[0mname\u001b[0m\u001b[1;33m,\u001b[0m \u001b[0mdata\u001b[0m\u001b[1;33m=\u001b[0m\u001b[1;34mb''\u001b[0m\u001b[1;33m,\u001b[0m \u001b[1;33m**\u001b[0m\u001b[0mkwargs\u001b[0m\u001b[1;33m)\u001b[0m\u001b[1;33m:\u001b[0m\u001b[1;33m\u001b[0m\u001b[1;33m\u001b[0m\u001b[0m\n\u001b[0m\u001b[0;32m    140\u001b[0m     \"\"\"new(name, data=b'') - Return a new hashing object using the named algorithm;\n",
      "\u001b[1;31mKeyboardInterrupt\u001b[0m: ",
      "\nThe above exception was the direct cause of the following exception:\n",
      "\u001b[1;31mSystemError\u001b[0m                               Traceback (most recent call last)",
      "\u001b[1;32m<ipython-input-2-3ea950b16988>\u001b[0m in \u001b[0;36m<module>\u001b[1;34m\u001b[0m\n\u001b[0;32m      1\u001b[0m \u001b[1;32mimport\u001b[0m \u001b[0mpyodbc\u001b[0m\u001b[1;33m\u001b[0m\u001b[1;33m\u001b[0m\u001b[0m\n\u001b[1;32m----> 2\u001b[1;33m \u001b[0mconnection\u001b[0m \u001b[1;33m=\u001b[0m \u001b[0mpyodbc\u001b[0m\u001b[1;33m.\u001b[0m\u001b[0mconnect\u001b[0m\u001b[1;33m(\u001b[0m\u001b[1;34m'DSN=RPT_CON;UID=ANLYUSR;PWD=ANLYUSR$'\u001b[0m\u001b[1;33m)\u001b[0m\u001b[1;33m\u001b[0m\u001b[1;33m\u001b[0m\u001b[0m\n\u001b[0m\u001b[0;32m      3\u001b[0m \u001b[0mcursor\u001b[0m \u001b[1;33m=\u001b[0m \u001b[0mconnection\u001b[0m\u001b[1;33m.\u001b[0m\u001b[0mcursor\u001b[0m\u001b[1;33m(\u001b[0m\u001b[1;33m)\u001b[0m\u001b[1;33m\u001b[0m\u001b[1;33m\u001b[0m\u001b[0m\n\u001b[0;32m      4\u001b[0m \u001b[0mquery\u001b[0m \u001b[1;33m=\u001b[0m \u001b[1;34m\"SELECT PROPNO FROM TBL_TRN_CUSTOMER_DETAILS WHERE AGMT_DATE > TO_DATE('31-MAR-19', 'DD-MON-YY') AND PORTFOLIO='CD';\"\u001b[0m\u001b[1;33m\u001b[0m\u001b[1;33m\u001b[0m\u001b[0m\n\u001b[0;32m      5\u001b[0m \u001b[0mData\u001b[0m \u001b[1;33m=\u001b[0m \u001b[0mpd\u001b[0m\u001b[1;33m.\u001b[0m\u001b[0mread_sql\u001b[0m\u001b[1;33m(\u001b[0m\u001b[0mquery\u001b[0m\u001b[1;33m,\u001b[0m \u001b[0mconnection\u001b[0m\u001b[1;33m)\u001b[0m\u001b[1;33m\u001b[0m\u001b[1;33m\u001b[0m\u001b[0m\n",
      "\u001b[1;31mSystemError\u001b[0m: <built-in function connect> returned a result with an error set"
     ]
    }
   ],
   "source": [
    "import pyodbc\n",
    "connection = pyodbc.connect('DSN=RPT_CON;UID=ANLYUSR;PWD=ANLYUSR$')\n",
    "cursor = connection.cursor()\n",
    "query = \"SELECT PROPNO FROM TBL_TRN_CUSTOMER_DETAILS WHERE AGMT_DATE > TO_DATE('31-MAR-19', 'DD-MON-YY') AND PORTFOLIO='CD';\"\n",
    "Data = pd.read_sql(query, connection)\n",
    "cursor.close()\n"
   ]
  },
  {
   "cell_type": "code",
   "execution_count": 15,
   "metadata": {},
   "outputs": [
    {
     "data": {
      "text/html": [
       "<div>\n",
       "<style scoped>\n",
       "    .dataframe tbody tr th:only-of-type {\n",
       "        vertical-align: middle;\n",
       "    }\n",
       "\n",
       "    .dataframe tbody tr th {\n",
       "        vertical-align: top;\n",
       "    }\n",
       "\n",
       "    .dataframe thead th {\n",
       "        text-align: right;\n",
       "    }\n",
       "</style>\n",
       "<table border=\"1\" class=\"dataframe\">\n",
       "  <thead>\n",
       "    <tr style=\"text-align: right;\">\n",
       "      <th></th>\n",
       "      <th>AGMTNO</th>\n",
       "      <th>CUTDATE</th>\n",
       "      <th>REPAYMENT_MODE</th>\n",
       "      <th>CURRENT_DEMAND_DATE</th>\n",
       "      <th>CURRENT_DEMAND_AMOUNT</th>\n",
       "      <th>CURRENT_DEMAND_STATUS</th>\n",
       "      <th>PAYMENT_RECEIVED_DATE</th>\n",
       "      <th>BOUNCE_REASON</th>\n",
       "      <th>DEPOSITE_BANK</th>\n",
       "      <th>CUST_BANK_NAME</th>\n",
       "      <th>REPRESENT_FLAG</th>\n",
       "      <th>REPRESENT_REASON</th>\n",
       "      <th>MOB</th>\n",
       "      <th>DEMAND_UPDATE_DATE</th>\n",
       "      <th>PRESENTMODE</th>\n",
       "    </tr>\n",
       "  </thead>\n",
       "  <tbody>\n",
       "    <tr>\n",
       "      <th>0</th>\n",
       "      <td>TN3008TW19392</td>\n",
       "      <td>2014-04-30</td>\n",
       "      <td>ECS</td>\n",
       "      <td>2014-04-07</td>\n",
       "      <td>2543.0</td>\n",
       "      <td>CLR</td>\n",
       "      <td>2014-04-07</td>\n",
       "      <td>None</td>\n",
       "      <td>ALBC</td>\n",
       "      <td>INDIAN OVERSEAS BANK</td>\n",
       "      <td>N</td>\n",
       "      <td>None</td>\n",
       "      <td>1.0</td>\n",
       "      <td>None</td>\n",
       "      <td>None</td>\n",
       "    </tr>\n",
       "    <tr>\n",
       "      <th>1</th>\n",
       "      <td>TN3008TW19392</td>\n",
       "      <td>2014-05-31</td>\n",
       "      <td>ECS</td>\n",
       "      <td>2014-05-07</td>\n",
       "      <td>2543.0</td>\n",
       "      <td>CLR</td>\n",
       "      <td>2014-05-07</td>\n",
       "      <td>None</td>\n",
       "      <td>BJEC</td>\n",
       "      <td>INDIAN OVERSEAS BANK</td>\n",
       "      <td>N</td>\n",
       "      <td>None</td>\n",
       "      <td>2.0</td>\n",
       "      <td>None</td>\n",
       "      <td>None</td>\n",
       "    </tr>\n",
       "    <tr>\n",
       "      <th>2</th>\n",
       "      <td>TN3008TW19392</td>\n",
       "      <td>2014-06-30</td>\n",
       "      <td>ECS</td>\n",
       "      <td>2014-06-07</td>\n",
       "      <td>2543.0</td>\n",
       "      <td>CLR</td>\n",
       "      <td>2014-06-07</td>\n",
       "      <td>None</td>\n",
       "      <td>BJEC</td>\n",
       "      <td>INDIAN OVERSEAS BANK</td>\n",
       "      <td>N</td>\n",
       "      <td>None</td>\n",
       "      <td>3.0</td>\n",
       "      <td>None</td>\n",
       "      <td>None</td>\n",
       "    </tr>\n",
       "    <tr>\n",
       "      <th>3</th>\n",
       "      <td>TN3008TW19392</td>\n",
       "      <td>2014-09-30</td>\n",
       "      <td>ECS</td>\n",
       "      <td>2014-09-07</td>\n",
       "      <td>2543.0</td>\n",
       "      <td>CLR</td>\n",
       "      <td>2014-09-07</td>\n",
       "      <td>None</td>\n",
       "      <td>BJEC</td>\n",
       "      <td>INDIAN OVERSEAS BANK</td>\n",
       "      <td>N</td>\n",
       "      <td>None</td>\n",
       "      <td>6.0</td>\n",
       "      <td>None</td>\n",
       "      <td>None</td>\n",
       "    </tr>\n",
       "    <tr>\n",
       "      <th>4</th>\n",
       "      <td>TN3008TW19392</td>\n",
       "      <td>2014-08-31</td>\n",
       "      <td>ECS</td>\n",
       "      <td>2014-08-07</td>\n",
       "      <td>2543.0</td>\n",
       "      <td>CLR</td>\n",
       "      <td>2014-08-07</td>\n",
       "      <td>None</td>\n",
       "      <td>BJEC</td>\n",
       "      <td>INDIAN OVERSEAS BANK</td>\n",
       "      <td>N</td>\n",
       "      <td>None</td>\n",
       "      <td>5.0</td>\n",
       "      <td>None</td>\n",
       "      <td>None</td>\n",
       "    </tr>\n",
       "  </tbody>\n",
       "</table>\n",
       "</div>"
      ],
      "text/plain": [
       "          AGMTNO    CUTDATE REPAYMENT_MODE CURRENT_DEMAND_DATE  \\\n",
       "0  TN3008TW19392 2014-04-30            ECS          2014-04-07   \n",
       "1  TN3008TW19392 2014-05-31            ECS          2014-05-07   \n",
       "2  TN3008TW19392 2014-06-30            ECS          2014-06-07   \n",
       "3  TN3008TW19392 2014-09-30            ECS          2014-09-07   \n",
       "4  TN3008TW19392 2014-08-31            ECS          2014-08-07   \n",
       "\n",
       "   CURRENT_DEMAND_AMOUNT CURRENT_DEMAND_STATUS PAYMENT_RECEIVED_DATE  \\\n",
       "0                 2543.0                   CLR            2014-04-07   \n",
       "1                 2543.0                   CLR            2014-05-07   \n",
       "2                 2543.0                   CLR            2014-06-07   \n",
       "3                 2543.0                   CLR            2014-09-07   \n",
       "4                 2543.0                   CLR            2014-08-07   \n",
       "\n",
       "  BOUNCE_REASON DEPOSITE_BANK        CUST_BANK_NAME REPRESENT_FLAG  \\\n",
       "0          None          ALBC  INDIAN OVERSEAS BANK              N   \n",
       "1          None          BJEC  INDIAN OVERSEAS BANK              N   \n",
       "2          None          BJEC  INDIAN OVERSEAS BANK              N   \n",
       "3          None          BJEC  INDIAN OVERSEAS BANK              N   \n",
       "4          None          BJEC  INDIAN OVERSEAS BANK              N   \n",
       "\n",
       "  REPRESENT_REASON  MOB DEMAND_UPDATE_DATE PRESENTMODE  \n",
       "0             None  1.0               None        None  \n",
       "1             None  2.0               None        None  \n",
       "2             None  3.0               None        None  \n",
       "3             None  6.0               None        None  \n",
       "4             None  5.0               None        None  "
      ]
     },
     "execution_count": 15,
     "metadata": {},
     "output_type": "execute_result"
    }
   ],
   "source": [
    "Data.head()"
   ]
  },
  {
   "cell_type": "code",
   "execution_count": 17,
   "metadata": {},
   "outputs": [
    {
     "data": {
      "text/plain": [
       "<matplotlib.axes._subplots.AxesSubplot at 0x20cf826aef0>"
      ]
     },
     "execution_count": 17,
     "metadata": {},
     "output_type": "execute_result"
    }
   ],
   "source": [
    "Data.columns()"
   ]
  },
  {
   "cell_type": "code",
   "execution_count": 18,
   "metadata": {},
   "outputs": [],
   "source": [
    "%matplotlib inline"
   ]
  },
  {
   "cell_type": "code",
   "execution_count": 19,
   "metadata": {},
   "outputs": [
    {
     "data": {
      "text/plain": [
       "<matplotlib.axes._subplots.AxesSubplot at 0x20cf7e5b198>"
      ]
     },
     "execution_count": 19,
     "metadata": {},
     "output_type": "execute_result"
    },
    {
     "data": {
      "image/png": "[encoded data removed]",
      "text/plain": [
       "<Figure size 432x288 with 1 Axes>"
      ]
     },
     "metadata": {
      "needs_background": "light"
     },
     "output_type": "display_data"
    }
   ],
   "source": [
    "kmf.plot(ci_show=False)"
   ]
  },
  {
   "cell_type": "code",
   "execution_count": null,
   "metadata": {},
   "outputs": [],
   "source": []
  }
 ],
 "metadata": {
  "kernelspec": {
   "display_name": "Python 3",
   "language": "python",
   "name": "python3"
  },
  "language_info": {
   "codemirror_mode": {
    "name": "ipython",
    "version": 3
   },
   "file_extension": ".py",
   "mimetype": "text/x-python",
   "name": "python",
   "nbconvert_exporter": "python",
   "pygments_lexer": "ipython3",
   "version": "3.6.7"
  }
 },
 "nbformat": 4,
 "nbformat_minor": 2
}
