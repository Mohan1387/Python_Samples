{
 "cells": [
  {
   "cell_type": "code",
   "execution_count": 1,
   "metadata": {},
   "outputs": [],
   "source": [
    "import pandas as pd"
   ]
  },
  {
   "cell_type": "code",
   "execution_count": 7,
   "metadata": {},
   "outputs": [],
   "source": [
    "CD_CIBIL = pd.read_csv(\"D:\\CD\\CD_MB_CIBIL_APRIL_2019.csv\").drop(CD_CIBIL.columns[0], axis=1)\n",
    "CD_CRIF = pd.read_csv(\"D:\\CD\\CD_MB_CRIF_APRIL_2019.csv\").drop(CD_CRIF.columns[0], axis=1)\n",
    "CD_CV = pd.read_csv(\"D:\\CD\\CD_MB_CV_APRIL_2019.csv\").drop(CD_CV.columns[0], axis=1)"
   ]
  },
  {
   "cell_type": "code",
   "execution_count": 8,
   "metadata": {},
   "outputs": [],
   "source": [
    "CON_Data = pd.merge(CD_CIBIL, CD_CRIF, on='PROPNO', how='inner')"
   ]
  },
  {
   "cell_type": "code",
   "execution_count": 9,
   "metadata": {},
   "outputs": [],
   "source": [
    "CON_Data = pd.merge(CON_Data, CD_CV, on='PROPNO', how='inner')"
   ]
  },
  {
   "cell_type": "code",
   "execution_count": 13,
   "metadata": {},
   "outputs": [],
   "source": [
    "CON_Data.to_csv(\"D:\\CD\\CD_MB_CIBIL_CRIF_CV_APRIL_2019.csv\")"
   ]
  },
  {
   "cell_type": "code",
   "execution_count": null,
   "metadata": {},
   "outputs": [],
   "source": []
  }
 ],
 "metadata": {
  "kernelspec": {
   "display_name": "Python 3",
   "language": "python",
   "name": "python3"
  },
  "language_info": {
   "codemirror_mode": {
    "name": "ipython",
    "version": 3
   },
   "file_extension": ".py",
   "mimetype": "text/x-python",
   "name": "python",
   "nbconvert_exporter": "python",
   "pygments_lexer": "ipython3",
   "version": "3.6.7"
  }
 },
 "nbformat": 4,
 "nbformat_minor": 2
}
