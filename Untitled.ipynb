{
 "cells": [
  {
   "cell_type": "code",
   "execution_count": 8,
   "metadata": {},
   "outputs": [],
   "source": [
    "import pandas as pd\n",
    "import numpy as np\n",
    "import cx_Oracle\n",
    "pd.set_option('display.max_columns', 500)\n",
    "pd.set_option('display.max_rows', 1000)"
   ]
  },
  {
   "cell_type": "code",
   "execution_count": 9,
   "metadata": {},
   "outputs": [],
   "source": [
    "ip = '172.16.80.74'\n",
    "port = '1521'\n",
    "SID = 'RPTDB'\n",
    "\n",
    "dsn_tns = cx_Oracle.makedsn(ip, port, SID)\n",
    "connection = cx_Oracle.connect('ANLYUSR', 'ANLYUSR$', dsn_tns, encoding='iso-8859-1')"
   ]
  },
  {
   "cell_type": "code",
   "execution_count": 12,
   "metadata": {},
   "outputs": [],
   "source": [
    "query = \"with tb1 as (SELECT AGREEMENTNUMBER, DATE_OPENED, LOAN_ACCOUNT_NUMBER, LOAN_STATUS, \\\n",
    "LOAN_TYPE FROM BIUSR.TBL_TRN_CIBIL_TL_DETAILS \\\n",
    "WHERE SECTOR != 'NOT DISCLOSED' \\\n",
    "AND SUBSTR(AGREEMENTNUMBER,7,2) = 'CD') \\\n",
    "SELECT DATE_OPENED, LOAN_ACCOUNT_NUMBER, LOAN_STATUS, LOAN_TYPE, IDENT, DENSE_RANK() over (ORDER BY IDENT) as USER_ID \\\n",
    "FROM \\\n",
    "(select DATE_OPENED, LOAN_ACCOUNT_NUMBER, LOAN_STATUS, LOAN_TYPE, \\\n",
    "LISTAGG(AGREEMENTNUMBER, ',') WITHIN GROUP (ORDER BY AGREEMENTNUMBER) as IDENT \\\n",
    "FROM tb1 \\\n",
    "GROUP BY DATE_OPENED, LOAN_ACCOUNT_NUMBER, LOAN_STATUS, LOAN_TYPE) \\\n",
    "ORDER BY USER_ID DESC\""
   ]
  },
  {
   "cell_type": "code",
   "execution_count": 13,
   "metadata": {},
   "outputs": [],
   "source": [
    "Data = pd.read_sql(query, con=connection, chunksize=40000)"
   ]
  },
  {
   "cell_type": "code",
   "execution_count": 14,
   "metadata": {},
   "outputs": [],
   "source": [
    "data = pd.concat([chunk for chunk in Data])"
   ]
  },
  {
   "cell_type": "code",
   "execution_count": 20,
   "metadata": {},
   "outputs": [
    {
     "data": {
      "text/html": [
       "<div>\n",
       "<style scoped>\n",
       "    .dataframe tbody tr th:only-of-type {\n",
       "        vertical-align: middle;\n",
       "    }\n",
       "\n",
       "    .dataframe tbody tr th {\n",
       "        vertical-align: top;\n",
       "    }\n",
       "\n",
       "    .dataframe thead th {\n",
       "        text-align: right;\n",
       "    }\n",
       "</style>\n",
       "<table border=\"1\" class=\"dataframe\">\n",
       "  <thead>\n",
       "    <tr style=\"text-align: right;\">\n",
       "      <th></th>\n",
       "      <th>DATE_OPENED</th>\n",
       "      <th>LOAN_ACCOUNT_NUMBER</th>\n",
       "      <th>LOAN_STATUS</th>\n",
       "      <th>LOAN_TYPE</th>\n",
       "      <th>IDENT</th>\n",
       "      <th>USER_ID</th>\n",
       "      <th>Portfolio</th>\n",
       "    </tr>\n",
       "  </thead>\n",
       "  <tbody>\n",
       "    <tr>\n",
       "      <th>0</th>\n",
       "      <td>2019-02-28</td>\n",
       "      <td>WB3078CD0129159</td>\n",
       "      <td>Live</td>\n",
       "      <td>Consumer Loan</td>\n",
       "      <td>WB3078CD0129159</td>\n",
       "      <td>474281</td>\n",
       "      <td>CD</td>\n",
       "    </tr>\n",
       "    <tr>\n",
       "      <th>1</th>\n",
       "      <td>2019-02-28</td>\n",
       "      <td>WB3078CD0129147</td>\n",
       "      <td>Live</td>\n",
       "      <td>Consumer Loan</td>\n",
       "      <td>WB3078CD0129147</td>\n",
       "      <td>474280</td>\n",
       "      <td>CD</td>\n",
       "    </tr>\n",
       "    <tr>\n",
       "      <th>2</th>\n",
       "      <td>2019-02-28</td>\n",
       "      <td>WB3078CD0129108</td>\n",
       "      <td>Live</td>\n",
       "      <td>Consumer Loan</td>\n",
       "      <td>WB3078CD0129108</td>\n",
       "      <td>474279</td>\n",
       "      <td>CD</td>\n",
       "    </tr>\n",
       "    <tr>\n",
       "      <th>3</th>\n",
       "      <td>2019-02-28</td>\n",
       "      <td>WB3078CD0129106</td>\n",
       "      <td>Live</td>\n",
       "      <td>Consumer Loan</td>\n",
       "      <td>WB3078CD0129106</td>\n",
       "      <td>474278</td>\n",
       "      <td>CD</td>\n",
       "    </tr>\n",
       "    <tr>\n",
       "      <th>4</th>\n",
       "      <td>2019-02-28</td>\n",
       "      <td>WB3078CD0129096</td>\n",
       "      <td>Live</td>\n",
       "      <td>Consumer Loan</td>\n",
       "      <td>WB3078CD0129096</td>\n",
       "      <td>474277</td>\n",
       "      <td>CD</td>\n",
       "    </tr>\n",
       "  </tbody>\n",
       "</table>\n",
       "</div>"
      ],
      "text/plain": [
       "  DATE_OPENED LOAN_ACCOUNT_NUMBER LOAN_STATUS      LOAN_TYPE            IDENT  \\\n",
       "0  2019-02-28     WB3078CD0129159        Live  Consumer Loan  WB3078CD0129159   \n",
       "1  2019-02-28     WB3078CD0129147        Live  Consumer Loan  WB3078CD0129147   \n",
       "2  2019-02-28     WB3078CD0129108        Live  Consumer Loan  WB3078CD0129108   \n",
       "3  2019-02-28     WB3078CD0129106        Live  Consumer Loan  WB3078CD0129106   \n",
       "4  2019-02-28     WB3078CD0129096        Live  Consumer Loan  WB3078CD0129096   \n",
       "\n",
       "   USER_ID Portfolio  \n",
       "0   474281        CD  \n",
       "1   474280        CD  \n",
       "2   474279        CD  \n",
       "3   474278        CD  \n",
       "4   474277        CD  "
      ]
     },
     "execution_count": 20,
     "metadata": {},
     "output_type": "execute_result"
    }
   ],
   "source": [
    "data.head()"
   ]
  },
  {
   "cell_type": "code",
   "execution_count": 19,
   "metadata": {},
   "outputs": [],
   "source": [
    "data['Portfolio'] = data['LOAN_ACCOUNT_NUMBER'].apply(lambda x: x[6:8])"
   ]
  },
  {
   "cell_type": "code",
   "execution_count": 27,
   "metadata": {},
   "outputs": [],
   "source": [
    "data1 = data.sort_values(by=['USER_ID','DATE_OPENED'])\n",
    "data1['rnk'] = data1.groupby('USER_ID')['DATE_OPENED'].rank(ascending=True,method='dense')"
   ]
  },
  {
   "cell_type": "code",
   "execution_count": 56,
   "metadata": {},
   "outputs": [],
   "source": [
    "def markexist(row):\n",
    "    if row['Portfolio'] == 'CD' and row['rnk'] > 1:\n",
    "        return 'Existing_CD'\n",
    "    elif row['Portfolio'] != 'CD' and row['rnk'] > 1:\n",
    "        return 'Existing_Not_CD'\n",
    "    elif row['Portfolio'] == 'CD' and row['rnk'] == 1:\n",
    "        return 'New'\n",
    "    elif row['Portfolio'] != 'CD' and row['rnk'] == 1:\n",
    "        return 'New_not_CD'"
   ]
  },
  {
   "cell_type": "code",
   "execution_count": 57,
   "metadata": {},
   "outputs": [],
   "source": [
    "data1['Existing_New'] = data1.apply(markexist, axis=1)"
   ]
  },
  {
   "cell_type": "code",
   "execution_count": 58,
   "metadata": {},
   "outputs": [
    {
     "data": {
      "text/html": [
       "<div>\n",
       "<style scoped>\n",
       "    .dataframe tbody tr th:only-of-type {\n",
       "        vertical-align: middle;\n",
       "    }\n",
       "\n",
       "    .dataframe tbody tr th {\n",
       "        vertical-align: top;\n",
       "    }\n",
       "\n",
       "    .dataframe thead th {\n",
       "        text-align: right;\n",
       "    }\n",
       "</style>\n",
       "<table border=\"1\" class=\"dataframe\">\n",
       "  <thead>\n",
       "    <tr style=\"text-align: right;\">\n",
       "      <th></th>\n",
       "      <th>DATE_OPENED</th>\n",
       "      <th>LOAN_ACCOUNT_NUMBER</th>\n",
       "      <th>LOAN_STATUS</th>\n",
       "      <th>LOAN_TYPE</th>\n",
       "      <th>IDENT</th>\n",
       "      <th>USER_ID</th>\n",
       "      <th>Portfolio</th>\n",
       "      <th>rnk</th>\n",
       "      <th>Existing_New</th>\n",
       "    </tr>\n",
       "  </thead>\n",
       "  <tbody>\n",
       "    <tr>\n",
       "      <th>17998</th>\n",
       "      <td>2018-05-19</td>\n",
       "      <td>AP3019CD0000001</td>\n",
       "      <td>Closed</td>\n",
       "      <td>Consumer Loan</td>\n",
       "      <td>AP3019CD0000001,AP3019CD0013766</td>\n",
       "      <td>1</td>\n",
       "      <td>CD</td>\n",
       "      <td>1.0</td>\n",
       "      <td>New</td>\n",
       "    </tr>\n",
       "    <tr>\n",
       "      <th>17999</th>\n",
       "      <td>2018-11-27</td>\n",
       "      <td>AP3019CD0013766</td>\n",
       "      <td>Live</td>\n",
       "      <td>Consumer Loan</td>\n",
       "      <td>AP3019CD0000001,AP3019CD0013766</td>\n",
       "      <td>1</td>\n",
       "      <td>CD</td>\n",
       "      <td>2.0</td>\n",
       "      <td>Existing_CD</td>\n",
       "    </tr>\n",
       "    <tr>\n",
       "      <th>17997</th>\n",
       "      <td>2018-05-29</td>\n",
       "      <td>AP3019CD0000002</td>\n",
       "      <td>Closed</td>\n",
       "      <td>Consumer Loan</td>\n",
       "      <td>AP3019CD0000002</td>\n",
       "      <td>2</td>\n",
       "      <td>CD</td>\n",
       "      <td>1.0</td>\n",
       "      <td>New</td>\n",
       "    </tr>\n",
       "    <tr>\n",
       "      <th>17996</th>\n",
       "      <td>2018-06-18</td>\n",
       "      <td>AP3019CD0000003</td>\n",
       "      <td>Live</td>\n",
       "      <td>Consumer Loan</td>\n",
       "      <td>AP3019CD0000003</td>\n",
       "      <td>3</td>\n",
       "      <td>CD</td>\n",
       "      <td>1.0</td>\n",
       "      <td>New</td>\n",
       "    </tr>\n",
       "    <tr>\n",
       "      <th>17995</th>\n",
       "      <td>2018-05-23</td>\n",
       "      <td>AP3019CD0000005</td>\n",
       "      <td>Closed</td>\n",
       "      <td>Consumer Loan</td>\n",
       "      <td>AP3019CD0000005</td>\n",
       "      <td>4</td>\n",
       "      <td>CD</td>\n",
       "      <td>1.0</td>\n",
       "      <td>New</td>\n",
       "    </tr>\n",
       "  </tbody>\n",
       "</table>\n",
       "</div>"
      ],
      "text/plain": [
       "      DATE_OPENED LOAN_ACCOUNT_NUMBER LOAN_STATUS      LOAN_TYPE  \\\n",
       "17998  2018-05-19     AP3019CD0000001      Closed  Consumer Loan   \n",
       "17999  2018-11-27     AP3019CD0013766        Live  Consumer Loan   \n",
       "17997  2018-05-29     AP3019CD0000002      Closed  Consumer Loan   \n",
       "17996  2018-06-18     AP3019CD0000003        Live  Consumer Loan   \n",
       "17995  2018-05-23     AP3019CD0000005      Closed  Consumer Loan   \n",
       "\n",
       "                                 IDENT  USER_ID Portfolio  rnk Existing_New  \n",
       "17998  AP3019CD0000001,AP3019CD0013766        1        CD  1.0          New  \n",
       "17999  AP3019CD0000001,AP3019CD0013766        1        CD  2.0  Existing_CD  \n",
       "17997                  AP3019CD0000002        2        CD  1.0          New  \n",
       "17996                  AP3019CD0000003        3        CD  1.0          New  \n",
       "17995                  AP3019CD0000005        4        CD  1.0          New  "
      ]
     },
     "execution_count": 58,
     "metadata": {},
     "output_type": "execute_result"
    }
   ],
   "source": [
    "data1.head()"
   ]
  },
  {
   "cell_type": "code",
   "execution_count": 59,
   "metadata": {},
   "outputs": [
    {
     "data": {
      "text/plain": [
       "array([1., 2., 3., 4., 5., 6., 7., 8.])"
      ]
     },
     "execution_count": 59,
     "metadata": {},
     "output_type": "execute_result"
    }
   ],
   "source": [
    "data1.rnk.unique()"
   ]
  },
  {
   "cell_type": "code",
   "execution_count": 60,
   "metadata": {},
   "outputs": [],
   "source": [
    "data1 = data1.loc[data1['Portfolio'].isin(['AP','CD', 'TW', 'UT', 'CA', 'CT', 'UV', 'LT', 'LN', 'AL', 'TR', 'RC', 'RT'])]"
   ]
  },
  {
   "cell_type": "code",
   "execution_count": 61,
   "metadata": {},
   "outputs": [],
   "source": [
    "data1.to_csv(\"D:/CD/CD_Existing_Cust_v4.csv\")"
   ]
  },
  {
   "cell_type": "code",
   "execution_count": null,
   "metadata": {},
   "outputs": [],
   "source": [
    "def markbefore(row):\n",
    "    if row['Portfolio'] == 'CD' and row['Existing_New'] == 'New':\n",
    "        return 'Current'\n",
    "    elif "
   ]
  },
  {
   "cell_type": "code",
   "execution_count": null,
   "metadata": {},
   "outputs": [],
   "source": [
    "data1['before_after'] = data1.apply"
   ]
  }
 ],
 "metadata": {
  "kernelspec": {
   "display_name": "Python 3",
   "language": "python",
   "name": "python3"
  },
  "language_info": {
   "codemirror_mode": {
    "name": "ipython",
    "version": 3
   },
   "file_extension": ".py",
   "mimetype": "text/x-python",
   "name": "python",
   "nbconvert_exporter": "python",
   "pygments_lexer": "ipython3",
   "version": "3.6.7"
  }
 },
 "nbformat": 4,
 "nbformat_minor": 2
}
