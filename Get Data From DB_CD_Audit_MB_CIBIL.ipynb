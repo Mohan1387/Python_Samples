{
 "cells": [
  {
   "cell_type": "code",
   "execution_count": 1,
   "metadata": {},
   "outputs": [],
   "source": [
    "import pandas as pd\n",
    "import cx_Oracle\n",
    "import pickle"
   ]
  },
  {
   "cell_type": "code",
   "execution_count": 2,
   "metadata": {},
   "outputs": [],
   "source": [
    "ip = '172.16.80.74'\n",
    "port = '1521'\n",
    "SID = 'RPTDB'\n",
    "\n",
    "dsn_tns = cx_Oracle.makedsn(ip, port, SID)\n",
    "connection = cx_Oracle.connect('ANLYUSR', 'ANLYUSR$', dsn_tns)"
   ]
  },
  {
   "cell_type": "code",
   "execution_count": 3,
   "metadata": {},
   "outputs": [],
   "source": [
    "CIBIL = ['TBL_TRN_MB_CIB_ACCOUNT_SEGMENT','TBL_TRN_MB_CIB_ADDRESSLIST','TBL_TRN_MB_CIB_EMPLOYMENT_SEG','TBL_TRN_MB_CIB_RESPONSE_SCORE','TBL_TRN_MB_CIB_PHONELIST','TBL_TRN_MB_CIB_ID_SEGMENT','TBL_TRN_MB_CIB_ENQUIRYLIST','TBL_TRN_MB_CIB_NAMEHEADER','TBL_TRN_MB_CIB_ACCOUNTS_DETAIL']"
   ]
  },
  {
   "cell_type": "code",
   "execution_count": 4,
   "metadata": {},
   "outputs": [
    {
     "name": "stdout",
     "output_type": "stream",
     "text": [
      "---------------------------TBL_TRN_MB_CIB_ACCOUNT_SEGMENT----DONE-------------------\n",
      "---------------------------TBL_TRN_MB_CIB_ADDRESSLIST----DONE-------------------\n",
      "---------------------------TBL_TRN_MB_CIB_EMPLOYMENT_SEG----DONE-------------------\n",
      "---------------------------TBL_TRN_MB_CIB_RESPONSE_SCORE----DONE-------------------\n",
      "---------------------------TBL_TRN_MB_CIB_PHONELIST----DONE-------------------\n",
      "---------------------------TBL_TRN_MB_CIB_ID_SEGMENT----DONE-------------------\n",
      "---------------------------TBL_TRN_MB_CIB_ENQUIRYLIST----DONE-------------------\n",
      "---------------------------TBL_TRN_MB_CIB_NAMEHEADER----DONE-------------------\n",
      "---------------------------TBL_TRN_MB_CIB_ACCOUNTS_DETAIL----DONE-------------------\n"
     ]
    }
   ],
   "source": [
    "for i in CIBIL:\n",
    "    query = \"SELECT TB3.PROPNO,sum(status) as {} \\\n",
    "    FROM \\\n",
    "    (SELECT TB1.PROPNO,decode(TB2.PROSPECT_NO,NULL,0,1) as status \\\n",
    "    FROM \\\n",
    "    (SELECT PROPNO \\\n",
    "    FROM TBL_TRN_CUSTOMER_DETAILS CUS \\\n",
    "    WHERE CUS.AGMT_DATE > TO_DATE('31-OCT-18', 'DD-MON-YY') \\\n",
    "    AND CUS.PORTFOLIO='CD') TB1 LEFT OUTER JOIN \\\n",
    "    (SELECT PROSPECT_NO FROM BIUSR.{} \\\n",
    "    WHERE CREATED_DATE > TO_DATE('31-OCT-18', 'DD-MON-YY') \\\n",
    "    AND SUBSTR(PROSPECT_NO,5,2) = 'CD') TB2 \\\n",
    "    ON TB1.PROPNO = TB2.PROSPECT_NO) TB3 \\\n",
    "    GROUP BY TB3.PROPNO\".format(i,i)\n",
    "\n",
    "    Data = pd.read_sql(query, con=connection, chunksize=10000)\n",
    "    \n",
    "    data = pd.concat([chunk for chunk in Data])\n",
    "    \n",
    "    if i == 'TBL_TRN_MB_CIB_ACCOUNT_SEGMENT':\n",
    "        DF_TBL_TRN_MB_CIB_ACCOUNT_SEGMENT = data\n",
    "    elif i == 'TBL_TRN_MB_CIB_ADDRESSLIST':\n",
    "        DF_TBL_TRN_MB_CIB_ADDRESSLIST = data\n",
    "    elif i == 'TBL_TRN_MB_CIB_EMPLOYMENT_SEG':\n",
    "        DF_TBL_TRN_MB_CIB_EMPLOYMENT_SEG = data\n",
    "    elif i == 'TBL_TRN_MB_CIB_RESPONSE_SCORE':\n",
    "        DF_TBL_TRN_MB_CIB_RESPONSE_SCORE = data\n",
    "    elif i == 'TBL_TRN_MB_CIB_PHONELIST':\n",
    "        DF_TBL_TRN_MB_CIB_PHONELIST = data\n",
    "    elif i == 'TBL_TRN_MB_CIB_ID_SEGMENT':\n",
    "        DF_TBL_TRN_MB_CIB_ID_SEGMENT = data\n",
    "    elif i == 'TBL_TRN_MB_CIB_ENQUIRYLIST':\n",
    "        DF_TBL_TRN_MB_CIB_ENQUIRYLIST = data\n",
    "    elif i == 'TBL_TRN_MB_CIB_NAMEHEADER':\n",
    "        DF_TBL_TRN_MB_CIB_NAMEHEADER = data\n",
    "    elif i == 'TBL_TRN_MB_CIB_ACCOUNTS_DETAIL':\n",
    "        DF_TBL_TRN_MB_CIB_ACCOUNTS_DETAIL = data\n",
    "    print(\"---------------------------\"+i+\"----DONE-------------------\")\n",
    "    "
   ]
  },
  {
   "cell_type": "code",
   "execution_count": 5,
   "metadata": {},
   "outputs": [],
   "source": [
    "DF_Data = pd.merge(DF_TBL_TRN_MB_CIB_ACCOUNT_SEGMENT, DF_TBL_TRN_MB_CIB_ADDRESSLIST, on='PROPNO', how='inner')"
   ]
  },
  {
   "cell_type": "code",
   "execution_count": 6,
   "metadata": {},
   "outputs": [],
   "source": [
    "DF_Data = pd.merge(DF_Data, DF_TBL_TRN_MB_CIB_EMPLOYMENT_SEG, on='PROPNO', how='inner')"
   ]
  },
  {
   "cell_type": "code",
   "execution_count": 7,
   "metadata": {},
   "outputs": [],
   "source": [
    "DF_Data = pd.merge(DF_Data, DF_TBL_TRN_MB_CIB_RESPONSE_SCORE, on='PROPNO', how='inner')"
   ]
  },
  {
   "cell_type": "code",
   "execution_count": 8,
   "metadata": {},
   "outputs": [],
   "source": [
    "DF_Data = pd.merge(DF_Data, DF_TBL_TRN_MB_CIB_PHONELIST, on='PROPNO', how='inner')"
   ]
  },
  {
   "cell_type": "code",
   "execution_count": 9,
   "metadata": {},
   "outputs": [],
   "source": [
    "DF_Data = pd.merge(DF_Data, DF_TBL_TRN_MB_CIB_ID_SEGMENT, on='PROPNO', how='inner')"
   ]
  },
  {
   "cell_type": "code",
   "execution_count": 10,
   "metadata": {},
   "outputs": [],
   "source": [
    "DF_Data = pd.merge(DF_Data, DF_TBL_TRN_MB_CIB_ENQUIRYLIST, on='PROPNO', how='inner')"
   ]
  },
  {
   "cell_type": "code",
   "execution_count": 11,
   "metadata": {},
   "outputs": [],
   "source": [
    "DF_Data = pd.merge(DF_Data, DF_TBL_TRN_MB_CIB_NAMEHEADER, on='PROPNO', how='inner')"
   ]
  },
  {
   "cell_type": "code",
   "execution_count": 12,
   "metadata": {},
   "outputs": [],
   "source": [
    "DF_Data = pd.merge(DF_Data, DF_TBL_TRN_MB_CIB_ACCOUNTS_DETAIL, on='PROPNO', how='inner')"
   ]
  },
  {
   "cell_type": "code",
   "execution_count": 13,
   "metadata": {},
   "outputs": [
    {
     "data": {
      "text/html": [
       "<div>\n",
       "<style scoped>\n",
       "    .dataframe tbody tr th:only-of-type {\n",
       "        vertical-align: middle;\n",
       "    }\n",
       "\n",
       "    .dataframe tbody tr th {\n",
       "        vertical-align: top;\n",
       "    }\n",
       "\n",
       "    .dataframe thead th {\n",
       "        text-align: right;\n",
       "    }\n",
       "</style>\n",
       "<table border=\"1\" class=\"dataframe\">\n",
       "  <thead>\n",
       "    <tr style=\"text-align: right;\">\n",
       "      <th></th>\n",
       "      <th>PROPNO</th>\n",
       "      <th>TBL_TRN_MB_CIB_ACCOUNT_SEGMENT</th>\n",
       "      <th>TBL_TRN_MB_CIB_ADDRESSLIST</th>\n",
       "      <th>TBL_TRN_MB_CIB_EMPLOYMENT_SEG</th>\n",
       "      <th>TBL_TRN_MB_CIB_RESPONSE_SCORE</th>\n",
       "      <th>TBL_TRN_MB_CIB_PHONELIST</th>\n",
       "      <th>TBL_TRN_MB_CIB_ID_SEGMENT</th>\n",
       "      <th>TBL_TRN_MB_CIB_ENQUIRYLIST</th>\n",
       "      <th>TBL_TRN_MB_CIB_NAMEHEADER</th>\n",
       "      <th>TBL_TRN_MB_CIB_ACCOUNTS_DETAIL</th>\n",
       "    </tr>\n",
       "  </thead>\n",
       "  <tbody>\n",
       "    <tr>\n",
       "      <th>0</th>\n",
       "      <td>3000CD0043323</td>\n",
       "      <td>1</td>\n",
       "      <td>2</td>\n",
       "      <td>1</td>\n",
       "      <td>1</td>\n",
       "      <td>2</td>\n",
       "      <td>4</td>\n",
       "      <td>8</td>\n",
       "      <td>1</td>\n",
       "      <td>1</td>\n",
       "    </tr>\n",
       "    <tr>\n",
       "      <th>1</th>\n",
       "      <td>3000CD0048516</td>\n",
       "      <td>2</td>\n",
       "      <td>4</td>\n",
       "      <td>1</td>\n",
       "      <td>1</td>\n",
       "      <td>2</td>\n",
       "      <td>4</td>\n",
       "      <td>19</td>\n",
       "      <td>1</td>\n",
       "      <td>6</td>\n",
       "    </tr>\n",
       "    <tr>\n",
       "      <th>2</th>\n",
       "      <td>3000CD0049443</td>\n",
       "      <td>1</td>\n",
       "      <td>2</td>\n",
       "      <td>1</td>\n",
       "      <td>1</td>\n",
       "      <td>3</td>\n",
       "      <td>2</td>\n",
       "      <td>2</td>\n",
       "      <td>1</td>\n",
       "      <td>2</td>\n",
       "    </tr>\n",
       "    <tr>\n",
       "      <th>3</th>\n",
       "      <td>3000CD0049455</td>\n",
       "      <td>0</td>\n",
       "      <td>1</td>\n",
       "      <td>0</td>\n",
       "      <td>1</td>\n",
       "      <td>2</td>\n",
       "      <td>1</td>\n",
       "      <td>0</td>\n",
       "      <td>1</td>\n",
       "      <td>0</td>\n",
       "    </tr>\n",
       "    <tr>\n",
       "      <th>4</th>\n",
       "      <td>3000CD0049677</td>\n",
       "      <td>0</td>\n",
       "      <td>1</td>\n",
       "      <td>0</td>\n",
       "      <td>1</td>\n",
       "      <td>2</td>\n",
       "      <td>1</td>\n",
       "      <td>0</td>\n",
       "      <td>1</td>\n",
       "      <td>0</td>\n",
       "    </tr>\n",
       "  </tbody>\n",
       "</table>\n",
       "</div>"
      ],
      "text/plain": [
       "          PROPNO  TBL_TRN_MB_CIB_ACCOUNT_SEGMENT  TBL_TRN_MB_CIB_ADDRESSLIST  \\\n",
       "0  3000CD0043323                               1                           2   \n",
       "1  3000CD0048516                               2                           4   \n",
       "2  3000CD0049443                               1                           2   \n",
       "3  3000CD0049455                               0                           1   \n",
       "4  3000CD0049677                               0                           1   \n",
       "\n",
       "   TBL_TRN_MB_CIB_EMPLOYMENT_SEG  TBL_TRN_MB_CIB_RESPONSE_SCORE  \\\n",
       "0                              1                              1   \n",
       "1                              1                              1   \n",
       "2                              1                              1   \n",
       "3                              0                              1   \n",
       "4                              0                              1   \n",
       "\n",
       "   TBL_TRN_MB_CIB_PHONELIST  TBL_TRN_MB_CIB_ID_SEGMENT  \\\n",
       "0                         2                          4   \n",
       "1                         2                          4   \n",
       "2                         3                          2   \n",
       "3                         2                          1   \n",
       "4                         2                          1   \n",
       "\n",
       "   TBL_TRN_MB_CIB_ENQUIRYLIST  TBL_TRN_MB_CIB_NAMEHEADER  \\\n",
       "0                           8                          1   \n",
       "1                          19                          1   \n",
       "2                           2                          1   \n",
       "3                           0                          1   \n",
       "4                           0                          1   \n",
       "\n",
       "   TBL_TRN_MB_CIB_ACCOUNTS_DETAIL  \n",
       "0                               1  \n",
       "1                               6  \n",
       "2                               2  \n",
       "3                               0  \n",
       "4                               0  "
      ]
     },
     "execution_count": 13,
     "metadata": {},
     "output_type": "execute_result"
    }
   ],
   "source": [
    "DF_Data.head()"
   ]
  },
  {
   "cell_type": "code",
   "execution_count": 14,
   "metadata": {},
   "outputs": [],
   "source": [
    "DF_Data.to_csv(\"D:\\CD\\CD_MB_CIBIL_6_months.csv\")"
   ]
  },
  {
   "cell_type": "code",
   "execution_count": null,
   "metadata": {},
   "outputs": [],
   "source": []
  }
 ],
 "metadata": {
  "kernelspec": {
   "display_name": "Python 3",
   "language": "python",
   "name": "python3"
  },
  "language_info": {
   "codemirror_mode": {
    "name": "ipython",
    "version": 3
   },
   "file_extension": ".py",
   "mimetype": "text/x-python",
   "name": "python",
   "nbconvert_exporter": "python",
   "pygments_lexer": "ipython3",
   "version": "3.6.7"
  }
 },
 "nbformat": 4,
 "nbformat_minor": 2
}
