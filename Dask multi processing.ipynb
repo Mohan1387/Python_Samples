{
 "cells": [
  {
   "cell_type": "code",
   "execution_count": 1,
   "metadata": {},
   "outputs": [],
   "source": [
    "from spellchecker import SpellChecker"
   ]
  },
  {
   "cell_type": "code",
   "execution_count": 2,
   "metadata": {},
   "outputs": [],
   "source": [
    "import pandas as pd"
   ]
  },
  {
   "cell_type": "code",
   "execution_count": 3,
   "metadata": {},
   "outputs": [],
   "source": [
    "data = pd.read_excel(\"D:\\CD\\spell\\VS_LOS_TBL_PROF_DETAILS.xlsx\")"
   ]
  },
  {
   "cell_type": "code",
   "execution_count": 4,
   "metadata": {},
   "outputs": [
    {
     "data": {
      "text/html": [
       "<div>\n",
       "<style scoped>\n",
       "    .dataframe tbody tr th:only-of-type {\n",
       "        vertical-align: middle;\n",
       "    }\n",
       "\n",
       "    .dataframe tbody tr th {\n",
       "        vertical-align: top;\n",
       "    }\n",
       "\n",
       "    .dataframe thead th {\n",
       "        text-align: right;\n",
       "    }\n",
       "</style>\n",
       "<table border=\"1\" class=\"dataframe\">\n",
       "  <thead>\n",
       "    <tr style=\"text-align: right;\">\n",
       "      <th></th>\n",
       "      <th>PROSPECTID</th>\n",
       "      <th>EMPLOYMENTTYPE</th>\n",
       "      <th>EMPLOYERNAME</th>\n",
       "      <th>Years in Curr Empl</th>\n",
       "    </tr>\n",
       "  </thead>\n",
       "  <tbody>\n",
       "    <tr>\n",
       "      <th>0</th>\n",
       "      <td>3078CD0004450</td>\n",
       "      <td>SELF-EMPLOYED</td>\n",
       "      <td>SAHIL TELECOM</td>\n",
       "      <td>6</td>\n",
       "    </tr>\n",
       "    <tr>\n",
       "      <th>1</th>\n",
       "      <td>3078CD0004016</td>\n",
       "      <td>SELF-EMPLOYED</td>\n",
       "      <td>FRUIT AND VEGETABLES SHOP</td>\n",
       "      <td>6</td>\n",
       "    </tr>\n",
       "    <tr>\n",
       "      <th>2</th>\n",
       "      <td>3054CD0003543</td>\n",
       "      <td>SELF-EMPLOYED</td>\n",
       "      <td>SAHANARA STORES</td>\n",
       "      <td>5</td>\n",
       "    </tr>\n",
       "    <tr>\n",
       "      <th>3</th>\n",
       "      <td>3000CD0003431</td>\n",
       "      <td>SALARIED</td>\n",
       "      <td>SURESH BABU</td>\n",
       "      <td>4</td>\n",
       "    </tr>\n",
       "    <tr>\n",
       "      <th>4</th>\n",
       "      <td>3006CD0001457</td>\n",
       "      <td>SELF-EMPLOYED</td>\n",
       "      <td>Bazer store</td>\n",
       "      <td>4</td>\n",
       "    </tr>\n",
       "  </tbody>\n",
       "</table>\n",
       "</div>"
      ],
      "text/plain": [
       "      PROSPECTID EMPLOYMENTTYPE               EMPLOYERNAME  Years in Curr Empl\n",
       "0  3078CD0004450  SELF-EMPLOYED              SAHIL TELECOM                   6\n",
       "1  3078CD0004016  SELF-EMPLOYED  FRUIT AND VEGETABLES SHOP                   6\n",
       "2  3054CD0003543  SELF-EMPLOYED            SAHANARA STORES                   5\n",
       "3  3000CD0003431       SALARIED                SURESH BABU                   4\n",
       "4  3006CD0001457  SELF-EMPLOYED                Bazer store                   4"
      ]
     },
     "execution_count": 4,
     "metadata": {},
     "output_type": "execute_result"
    }
   ],
   "source": [
    "data.head()"
   ]
  },
  {
   "cell_type": "code",
   "execution_count": 5,
   "metadata": {},
   "outputs": [],
   "source": [
    "data['stage_1'] = data.apply(lambda x: 'NUMBER' if isinstance(x['EMPLOYERNAME'], int) else x['EMPLOYERNAME'] , axis=1)"
   ]
  },
  {
   "cell_type": "raw",
   "metadata": {},
   "source": [
    "data.loc[data['stage_1'] == 'NUMBER']"
   ]
  },
  {
   "cell_type": "code",
   "execution_count": 6,
   "metadata": {},
   "outputs": [],
   "source": [
    "data['stage_1'] = data['stage_1'].str.lower()"
   ]
  },
  {
   "cell_type": "code",
   "execution_count": 30,
   "metadata": {},
   "outputs": [],
   "source": [
    "data['stage_1'] = data['stage_1'].str.replace(\" pvt ltd\", \" private limited\")\n",
    "data['stage_1'] = data['stage_1'].str.replace(\" ltd\", \"limited\")\n",
    "data['stage_1'] = data['stage_1'].str.replace(\" pvt \", \" private\")\n",
    "data['stage_1'] = data['stage_1'].str.replace(\"pravit \", \" private\")"
   ]
  },
  {
   "cell_type": "code",
   "execution_count": 31,
   "metadata": {},
   "outputs": [],
   "source": [
    "data['stage_1'] = data[['stage_1']].fillna(value='un known')"
   ]
  },
  {
   "cell_type": "code",
   "execution_count": 34,
   "metadata": {},
   "outputs": [],
   "source": [
    "data['Employer_type'] = data.apply(lambda x: 'private limited' if \" private limited\" in  x['stage_1'] else 'no', axis=1)"
   ]
  },
  {
   "cell_type": "code",
   "execution_count": 10,
   "metadata": {},
   "outputs": [],
   "source": [
    "#24222 -> private limited companies"
   ]
  },
  {
   "cell_type": "code",
   "execution_count": 11,
   "metadata": {},
   "outputs": [],
   "source": [
    "data['stage_1'] = data['stage_1'].str.replace(\" gov \", \" government \")\n",
    "data['stage_1'] = data['stage_1'].str.replace(\"gov\", \" government \")\n",
    "data['stage_1'] = data['stage_1'].str.replace(\"gov \", \" government \")\n",
    "data['stage_1'] = data['stage_1'].str.replace(\" gov\", \" government \")\n",
    "data['stage_1'] = data['stage_1'].str.replace(\" govt \", \"government\")\n",
    "data['stage_1'] = data['stage_1'].str.replace(\"govt\", \"government\")\n",
    "data['stage_1'] = data['stage_1'].str.replace(\" govt\", \"government\")\n",
    "data['stage_1'] = data['stage_1'].str.replace(\"govt \", \"government\")\n",
    "data['stage_1'] = data['stage_1'].str.replace(\"gvt\", \"government\")\n",
    "data['stage_1'] = data['stage_1'].str.replace(\" gvt \", \"government\")\n",
    "data['stage_1'] = data['stage_1'].str.replace(\" gvt\", \"government\")\n",
    "data['stage_1'] = data['stage_1'].str.replace(\"gvt \", \"government\")"
   ]
  },
  {
   "cell_type": "raw",
   "metadata": {},
   "source": [
    "data.loc[data['stage_1'].str.contains('pravit')]"
   ]
  },
  {
   "cell_type": "code",
   "execution_count": 38,
   "metadata": {},
   "outputs": [],
   "source": [
    "data['Employer_type'] = data.apply(lambda x: 'government' if \"government\" in  x['stage_1'] else x['Employer_type'], axis=1)"
   ]
  },
  {
   "cell_type": "code",
   "execution_count": 39,
   "metadata": {},
   "outputs": [],
   "source": [
    "data_df = data"
   ]
  },
  {
   "cell_type": "code",
   "execution_count": 40,
   "metadata": {},
   "outputs": [
    {
     "data": {
      "text/html": [
       "<div>\n",
       "<style scoped>\n",
       "    .dataframe tbody tr th:only-of-type {\n",
       "        vertical-align: middle;\n",
       "    }\n",
       "\n",
       "    .dataframe tbody tr th {\n",
       "        vertical-align: top;\n",
       "    }\n",
       "\n",
       "    .dataframe thead th {\n",
       "        text-align: right;\n",
       "    }\n",
       "</style>\n",
       "<table border=\"1\" class=\"dataframe\">\n",
       "  <thead>\n",
       "    <tr style=\"text-align: right;\">\n",
       "      <th></th>\n",
       "      <th>PROSPECTID</th>\n",
       "      <th>EMPLOYMENTTYPE</th>\n",
       "      <th>EMPLOYERNAME</th>\n",
       "      <th>Years in Curr Empl</th>\n",
       "      <th>stage_1</th>\n",
       "      <th>Employer_type</th>\n",
       "    </tr>\n",
       "  </thead>\n",
       "  <tbody>\n",
       "    <tr>\n",
       "      <th>0</th>\n",
       "      <td>3078CD0004450</td>\n",
       "      <td>SELF-EMPLOYED</td>\n",
       "      <td>SAHIL TELECOM</td>\n",
       "      <td>6</td>\n",
       "      <td>sahil telecom</td>\n",
       "      <td>no</td>\n",
       "    </tr>\n",
       "    <tr>\n",
       "      <th>1</th>\n",
       "      <td>3078CD0004016</td>\n",
       "      <td>SELF-EMPLOYED</td>\n",
       "      <td>FRUIT AND VEGETABLES SHOP</td>\n",
       "      <td>6</td>\n",
       "      <td>fruit and vegetables shop</td>\n",
       "      <td>no</td>\n",
       "    </tr>\n",
       "    <tr>\n",
       "      <th>2</th>\n",
       "      <td>3054CD0003543</td>\n",
       "      <td>SELF-EMPLOYED</td>\n",
       "      <td>SAHANARA STORES</td>\n",
       "      <td>5</td>\n",
       "      <td>sahanara stores</td>\n",
       "      <td>no</td>\n",
       "    </tr>\n",
       "    <tr>\n",
       "      <th>3</th>\n",
       "      <td>3000CD0003431</td>\n",
       "      <td>SALARIED</td>\n",
       "      <td>SURESH BABU</td>\n",
       "      <td>4</td>\n",
       "      <td>suresh babu</td>\n",
       "      <td>no</td>\n",
       "    </tr>\n",
       "    <tr>\n",
       "      <th>4</th>\n",
       "      <td>3006CD0001457</td>\n",
       "      <td>SELF-EMPLOYED</td>\n",
       "      <td>Bazer store</td>\n",
       "      <td>4</td>\n",
       "      <td>bazer store</td>\n",
       "      <td>no</td>\n",
       "    </tr>\n",
       "  </tbody>\n",
       "</table>\n",
       "</div>"
      ],
      "text/plain": [
       "      PROSPECTID EMPLOYMENTTYPE               EMPLOYERNAME  \\\n",
       "0  3078CD0004450  SELF-EMPLOYED              SAHIL TELECOM   \n",
       "1  3078CD0004016  SELF-EMPLOYED  FRUIT AND VEGETABLES SHOP   \n",
       "2  3054CD0003543  SELF-EMPLOYED            SAHANARA STORES   \n",
       "3  3000CD0003431       SALARIED                SURESH BABU   \n",
       "4  3006CD0001457  SELF-EMPLOYED                Bazer store   \n",
       "\n",
       "   Years in Curr Empl                    stage_1 Employer_type  \n",
       "0                   6              sahil telecom            no  \n",
       "1                   6  fruit and vegetables shop            no  \n",
       "2                   5            sahanara stores            no  \n",
       "3                   4                suresh babu            no  \n",
       "4                   4                bazer store            no  "
      ]
     },
     "execution_count": 40,
     "metadata": {},
     "output_type": "execute_result"
    }
   ],
   "source": [
    "data_df.head()"
   ]
  },
  {
   "cell_type": "code",
   "execution_count": 41,
   "metadata": {},
   "outputs": [],
   "source": [
    "uni_data  = pd.DataFrame(data_df.stage_1.unique(), columns=['stage_1'])"
   ]
  },
  {
   "cell_type": "raw",
   "metadata": {},
   "source": [
    "uni_data = uni_data.head(100)"
   ]
  },
  {
   "cell_type": "code",
   "execution_count": 20,
   "metadata": {},
   "outputs": [],
   "source": [
    "def spell_chk(row):\n",
    "    spell = SpellChecker()\n",
    "    test = row['stage_1'].split()\n",
    "    for i in range(len(test)):\n",
    "        if not isinstance(i, int):\n",
    "            \n",
    "            sp = spell.unknown([test[i]])\n",
    "            if len(sp) == 0:\n",
    "                test[i] = test[i] \n",
    "            else:\n",
    "                test[i] = str(spell.correction(i))\n",
    "        else:\n",
    "            test[i] = test[i]\n",
    "            \n",
    "    print(row.name)\n",
    "    row['spelling_corrected'] = ' '.join(test)\n",
    "    return row #' '.join(test)"
   ]
  },
  {
   "cell_type": "code",
   "execution_count": null,
   "metadata": {},
   "outputs": [
    {
     "name": "stdout",
     "output_type": "stream",
     "text": [
      "0\n",
      "0\n",
      "1\n"
     ]
    }
   ],
   "source": [
    "from dask import dataframe as dd\n",
    "from dask.multiprocessing import get\n",
    "from multiprocessing import cpu_count\n",
    "\n",
    "cores = cpu_count()-1\n",
    "\n",
    "uni_data = dd.from_pandas(uni_data,npartitions=cores).\\\n",
    "   map_partitions(\n",
    "      lambda df : df.apply(\n",
    "         lambda x : spell_chk(x),axis=1)).\\\n",
    "   compute(scheduler=get)"
   ]
  },
  {
   "cell_type": "code",
   "execution_count": 23,
   "metadata": {},
   "outputs": [
    {
     "data": {
      "text/html": [
       "<div>\n",
       "<style scoped>\n",
       "    .dataframe tbody tr th:only-of-type {\n",
       "        vertical-align: middle;\n",
       "    }\n",
       "\n",
       "    .dataframe tbody tr th {\n",
       "        vertical-align: top;\n",
       "    }\n",
       "\n",
       "    .dataframe thead th {\n",
       "        text-align: right;\n",
       "    }\n",
       "</style>\n",
       "<table border=\"1\" class=\"dataframe\">\n",
       "  <thead>\n",
       "    <tr style=\"text-align: right;\">\n",
       "      <th></th>\n",
       "      <th>stage_1</th>\n",
       "      <th>spelling_corrected</th>\n",
       "    </tr>\n",
       "  </thead>\n",
       "  <tbody>\n",
       "    <tr>\n",
       "      <th>0</th>\n",
       "      <td>sahil telecom</td>\n",
       "      <td>sahil telecom</td>\n",
       "    </tr>\n",
       "    <tr>\n",
       "      <th>1</th>\n",
       "      <td>fruit and vegetables shop</td>\n",
       "      <td>fruit and vegetables shop</td>\n",
       "    </tr>\n",
       "    <tr>\n",
       "      <th>2</th>\n",
       "      <td>sahanara stores</td>\n",
       "      <td>sahanara stores</td>\n",
       "    </tr>\n",
       "    <tr>\n",
       "      <th>3</th>\n",
       "      <td>suresh babu</td>\n",
       "      <td>suresh babu</td>\n",
       "    </tr>\n",
       "    <tr>\n",
       "      <th>4</th>\n",
       "      <td>bazer store</td>\n",
       "      <td>bazer store</td>\n",
       "    </tr>\n",
       "    <tr>\n",
       "      <th>5</th>\n",
       "      <td>mechanic</td>\n",
       "      <td>mechanic</td>\n",
       "    </tr>\n",
       "    <tr>\n",
       "      <th>6</th>\n",
       "      <td>rice mill</td>\n",
       "      <td>rice mill</td>\n",
       "    </tr>\n",
       "    <tr>\n",
       "      <th>7</th>\n",
       "      <td>rashni lottery center</td>\n",
       "      <td>rashni lottery center</td>\n",
       "    </tr>\n",
       "    <tr>\n",
       "      <th>8</th>\n",
       "      <td>pravit teacher</td>\n",
       "      <td>pravit teacher</td>\n",
       "    </tr>\n",
       "    <tr>\n",
       "      <th>9</th>\n",
       "      <td>baba biswakarmakar service cen</td>\n",
       "      <td>baba biswakarmakar service cen</td>\n",
       "    </tr>\n",
       "    <tr>\n",
       "      <th>10</th>\n",
       "      <td>harshini taxtyle limited</td>\n",
       "      <td>harshini taxtyle limited</td>\n",
       "    </tr>\n",
       "    <tr>\n",
       "      <th>11</th>\n",
       "      <td>grocery shop</td>\n",
       "      <td>grocery shop</td>\n",
       "    </tr>\n",
       "    <tr>\n",
       "      <th>12</th>\n",
       "      <td>helth clerk</td>\n",
       "      <td>helth clerk</td>\n",
       "    </tr>\n",
       "    <tr>\n",
       "      <th>13</th>\n",
       "      <td>sen enterprise private limited</td>\n",
       "      <td>sen enterprise private limited</td>\n",
       "    </tr>\n",
       "    <tr>\n",
       "      <th>14</th>\n",
       "      <td>naskar stores</td>\n",
       "      <td>naskar stores</td>\n",
       "    </tr>\n",
       "    <tr>\n",
       "      <th>15</th>\n",
       "      <td>icdslimited</td>\n",
       "      <td>icdslimited</td>\n",
       "    </tr>\n",
       "    <tr>\n",
       "      <th>16</th>\n",
       "      <td>molla stores</td>\n",
       "      <td>molla stores</td>\n",
       "    </tr>\n",
       "    <tr>\n",
       "      <th>17</th>\n",
       "      <td>dhali stores</td>\n",
       "      <td>dhali stores</td>\n",
       "    </tr>\n",
       "    <tr>\n",
       "      <th>18</th>\n",
       "      <td>gazi stores</td>\n",
       "      <td>gazi stores</td>\n",
       "    </tr>\n",
       "    <tr>\n",
       "      <th>19</th>\n",
       "      <td>chakraborty transport</td>\n",
       "      <td>chakraborty transport</td>\n",
       "    </tr>\n",
       "    <tr>\n",
       "      <th>20</th>\n",
       "      <td>sukhan tee</td>\n",
       "      <td>sukhan tee</td>\n",
       "    </tr>\n",
       "    <tr>\n",
       "      <th>21</th>\n",
       "      <td>khan stores</td>\n",
       "      <td>khan stores</td>\n",
       "    </tr>\n",
       "    <tr>\n",
       "      <th>22</th>\n",
       "      <td>sujit kumar jha</td>\n",
       "      <td>sujit kumar jha</td>\n",
       "    </tr>\n",
       "    <tr>\n",
       "      <th>23</th>\n",
       "      <td>ssteem coir</td>\n",
       "      <td>ssteem coir</td>\n",
       "    </tr>\n",
       "    <tr>\n",
       "      <th>24</th>\n",
       "      <td>gd travals</td>\n",
       "      <td>gd travals</td>\n",
       "    </tr>\n",
       "    <tr>\n",
       "      <th>25</th>\n",
       "      <td>srishti stor hardware shop</td>\n",
       "      <td>srishti stor hardware shop</td>\n",
       "    </tr>\n",
       "    <tr>\n",
       "      <th>26</th>\n",
       "      <td>kanika cloth store</td>\n",
       "      <td>kanika cloth store</td>\n",
       "    </tr>\n",
       "    <tr>\n",
       "      <th>27</th>\n",
       "      <td>karthi maligai shop</td>\n",
       "      <td>karthi maligai shop</td>\n",
       "    </tr>\n",
       "    <tr>\n",
       "      <th>28</th>\n",
       "      <td>sun government ernment  engineering private li...</td>\n",
       "      <td>sun government ernment engineering private lim...</td>\n",
       "    </tr>\n",
       "    <tr>\n",
       "      <th>29</th>\n",
       "      <td>bulding contractor</td>\n",
       "      <td>bulding contractor</td>\n",
       "    </tr>\n",
       "    <tr>\n",
       "      <th>...</th>\n",
       "      <td>...</td>\n",
       "      <td>...</td>\n",
       "    </tr>\n",
       "    <tr>\n",
       "      <th>70</th>\n",
       "      <td>bio science health care</td>\n",
       "      <td>bio science health care</td>\n",
       "    </tr>\n",
       "    <tr>\n",
       "      <th>71</th>\n",
       "      <td>finance</td>\n",
       "      <td>finance</td>\n",
       "    </tr>\n",
       "    <tr>\n",
       "      <th>72</th>\n",
       "      <td>das enterprise</td>\n",
       "      <td>das enterprise</td>\n",
       "    </tr>\n",
       "    <tr>\n",
       "      <th>73</th>\n",
       "      <td>painting contractor</td>\n",
       "      <td>painting contractor</td>\n",
       "    </tr>\n",
       "    <tr>\n",
       "      <th>74</th>\n",
       "      <td>laxmi bhander</td>\n",
       "      <td>laxmi bhander</td>\n",
       "    </tr>\n",
       "    <tr>\n",
       "      <th>75</th>\n",
       "      <td>eastern coalfiled limited</td>\n",
       "      <td>eastern coalfiled limited</td>\n",
       "    </tr>\n",
       "    <tr>\n",
       "      <th>76</th>\n",
       "      <td>ram man power agencies</td>\n",
       "      <td>ram man power agencies</td>\n",
       "    </tr>\n",
       "    <tr>\n",
       "      <th>77</th>\n",
       "      <td>axis banklimited</td>\n",
       "      <td>axis banklimited</td>\n",
       "    </tr>\n",
       "    <tr>\n",
       "      <th>78</th>\n",
       "      <td>maruthi cement</td>\n",
       "      <td>maruthi cement</td>\n",
       "    </tr>\n",
       "    <tr>\n",
       "      <th>79</th>\n",
       "      <td>backing cottan counteract</td>\n",
       "      <td>backing cottan counteract</td>\n",
       "    </tr>\n",
       "    <tr>\n",
       "      <th>80</th>\n",
       "      <td>biswas vander</td>\n",
       "      <td>biswas vander</td>\n",
       "    </tr>\n",
       "    <tr>\n",
       "      <th>81</th>\n",
       "      <td>sekh kalimuddin</td>\n",
       "      <td>sekh kalimuddin</td>\n",
       "    </tr>\n",
       "    <tr>\n",
       "      <th>82</th>\n",
       "      <td>kollol electronics</td>\n",
       "      <td>kollol electronics</td>\n",
       "    </tr>\n",
       "    <tr>\n",
       "      <th>83</th>\n",
       "      <td>self tailoring</td>\n",
       "      <td>self tailoring</td>\n",
       "    </tr>\n",
       "    <tr>\n",
       "      <th>84</th>\n",
       "      <td>laxmi hardware store</td>\n",
       "      <td>laxmi hardware store</td>\n",
       "    </tr>\n",
       "    <tr>\n",
       "      <th>85</th>\n",
       "      <td>seematti readymades</td>\n",
       "      <td>seematti readymades</td>\n",
       "    </tr>\n",
       "    <tr>\n",
       "      <th>86</th>\n",
       "      <td>patra enterprise</td>\n",
       "      <td>patra enterprise</td>\n",
       "    </tr>\n",
       "    <tr>\n",
       "      <th>87</th>\n",
       "      <td>pal stores</td>\n",
       "      <td>pal stores</td>\n",
       "    </tr>\n",
       "    <tr>\n",
       "      <th>88</th>\n",
       "      <td>central bank of india</td>\n",
       "      <td>central bank of india</td>\n",
       "    </tr>\n",
       "    <tr>\n",
       "      <th>89</th>\n",
       "      <td>data metrics</td>\n",
       "      <td>data metrics</td>\n",
       "    </tr>\n",
       "    <tr>\n",
       "      <th>90</th>\n",
       "      <td>ma kali sabgi bhander</td>\n",
       "      <td>ma kali sabgi bhander</td>\n",
       "    </tr>\n",
       "    <tr>\n",
       "      <th>91</th>\n",
       "      <td>mariya ship works</td>\n",
       "      <td>mariya ship works</td>\n",
       "    </tr>\n",
       "    <tr>\n",
       "      <th>92</th>\n",
       "      <td>readymade garments</td>\n",
       "      <td>readymade garments</td>\n",
       "    </tr>\n",
       "    <tr>\n",
       "      <th>93</th>\n",
       "      <td>suvitha talents</td>\n",
       "      <td>suvitha talents</td>\n",
       "    </tr>\n",
       "    <tr>\n",
       "      <th>94</th>\n",
       "      <td>best hospital</td>\n",
       "      <td>best hospital</td>\n",
       "    </tr>\n",
       "    <tr>\n",
       "      <th>95</th>\n",
       "      <td>m/s mojahid molla</td>\n",
       "      <td>m/s mojahid molla</td>\n",
       "    </tr>\n",
       "    <tr>\n",
       "      <th>96</th>\n",
       "      <td>om sakthi furnitures and elect</td>\n",
       "      <td>om sakthi furnitures and elect</td>\n",
       "    </tr>\n",
       "    <tr>\n",
       "      <th>97</th>\n",
       "      <td>habibur rahaman</td>\n",
       "      <td>habibur rahaman</td>\n",
       "    </tr>\n",
       "    <tr>\n",
       "      <th>98</th>\n",
       "      <td>jyotsna centaring house</td>\n",
       "      <td>jyotsna centaring house</td>\n",
       "    </tr>\n",
       "    <tr>\n",
       "      <th>99</th>\n",
       "      <td>smart value product and servic</td>\n",
       "      <td>smart value product and servic</td>\n",
       "    </tr>\n",
       "  </tbody>\n",
       "</table>\n",
       "<p>100 rows × 2 columns</p>\n",
       "</div>"
      ],
      "text/plain": [
       "                                              stage_1  \\\n",
       "0                                       sahil telecom   \n",
       "1                           fruit and vegetables shop   \n",
       "2                                     sahanara stores   \n",
       "3                                         suresh babu   \n",
       "4                                         bazer store   \n",
       "5                                            mechanic   \n",
       "6                                           rice mill   \n",
       "7                               rashni lottery center   \n",
       "8                                      pravit teacher   \n",
       "9                      baba biswakarmakar service cen   \n",
       "10                           harshini taxtyle limited   \n",
       "11                                       grocery shop   \n",
       "12                                        helth clerk   \n",
       "13                     sen enterprise private limited   \n",
       "14                                      naskar stores   \n",
       "15                                        icdslimited   \n",
       "16                                       molla stores   \n",
       "17                                       dhali stores   \n",
       "18                                        gazi stores   \n",
       "19                              chakraborty transport   \n",
       "20                                         sukhan tee   \n",
       "21                                        khan stores   \n",
       "22                                    sujit kumar jha   \n",
       "23                                        ssteem coir   \n",
       "24                                         gd travals   \n",
       "25                         srishti stor hardware shop   \n",
       "26                                 kanika cloth store   \n",
       "27                                karthi maligai shop   \n",
       "28  sun government ernment  engineering private li...   \n",
       "29                                 bulding contractor   \n",
       "..                                                ...   \n",
       "70                            bio science health care   \n",
       "71                                            finance   \n",
       "72                                     das enterprise   \n",
       "73                                painting contractor   \n",
       "74                                      laxmi bhander   \n",
       "75                          eastern coalfiled limited   \n",
       "76                             ram man power agencies   \n",
       "77                                   axis banklimited   \n",
       "78                                     maruthi cement   \n",
       "79                         backing cottan counteract    \n",
       "80                                      biswas vander   \n",
       "81                                    sekh kalimuddin   \n",
       "82                                 kollol electronics   \n",
       "83                                     self tailoring   \n",
       "84                               laxmi hardware store   \n",
       "85                                seematti readymades   \n",
       "86                                   patra enterprise   \n",
       "87                                         pal stores   \n",
       "88                              central bank of india   \n",
       "89                                       data metrics   \n",
       "90                              ma kali sabgi bhander   \n",
       "91                                  mariya ship works   \n",
       "92                                 readymade garments   \n",
       "93                                    suvitha talents   \n",
       "94                                      best hospital   \n",
       "95                                  m/s mojahid molla   \n",
       "96                     om sakthi furnitures and elect   \n",
       "97                                    habibur rahaman   \n",
       "98                            jyotsna centaring house   \n",
       "99                     smart value product and servic   \n",
       "\n",
       "                                   spelling_corrected  \n",
       "0                                       sahil telecom  \n",
       "1                           fruit and vegetables shop  \n",
       "2                                     sahanara stores  \n",
       "3                                         suresh babu  \n",
       "4                                         bazer store  \n",
       "5                                            mechanic  \n",
       "6                                           rice mill  \n",
       "7                               rashni lottery center  \n",
       "8                                      pravit teacher  \n",
       "9                      baba biswakarmakar service cen  \n",
       "10                           harshini taxtyle limited  \n",
       "11                                       grocery shop  \n",
       "12                                        helth clerk  \n",
       "13                     sen enterprise private limited  \n",
       "14                                      naskar stores  \n",
       "15                                        icdslimited  \n",
       "16                                       molla stores  \n",
       "17                                       dhali stores  \n",
       "18                                        gazi stores  \n",
       "19                              chakraborty transport  \n",
       "20                                         sukhan tee  \n",
       "21                                        khan stores  \n",
       "22                                    sujit kumar jha  \n",
       "23                                        ssteem coir  \n",
       "24                                         gd travals  \n",
       "25                         srishti stor hardware shop  \n",
       "26                                 kanika cloth store  \n",
       "27                                karthi maligai shop  \n",
       "28  sun government ernment engineering private lim...  \n",
       "29                                 bulding contractor  \n",
       "..                                                ...  \n",
       "70                            bio science health care  \n",
       "71                                            finance  \n",
       "72                                     das enterprise  \n",
       "73                                painting contractor  \n",
       "74                                      laxmi bhander  \n",
       "75                          eastern coalfiled limited  \n",
       "76                             ram man power agencies  \n",
       "77                                   axis banklimited  \n",
       "78                                     maruthi cement  \n",
       "79                          backing cottan counteract  \n",
       "80                                      biswas vander  \n",
       "81                                    sekh kalimuddin  \n",
       "82                                 kollol electronics  \n",
       "83                                     self tailoring  \n",
       "84                               laxmi hardware store  \n",
       "85                                seematti readymades  \n",
       "86                                   patra enterprise  \n",
       "87                                         pal stores  \n",
       "88                              central bank of india  \n",
       "89                                       data metrics  \n",
       "90                              ma kali sabgi bhander  \n",
       "91                                  mariya ship works  \n",
       "92                                 readymade garments  \n",
       "93                                    suvitha talents  \n",
       "94                                      best hospital  \n",
       "95                                  m/s mojahid molla  \n",
       "96                     om sakthi furnitures and elect  \n",
       "97                                    habibur rahaman  \n",
       "98                            jyotsna centaring house  \n",
       "99                     smart value product and servic  \n",
       "\n",
       "[100 rows x 2 columns]"
      ]
     },
     "execution_count": 23,
     "metadata": {},
     "output_type": "execute_result"
    }
   ],
   "source": [
    "uni_data"
   ]
  },
  {
   "cell_type": "raw",
   "metadata": {},
   "source": [
    "data['spelling_corrected'] = data.apply(spell_chk, axis=1)"
   ]
  },
  {
   "cell_type": "code",
   "execution_count": 16,
   "metadata": {},
   "outputs": [],
   "source": [
    "import os\n",
    "os.environ[\"OPENBLAS_MAIN_FREE\"] = \"1\"\n",
    "\n",
    "import multiprocessing\n",
    "import pandas as pd\n",
    "import numpy as np\n",
    "from multiprocessing import Pool\n",
    "num_partitions = multiprocessing.cpu_count()\n",
    "num_cores = multiprocessing.cpu_count()"
   ]
  },
  {
   "cell_type": "code",
   "execution_count": 17,
   "metadata": {},
   "outputs": [],
   "source": [
    "def parallelize_dataframe(df, func):\n",
    "    df_split = np.array_split(df, num_partitions)\n",
    "    pool = Pool(num_cores-1)\n",
    "    df = pd.concat(pool.map(func, df_split))\n",
    "    pool.close()\n",
    "    pool.join()\n",
    "    return df"
   ]
  },
  {
   "cell_type": "code",
   "execution_count": null,
   "metadata": {},
   "outputs": [],
   "source": [
    "final_data = parallelize_dataframe(data_df, spell_chk)"
   ]
  },
  {
   "cell_type": "code",
   "execution_count": 7,
   "metadata": {},
   "outputs": [
    {
     "name": "stdout",
     "output_type": "stream",
     "text": [
      "showing info https://raw.githubusercontent.com/nltk/nltk_data/gh-pages/index.xml\n"
     ]
    },
    {
     "data": {
      "text/plain": [
       "'Io to the beach with my .'"
      ]
     },
     "execution_count": 7,
     "metadata": {},
     "output_type": "execute_result"
    }
   ],
   "source": [
    "import nltk\n",
    "nltk.download()"
   ]
  },
  {
   "cell_type": "code",
   "execution_count": 9,
   "metadata": {},
   "outputs": [
    {
     "data": {
      "text/plain": [
       "'happening'"
      ]
     },
     "execution_count": 9,
     "metadata": {},
     "output_type": "execute_result"
    }
   ],
   "source": [
    "words = set(nltk.corpus.words.words())\n",
    "\n",
    "sent = \"Gmmco Ltd happening\"\n",
    "\" \".join(w for w in nltk.wordpunct_tokenize(sent) \\\n",
    "         if w.lower() in words or not w.isalpha())"
   ]
  },
  {
   "cell_type": "code",
   "execution_count": null,
   "metadata": {},
   "outputs": [],
   "source": []
  },
  {
   "cell_type": "code",
   "execution_count": 78,
   "metadata": {},
   "outputs": [
    {
     "name": "stdout",
     "output_type": "stream",
     "text": [
      "bazer\n",
      "baker\n",
      "15\n"
     ]
    }
   ],
   "source": [
    "spell = SpellChecker()\n",
    "\n",
    "# find those words that may be misspelled\n",
    "misspelled = spell.unknown(['Bazer', 'store'])\n",
    "\n",
    "for word in misspelled:\n",
    "    print(word)\n",
    "    # Get the one `most likely` answer\n",
    "    print(spell.correction(word))\n",
    "    # Get a list of `likely` options\n",
    "    print(len(spell.candidates(word)))"
   ]
  },
  {
   "cell_type": "code",
   "execution_count": 29,
   "metadata": {},
   "outputs": [
    {
     "name": "stdout",
     "output_type": "stream",
     "text": [
      "geeks private limited\n"
     ]
    }
   ],
   "source": [
    "print(\"geeks pvt ltd\".replace(\" pvt ltd\", \" private limited\")) "
   ]
  },
  {
   "cell_type": "code",
   "execution_count": 71,
   "metadata": {},
   "outputs": [
    {
     "data": {
      "text/plain": [
       "['geeks', 'pvt', 'ltd']"
      ]
     },
     "execution_count": 71,
     "metadata": {},
     "output_type": "execute_result"
    }
   ],
   "source": [
    "\"geeks pvt ltd\".split()"
   ]
  },
  {
   "cell_type": "code",
   "execution_count": 26,
   "metadata": {},
   "outputs": [
    {
     "data": {
      "text/plain": [
       "'profit'"
      ]
     },
     "execution_count": 26,
     "metadata": {},
     "output_type": "execute_result"
    }
   ],
   "source": [
    "spell.correction('pravit')"
   ]
  },
  {
   "cell_type": "code",
   "execution_count": 37,
   "metadata": {},
   "outputs": [
    {
     "data": {
      "text/plain": [
       "{'granite',\n",
       " 'gravity',\n",
       " 'kravitz',\n",
       " 'parasite',\n",
       " 'pavitt',\n",
       " 'praise',\n",
       " 'private',\n",
       " 'privity',\n",
       " 'provide',\n",
       " 'ravine'}"
      ]
     },
     "execution_count": 37,
     "metadata": {},
     "output_type": "execute_result"
    }
   ],
   "source": [
    "spell.candidates('pravite')"
   ]
  },
  {
   "cell_type": "code",
   "execution_count": 80,
   "metadata": {},
   "outputs": [
    {
     "data": {
      "text/plain": [
       "{'store'}"
      ]
     },
     "execution_count": 80,
     "metadata": {},
     "output_type": "execute_result"
    }
   ],
   "source": [
    "spell.known(['Bazer', 'store'])"
   ]
  },
  {
   "cell_type": "code",
   "execution_count": 25,
   "metadata": {},
   "outputs": [
    {
     "name": "stdout",
     "output_type": "stream",
     "text": [
      "{'pravit'}\n"
     ]
    },
    {
     "ename": "AttributeError",
     "evalue": "'int' object has no attribute 'lower'",
     "output_type": "error",
     "traceback": [
      "\u001b[1;31m---------------------------------------------------------------------------\u001b[0m",
      "\u001b[1;31mAttributeError\u001b[0m                            Traceback (most recent call last)",
      "\u001b[1;32m<ipython-input-25-22a67e1f337e>\u001b[0m in \u001b[0;36m<module>\u001b[1;34m\u001b[0m\n\u001b[0;32m      9\u001b[0m         \u001b[0mtest\u001b[0m\u001b[1;33m[\u001b[0m\u001b[0mi\u001b[0m\u001b[1;33m]\u001b[0m \u001b[1;33m=\u001b[0m \u001b[0mtest\u001b[0m\u001b[1;33m[\u001b[0m\u001b[0mi\u001b[0m\u001b[1;33m]\u001b[0m\u001b[1;33m\u001b[0m\u001b[1;33m\u001b[0m\u001b[0m\n\u001b[0;32m     10\u001b[0m     \u001b[1;32melse\u001b[0m\u001b[1;33m:\u001b[0m\u001b[1;33m\u001b[0m\u001b[1;33m\u001b[0m\u001b[0m\n\u001b[1;32m---> 11\u001b[1;33m         \u001b[0mtest\u001b[0m\u001b[1;33m[\u001b[0m\u001b[0mi\u001b[0m\u001b[1;33m]\u001b[0m \u001b[1;33m=\u001b[0m \u001b[0mstr\u001b[0m\u001b[1;33m(\u001b[0m\u001b[0mspell\u001b[0m\u001b[1;33m.\u001b[0m\u001b[0mcorrection\u001b[0m\u001b[1;33m(\u001b[0m\u001b[0mi\u001b[0m\u001b[1;33m)\u001b[0m\u001b[1;33m)\u001b[0m\u001b[1;33m\u001b[0m\u001b[1;33m\u001b[0m\u001b[0m\n\u001b[0m\u001b[0;32m     12\u001b[0m \u001b[1;33m\u001b[0m\u001b[0m\n\u001b[0;32m     13\u001b[0m \u001b[0mtest\u001b[0m \u001b[1;33m=\u001b[0m \u001b[1;34m' '\u001b[0m\u001b[1;33m.\u001b[0m\u001b[0mjoin\u001b[0m\u001b[1;33m(\u001b[0m\u001b[0mtest\u001b[0m\u001b[1;33m)\u001b[0m\u001b[1;33m\u001b[0m\u001b[1;33m\u001b[0m\u001b[0m\n",
      "\u001b[1;32m~\\AppData\\Local\\Continuum\\anaconda3\\envs\\trainingenv\\lib\\site-packages\\spellchecker\\spellchecker.py\u001b[0m in \u001b[0;36mcorrection\u001b[1;34m(self, word)\u001b[0m\n\u001b[0;32m    123\u001b[0m             \u001b[0mReturns\u001b[0m\u001b[1;33m:\u001b[0m\u001b[1;33m\u001b[0m\u001b[1;33m\u001b[0m\u001b[0m\n\u001b[0;32m    124\u001b[0m                 str: The most likely candidate \"\"\"\n\u001b[1;32m--> 125\u001b[1;33m         \u001b[1;32mreturn\u001b[0m \u001b[0mmax\u001b[0m\u001b[1;33m(\u001b[0m\u001b[0mself\u001b[0m\u001b[1;33m.\u001b[0m\u001b[0mcandidates\u001b[0m\u001b[1;33m(\u001b[0m\u001b[0mword\u001b[0m\u001b[1;33m)\u001b[0m\u001b[1;33m,\u001b[0m \u001b[0mkey\u001b[0m\u001b[1;33m=\u001b[0m\u001b[0mself\u001b[0m\u001b[1;33m.\u001b[0m\u001b[0mword_probability\u001b[0m\u001b[1;33m)\u001b[0m\u001b[1;33m\u001b[0m\u001b[1;33m\u001b[0m\u001b[0m\n\u001b[0m\u001b[0;32m    126\u001b[0m \u001b[1;33m\u001b[0m\u001b[0m\n\u001b[0;32m    127\u001b[0m     \u001b[1;32mdef\u001b[0m \u001b[0mcandidates\u001b[0m\u001b[1;33m(\u001b[0m\u001b[0mself\u001b[0m\u001b[1;33m,\u001b[0m \u001b[0mword\u001b[0m\u001b[1;33m)\u001b[0m\u001b[1;33m:\u001b[0m\u001b[1;33m\u001b[0m\u001b[1;33m\u001b[0m\u001b[0m\n",
      "\u001b[1;32m~\\AppData\\Local\\Continuum\\anaconda3\\envs\\trainingenv\\lib\\site-packages\\spellchecker\\spellchecker.py\u001b[0m in \u001b[0;36mcandidates\u001b[1;34m(self, word)\u001b[0m\n\u001b[0;32m    133\u001b[0m             \u001b[0mReturns\u001b[0m\u001b[1;33m:\u001b[0m\u001b[1;33m\u001b[0m\u001b[1;33m\u001b[0m\u001b[0m\n\u001b[0;32m    134\u001b[0m                 set: The set of words that are possible candidates \"\"\"\n\u001b[1;32m--> 135\u001b[1;33m         \u001b[1;32mif\u001b[0m \u001b[0mself\u001b[0m\u001b[1;33m.\u001b[0m\u001b[0mknown\u001b[0m\u001b[1;33m(\u001b[0m\u001b[1;33m[\u001b[0m\u001b[0mword\u001b[0m\u001b[1;33m]\u001b[0m\u001b[1;33m)\u001b[0m\u001b[1;33m:\u001b[0m  \u001b[1;31m# short-cut if word is correct already\u001b[0m\u001b[1;33m\u001b[0m\u001b[1;33m\u001b[0m\u001b[0m\n\u001b[0m\u001b[0;32m    136\u001b[0m             \u001b[1;32mreturn\u001b[0m \u001b[1;33m{\u001b[0m\u001b[0mword\u001b[0m\u001b[1;33m}\u001b[0m\u001b[1;33m\u001b[0m\u001b[1;33m\u001b[0m\u001b[0m\n\u001b[0;32m    137\u001b[0m         \u001b[1;31m# get edit distance 1...\u001b[0m\u001b[1;33m\u001b[0m\u001b[1;33m\u001b[0m\u001b[1;33m\u001b[0m\u001b[0m\n",
      "\u001b[1;32m~\\AppData\\Local\\Continuum\\anaconda3\\envs\\trainingenv\\lib\\site-packages\\spellchecker\\spellchecker.py\u001b[0m in \u001b[0;36mknown\u001b[1;34m(self, words)\u001b[0m\n\u001b[0;32m    156\u001b[0m                 \u001b[0mset\u001b[0m\u001b[1;33m:\u001b[0m \u001b[0mThe\u001b[0m \u001b[0mset\u001b[0m \u001b[0mof\u001b[0m \u001b[0mthose\u001b[0m \u001b[0mwords\u001b[0m \u001b[1;32mfrom\u001b[0m \u001b[0mthe\u001b[0m \u001b[0minput\u001b[0m \u001b[0mthat\u001b[0m \u001b[0mare\u001b[0m \u001b[1;32min\u001b[0m \u001b[0mthe\u001b[0m\u001b[0;31m \u001b[0m\u001b[0;31m\\\u001b[0m\u001b[1;33m\u001b[0m\u001b[1;33m\u001b[0m\u001b[0m\n\u001b[0;32m    157\u001b[0m                 corpus \"\"\"\n\u001b[1;32m--> 158\u001b[1;33m         \u001b[0mtmp\u001b[0m \u001b[1;33m=\u001b[0m \u001b[1;33m[\u001b[0m\u001b[0mw\u001b[0m\u001b[1;33m.\u001b[0m\u001b[0mlower\u001b[0m\u001b[1;33m(\u001b[0m\u001b[1;33m)\u001b[0m \u001b[1;32mfor\u001b[0m \u001b[0mw\u001b[0m \u001b[1;32min\u001b[0m \u001b[0mwords\u001b[0m\u001b[1;33m]\u001b[0m\u001b[1;33m\u001b[0m\u001b[1;33m\u001b[0m\u001b[0m\n\u001b[0m\u001b[0;32m    159\u001b[0m         return set(\n\u001b[0;32m    160\u001b[0m             \u001b[0mw\u001b[0m\u001b[1;33m\u001b[0m\u001b[1;33m\u001b[0m\u001b[0m\n",
      "\u001b[1;32m~\\AppData\\Local\\Continuum\\anaconda3\\envs\\trainingenv\\lib\\site-packages\\spellchecker\\spellchecker.py\u001b[0m in \u001b[0;36m<listcomp>\u001b[1;34m(.0)\u001b[0m\n\u001b[0;32m    156\u001b[0m                 \u001b[0mset\u001b[0m\u001b[1;33m:\u001b[0m \u001b[0mThe\u001b[0m \u001b[0mset\u001b[0m \u001b[0mof\u001b[0m \u001b[0mthose\u001b[0m \u001b[0mwords\u001b[0m \u001b[1;32mfrom\u001b[0m \u001b[0mthe\u001b[0m \u001b[0minput\u001b[0m \u001b[0mthat\u001b[0m \u001b[0mare\u001b[0m \u001b[1;32min\u001b[0m \u001b[0mthe\u001b[0m\u001b[0;31m \u001b[0m\u001b[0;31m\\\u001b[0m\u001b[1;33m\u001b[0m\u001b[1;33m\u001b[0m\u001b[0m\n\u001b[0;32m    157\u001b[0m                 corpus \"\"\"\n\u001b[1;32m--> 158\u001b[1;33m         \u001b[0mtmp\u001b[0m \u001b[1;33m=\u001b[0m \u001b[1;33m[\u001b[0m\u001b[0mw\u001b[0m\u001b[1;33m.\u001b[0m\u001b[0mlower\u001b[0m\u001b[1;33m(\u001b[0m\u001b[1;33m)\u001b[0m \u001b[1;32mfor\u001b[0m \u001b[0mw\u001b[0m \u001b[1;32min\u001b[0m \u001b[0mwords\u001b[0m\u001b[1;33m]\u001b[0m\u001b[1;33m\u001b[0m\u001b[1;33m\u001b[0m\u001b[0m\n\u001b[0m\u001b[0;32m    159\u001b[0m         return set(\n\u001b[0;32m    160\u001b[0m             \u001b[0mw\u001b[0m\u001b[1;33m\u001b[0m\u001b[1;33m\u001b[0m\u001b[0m\n",
      "\u001b[1;31mAttributeError\u001b[0m: 'int' object has no attribute 'lower'"
     ]
    }
   ],
   "source": [
    "spell = SpellChecker()\n",
    "\n",
    "test = \"pravit SHOP\".split()\n",
    "\n",
    "for i in range(len(test)):\n",
    "    sp = spell.unknown([test[i]])\n",
    "    print(sp)\n",
    "    if len(sp) == 0:\n",
    "        test[i] = test[i] \n",
    "    else:\n",
    "        test[i] = str(spell.correction(i))\n",
    "\n",
    "test = ' '.join(test)\n",
    "    \n",
    "    "
   ]
  },
  {
   "cell_type": "code",
   "execution_count": 23,
   "metadata": {},
   "outputs": [
    {
     "data": {
      "text/plain": [
       "'FRUIT AND vegetables SHOP'"
      ]
     },
     "execution_count": 23,
     "metadata": {},
     "output_type": "execute_result"
    }
   ],
   "source": [
    "test"
   ]
  },
  {
   "cell_type": "code",
   "execution_count": 19,
   "metadata": {},
   "outputs": [
    {
     "data": {
      "text/plain": [
       "set()"
      ]
     },
     "execution_count": 19,
     "metadata": {},
     "output_type": "execute_result"
    }
   ],
   "source": []
  }
 ],
 "metadata": {
  "kernelspec": {
   "display_name": "Python 3",
   "language": "python",
   "name": "python3"
  },
  "language_info": {
   "codemirror_mode": {
    "name": "ipython",
    "version": 3
   },
   "file_extension": ".py",
   "mimetype": "text/x-python",
   "name": "python",
   "nbconvert_exporter": "python",
   "pygments_lexer": "ipython3",
   "version": "3.6.7"
  }
 },
 "nbformat": 4,
 "nbformat_minor": 2
}
