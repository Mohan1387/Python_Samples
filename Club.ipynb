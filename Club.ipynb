{
 "cells": [
  {
   "cell_type": "code",
   "execution_count": 1,
   "metadata": {},
   "outputs": [],
   "source": [
    "import pandas as pd\n",
    "import numpy as np\n",
    "import matplotlib.pyplot as plt\n",
    "import seaborn as sb\n",
    "%matplotlib inline"
   ]
  },
  {
   "cell_type": "code",
   "execution_count": 248,
   "metadata": {},
   "outputs": [],
   "source": [
    "train = pd.read_csv(\"data/train.csv\")"
   ]
  },
  {
   "cell_type": "code",
   "execution_count": 249,
   "metadata": {},
   "outputs": [],
   "source": [
    "test = pd.read_csv(\"data/test.csv\")"
   ]
  },
  {
   "cell_type": "code",
   "execution_count": 250,
   "metadata": {},
   "outputs": [
    {
     "data": {
      "text/html": [
       "<div>\n",
       "<style scoped>\n",
       "    .dataframe tbody tr th:only-of-type {\n",
       "        vertical-align: middle;\n",
       "    }\n",
       "\n",
       "    .dataframe tbody tr th {\n",
       "        vertical-align: top;\n",
       "    }\n",
       "\n",
       "    .dataframe thead th {\n",
       "        text-align: right;\n",
       "    }\n",
       "</style>\n",
       "<table border=\"1\" class=\"dataframe\">\n",
       "  <thead>\n",
       "    <tr style=\"text-align: right;\">\n",
       "      <th></th>\n",
       "      <th>reservation_id</th>\n",
       "      <th>booking_date</th>\n",
       "      <th>checkin_date</th>\n",
       "      <th>checkout_date</th>\n",
       "      <th>channel_code</th>\n",
       "      <th>main_product_code</th>\n",
       "      <th>numberofadults</th>\n",
       "      <th>numberofchildren</th>\n",
       "      <th>persontravellingid</th>\n",
       "      <th>resort_region_code</th>\n",
       "      <th>resort_type_code</th>\n",
       "      <th>room_type_booked_code</th>\n",
       "      <th>roomnights</th>\n",
       "      <th>season_holidayed_code</th>\n",
       "      <th>state_code_residence</th>\n",
       "      <th>state_code_resort</th>\n",
       "      <th>total_pax</th>\n",
       "      <th>member_age_buckets</th>\n",
       "      <th>booking_type_code</th>\n",
       "      <th>memberid</th>\n",
       "      <th>cluster_code</th>\n",
       "      <th>reservationstatusid_code</th>\n",
       "      <th>resort_id</th>\n",
       "      <th>amount_spent_per_room_night_scaled</th>\n",
       "    </tr>\n",
       "  </thead>\n",
       "  <tbody>\n",
       "    <tr>\n",
       "      <th>0</th>\n",
       "      <td>07659f3758d8aee27f5a7e2887adeacb67021cb95ada1b...</td>\n",
       "      <td>05/04/2018</td>\n",
       "      <td>05/04/2018</td>\n",
       "      <td>06/04/2018</td>\n",
       "      <td>3</td>\n",
       "      <td>1</td>\n",
       "      <td>2</td>\n",
       "      <td>0</td>\n",
       "      <td>46</td>\n",
       "      <td>3</td>\n",
       "      <td>3</td>\n",
       "      <td>3</td>\n",
       "      <td>1</td>\n",
       "      <td>2.0</td>\n",
       "      <td>7.0</td>\n",
       "      <td>3</td>\n",
       "      <td>3</td>\n",
       "      <td>F</td>\n",
       "      <td>1</td>\n",
       "      <td>3d1539e56495b6991f0a3ef5a61ca3d03ce4fff7380e9a...</td>\n",
       "      <td>F</td>\n",
       "      <td>C</td>\n",
       "      <td>4e07408562bedb8b60ce05c1decfe3ad16b72230967de0...</td>\n",
       "      <td>7.706428</td>\n",
       "    </tr>\n",
       "    <tr>\n",
       "      <th>1</th>\n",
       "      <td>03930f033646d073462b35d411616323597715ac4fc398...</td>\n",
       "      <td>23/01/2015</td>\n",
       "      <td>11/04/2015</td>\n",
       "      <td>16/04/2015</td>\n",
       "      <td>1</td>\n",
       "      <td>1</td>\n",
       "      <td>2</td>\n",
       "      <td>0</td>\n",
       "      <td>46</td>\n",
       "      <td>3</td>\n",
       "      <td>3</td>\n",
       "      <td>4</td>\n",
       "      <td>5</td>\n",
       "      <td>2.0</td>\n",
       "      <td>7.0</td>\n",
       "      <td>5</td>\n",
       "      <td>2</td>\n",
       "      <td>F</td>\n",
       "      <td>1</td>\n",
       "      <td>3d1539e56495b6991f0a3ef5a61ca3d03ce4fff7380e9a...</td>\n",
       "      <td>F</td>\n",
       "      <td>A</td>\n",
       "      <td>39fa9ec190eee7b6f4dff1100d6343e10918d044c75eac...</td>\n",
       "      <td>6.662563</td>\n",
       "    </tr>\n",
       "    <tr>\n",
       "      <th>2</th>\n",
       "      <td>d145a32920e6587ad95bfe299d80c0affa268220535aaf...</td>\n",
       "      <td>28/01/2015</td>\n",
       "      <td>01/02/2015</td>\n",
       "      <td>05/02/2015</td>\n",
       "      <td>1</td>\n",
       "      <td>1</td>\n",
       "      <td>2</td>\n",
       "      <td>0</td>\n",
       "      <td>47</td>\n",
       "      <td>1</td>\n",
       "      <td>5</td>\n",
       "      <td>4</td>\n",
       "      <td>4</td>\n",
       "      <td>2.0</td>\n",
       "      <td>7.0</td>\n",
       "      <td>1</td>\n",
       "      <td>2</td>\n",
       "      <td>F</td>\n",
       "      <td>1</td>\n",
       "      <td>3d1539e56495b6991f0a3ef5a61ca3d03ce4fff7380e9a...</td>\n",
       "      <td>E</td>\n",
       "      <td>A</td>\n",
       "      <td>535fa30d7e25dd8a49f1536779734ec8286108d115da50...</td>\n",
       "      <td>7.871602</td>\n",
       "    </tr>\n",
       "    <tr>\n",
       "      <th>3</th>\n",
       "      <td>cfd77f44811ed62f25a220b53324cdbafc662a4c9e5f04...</td>\n",
       "      <td>02/05/2015</td>\n",
       "      <td>11/06/2015</td>\n",
       "      <td>16/06/2015</td>\n",
       "      <td>1</td>\n",
       "      <td>1</td>\n",
       "      <td>2</td>\n",
       "      <td>2</td>\n",
       "      <td>46</td>\n",
       "      <td>2</td>\n",
       "      <td>2</td>\n",
       "      <td>3</td>\n",
       "      <td>5</td>\n",
       "      <td>2.0</td>\n",
       "      <td>7.0</td>\n",
       "      <td>2</td>\n",
       "      <td>2</td>\n",
       "      <td>F</td>\n",
       "      <td>1</td>\n",
       "      <td>3d1539e56495b6991f0a3ef5a61ca3d03ce4fff7380e9a...</td>\n",
       "      <td>D</td>\n",
       "      <td>A</td>\n",
       "      <td>d4735e3a265e16eee03f59718b9b5d03019c07d8b6c51f...</td>\n",
       "      <td>5.344943</td>\n",
       "    </tr>\n",
       "    <tr>\n",
       "      <th>4</th>\n",
       "      <td>937cff9e4dcfc2459620153dfc8b9962ac22bea67dfb29...</td>\n",
       "      <td>02/09/2015</td>\n",
       "      <td>14/12/2015</td>\n",
       "      <td>19/12/2015</td>\n",
       "      <td>1</td>\n",
       "      <td>1</td>\n",
       "      <td>2</td>\n",
       "      <td>0</td>\n",
       "      <td>46</td>\n",
       "      <td>2</td>\n",
       "      <td>2</td>\n",
       "      <td>4</td>\n",
       "      <td>5</td>\n",
       "      <td>2.0</td>\n",
       "      <td>7.0</td>\n",
       "      <td>2</td>\n",
       "      <td>2</td>\n",
       "      <td>F</td>\n",
       "      <td>1</td>\n",
       "      <td>3d1539e56495b6991f0a3ef5a61ca3d03ce4fff7380e9a...</td>\n",
       "      <td>D</td>\n",
       "      <td>A</td>\n",
       "      <td>d4735e3a265e16eee03f59718b9b5d03019c07d8b6c51f...</td>\n",
       "      <td>7.059346</td>\n",
       "    </tr>\n",
       "  </tbody>\n",
       "</table>\n",
       "</div>"
      ],
      "text/plain": [
       "                                      reservation_id booking_date  \\\n",
       "0  07659f3758d8aee27f5a7e2887adeacb67021cb95ada1b...   05/04/2018   \n",
       "1  03930f033646d073462b35d411616323597715ac4fc398...   23/01/2015   \n",
       "2  d145a32920e6587ad95bfe299d80c0affa268220535aaf...   28/01/2015   \n",
       "3  cfd77f44811ed62f25a220b53324cdbafc662a4c9e5f04...   02/05/2015   \n",
       "4  937cff9e4dcfc2459620153dfc8b9962ac22bea67dfb29...   02/09/2015   \n",
       "\n",
       "  checkin_date checkout_date  channel_code  main_product_code  numberofadults  \\\n",
       "0   05/04/2018    06/04/2018             3                  1               2   \n",
       "1   11/04/2015    16/04/2015             1                  1               2   \n",
       "2   01/02/2015    05/02/2015             1                  1               2   \n",
       "3   11/06/2015    16/06/2015             1                  1               2   \n",
       "4   14/12/2015    19/12/2015             1                  1               2   \n",
       "\n",
       "   numberofchildren  persontravellingid  resort_region_code  resort_type_code  \\\n",
       "0                 0                  46                   3                 3   \n",
       "1                 0                  46                   3                 3   \n",
       "2                 0                  47                   1                 5   \n",
       "3                 2                  46                   2                 2   \n",
       "4                 0                  46                   2                 2   \n",
       "\n",
       "   room_type_booked_code  roomnights  season_holidayed_code  \\\n",
       "0                      3           1                    2.0   \n",
       "1                      4           5                    2.0   \n",
       "2                      4           4                    2.0   \n",
       "3                      3           5                    2.0   \n",
       "4                      4           5                    2.0   \n",
       "\n",
       "   state_code_residence  state_code_resort  total_pax member_age_buckets  \\\n",
       "0                   7.0                  3          3                  F   \n",
       "1                   7.0                  5          2                  F   \n",
       "2                   7.0                  1          2                  F   \n",
       "3                   7.0                  2          2                  F   \n",
       "4                   7.0                  2          2                  F   \n",
       "\n",
       "   booking_type_code                                           memberid  \\\n",
       "0                  1  3d1539e56495b6991f0a3ef5a61ca3d03ce4fff7380e9a...   \n",
       "1                  1  3d1539e56495b6991f0a3ef5a61ca3d03ce4fff7380e9a...   \n",
       "2                  1  3d1539e56495b6991f0a3ef5a61ca3d03ce4fff7380e9a...   \n",
       "3                  1  3d1539e56495b6991f0a3ef5a61ca3d03ce4fff7380e9a...   \n",
       "4                  1  3d1539e56495b6991f0a3ef5a61ca3d03ce4fff7380e9a...   \n",
       "\n",
       "  cluster_code reservationstatusid_code  \\\n",
       "0            F                        C   \n",
       "1            F                        A   \n",
       "2            E                        A   \n",
       "3            D                        A   \n",
       "4            D                        A   \n",
       "\n",
       "                                           resort_id  \\\n",
       "0  4e07408562bedb8b60ce05c1decfe3ad16b72230967de0...   \n",
       "1  39fa9ec190eee7b6f4dff1100d6343e10918d044c75eac...   \n",
       "2  535fa30d7e25dd8a49f1536779734ec8286108d115da50...   \n",
       "3  d4735e3a265e16eee03f59718b9b5d03019c07d8b6c51f...   \n",
       "4  d4735e3a265e16eee03f59718b9b5d03019c07d8b6c51f...   \n",
       "\n",
       "   amount_spent_per_room_night_scaled  \n",
       "0                            7.706428  \n",
       "1                            6.662563  \n",
       "2                            7.871602  \n",
       "3                            5.344943  \n",
       "4                            7.059346  "
      ]
     },
     "execution_count": 250,
     "metadata": {},
     "output_type": "execute_result"
    }
   ],
   "source": [
    "train.head()"
   ]
  },
  {
   "cell_type": "code",
   "execution_count": 251,
   "metadata": {},
   "outputs": [
    {
     "data": {
      "text/html": [
       "<div>\n",
       "<style scoped>\n",
       "    .dataframe tbody tr th:only-of-type {\n",
       "        vertical-align: middle;\n",
       "    }\n",
       "\n",
       "    .dataframe tbody tr th {\n",
       "        vertical-align: top;\n",
       "    }\n",
       "\n",
       "    .dataframe thead th {\n",
       "        text-align: right;\n",
       "    }\n",
       "</style>\n",
       "<table border=\"1\" class=\"dataframe\">\n",
       "  <thead>\n",
       "    <tr style=\"text-align: right;\">\n",
       "      <th></th>\n",
       "      <th>reservation_id</th>\n",
       "      <th>booking_date</th>\n",
       "      <th>checkin_date</th>\n",
       "      <th>checkout_date</th>\n",
       "      <th>channel_code</th>\n",
       "      <th>main_product_code</th>\n",
       "      <th>numberofadults</th>\n",
       "      <th>numberofchildren</th>\n",
       "      <th>persontravellingid</th>\n",
       "      <th>resort_region_code</th>\n",
       "      <th>resort_type_code</th>\n",
       "      <th>room_type_booked_code</th>\n",
       "      <th>roomnights</th>\n",
       "      <th>season_holidayed_code</th>\n",
       "      <th>state_code_residence</th>\n",
       "      <th>state_code_resort</th>\n",
       "      <th>total_pax</th>\n",
       "      <th>member_age_buckets</th>\n",
       "      <th>booking_type_code</th>\n",
       "      <th>memberid</th>\n",
       "      <th>cluster_code</th>\n",
       "      <th>reservationstatusid_code</th>\n",
       "      <th>resort_id</th>\n",
       "    </tr>\n",
       "  </thead>\n",
       "  <tbody>\n",
       "    <tr>\n",
       "      <th>0</th>\n",
       "      <td>7dae1ce6bc8f69481328f2be5c4943077dad5598b5f66d...</td>\n",
       "      <td>05/04/2018</td>\n",
       "      <td>05/04/2018</td>\n",
       "      <td>06/04/2018</td>\n",
       "      <td>3</td>\n",
       "      <td>2</td>\n",
       "      <td>2</td>\n",
       "      <td>0</td>\n",
       "      <td>45</td>\n",
       "      <td>3</td>\n",
       "      <td>3</td>\n",
       "      <td>4</td>\n",
       "      <td>1</td>\n",
       "      <td>2.0</td>\n",
       "      <td>2.0</td>\n",
       "      <td>3</td>\n",
       "      <td>3</td>\n",
       "      <td>H</td>\n",
       "      <td>1</td>\n",
       "      <td>2114944930dcc42ce5b9b50ae965cf8a9c04e46be63d84...</td>\n",
       "      <td>A</td>\n",
       "      <td>C</td>\n",
       "      <td>9f14025af0065b30e47e23ebb3b491d39ae8ed17d33739...</td>\n",
       "    </tr>\n",
       "    <tr>\n",
       "      <th>1</th>\n",
       "      <td>fe0d4e444e1818436c88f72f1cf800536c2f785e59baeb...</td>\n",
       "      <td>24/05/2015</td>\n",
       "      <td>23/06/2015</td>\n",
       "      <td>27/06/2015</td>\n",
       "      <td>1</td>\n",
       "      <td>2</td>\n",
       "      <td>4</td>\n",
       "      <td>0</td>\n",
       "      <td>45</td>\n",
       "      <td>1</td>\n",
       "      <td>1</td>\n",
       "      <td>4</td>\n",
       "      <td>8</td>\n",
       "      <td>2.0</td>\n",
       "      <td>2.0</td>\n",
       "      <td>4</td>\n",
       "      <td>2</td>\n",
       "      <td>H</td>\n",
       "      <td>1</td>\n",
       "      <td>2114944930dcc42ce5b9b50ae965cf8a9c04e46be63d84...</td>\n",
       "      <td>F</td>\n",
       "      <td>A</td>\n",
       "      <td>e7f6c011776e8db7cd330b54174fd76f7d0216b612387a...</td>\n",
       "    </tr>\n",
       "    <tr>\n",
       "      <th>2</th>\n",
       "      <td>540bd4285ad8168e8388f84ee74a82cd4f97dc0a404d3e...</td>\n",
       "      <td>21/07/2015</td>\n",
       "      <td>07/08/2015</td>\n",
       "      <td>10/08/2015</td>\n",
       "      <td>3</td>\n",
       "      <td>2</td>\n",
       "      <td>3</td>\n",
       "      <td>0</td>\n",
       "      <td>45</td>\n",
       "      <td>2</td>\n",
       "      <td>2</td>\n",
       "      <td>2</td>\n",
       "      <td>3</td>\n",
       "      <td>4.0</td>\n",
       "      <td>2.0</td>\n",
       "      <td>2</td>\n",
       "      <td>3</td>\n",
       "      <td>H</td>\n",
       "      <td>1</td>\n",
       "      <td>2114944930dcc42ce5b9b50ae965cf8a9c04e46be63d84...</td>\n",
       "      <td>D</td>\n",
       "      <td>A</td>\n",
       "      <td>d4735e3a265e16eee03f59718b9b5d03019c07d8b6c51f...</td>\n",
       "    </tr>\n",
       "    <tr>\n",
       "      <th>3</th>\n",
       "      <td>09593c907ae262e46f655b4db9e14f54a19eadcfdd2679...</td>\n",
       "      <td>31/07/2015</td>\n",
       "      <td>22/10/2015</td>\n",
       "      <td>25/10/2015</td>\n",
       "      <td>1</td>\n",
       "      <td>2</td>\n",
       "      <td>3</td>\n",
       "      <td>0</td>\n",
       "      <td>45</td>\n",
       "      <td>1</td>\n",
       "      <td>1</td>\n",
       "      <td>2</td>\n",
       "      <td>3</td>\n",
       "      <td>2.0</td>\n",
       "      <td>2.0</td>\n",
       "      <td>6</td>\n",
       "      <td>3</td>\n",
       "      <td>H</td>\n",
       "      <td>1</td>\n",
       "      <td>2114944930dcc42ce5b9b50ae965cf8a9c04e46be63d84...</td>\n",
       "      <td>F</td>\n",
       "      <td>A</td>\n",
       "      <td>49d180ecf56132819571bf39d9b7b342522a2ac6d23c14...</td>\n",
       "    </tr>\n",
       "    <tr>\n",
       "      <th>4</th>\n",
       "      <td>f4c50caac68051faf37551d70bb17eebef2a20e2244cb1...</td>\n",
       "      <td>01/07/2016</td>\n",
       "      <td>01/10/2016</td>\n",
       "      <td>05/10/2016</td>\n",
       "      <td>1</td>\n",
       "      <td>2</td>\n",
       "      <td>4</td>\n",
       "      <td>0</td>\n",
       "      <td>45</td>\n",
       "      <td>1</td>\n",
       "      <td>2</td>\n",
       "      <td>3</td>\n",
       "      <td>8</td>\n",
       "      <td>2.0</td>\n",
       "      <td>2.0</td>\n",
       "      <td>11</td>\n",
       "      <td>2</td>\n",
       "      <td>H</td>\n",
       "      <td>1</td>\n",
       "      <td>2114944930dcc42ce5b9b50ae965cf8a9c04e46be63d84...</td>\n",
       "      <td>F</td>\n",
       "      <td>A</td>\n",
       "      <td>e29c9c180c6279b0b02abd6a1801c7c04082cf486ec027...</td>\n",
       "    </tr>\n",
       "  </tbody>\n",
       "</table>\n",
       "</div>"
      ],
      "text/plain": [
       "                                      reservation_id booking_date  \\\n",
       "0  7dae1ce6bc8f69481328f2be5c4943077dad5598b5f66d...   05/04/2018   \n",
       "1  fe0d4e444e1818436c88f72f1cf800536c2f785e59baeb...   24/05/2015   \n",
       "2  540bd4285ad8168e8388f84ee74a82cd4f97dc0a404d3e...   21/07/2015   \n",
       "3  09593c907ae262e46f655b4db9e14f54a19eadcfdd2679...   31/07/2015   \n",
       "4  f4c50caac68051faf37551d70bb17eebef2a20e2244cb1...   01/07/2016   \n",
       "\n",
       "  checkin_date checkout_date  channel_code  main_product_code  numberofadults  \\\n",
       "0   05/04/2018    06/04/2018             3                  2               2   \n",
       "1   23/06/2015    27/06/2015             1                  2               4   \n",
       "2   07/08/2015    10/08/2015             3                  2               3   \n",
       "3   22/10/2015    25/10/2015             1                  2               3   \n",
       "4   01/10/2016    05/10/2016             1                  2               4   \n",
       "\n",
       "   numberofchildren  persontravellingid  resort_region_code  resort_type_code  \\\n",
       "0                 0                  45                   3                 3   \n",
       "1                 0                  45                   1                 1   \n",
       "2                 0                  45                   2                 2   \n",
       "3                 0                  45                   1                 1   \n",
       "4                 0                  45                   1                 2   \n",
       "\n",
       "   room_type_booked_code  roomnights  season_holidayed_code  \\\n",
       "0                      4           1                    2.0   \n",
       "1                      4           8                    2.0   \n",
       "2                      2           3                    4.0   \n",
       "3                      2           3                    2.0   \n",
       "4                      3           8                    2.0   \n",
       "\n",
       "   state_code_residence  state_code_resort  total_pax member_age_buckets  \\\n",
       "0                   2.0                  3          3                  H   \n",
       "1                   2.0                  4          2                  H   \n",
       "2                   2.0                  2          3                  H   \n",
       "3                   2.0                  6          3                  H   \n",
       "4                   2.0                 11          2                  H   \n",
       "\n",
       "   booking_type_code                                           memberid  \\\n",
       "0                  1  2114944930dcc42ce5b9b50ae965cf8a9c04e46be63d84...   \n",
       "1                  1  2114944930dcc42ce5b9b50ae965cf8a9c04e46be63d84...   \n",
       "2                  1  2114944930dcc42ce5b9b50ae965cf8a9c04e46be63d84...   \n",
       "3                  1  2114944930dcc42ce5b9b50ae965cf8a9c04e46be63d84...   \n",
       "4                  1  2114944930dcc42ce5b9b50ae965cf8a9c04e46be63d84...   \n",
       "\n",
       "  cluster_code reservationstatusid_code  \\\n",
       "0            A                        C   \n",
       "1            F                        A   \n",
       "2            D                        A   \n",
       "3            F                        A   \n",
       "4            F                        A   \n",
       "\n",
       "                                           resort_id  \n",
       "0  9f14025af0065b30e47e23ebb3b491d39ae8ed17d33739...  \n",
       "1  e7f6c011776e8db7cd330b54174fd76f7d0216b612387a...  \n",
       "2  d4735e3a265e16eee03f59718b9b5d03019c07d8b6c51f...  \n",
       "3  49d180ecf56132819571bf39d9b7b342522a2ac6d23c14...  \n",
       "4  e29c9c180c6279b0b02abd6a1801c7c04082cf486ec027...  "
      ]
     },
     "execution_count": 251,
     "metadata": {},
     "output_type": "execute_result"
    }
   ],
   "source": [
    "test.head()"
   ]
  },
  {
   "cell_type": "code",
   "execution_count": 252,
   "metadata": {},
   "outputs": [
    {
     "data": {
      "text/html": [
       "<div>\n",
       "<style scoped>\n",
       "    .dataframe tbody tr th:only-of-type {\n",
       "        vertical-align: middle;\n",
       "    }\n",
       "\n",
       "    .dataframe tbody tr th {\n",
       "        vertical-align: top;\n",
       "    }\n",
       "\n",
       "    .dataframe thead th {\n",
       "        text-align: right;\n",
       "    }\n",
       "</style>\n",
       "<table border=\"1\" class=\"dataframe\">\n",
       "  <thead>\n",
       "    <tr style=\"text-align: right;\">\n",
       "      <th></th>\n",
       "      <th>channel_code</th>\n",
       "      <th>main_product_code</th>\n",
       "      <th>numberofadults</th>\n",
       "      <th>numberofchildren</th>\n",
       "      <th>persontravellingid</th>\n",
       "      <th>resort_region_code</th>\n",
       "      <th>resort_type_code</th>\n",
       "      <th>room_type_booked_code</th>\n",
       "      <th>roomnights</th>\n",
       "      <th>season_holidayed_code</th>\n",
       "      <th>state_code_residence</th>\n",
       "      <th>state_code_resort</th>\n",
       "      <th>total_pax</th>\n",
       "      <th>booking_type_code</th>\n",
       "      <th>amount_spent_per_room_night_scaled</th>\n",
       "    </tr>\n",
       "  </thead>\n",
       "  <tbody>\n",
       "    <tr>\n",
       "      <th>count</th>\n",
       "      <td>341424.000000</td>\n",
       "      <td>341424.000000</td>\n",
       "      <td>341424.000000</td>\n",
       "      <td>341424.000000</td>\n",
       "      <td>341424.000000</td>\n",
       "      <td>341424.000000</td>\n",
       "      <td>341424.000000</td>\n",
       "      <td>341424.000000</td>\n",
       "      <td>341424.000000</td>\n",
       "      <td>341310.000000</td>\n",
       "      <td>336660.000000</td>\n",
       "      <td>341424.000000</td>\n",
       "      <td>341424.000000</td>\n",
       "      <td>341424.000000</td>\n",
       "      <td>341424.000000</td>\n",
       "    </tr>\n",
       "    <tr>\n",
       "      <th>mean</th>\n",
       "      <td>1.902810</td>\n",
       "      <td>2.208738</td>\n",
       "      <td>3.275361</td>\n",
       "      <td>0.362696</td>\n",
       "      <td>210.288905</td>\n",
       "      <td>1.772960</td>\n",
       "      <td>2.193832</td>\n",
       "      <td>2.890321</td>\n",
       "      <td>3.738346</td>\n",
       "      <td>2.673862</td>\n",
       "      <td>7.260708</td>\n",
       "      <td>4.763303</td>\n",
       "      <td>3.193390</td>\n",
       "      <td>1.124209</td>\n",
       "      <td>7.720801</td>\n",
       "    </tr>\n",
       "    <tr>\n",
       "      <th>std</th>\n",
       "      <td>0.915311</td>\n",
       "      <td>0.823779</td>\n",
       "      <td>1.756062</td>\n",
       "      <td>0.758019</td>\n",
       "      <td>865.735577</td>\n",
       "      <td>0.750806</td>\n",
       "      <td>1.551451</td>\n",
       "      <td>0.804260</td>\n",
       "      <td>2.479054</td>\n",
       "      <td>0.885650</td>\n",
       "      <td>4.701283</td>\n",
       "      <td>3.103909</td>\n",
       "      <td>1.167824</td>\n",
       "      <td>0.329821</td>\n",
       "      <td>1.090109</td>\n",
       "    </tr>\n",
       "    <tr>\n",
       "      <th>min</th>\n",
       "      <td>1.000000</td>\n",
       "      <td>1.000000</td>\n",
       "      <td>0.000000</td>\n",
       "      <td>0.000000</td>\n",
       "      <td>45.000000</td>\n",
       "      <td>1.000000</td>\n",
       "      <td>0.000000</td>\n",
       "      <td>1.000000</td>\n",
       "      <td>-45.000000</td>\n",
       "      <td>1.000000</td>\n",
       "      <td>1.000000</td>\n",
       "      <td>1.000000</td>\n",
       "      <td>0.000000</td>\n",
       "      <td>1.000000</td>\n",
       "      <td>1.600397</td>\n",
       "    </tr>\n",
       "    <tr>\n",
       "      <th>25%</th>\n",
       "      <td>1.000000</td>\n",
       "      <td>2.000000</td>\n",
       "      <td>2.000000</td>\n",
       "      <td>0.000000</td>\n",
       "      <td>45.000000</td>\n",
       "      <td>1.000000</td>\n",
       "      <td>1.000000</td>\n",
       "      <td>2.000000</td>\n",
       "      <td>2.000000</td>\n",
       "      <td>2.000000</td>\n",
       "      <td>4.000000</td>\n",
       "      <td>2.000000</td>\n",
       "      <td>2.000000</td>\n",
       "      <td>1.000000</td>\n",
       "      <td>7.187260</td>\n",
       "    </tr>\n",
       "    <tr>\n",
       "      <th>50%</th>\n",
       "      <td>2.000000</td>\n",
       "      <td>2.000000</td>\n",
       "      <td>3.000000</td>\n",
       "      <td>0.000000</td>\n",
       "      <td>45.000000</td>\n",
       "      <td>2.000000</td>\n",
       "      <td>2.000000</td>\n",
       "      <td>3.000000</td>\n",
       "      <td>3.000000</td>\n",
       "      <td>3.000000</td>\n",
       "      <td>8.000000</td>\n",
       "      <td>5.000000</td>\n",
       "      <td>3.000000</td>\n",
       "      <td>1.000000</td>\n",
       "      <td>7.860814</td>\n",
       "    </tr>\n",
       "    <tr>\n",
       "      <th>75%</th>\n",
       "      <td>3.000000</td>\n",
       "      <td>3.000000</td>\n",
       "      <td>4.000000</td>\n",
       "      <td>0.000000</td>\n",
       "      <td>45.000000</td>\n",
       "      <td>2.000000</td>\n",
       "      <td>3.000000</td>\n",
       "      <td>3.000000</td>\n",
       "      <td>4.000000</td>\n",
       "      <td>3.000000</td>\n",
       "      <td>8.000000</td>\n",
       "      <td>7.000000</td>\n",
       "      <td>4.000000</td>\n",
       "      <td>1.000000</td>\n",
       "      <td>8.419144</td>\n",
       "    </tr>\n",
       "    <tr>\n",
       "      <th>max</th>\n",
       "      <td>3.000000</td>\n",
       "      <td>7.000000</td>\n",
       "      <td>32.000000</td>\n",
       "      <td>13.000000</td>\n",
       "      <td>4995.000000</td>\n",
       "      <td>3.000000</td>\n",
       "      <td>7.000000</td>\n",
       "      <td>6.000000</td>\n",
       "      <td>60.000000</td>\n",
       "      <td>4.000000</td>\n",
       "      <td>38.000000</td>\n",
       "      <td>13.000000</td>\n",
       "      <td>24.000000</td>\n",
       "      <td>2.000000</td>\n",
       "      <td>10.816652</td>\n",
       "    </tr>\n",
       "  </tbody>\n",
       "</table>\n",
       "</div>"
      ],
      "text/plain": [
       "        channel_code  main_product_code  numberofadults  numberofchildren  \\\n",
       "count  341424.000000      341424.000000   341424.000000     341424.000000   \n",
       "mean        1.902810           2.208738        3.275361          0.362696   \n",
       "std         0.915311           0.823779        1.756062          0.758019   \n",
       "min         1.000000           1.000000        0.000000          0.000000   \n",
       "25%         1.000000           2.000000        2.000000          0.000000   \n",
       "50%         2.000000           2.000000        3.000000          0.000000   \n",
       "75%         3.000000           3.000000        4.000000          0.000000   \n",
       "max         3.000000           7.000000       32.000000         13.000000   \n",
       "\n",
       "       persontravellingid  resort_region_code  resort_type_code  \\\n",
       "count       341424.000000       341424.000000     341424.000000   \n",
       "mean           210.288905            1.772960          2.193832   \n",
       "std            865.735577            0.750806          1.551451   \n",
       "min             45.000000            1.000000          0.000000   \n",
       "25%             45.000000            1.000000          1.000000   \n",
       "50%             45.000000            2.000000          2.000000   \n",
       "75%             45.000000            2.000000          3.000000   \n",
       "max           4995.000000            3.000000          7.000000   \n",
       "\n",
       "       room_type_booked_code     roomnights  season_holidayed_code  \\\n",
       "count          341424.000000  341424.000000          341310.000000   \n",
       "mean                2.890321       3.738346               2.673862   \n",
       "std                 0.804260       2.479054               0.885650   \n",
       "min                 1.000000     -45.000000               1.000000   \n",
       "25%                 2.000000       2.000000               2.000000   \n",
       "50%                 3.000000       3.000000               3.000000   \n",
       "75%                 3.000000       4.000000               3.000000   \n",
       "max                 6.000000      60.000000               4.000000   \n",
       "\n",
       "       state_code_residence  state_code_resort      total_pax  \\\n",
       "count         336660.000000      341424.000000  341424.000000   \n",
       "mean               7.260708           4.763303       3.193390   \n",
       "std                4.701283           3.103909       1.167824   \n",
       "min                1.000000           1.000000       0.000000   \n",
       "25%                4.000000           2.000000       2.000000   \n",
       "50%                8.000000           5.000000       3.000000   \n",
       "75%                8.000000           7.000000       4.000000   \n",
       "max               38.000000          13.000000      24.000000   \n",
       "\n",
       "       booking_type_code  amount_spent_per_room_night_scaled  \n",
       "count      341424.000000                       341424.000000  \n",
       "mean            1.124209                            7.720801  \n",
       "std             0.329821                            1.090109  \n",
       "min             1.000000                            1.600397  \n",
       "25%             1.000000                            7.187260  \n",
       "50%             1.000000                            7.860814  \n",
       "75%             1.000000                            8.419144  \n",
       "max             2.000000                           10.816652  "
      ]
     },
     "execution_count": 252,
     "metadata": {},
     "output_type": "execute_result"
    }
   ],
   "source": [
    "train.describe()"
   ]
  },
  {
   "cell_type": "code",
   "execution_count": 253,
   "metadata": {},
   "outputs": [
    {
     "data": {
      "text/html": [
       "<div>\n",
       "<style scoped>\n",
       "    .dataframe tbody tr th:only-of-type {\n",
       "        vertical-align: middle;\n",
       "    }\n",
       "\n",
       "    .dataframe tbody tr th {\n",
       "        vertical-align: top;\n",
       "    }\n",
       "\n",
       "    .dataframe thead th {\n",
       "        text-align: right;\n",
       "    }\n",
       "</style>\n",
       "<table border=\"1\" class=\"dataframe\">\n",
       "  <thead>\n",
       "    <tr style=\"text-align: right;\">\n",
       "      <th></th>\n",
       "      <th>channel_code</th>\n",
       "      <th>main_product_code</th>\n",
       "      <th>numberofadults</th>\n",
       "      <th>numberofchildren</th>\n",
       "      <th>persontravellingid</th>\n",
       "      <th>resort_region_code</th>\n",
       "      <th>resort_type_code</th>\n",
       "      <th>room_type_booked_code</th>\n",
       "      <th>roomnights</th>\n",
       "      <th>season_holidayed_code</th>\n",
       "      <th>state_code_residence</th>\n",
       "      <th>state_code_resort</th>\n",
       "      <th>total_pax</th>\n",
       "      <th>booking_type_code</th>\n",
       "    </tr>\n",
       "  </thead>\n",
       "  <tbody>\n",
       "    <tr>\n",
       "      <th>count</th>\n",
       "      <td>146765.000000</td>\n",
       "      <td>146765.000000</td>\n",
       "      <td>146765.000000</td>\n",
       "      <td>146765.000000</td>\n",
       "      <td>146765.000000</td>\n",
       "      <td>146765.000000</td>\n",
       "      <td>146765.000000</td>\n",
       "      <td>146765.000000</td>\n",
       "      <td>146765.000000</td>\n",
       "      <td>146730.000000</td>\n",
       "      <td>144505.000000</td>\n",
       "      <td>146765.000000</td>\n",
       "      <td>146765.000000</td>\n",
       "      <td>146765.000000</td>\n",
       "    </tr>\n",
       "    <tr>\n",
       "      <th>mean</th>\n",
       "      <td>1.902068</td>\n",
       "      <td>2.204483</td>\n",
       "      <td>3.275897</td>\n",
       "      <td>0.362287</td>\n",
       "      <td>209.179852</td>\n",
       "      <td>1.774101</td>\n",
       "      <td>2.196675</td>\n",
       "      <td>2.888754</td>\n",
       "      <td>3.730372</td>\n",
       "      <td>2.681088</td>\n",
       "      <td>7.254206</td>\n",
       "      <td>4.750560</td>\n",
       "      <td>3.188410</td>\n",
       "      <td>1.123354</td>\n",
       "    </tr>\n",
       "    <tr>\n",
       "      <th>std</th>\n",
       "      <td>0.914653</td>\n",
       "      <td>0.817804</td>\n",
       "      <td>1.783842</td>\n",
       "      <td>0.758218</td>\n",
       "      <td>862.926844</td>\n",
       "      <td>0.753281</td>\n",
       "      <td>1.544679</td>\n",
       "      <td>0.804043</td>\n",
       "      <td>2.482388</td>\n",
       "      <td>0.882366</td>\n",
       "      <td>4.755982</td>\n",
       "      <td>3.101036</td>\n",
       "      <td>1.163872</td>\n",
       "      <td>0.328844</td>\n",
       "    </tr>\n",
       "    <tr>\n",
       "      <th>min</th>\n",
       "      <td>1.000000</td>\n",
       "      <td>1.000000</td>\n",
       "      <td>0.000000</td>\n",
       "      <td>0.000000</td>\n",
       "      <td>45.000000</td>\n",
       "      <td>1.000000</td>\n",
       "      <td>0.000000</td>\n",
       "      <td>1.000000</td>\n",
       "      <td>0.000000</td>\n",
       "      <td>1.000000</td>\n",
       "      <td>1.000000</td>\n",
       "      <td>1.000000</td>\n",
       "      <td>0.000000</td>\n",
       "      <td>1.000000</td>\n",
       "    </tr>\n",
       "    <tr>\n",
       "      <th>25%</th>\n",
       "      <td>1.000000</td>\n",
       "      <td>2.000000</td>\n",
       "      <td>2.000000</td>\n",
       "      <td>0.000000</td>\n",
       "      <td>45.000000</td>\n",
       "      <td>1.000000</td>\n",
       "      <td>1.000000</td>\n",
       "      <td>2.000000</td>\n",
       "      <td>2.000000</td>\n",
       "      <td>2.000000</td>\n",
       "      <td>4.000000</td>\n",
       "      <td>2.000000</td>\n",
       "      <td>2.000000</td>\n",
       "      <td>1.000000</td>\n",
       "    </tr>\n",
       "    <tr>\n",
       "      <th>50%</th>\n",
       "      <td>2.000000</td>\n",
       "      <td>2.000000</td>\n",
       "      <td>3.000000</td>\n",
       "      <td>0.000000</td>\n",
       "      <td>45.000000</td>\n",
       "      <td>2.000000</td>\n",
       "      <td>2.000000</td>\n",
       "      <td>3.000000</td>\n",
       "      <td>3.000000</td>\n",
       "      <td>3.000000</td>\n",
       "      <td>8.000000</td>\n",
       "      <td>5.000000</td>\n",
       "      <td>3.000000</td>\n",
       "      <td>1.000000</td>\n",
       "    </tr>\n",
       "    <tr>\n",
       "      <th>75%</th>\n",
       "      <td>3.000000</td>\n",
       "      <td>3.000000</td>\n",
       "      <td>4.000000</td>\n",
       "      <td>0.000000</td>\n",
       "      <td>45.000000</td>\n",
       "      <td>2.000000</td>\n",
       "      <td>3.000000</td>\n",
       "      <td>3.000000</td>\n",
       "      <td>4.000000</td>\n",
       "      <td>3.000000</td>\n",
       "      <td>8.000000</td>\n",
       "      <td>7.000000</td>\n",
       "      <td>4.000000</td>\n",
       "      <td>1.000000</td>\n",
       "    </tr>\n",
       "    <tr>\n",
       "      <th>max</th>\n",
       "      <td>3.000000</td>\n",
       "      <td>7.000000</td>\n",
       "      <td>32.000000</td>\n",
       "      <td>10.000000</td>\n",
       "      <td>4995.000000</td>\n",
       "      <td>3.000000</td>\n",
       "      <td>7.000000</td>\n",
       "      <td>6.000000</td>\n",
       "      <td>80.000000</td>\n",
       "      <td>4.000000</td>\n",
       "      <td>38.000000</td>\n",
       "      <td>13.000000</td>\n",
       "      <td>21.000000</td>\n",
       "      <td>2.000000</td>\n",
       "    </tr>\n",
       "  </tbody>\n",
       "</table>\n",
       "</div>"
      ],
      "text/plain": [
       "        channel_code  main_product_code  numberofadults  numberofchildren  \\\n",
       "count  146765.000000      146765.000000   146765.000000     146765.000000   \n",
       "mean        1.902068           2.204483        3.275897          0.362287   \n",
       "std         0.914653           0.817804        1.783842          0.758218   \n",
       "min         1.000000           1.000000        0.000000          0.000000   \n",
       "25%         1.000000           2.000000        2.000000          0.000000   \n",
       "50%         2.000000           2.000000        3.000000          0.000000   \n",
       "75%         3.000000           3.000000        4.000000          0.000000   \n",
       "max         3.000000           7.000000       32.000000         10.000000   \n",
       "\n",
       "       persontravellingid  resort_region_code  resort_type_code  \\\n",
       "count       146765.000000       146765.000000     146765.000000   \n",
       "mean           209.179852            1.774101          2.196675   \n",
       "std            862.926844            0.753281          1.544679   \n",
       "min             45.000000            1.000000          0.000000   \n",
       "25%             45.000000            1.000000          1.000000   \n",
       "50%             45.000000            2.000000          2.000000   \n",
       "75%             45.000000            2.000000          3.000000   \n",
       "max           4995.000000            3.000000          7.000000   \n",
       "\n",
       "       room_type_booked_code     roomnights  season_holidayed_code  \\\n",
       "count          146765.000000  146765.000000          146730.000000   \n",
       "mean                2.888754       3.730372               2.681088   \n",
       "std                 0.804043       2.482388               0.882366   \n",
       "min                 1.000000       0.000000               1.000000   \n",
       "25%                 2.000000       2.000000               2.000000   \n",
       "50%                 3.000000       3.000000               3.000000   \n",
       "75%                 3.000000       4.000000               3.000000   \n",
       "max                 6.000000      80.000000               4.000000   \n",
       "\n",
       "       state_code_residence  state_code_resort      total_pax  \\\n",
       "count         144505.000000      146765.000000  146765.000000   \n",
       "mean               7.254206           4.750560       3.188410   \n",
       "std                4.755982           3.101036       1.163872   \n",
       "min                1.000000           1.000000       0.000000   \n",
       "25%                4.000000           2.000000       2.000000   \n",
       "50%                8.000000           5.000000       3.000000   \n",
       "75%                8.000000           7.000000       4.000000   \n",
       "max               38.000000          13.000000      21.000000   \n",
       "\n",
       "       booking_type_code  \n",
       "count      146765.000000  \n",
       "mean            1.123354  \n",
       "std             0.328844  \n",
       "min             1.000000  \n",
       "25%             1.000000  \n",
       "50%             1.000000  \n",
       "75%             1.000000  \n",
       "max             2.000000  "
      ]
     },
     "execution_count": 253,
     "metadata": {},
     "output_type": "execute_result"
    }
   ],
   "source": [
    "test.describe()"
   ]
  },
  {
   "cell_type": "code",
   "execution_count": 254,
   "metadata": {},
   "outputs": [
    {
     "data": {
      "text/plain": [
       "341424"
      ]
     },
     "execution_count": 254,
     "metadata": {},
     "output_type": "execute_result"
    }
   ],
   "source": [
    "train.reservation_id.unique().size"
   ]
  },
  {
   "cell_type": "code",
   "execution_count": 255,
   "metadata": {},
   "outputs": [
    {
     "name": "stdout",
     "output_type": "stream",
     "text": [
      "reservation_id: 341424, booking_date: 1621, checkin_date: 1532, checkout_date: 1531, memberid: 101327, resort_id: 32\n"
     ]
    }
   ],
   "source": [
    "print(\"reservation_id: {}, booking_date: {}, checkin_date: {}, checkout_date: {}, memberid: {}, resort_id: {}\".format(train.reservation_id.unique().size,\n",
    "                                                                                                     train.booking_date.unique().size,\n",
    "                                                                                                     train.checkin_date.unique().size,\n",
    "                                                                                                     train.checkout_date.unique().size,train.memberid.unique().size,train.resort_id.unique().size))\n"
   ]
  },
  {
   "cell_type": "code",
   "execution_count": 256,
   "metadata": {},
   "outputs": [
    {
     "data": {
      "text/plain": [
       "Index(['reservation_id', 'booking_date', 'checkin_date', 'checkout_date',\n",
       "       'channel_code', 'main_product_code', 'numberofadults',\n",
       "       'numberofchildren', 'persontravellingid', 'resort_region_code',\n",
       "       'resort_type_code', 'room_type_booked_code', 'roomnights',\n",
       "       'season_holidayed_code', 'state_code_residence', 'state_code_resort',\n",
       "       'total_pax', 'member_age_buckets', 'booking_type_code', 'memberid',\n",
       "       'cluster_code', 'reservationstatusid_code', 'resort_id',\n",
       "       'amount_spent_per_room_night_scaled'],\n",
       "      dtype='object')"
      ]
     },
     "execution_count": 256,
     "metadata": {},
     "output_type": "execute_result"
    }
   ],
   "source": [
    "train.columns"
   ]
  },
  {
   "cell_type": "code",
   "execution_count": 257,
   "metadata": {},
   "outputs": [
    {
     "name": "stderr",
     "output_type": "stream",
     "text": [
      "C:\\Users\\5029874\\AppData\\Local\\Continuum\\anaconda3\\envs\\trainingenv\\lib\\site-packages\\sklearn\\utils\\deprecation.py:58: DeprecationWarning: Class Imputer is deprecated; Imputer was deprecated in version 0.20 and will be removed in 0.22. Import impute.SimpleImputer from sklearn instead.\n",
      "  warnings.warn(msg, category=DeprecationWarning)\n"
     ]
    }
   ],
   "source": [
    " from sklearn.preprocessing import Imputer\n",
    " imputer = Imputer(missing_values='NaN',strategy='most_frequent',axis=0)  \n",
    " imputer = imputer.fit(train[['season_holidayed_code']])\n",
    " train['season_holidayed_code']= imputer.transform(train[['season_holidayed_code']])"
   ]
  },
  {
   "cell_type": "code",
   "execution_count": 258,
   "metadata": {},
   "outputs": [],
   "source": [
    " test['season_holidayed_code']= imputer.transform(test[['season_holidayed_code']])"
   ]
  },
  {
   "cell_type": "code",
   "execution_count": 259,
   "metadata": {},
   "outputs": [],
   "source": [
    "train = train[train.roomnights != -45]"
   ]
  },
  {
   "cell_type": "code",
   "execution_count": 260,
   "metadata": {},
   "outputs": [],
   "source": [
    "train[['state_code_residence']] = train[['state_code_residence']].fillna(value=17)"
   ]
  },
  {
   "cell_type": "code",
   "execution_count": 261,
   "metadata": {},
   "outputs": [],
   "source": [
    "test[['state_code_residence']] = test[['state_code_residence']].fillna(value=17)"
   ]
  },
  {
   "cell_type": "code",
   "execution_count": 262,
   "metadata": {},
   "outputs": [
    {
     "data": {
      "text/plain": [
       "reservation_id                        0\n",
       "booking_date                          0\n",
       "checkin_date                          0\n",
       "checkout_date                         0\n",
       "channel_code                          0\n",
       "main_product_code                     0\n",
       "numberofadults                        0\n",
       "numberofchildren                      0\n",
       "persontravellingid                    0\n",
       "resort_region_code                    0\n",
       "resort_type_code                      0\n",
       "room_type_booked_code                 0\n",
       "roomnights                            0\n",
       "season_holidayed_code                 0\n",
       "state_code_residence                  0\n",
       "state_code_resort                     0\n",
       "total_pax                             0\n",
       "member_age_buckets                    0\n",
       "booking_type_code                     0\n",
       "memberid                              0\n",
       "cluster_code                          0\n",
       "reservationstatusid_code              0\n",
       "resort_id                             0\n",
       "amount_spent_per_room_night_scaled    0\n",
       "dtype: int64"
      ]
     },
     "execution_count": 262,
     "metadata": {},
     "output_type": "execute_result"
    }
   ],
   "source": [
    "train.isna().sum()"
   ]
  },
  {
   "cell_type": "code",
   "execution_count": 263,
   "metadata": {},
   "outputs": [
    {
     "data": {
      "text/plain": [
       "reservation_id              0\n",
       "booking_date                0\n",
       "checkin_date                0\n",
       "checkout_date               0\n",
       "channel_code                0\n",
       "main_product_code           0\n",
       "numberofadults              0\n",
       "numberofchildren            0\n",
       "persontravellingid          0\n",
       "resort_region_code          0\n",
       "resort_type_code            0\n",
       "room_type_booked_code       0\n",
       "roomnights                  0\n",
       "season_holidayed_code       0\n",
       "state_code_residence        0\n",
       "state_code_resort           0\n",
       "total_pax                   0\n",
       "member_age_buckets          0\n",
       "booking_type_code           0\n",
       "memberid                    0\n",
       "cluster_code                0\n",
       "reservationstatusid_code    0\n",
       "resort_id                   0\n",
       "dtype: int64"
      ]
     },
     "execution_count": 263,
     "metadata": {},
     "output_type": "execute_result"
    }
   ],
   "source": [
    "test.isna().sum()"
   ]
  },
  {
   "cell_type": "code",
   "execution_count": 264,
   "metadata": {},
   "outputs": [
    {
     "name": "stdout",
     "output_type": "stream",
     "text": [
      "<class 'pandas.core.frame.DataFrame'>\n",
      "Int64Index: 341423 entries, 0 to 341423\n",
      "Data columns (total 24 columns):\n",
      "reservation_id                        341423 non-null object\n",
      "booking_date                          341423 non-null object\n",
      "checkin_date                          341423 non-null object\n",
      "checkout_date                         341423 non-null object\n",
      "channel_code                          341423 non-null int64\n",
      "main_product_code                     341423 non-null int64\n",
      "numberofadults                        341423 non-null int64\n",
      "numberofchildren                      341423 non-null int64\n",
      "persontravellingid                    341423 non-null int64\n",
      "resort_region_code                    341423 non-null int64\n",
      "resort_type_code                      341423 non-null int64\n",
      "room_type_booked_code                 341423 non-null int64\n",
      "roomnights                            341423 non-null int64\n",
      "season_holidayed_code                 341423 non-null float64\n",
      "state_code_residence                  341423 non-null float64\n",
      "state_code_resort                     341423 non-null int64\n",
      "total_pax                             341423 non-null int64\n",
      "member_age_buckets                    341423 non-null object\n",
      "booking_type_code                     341423 non-null int64\n",
      "memberid                              341423 non-null object\n",
      "cluster_code                          341423 non-null object\n",
      "reservationstatusid_code              341423 non-null object\n",
      "resort_id                             341423 non-null object\n",
      "amount_spent_per_room_night_scaled    341423 non-null float64\n",
      "dtypes: float64(3), int64(12), object(9)\n",
      "memory usage: 65.1+ MB\n"
     ]
    }
   ],
   "source": [
    "train.info()"
   ]
  },
  {
   "cell_type": "code",
   "execution_count": 265,
   "metadata": {},
   "outputs": [],
   "source": [
    "# Remove D it has only one row\n",
    "train = train[train.reservationstatusid_code != 'D']"
   ]
  },
  {
   "cell_type": "raw",
   "metadata": {},
   "source": [
    "train = train[~train['total_pax'].isin([14,20,24])]"
   ]
  },
  {
   "cell_type": "code",
   "execution_count": 15,
   "metadata": {},
   "outputs": [],
   "source": [
    "from datetime import datetime"
   ]
  },
  {
   "cell_type": "code",
   "execution_count": 12,
   "metadata": {},
   "outputs": [],
   "source": [
    "def convert_booking_date(row):\n",
    "    return datetime.strptime(row['booking_date'], '%d/%m/%Y')\n",
    "\n",
    "def convert_checkin_date(row):\n",
    "    return datetime.strptime(row['checkin_date'], '%d/%m/%Y') \n",
    "\n",
    "def convert_checkout_date(row):\n",
    "    return datetime.strptime(row['checkout_date'], '%d/%m/%Y') "
   ]
  },
  {
   "cell_type": "code",
   "execution_count": 268,
   "metadata": {},
   "outputs": [],
   "source": [
    "train['booking_date'] = train.apply(convert_booking_date, axis=1)"
   ]
  },
  {
   "cell_type": "code",
   "execution_count": 269,
   "metadata": {},
   "outputs": [],
   "source": [
    "train['checkin_date'] = train.apply(convert_checkin_date, axis=1)"
   ]
  },
  {
   "cell_type": "code",
   "execution_count": 270,
   "metadata": {},
   "outputs": [],
   "source": [
    "train['checkout_date'] = train.apply(convert_checkout_date, axis=1)"
   ]
  },
  {
   "cell_type": "code",
   "execution_count": 271,
   "metadata": {},
   "outputs": [],
   "source": [
    "train['actual_days'] = (train['checkout_date'] - train['checkin_date']).dt.days"
   ]
  },
  {
   "cell_type": "code",
   "execution_count": 13,
   "metadata": {},
   "outputs": [],
   "source": [
    "def convert_booking_date_t(row):\n",
    "    return datetime.strptime(row['booking_date'], '%d/%m/%Y')\n",
    "\n",
    "def convert_checkin_date_t(row):\n",
    "    return datetime.strptime(row['checkin_date'], '%d/%m/%Y') \n",
    "\n",
    "def convert_checkout_date_t(row):\n",
    "    return datetime.strptime(row['checkout_date'], '%d/%m/%Y') "
   ]
  },
  {
   "cell_type": "code",
   "execution_count": 273,
   "metadata": {},
   "outputs": [],
   "source": [
    "test['booking_date'] = test.apply(convert_booking_date_t, axis=1)"
   ]
  },
  {
   "cell_type": "code",
   "execution_count": 274,
   "metadata": {},
   "outputs": [],
   "source": [
    "test['checkin_date'] = test.apply(convert_checkin_date_t, axis=1)"
   ]
  },
  {
   "cell_type": "code",
   "execution_count": 275,
   "metadata": {},
   "outputs": [],
   "source": [
    "test['checkout_date'] = test.apply(convert_checkout_date_t, axis=1)"
   ]
  },
  {
   "cell_type": "code",
   "execution_count": 276,
   "metadata": {},
   "outputs": [],
   "source": [
    "test['actual_days'] = (test['checkout_date'] - test['checkin_date']).dt.days"
   ]
  },
  {
   "cell_type": "code",
   "execution_count": 277,
   "metadata": {},
   "outputs": [],
   "source": [
    "from IPython.display import display\n",
    "pd.options.display.max_columns = None"
   ]
  },
  {
   "cell_type": "raw",
   "metadata": {},
   "source": [
    "train[train['roomnights'].isin([3,29,31,34,37,41,42,47,60])]"
   ]
  },
  {
   "cell_type": "raw",
   "metadata": {},
   "source": [
    "train.to_csv(\"data/train_v2.csv\")"
   ]
  },
  {
   "cell_type": "raw",
   "metadata": {},
   "source": [
    "train.corr()"
   ]
  },
  {
   "cell_type": "code",
   "execution_count": 278,
   "metadata": {},
   "outputs": [
    {
     "data": {
      "text/plain": [
       "<matplotlib.axes._subplots.AxesSubplot at 0x1b984c76358>"
      ]
     },
     "execution_count": 278,
     "metadata": {},
     "output_type": "execute_result"
    },
    {
     "data": {
      "image/png": "[encoded data removed]",
      "text/plain": [
       "<Figure size 432x288 with 2 Axes>"
      ]
     },
     "metadata": {
      "needs_background": "light"
     },
     "output_type": "display_data"
    }
   ],
   "source": [
    "sb.heatmap(train.corr())"
   ]
  },
  {
   "cell_type": "code",
   "execution_count": 299,
   "metadata": {},
   "outputs": [
    {
     "data": {
      "text/plain": [
       "<matplotlib.axes._subplots.AxesSubplot at 0x1b987d712b0>"
      ]
     },
     "execution_count": 299,
     "metadata": {},
     "output_type": "execute_result"
    },
    {
     "data": {
      "image/png": "[encoded data removed]",
      "text/plain": [
       "<Figure size 432x288 with 1 Axes>"
      ]
     },
     "metadata": {
      "needs_background": "light"
     },
     "output_type": "display_data"
    }
   ],
   "source": [
    "train.plot(kind='scatter', x='main_product_code', y='season_holidayed_code')"
   ]
  },
  {
   "cell_type": "code",
   "execution_count": 300,
   "metadata": {},
   "outputs": [
    {
     "data": {
      "text/plain": [
       "<matplotlib.axes._subplots.AxesSubplot at 0x1b984f5ab70>"
      ]
     },
     "execution_count": 300,
     "metadata": {},
     "output_type": "execute_result"
    },
    {
     "data": {
      "image/png": "[encoded data removed]",
      "text/plain": [
       "<Figure size 432x288 with 1 Axes>"
      ]
     },
     "metadata": {
      "needs_background": "light"
     },
     "output_type": "display_data"
    }
   ],
   "source": [
    "train.plot(kind='scatter', x='room_type_booked_code', y='total_pax')"
   ]
  },
  {
   "cell_type": "code",
   "execution_count": 301,
   "metadata": {},
   "outputs": [
    {
     "data": {
      "text/plain": [
       "<matplotlib.axes._subplots.AxesSubplot at 0x1b9889cc5c0>"
      ]
     },
     "execution_count": 301,
     "metadata": {},
     "output_type": "execute_result"
    },
    {
     "data": {
      "image/png": "[encoded data removed]",
      "text/plain": [
       "<Figure size 432x288 with 1 Axes>"
      ]
     },
     "metadata": {
      "needs_background": "light"
     },
     "output_type": "display_data"
    }
   ],
   "source": [
    "test.plot(kind='scatter', x='room_type_booked_code', y='total_pax')"
   ]
  },
  {
   "cell_type": "code",
   "execution_count": 302,
   "metadata": {},
   "outputs": [
    {
     "data": {
      "text/plain": [
       "<matplotlib.axes._subplots.AxesSubplot at 0x1b98bf77438>"
      ]
     },
     "execution_count": 302,
     "metadata": {},
     "output_type": "execute_result"
    },
    {
     "data": {
      "image/png": "[encoded data removed]",
      "text/plain": [
       "<Figure size 432x288 with 1 Axes>"
      ]
     },
     "metadata": {
      "needs_background": "light"
     },
     "output_type": "display_data"
    }
   ],
   "source": [
    "train.plot(kind='scatter', x='numberofadults', y='roomnights') "
   ]
  },
  {
   "cell_type": "code",
   "execution_count": 303,
   "metadata": {},
   "outputs": [
    {
     "data": {
      "text/plain": [
       "<matplotlib.axes._subplots.AxesSubplot at 0x1b991ce3c88>"
      ]
     },
     "execution_count": 303,
     "metadata": {},
     "output_type": "execute_result"
    },
    {
     "data": {
      "image/png": "[encoded data removed]",
      "text/plain": [
       "<Figure size 432x288 with 1 Axes>"
      ]
     },
     "metadata": {
      "needs_background": "light"
     },
     "output_type": "display_data"
    }
   ],
   "source": [
    "test.plot(kind='scatter', x='numberofadults', y='roomnights') "
   ]
  },
  {
   "cell_type": "code",
   "execution_count": 304,
   "metadata": {},
   "outputs": [
    {
     "data": {
      "text/plain": [
       "<matplotlib.axes._subplots.AxesSubplot at 0x1b991d149b0>"
      ]
     },
     "execution_count": 304,
     "metadata": {},
     "output_type": "execute_result"
    },
    {
     "data": {
      "image/png": "[encoded data removed]",
      "text/plain": [
       "<Figure size 432x288 with 1 Axes>"
      ]
     },
     "metadata": {
      "needs_background": "light"
     },
     "output_type": "display_data"
    }
   ],
   "source": [
    "train.plot(kind='scatter', x='roomnights', y='actual_days')"
   ]
  },
  {
   "cell_type": "code",
   "execution_count": 305,
   "metadata": {},
   "outputs": [
    {
     "data": {
      "text/plain": [
       "<matplotlib.axes._subplots.AxesSubplot at 0x1b9e8aa7828>"
      ]
     },
     "execution_count": 305,
     "metadata": {},
     "output_type": "execute_result"
    },
    {
     "data": {
      "image/png": "[encoded data removed]",
      "text/plain": [
       "<Figure size 432x288 with 1 Axes>"
      ]
     },
     "metadata": {
      "needs_background": "light"
     },
     "output_type": "display_data"
    }
   ],
   "source": [
    "test.plot(kind='scatter', x='roomnights', y='actual_days')"
   ]
  },
  {
   "cell_type": "code",
   "execution_count": 279,
   "metadata": {},
   "outputs": [],
   "source": [
    "#TRAIN - remove total_pax 24 and cap above 13 to 21 \n",
    "train = train[train.total_pax != 24]"
   ]
  },
  {
   "cell_type": "code",
   "execution_count": 280,
   "metadata": {},
   "outputs": [],
   "source": [
    "train.loc[(train.total_pax > 13), \"total_pax\"] = 21"
   ]
  },
  {
   "cell_type": "code",
   "execution_count": 281,
   "metadata": {},
   "outputs": [],
   "source": [
    "#TRAIN - actual days above 15 removed\n",
    "train = train[train.actual_days < 15]"
   ]
  },
  {
   "cell_type": "code",
   "execution_count": 282,
   "metadata": {},
   "outputs": [],
   "source": [
    "def replace_roomnight(row):\n",
    "    if row['roomnights'] == 80:\n",
    "        return 3\n",
    "    else:\n",
    "        return row['roomnights']"
   ]
  },
  {
   "cell_type": "code",
   "execution_count": 283,
   "metadata": {},
   "outputs": [],
   "source": [
    "#TEST - change roomnights 80 to 3\n",
    "test['roomnights'] = test.apply(replace_roomnight, axis=1)"
   ]
  },
  {
   "cell_type": "code",
   "execution_count": 284,
   "metadata": {},
   "outputs": [],
   "source": [
    "#TRAIN - numberofchildren remove 13 and cap 12 to 10\n",
    "train = train[train.numberofchildren != 15]"
   ]
  },
  {
   "cell_type": "code",
   "execution_count": 285,
   "metadata": {},
   "outputs": [],
   "source": [
    "def replace_child(row):\n",
    "    if row['numberofchildren'] == 12:\n",
    "        return 10\n",
    "    else:\n",
    "        return row['numberofchildren']"
   ]
  },
  {
   "cell_type": "code",
   "execution_count": 286,
   "metadata": {},
   "outputs": [],
   "source": [
    "train['numberofchildren'] = train.apply(replace_child, axis = 1)"
   ]
  },
  {
   "cell_type": "code",
   "execution_count": 287,
   "metadata": {},
   "outputs": [],
   "source": [
    "#TEST - numberofchildren cap 9 to 10\n",
    "def replace_child_t(row):\n",
    "    if row['numberofchildren'] == 9:\n",
    "        return 10\n",
    "    else:\n",
    "        return row['numberofchildren']"
   ]
  },
  {
   "cell_type": "code",
   "execution_count": 288,
   "metadata": {},
   "outputs": [],
   "source": [
    "test['numberofchildren'] = test.apply(replace_child_t, axis = 1)"
   ]
  },
  {
   "cell_type": "code",
   "execution_count": 289,
   "metadata": {},
   "outputs": [],
   "source": [
    "#TRAIN - remove numberofadults 23 and 25\n",
    "train = train[~train['numberofadults'].isin([23,25])]"
   ]
  },
  {
   "cell_type": "code",
   "execution_count": 290,
   "metadata": {},
   "outputs": [],
   "source": [
    "#TEST - numberofadults cap 29 to 30 and change children to 0\n",
    "def replace_adult_t(row):\n",
    "    if row['numberofadults'] == 29:\n",
    "        return 30\n",
    "    else:\n",
    "        return row['numberofadults']\n",
    "    \n",
    "def replace_child_adult(row):\n",
    "    if row['numberofadults'] == 30:\n",
    "        return 0\n",
    "    else:\n",
    "        return row['numberofchildren']\n",
    "    "
   ]
  },
  {
   "cell_type": "code",
   "execution_count": 291,
   "metadata": {},
   "outputs": [],
   "source": [
    "test['numberofadults'] = test.apply(replace_adult_t, axis = 1)"
   ]
  },
  {
   "cell_type": "code",
   "execution_count": 292,
   "metadata": {},
   "outputs": [],
   "source": [
    "test['numberofchildren'] = test.apply(replace_child_adult, axis = 1)"
   ]
  },
  {
   "cell_type": "code",
   "execution_count": 293,
   "metadata": {},
   "outputs": [],
   "source": [
    "# TRAIN - roomnights cap 29, 31, 34, to 30 and 37,41,42,47,60 to 40\n",
    "def replace_roomnights(row):\n",
    "    if row['roomnights'] in [29,31,34,37]:\n",
    "        return 30\n",
    "    elif row['roomnights'] in [41,42,47,60]:\n",
    "        return 40\n",
    "    else:\n",
    "        return row['roomnights']"
   ]
  },
  {
   "cell_type": "code",
   "execution_count": 294,
   "metadata": {},
   "outputs": [],
   "source": [
    "train['roomnights'] = train.apply(replace_roomnights, axis = 1)"
   ]
  },
  {
   "cell_type": "code",
   "execution_count": 295,
   "metadata": {},
   "outputs": [],
   "source": [
    "# TEST - roomnights cap 40,44,48 to 40\n",
    "def replace_roomnights_t(row):\n",
    "    if row['roomnights'] in [40,44,48]:\n",
    "        return 40\n",
    "    else:\n",
    "        return row['roomnights']"
   ]
  },
  {
   "cell_type": "code",
   "execution_count": 296,
   "metadata": {},
   "outputs": [],
   "source": [
    "test['roomnights'] = test.apply(replace_roomnights_t, axis = 1)"
   ]
  },
  {
   "cell_type": "code",
   "execution_count": 321,
   "metadata": {},
   "outputs": [],
   "source": [
    "train['booking_checkin_days'] = (train['checkin_date'] - train['booking_date']).dt.days"
   ]
  },
  {
   "cell_type": "code",
   "execution_count": 322,
   "metadata": {},
   "outputs": [],
   "source": [
    "train['booking_checkout_days'] = (train['checkout_date'] - train['booking_date']).dt.days"
   ]
  },
  {
   "cell_type": "code",
   "execution_count": 323,
   "metadata": {},
   "outputs": [],
   "source": [
    "test['booking_checkin_days'] = (test['checkin_date'] - test['booking_date']).dt.days"
   ]
  },
  {
   "cell_type": "code",
   "execution_count": 324,
   "metadata": {},
   "outputs": [],
   "source": [
    "test['booking_checkout_days'] = (test['checkout_date'] - test['booking_date']).dt.days"
   ]
  },
  {
   "cell_type": "code",
   "execution_count": 325,
   "metadata": {},
   "outputs": [
    {
     "data": {
      "text/plain": [
       "Index(['reservation_id', 'booking_date', 'checkin_date', 'checkout_date',\n",
       "       'channel_code', 'main_product_code', 'numberofadults',\n",
       "       'numberofchildren', 'persontravellingid', 'resort_region_code',\n",
       "       'resort_type_code', 'room_type_booked_code', 'roomnights',\n",
       "       'season_holidayed_code', 'state_code_residence', 'state_code_resort',\n",
       "       'total_pax', 'member_age_buckets', 'booking_type_code', 'memberid',\n",
       "       'cluster_code', 'reservationstatusid_code', 'resort_id', 'actual_days',\n",
       "       'booking_checkin_days', 'booking_checkout_days',\n",
       "       'amount_spent_per_room_night_scaled'],\n",
       "      dtype='object')"
      ]
     },
     "execution_count": 325,
     "metadata": {},
     "output_type": "execute_result"
    }
   ],
   "source": [
    "train.columns"
   ]
  },
  {
   "cell_type": "code",
   "execution_count": 326,
   "metadata": {},
   "outputs": [
    {
     "data": {
      "text/plain": [
       "Index(['reservation_id', 'booking_date', 'checkin_date', 'checkout_date',\n",
       "       'channel_code', 'main_product_code', 'numberofadults',\n",
       "       'numberofchildren', 'persontravellingid', 'resort_region_code',\n",
       "       'resort_type_code', 'room_type_booked_code', 'roomnights',\n",
       "       'season_holidayed_code', 'state_code_residence', 'state_code_resort',\n",
       "       'total_pax', 'member_age_buckets', 'booking_type_code', 'memberid',\n",
       "       'cluster_code', 'reservationstatusid_code', 'resort_id', 'actual_days',\n",
       "       'booking_checkin_days', 'booking_checkout_days'],\n",
       "      dtype='object')"
      ]
     },
     "execution_count": 326,
     "metadata": {},
     "output_type": "execute_result"
    }
   ],
   "source": [
    "test.columns"
   ]
  },
  {
   "cell_type": "code",
   "execution_count": 327,
   "metadata": {},
   "outputs": [],
   "source": [
    "train = train[['reservation_id', 'booking_date', 'checkin_date', 'checkout_date',\n",
    "       'channel_code', 'main_product_code', 'numberofadults',\n",
    "       'numberofchildren', 'persontravellingid', 'resort_region_code',\n",
    "       'resort_type_code', 'room_type_booked_code', 'roomnights',\n",
    "       'season_holidayed_code', 'state_code_residence', 'state_code_resort',\n",
    "       'total_pax', 'member_age_buckets', 'booking_type_code', 'memberid',\n",
    "       'cluster_code', 'reservationstatusid_code', 'resort_id', 'actual_days',\n",
    "       'booking_checkin_days', 'booking_checkout_days', 'amount_spent_per_room_night_scaled']]"
   ]
  },
  {
   "cell_type": "raw",
   "metadata": {},
   "source": [
    "train.to_csv(\"data/train_v2.csv\")"
   ]
  },
  {
   "cell_type": "raw",
   "metadata": {},
   "source": [
    "test.to_csv(\"data/test_v2.csv\")"
   ]
  },
  {
   "cell_type": "code",
   "execution_count": 2,
   "metadata": {},
   "outputs": [],
   "source": [
    "train_v2 = pd.read_csv(\"data/train_v2.csv\").iloc[:, 1:]\n",
    "test_v2 = pd.read_csv(\"data/test_v2.csv\").iloc[:, 1:]"
   ]
  },
  {
   "cell_type": "code",
   "execution_count": 3,
   "metadata": {},
   "outputs": [
    {
     "data": {
      "text/html": [
       "<div>\n",
       "<style scoped>\n",
       "    .dataframe tbody tr th:only-of-type {\n",
       "        vertical-align: middle;\n",
       "    }\n",
       "\n",
       "    .dataframe tbody tr th {\n",
       "        vertical-align: top;\n",
       "    }\n",
       "\n",
       "    .dataframe thead th {\n",
       "        text-align: right;\n",
       "    }\n",
       "</style>\n",
       "<table border=\"1\" class=\"dataframe\">\n",
       "  <thead>\n",
       "    <tr style=\"text-align: right;\">\n",
       "      <th></th>\n",
       "      <th>reservation_id</th>\n",
       "      <th>booking_date</th>\n",
       "      <th>checkin_date</th>\n",
       "      <th>checkout_date</th>\n",
       "      <th>channel_code</th>\n",
       "      <th>main_product_code</th>\n",
       "      <th>numberofadults</th>\n",
       "      <th>numberofchildren</th>\n",
       "      <th>persontravellingid</th>\n",
       "      <th>resort_region_code</th>\n",
       "      <th>...</th>\n",
       "      <th>member_age_buckets</th>\n",
       "      <th>booking_type_code</th>\n",
       "      <th>memberid</th>\n",
       "      <th>cluster_code</th>\n",
       "      <th>reservationstatusid_code</th>\n",
       "      <th>resort_id</th>\n",
       "      <th>actual_days</th>\n",
       "      <th>booking_checkin_days</th>\n",
       "      <th>booking_checkout_days</th>\n",
       "      <th>amount_spent_per_room_night_scaled</th>\n",
       "    </tr>\n",
       "  </thead>\n",
       "  <tbody>\n",
       "    <tr>\n",
       "      <th>0</th>\n",
       "      <td>07659f3758d8aee27f5a7e2887adeacb67021cb95ada1b...</td>\n",
       "      <td>05/04/2018</td>\n",
       "      <td>05/04/2018</td>\n",
       "      <td>06/04/2018</td>\n",
       "      <td>3</td>\n",
       "      <td>1</td>\n",
       "      <td>2</td>\n",
       "      <td>0</td>\n",
       "      <td>46</td>\n",
       "      <td>3</td>\n",
       "      <td>...</td>\n",
       "      <td>F</td>\n",
       "      <td>1</td>\n",
       "      <td>3d1539e56495b6991f0a3ef5a61ca3d03ce4fff7380e9a...</td>\n",
       "      <td>F</td>\n",
       "      <td>C</td>\n",
       "      <td>4e07408562bedb8b60ce05c1decfe3ad16b72230967de0...</td>\n",
       "      <td>1</td>\n",
       "      <td>0</td>\n",
       "      <td>1</td>\n",
       "      <td>7.706428</td>\n",
       "    </tr>\n",
       "    <tr>\n",
       "      <th>1</th>\n",
       "      <td>03930f033646d073462b35d411616323597715ac4fc398...</td>\n",
       "      <td>23/01/2015</td>\n",
       "      <td>11/04/2015</td>\n",
       "      <td>16/04/2015</td>\n",
       "      <td>1</td>\n",
       "      <td>1</td>\n",
       "      <td>2</td>\n",
       "      <td>0</td>\n",
       "      <td>46</td>\n",
       "      <td>3</td>\n",
       "      <td>...</td>\n",
       "      <td>F</td>\n",
       "      <td>1</td>\n",
       "      <td>3d1539e56495b6991f0a3ef5a61ca3d03ce4fff7380e9a...</td>\n",
       "      <td>F</td>\n",
       "      <td>A</td>\n",
       "      <td>39fa9ec190eee7b6f4dff1100d6343e10918d044c75eac...</td>\n",
       "      <td>5</td>\n",
       "      <td>78</td>\n",
       "      <td>83</td>\n",
       "      <td>6.662563</td>\n",
       "    </tr>\n",
       "    <tr>\n",
       "      <th>2</th>\n",
       "      <td>d145a32920e6587ad95bfe299d80c0affa268220535aaf...</td>\n",
       "      <td>28/01/2015</td>\n",
       "      <td>01/02/2015</td>\n",
       "      <td>05/02/2015</td>\n",
       "      <td>1</td>\n",
       "      <td>1</td>\n",
       "      <td>2</td>\n",
       "      <td>0</td>\n",
       "      <td>47</td>\n",
       "      <td>1</td>\n",
       "      <td>...</td>\n",
       "      <td>F</td>\n",
       "      <td>1</td>\n",
       "      <td>3d1539e56495b6991f0a3ef5a61ca3d03ce4fff7380e9a...</td>\n",
       "      <td>E</td>\n",
       "      <td>A</td>\n",
       "      <td>535fa30d7e25dd8a49f1536779734ec8286108d115da50...</td>\n",
       "      <td>4</td>\n",
       "      <td>4</td>\n",
       "      <td>8</td>\n",
       "      <td>7.871602</td>\n",
       "    </tr>\n",
       "    <tr>\n",
       "      <th>3</th>\n",
       "      <td>cfd77f44811ed62f25a220b53324cdbafc662a4c9e5f04...</td>\n",
       "      <td>02/05/2015</td>\n",
       "      <td>11/06/2015</td>\n",
       "      <td>16/06/2015</td>\n",
       "      <td>1</td>\n",
       "      <td>1</td>\n",
       "      <td>2</td>\n",
       "      <td>2</td>\n",
       "      <td>46</td>\n",
       "      <td>2</td>\n",
       "      <td>...</td>\n",
       "      <td>F</td>\n",
       "      <td>1</td>\n",
       "      <td>3d1539e56495b6991f0a3ef5a61ca3d03ce4fff7380e9a...</td>\n",
       "      <td>D</td>\n",
       "      <td>A</td>\n",
       "      <td>d4735e3a265e16eee03f59718b9b5d03019c07d8b6c51f...</td>\n",
       "      <td>5</td>\n",
       "      <td>40</td>\n",
       "      <td>45</td>\n",
       "      <td>5.344943</td>\n",
       "    </tr>\n",
       "    <tr>\n",
       "      <th>4</th>\n",
       "      <td>937cff9e4dcfc2459620153dfc8b9962ac22bea67dfb29...</td>\n",
       "      <td>02/09/2015</td>\n",
       "      <td>14/12/2015</td>\n",
       "      <td>19/12/2015</td>\n",
       "      <td>1</td>\n",
       "      <td>1</td>\n",
       "      <td>2</td>\n",
       "      <td>0</td>\n",
       "      <td>46</td>\n",
       "      <td>2</td>\n",
       "      <td>...</td>\n",
       "      <td>F</td>\n",
       "      <td>1</td>\n",
       "      <td>3d1539e56495b6991f0a3ef5a61ca3d03ce4fff7380e9a...</td>\n",
       "      <td>D</td>\n",
       "      <td>A</td>\n",
       "      <td>d4735e3a265e16eee03f59718b9b5d03019c07d8b6c51f...</td>\n",
       "      <td>5</td>\n",
       "      <td>103</td>\n",
       "      <td>108</td>\n",
       "      <td>7.059346</td>\n",
       "    </tr>\n",
       "  </tbody>\n",
       "</table>\n",
       "<p>5 rows × 27 columns</p>\n",
       "</div>"
      ],
      "text/plain": [
       "                                      reservation_id booking_date  \\\n",
       "0  07659f3758d8aee27f5a7e2887adeacb67021cb95ada1b...   05/04/2018   \n",
       "1  03930f033646d073462b35d411616323597715ac4fc398...   23/01/2015   \n",
       "2  d145a32920e6587ad95bfe299d80c0affa268220535aaf...   28/01/2015   \n",
       "3  cfd77f44811ed62f25a220b53324cdbafc662a4c9e5f04...   02/05/2015   \n",
       "4  937cff9e4dcfc2459620153dfc8b9962ac22bea67dfb29...   02/09/2015   \n",
       "\n",
       "  checkin_date checkout_date  channel_code  main_product_code  numberofadults  \\\n",
       "0   05/04/2018    06/04/2018             3                  1               2   \n",
       "1   11/04/2015    16/04/2015             1                  1               2   \n",
       "2   01/02/2015    05/02/2015             1                  1               2   \n",
       "3   11/06/2015    16/06/2015             1                  1               2   \n",
       "4   14/12/2015    19/12/2015             1                  1               2   \n",
       "\n",
       "   numberofchildren  persontravellingid  resort_region_code  \\\n",
       "0                 0                  46                   3   \n",
       "1                 0                  46                   3   \n",
       "2                 0                  47                   1   \n",
       "3                 2                  46                   2   \n",
       "4                 0                  46                   2   \n",
       "\n",
       "                 ...                  member_age_buckets  booking_type_code  \\\n",
       "0                ...                                   F                  1   \n",
       "1                ...                                   F                  1   \n",
       "2                ...                                   F                  1   \n",
       "3                ...                                   F                  1   \n",
       "4                ...                                   F                  1   \n",
       "\n",
       "                                            memberid  cluster_code  \\\n",
       "0  3d1539e56495b6991f0a3ef5a61ca3d03ce4fff7380e9a...             F   \n",
       "1  3d1539e56495b6991f0a3ef5a61ca3d03ce4fff7380e9a...             F   \n",
       "2  3d1539e56495b6991f0a3ef5a61ca3d03ce4fff7380e9a...             E   \n",
       "3  3d1539e56495b6991f0a3ef5a61ca3d03ce4fff7380e9a...             D   \n",
       "4  3d1539e56495b6991f0a3ef5a61ca3d03ce4fff7380e9a...             D   \n",
       "\n",
       "   reservationstatusid_code  \\\n",
       "0                         C   \n",
       "1                         A   \n",
       "2                         A   \n",
       "3                         A   \n",
       "4                         A   \n",
       "\n",
       "                                           resort_id  actual_days  \\\n",
       "0  4e07408562bedb8b60ce05c1decfe3ad16b72230967de0...            1   \n",
       "1  39fa9ec190eee7b6f4dff1100d6343e10918d044c75eac...            5   \n",
       "2  535fa30d7e25dd8a49f1536779734ec8286108d115da50...            4   \n",
       "3  d4735e3a265e16eee03f59718b9b5d03019c07d8b6c51f...            5   \n",
       "4  d4735e3a265e16eee03f59718b9b5d03019c07d8b6c51f...            5   \n",
       "\n",
       "  booking_checkin_days  booking_checkout_days  \\\n",
       "0                    0                      1   \n",
       "1                   78                     83   \n",
       "2                    4                      8   \n",
       "3                   40                     45   \n",
       "4                  103                    108   \n",
       "\n",
       "  amount_spent_per_room_night_scaled  \n",
       "0                           7.706428  \n",
       "1                           6.662563  \n",
       "2                           7.871602  \n",
       "3                           5.344943  \n",
       "4                           7.059346  \n",
       "\n",
       "[5 rows x 27 columns]"
      ]
     },
     "execution_count": 3,
     "metadata": {},
     "output_type": "execute_result"
    }
   ],
   "source": [
    "train_v2.head()"
   ]
  },
  {
   "cell_type": "code",
   "execution_count": 4,
   "metadata": {},
   "outputs": [],
   "source": [
    "train_v2 = train_v2[train_v2.booking_checkin_days >= 0]"
   ]
  },
  {
   "cell_type": "code",
   "execution_count": 5,
   "metadata": {},
   "outputs": [],
   "source": [
    "train_df = train_v2\n",
    "test_df = test_v2"
   ]
  },
  {
   "cell_type": "code",
   "execution_count": 6,
   "metadata": {},
   "outputs": [
    {
     "data": {
      "text/html": [
       "<div>\n",
       "<style scoped>\n",
       "    .dataframe tbody tr th:only-of-type {\n",
       "        vertical-align: middle;\n",
       "    }\n",
       "\n",
       "    .dataframe tbody tr th {\n",
       "        vertical-align: top;\n",
       "    }\n",
       "\n",
       "    .dataframe thead th {\n",
       "        text-align: right;\n",
       "    }\n",
       "</style>\n",
       "<table border=\"1\" class=\"dataframe\">\n",
       "  <thead>\n",
       "    <tr style=\"text-align: right;\">\n",
       "      <th></th>\n",
       "      <th>reservation_id</th>\n",
       "      <th>booking_date</th>\n",
       "      <th>checkin_date</th>\n",
       "      <th>checkout_date</th>\n",
       "      <th>channel_code</th>\n",
       "      <th>main_product_code</th>\n",
       "      <th>numberofadults</th>\n",
       "      <th>numberofchildren</th>\n",
       "      <th>persontravellingid</th>\n",
       "      <th>resort_region_code</th>\n",
       "      <th>...</th>\n",
       "      <th>total_pax</th>\n",
       "      <th>member_age_buckets</th>\n",
       "      <th>booking_type_code</th>\n",
       "      <th>memberid</th>\n",
       "      <th>cluster_code</th>\n",
       "      <th>reservationstatusid_code</th>\n",
       "      <th>resort_id</th>\n",
       "      <th>actual_days</th>\n",
       "      <th>booking_checkin_days</th>\n",
       "      <th>booking_checkout_days</th>\n",
       "    </tr>\n",
       "  </thead>\n",
       "  <tbody>\n",
       "    <tr>\n",
       "      <th>0</th>\n",
       "      <td>7dae1ce6bc8f69481328f2be5c4943077dad5598b5f66d...</td>\n",
       "      <td>05/04/2018</td>\n",
       "      <td>05/04/2018</td>\n",
       "      <td>06/04/2018</td>\n",
       "      <td>3</td>\n",
       "      <td>2</td>\n",
       "      <td>2</td>\n",
       "      <td>0</td>\n",
       "      <td>45</td>\n",
       "      <td>3</td>\n",
       "      <td>...</td>\n",
       "      <td>3</td>\n",
       "      <td>H</td>\n",
       "      <td>1</td>\n",
       "      <td>2114944930dcc42ce5b9b50ae965cf8a9c04e46be63d84...</td>\n",
       "      <td>A</td>\n",
       "      <td>C</td>\n",
       "      <td>9f14025af0065b30e47e23ebb3b491d39ae8ed17d33739...</td>\n",
       "      <td>1</td>\n",
       "      <td>0</td>\n",
       "      <td>1</td>\n",
       "    </tr>\n",
       "    <tr>\n",
       "      <th>1</th>\n",
       "      <td>fe0d4e444e1818436c88f72f1cf800536c2f785e59baeb...</td>\n",
       "      <td>24/05/2015</td>\n",
       "      <td>23/06/2015</td>\n",
       "      <td>27/06/2015</td>\n",
       "      <td>1</td>\n",
       "      <td>2</td>\n",
       "      <td>4</td>\n",
       "      <td>0</td>\n",
       "      <td>45</td>\n",
       "      <td>1</td>\n",
       "      <td>...</td>\n",
       "      <td>2</td>\n",
       "      <td>H</td>\n",
       "      <td>1</td>\n",
       "      <td>2114944930dcc42ce5b9b50ae965cf8a9c04e46be63d84...</td>\n",
       "      <td>F</td>\n",
       "      <td>A</td>\n",
       "      <td>e7f6c011776e8db7cd330b54174fd76f7d0216b612387a...</td>\n",
       "      <td>4</td>\n",
       "      <td>30</td>\n",
       "      <td>34</td>\n",
       "    </tr>\n",
       "    <tr>\n",
       "      <th>2</th>\n",
       "      <td>540bd4285ad8168e8388f84ee74a82cd4f97dc0a404d3e...</td>\n",
       "      <td>21/07/2015</td>\n",
       "      <td>07/08/2015</td>\n",
       "      <td>10/08/2015</td>\n",
       "      <td>3</td>\n",
       "      <td>2</td>\n",
       "      <td>3</td>\n",
       "      <td>0</td>\n",
       "      <td>45</td>\n",
       "      <td>2</td>\n",
       "      <td>...</td>\n",
       "      <td>3</td>\n",
       "      <td>H</td>\n",
       "      <td>1</td>\n",
       "      <td>2114944930dcc42ce5b9b50ae965cf8a9c04e46be63d84...</td>\n",
       "      <td>D</td>\n",
       "      <td>A</td>\n",
       "      <td>d4735e3a265e16eee03f59718b9b5d03019c07d8b6c51f...</td>\n",
       "      <td>3</td>\n",
       "      <td>17</td>\n",
       "      <td>20</td>\n",
       "    </tr>\n",
       "    <tr>\n",
       "      <th>3</th>\n",
       "      <td>09593c907ae262e46f655b4db9e14f54a19eadcfdd2679...</td>\n",
       "      <td>31/07/2015</td>\n",
       "      <td>22/10/2015</td>\n",
       "      <td>25/10/2015</td>\n",
       "      <td>1</td>\n",
       "      <td>2</td>\n",
       "      <td>3</td>\n",
       "      <td>0</td>\n",
       "      <td>45</td>\n",
       "      <td>1</td>\n",
       "      <td>...</td>\n",
       "      <td>3</td>\n",
       "      <td>H</td>\n",
       "      <td>1</td>\n",
       "      <td>2114944930dcc42ce5b9b50ae965cf8a9c04e46be63d84...</td>\n",
       "      <td>F</td>\n",
       "      <td>A</td>\n",
       "      <td>49d180ecf56132819571bf39d9b7b342522a2ac6d23c14...</td>\n",
       "      <td>3</td>\n",
       "      <td>83</td>\n",
       "      <td>86</td>\n",
       "    </tr>\n",
       "    <tr>\n",
       "      <th>4</th>\n",
       "      <td>f4c50caac68051faf37551d70bb17eebef2a20e2244cb1...</td>\n",
       "      <td>01/07/2016</td>\n",
       "      <td>01/10/2016</td>\n",
       "      <td>05/10/2016</td>\n",
       "      <td>1</td>\n",
       "      <td>2</td>\n",
       "      <td>4</td>\n",
       "      <td>0</td>\n",
       "      <td>45</td>\n",
       "      <td>1</td>\n",
       "      <td>...</td>\n",
       "      <td>2</td>\n",
       "      <td>H</td>\n",
       "      <td>1</td>\n",
       "      <td>2114944930dcc42ce5b9b50ae965cf8a9c04e46be63d84...</td>\n",
       "      <td>F</td>\n",
       "      <td>A</td>\n",
       "      <td>e29c9c180c6279b0b02abd6a1801c7c04082cf486ec027...</td>\n",
       "      <td>4</td>\n",
       "      <td>92</td>\n",
       "      <td>96</td>\n",
       "    </tr>\n",
       "  </tbody>\n",
       "</table>\n",
       "<p>5 rows × 26 columns</p>\n",
       "</div>"
      ],
      "text/plain": [
       "                                      reservation_id booking_date  \\\n",
       "0  7dae1ce6bc8f69481328f2be5c4943077dad5598b5f66d...   05/04/2018   \n",
       "1  fe0d4e444e1818436c88f72f1cf800536c2f785e59baeb...   24/05/2015   \n",
       "2  540bd4285ad8168e8388f84ee74a82cd4f97dc0a404d3e...   21/07/2015   \n",
       "3  09593c907ae262e46f655b4db9e14f54a19eadcfdd2679...   31/07/2015   \n",
       "4  f4c50caac68051faf37551d70bb17eebef2a20e2244cb1...   01/07/2016   \n",
       "\n",
       "  checkin_date checkout_date  channel_code  main_product_code  numberofadults  \\\n",
       "0   05/04/2018    06/04/2018             3                  2               2   \n",
       "1   23/06/2015    27/06/2015             1                  2               4   \n",
       "2   07/08/2015    10/08/2015             3                  2               3   \n",
       "3   22/10/2015    25/10/2015             1                  2               3   \n",
       "4   01/10/2016    05/10/2016             1                  2               4   \n",
       "\n",
       "   numberofchildren  persontravellingid  resort_region_code  \\\n",
       "0                 0                  45                   3   \n",
       "1                 0                  45                   1   \n",
       "2                 0                  45                   2   \n",
       "3                 0                  45                   1   \n",
       "4                 0                  45                   1   \n",
       "\n",
       "           ...           total_pax  member_age_buckets  booking_type_code  \\\n",
       "0          ...                   3                   H                  1   \n",
       "1          ...                   2                   H                  1   \n",
       "2          ...                   3                   H                  1   \n",
       "3          ...                   3                   H                  1   \n",
       "4          ...                   2                   H                  1   \n",
       "\n",
       "                                            memberid  cluster_code  \\\n",
       "0  2114944930dcc42ce5b9b50ae965cf8a9c04e46be63d84...             A   \n",
       "1  2114944930dcc42ce5b9b50ae965cf8a9c04e46be63d84...             F   \n",
       "2  2114944930dcc42ce5b9b50ae965cf8a9c04e46be63d84...             D   \n",
       "3  2114944930dcc42ce5b9b50ae965cf8a9c04e46be63d84...             F   \n",
       "4  2114944930dcc42ce5b9b50ae965cf8a9c04e46be63d84...             F   \n",
       "\n",
       "   reservationstatusid_code  \\\n",
       "0                         C   \n",
       "1                         A   \n",
       "2                         A   \n",
       "3                         A   \n",
       "4                         A   \n",
       "\n",
       "                                           resort_id actual_days  \\\n",
       "0  9f14025af0065b30e47e23ebb3b491d39ae8ed17d33739...           1   \n",
       "1  e7f6c011776e8db7cd330b54174fd76f7d0216b612387a...           4   \n",
       "2  d4735e3a265e16eee03f59718b9b5d03019c07d8b6c51f...           3   \n",
       "3  49d180ecf56132819571bf39d9b7b342522a2ac6d23c14...           3   \n",
       "4  e29c9c180c6279b0b02abd6a1801c7c04082cf486ec027...           4   \n",
       "\n",
       "   booking_checkin_days booking_checkout_days  \n",
       "0                     0                     1  \n",
       "1                    30                    34  \n",
       "2                    17                    20  \n",
       "3                    83                    86  \n",
       "4                    92                    96  \n",
       "\n",
       "[5 rows x 26 columns]"
      ]
     },
     "execution_count": 6,
     "metadata": {},
     "output_type": "execute_result"
    }
   ],
   "source": [
    "test_df.head()"
   ]
  },
  {
   "cell_type": "code",
   "execution_count": 7,
   "metadata": {},
   "outputs": [
    {
     "name": "stdout",
     "output_type": "stream",
     "text": [
      "<class 'pandas.core.frame.DataFrame'>\n",
      "Int64Index: 341392 entries, 0 to 341396\n",
      "Data columns (total 27 columns):\n",
      "reservation_id                        341392 non-null object\n",
      "booking_date                          341392 non-null object\n",
      "checkin_date                          341392 non-null object\n",
      "checkout_date                         341392 non-null object\n",
      "channel_code                          341392 non-null int64\n",
      "main_product_code                     341392 non-null int64\n",
      "numberofadults                        341392 non-null int64\n",
      "numberofchildren                      341392 non-null int64\n",
      "persontravellingid                    341392 non-null int64\n",
      "resort_region_code                    341392 non-null int64\n",
      "resort_type_code                      341392 non-null int64\n",
      "room_type_booked_code                 341392 non-null int64\n",
      "roomnights                            341392 non-null int64\n",
      "season_holidayed_code                 341392 non-null int64\n",
      "state_code_residence                  341392 non-null int64\n",
      "state_code_resort                     341392 non-null int64\n",
      "total_pax                             341392 non-null int64\n",
      "member_age_buckets                    341392 non-null object\n",
      "booking_type_code                     341392 non-null int64\n",
      "memberid                              341392 non-null object\n",
      "cluster_code                          341392 non-null object\n",
      "reservationstatusid_code              341392 non-null object\n",
      "resort_id                             341392 non-null object\n",
      "actual_days                           341392 non-null int64\n",
      "booking_checkin_days                  341392 non-null int64\n",
      "booking_checkout_days                 341392 non-null int64\n",
      "amount_spent_per_room_night_scaled    341392 non-null float64\n",
      "dtypes: float64(1), int64(17), object(9)\n",
      "memory usage: 72.9+ MB\n"
     ]
    }
   ],
   "source": [
    "train_df.info()"
   ]
  },
  {
   "cell_type": "code",
   "execution_count": 379,
   "metadata": {},
   "outputs": [],
   "source": [
    "tmpvar = {}\n",
    "col_index = {}\n",
    "\n",
    "for i in train_df.columns:\n",
    "    tmpvar[i] = train_df[i].unique().size\n",
    "    col_index[i] = train_df.columns.get_loc(i)\n"
   ]
  },
  {
   "cell_type": "code",
   "execution_count": 380,
   "metadata": {},
   "outputs": [
    {
     "data": {
      "text/plain": [
       "{'reservation_id': 341392,\n",
       " 'booking_date': 1621,\n",
       " 'checkin_date': 1527,\n",
       " 'checkout_date': 1527,\n",
       " 'channel_code': 3,\n",
       " 'main_product_code': 5,\n",
       " 'numberofadults': 26,\n",
       " 'numberofchildren': 11,\n",
       " 'persontravellingid': 6,\n",
       " 'resort_region_code': 3,\n",
       " 'resort_type_code': 7,\n",
       " 'room_type_booked_code': 6,\n",
       " 'roomnights': 36,\n",
       " 'season_holidayed_code': 4,\n",
       " 'state_code_residence': 38,\n",
       " 'state_code_resort': 11,\n",
       " 'total_pax': 15,\n",
       " 'member_age_buckets': 10,\n",
       " 'booking_type_code': 2,\n",
       " 'memberid': 101327,\n",
       " 'cluster_code': 6,\n",
       " 'reservationstatusid_code': 3,\n",
       " 'resort_id': 32,\n",
       " 'actual_days': 14,\n",
       " 'booking_checkin_days': 127,\n",
       " 'booking_checkout_days': 129,\n",
       " 'amount_spent_per_room_night_scaled': 278059}"
      ]
     },
     "execution_count": 380,
     "metadata": {},
     "output_type": "execute_result"
    }
   ],
   "source": [
    "tmpvar"
   ]
  },
  {
   "cell_type": "code",
   "execution_count": 381,
   "metadata": {},
   "outputs": [],
   "source": [
    "tmpvar_test = {}\n",
    "col_index_test = {}\n",
    "\n",
    "for i in test_df.columns:\n",
    "    tmpvar_test[i] = test_df[i].unique().size\n",
    "    col_index_test[i] = test_df.columns.get_loc(i)"
   ]
  },
  {
   "cell_type": "code",
   "execution_count": 382,
   "metadata": {},
   "outputs": [
    {
     "data": {
      "text/plain": [
       "{'reservation_id': 146765,\n",
       " 'booking_date': 1620,\n",
       " 'checkin_date': 1523,\n",
       " 'checkout_date': 1524,\n",
       " 'channel_code': 3,\n",
       " 'main_product_code': 5,\n",
       " 'numberofadults': 26,\n",
       " 'numberofchildren': 10,\n",
       " 'persontravellingid': 6,\n",
       " 'resort_region_code': 3,\n",
       " 'resort_type_code': 7,\n",
       " 'room_type_booked_code': 6,\n",
       " 'roomnights': 36,\n",
       " 'season_holidayed_code': 4,\n",
       " 'state_code_residence': 38,\n",
       " 'state_code_resort': 11,\n",
       " 'total_pax': 15,\n",
       " 'member_age_buckets': 10,\n",
       " 'booking_type_code': 2,\n",
       " 'memberid': 43496,\n",
       " 'cluster_code': 6,\n",
       " 'reservationstatusid_code': 3,\n",
       " 'resort_id': 32,\n",
       " 'actual_days': 15,\n",
       " 'booking_checkin_days': 126,\n",
       " 'booking_checkout_days': 131}"
      ]
     },
     "execution_count": 382,
     "metadata": {},
     "output_type": "execute_result"
    }
   ],
   "source": [
    "tmpvar_test"
   ]
  },
  {
   "cell_type": "raw",
   "metadata": {},
   "source": [
    "train_df.apply(LabelEncoder().fit_transform)"
   ]
  },
  {
   "cell_type": "raw",
   "metadata": {},
   "source": [
    "#Check MemberID in test and train\n",
    "train_members = train_df.memberid.unique()\n",
    "test_members = test_df.memberid.unique()"
   ]
  },
  {
   "cell_type": "raw",
   "metadata": {},
   "source": [
    "members = []\n",
    "for i in test_members:\n",
    "    if i not in train_members:\n",
    "        members.append(i)"
   ]
  },
  {
   "cell_type": "raw",
   "metadata": {},
   "source": [
    "len(members)"
   ]
  },
  {
   "cell_type": "code",
   "execution_count": 8,
   "metadata": {},
   "outputs": [],
   "source": [
    "# Dropping MEMBER ID coz it will create issue in the model.\n",
    "train_df = train_df.drop(['memberid'], axis=1)\n",
    "test_df = test_df.drop(['memberid'], axis=1)"
   ]
  },
  {
   "cell_type": "code",
   "execution_count": 9,
   "metadata": {},
   "outputs": [],
   "source": [
    "from sklearn.preprocessing import LabelEncoder"
   ]
  },
  {
   "cell_type": "code",
   "execution_count": 10,
   "metadata": {},
   "outputs": [],
   "source": [
    "for i in ['member_age_buckets','cluster_code','reservationstatusid_code','resort_id']:\n",
    "    label_encoder = LabelEncoder()\n",
    "    fitted = label_encoder.fit(train_df[i]) \n",
    "    train_df[i] = fitted.transform(train_df[i])\n",
    "    test_df[i] = fitted.transform(test_df[i])"
   ]
  },
  {
   "cell_type": "code",
   "execution_count": 16,
   "metadata": {},
   "outputs": [],
   "source": [
    "train_df['checkin_date'] = train_df.apply(convert_checkin_date, axis=1)"
   ]
  },
  {
   "cell_type": "code",
   "execution_count": 17,
   "metadata": {},
   "outputs": [],
   "source": [
    "test_df['checkin_date'] = test_df.apply(convert_checkin_date_t, axis=1)"
   ]
  },
  {
   "cell_type": "code",
   "execution_count": 18,
   "metadata": {},
   "outputs": [],
   "source": [
    "# Extracting month may help in identifying vacation months.\n",
    "train_df['booking_month'] = train_df['checkin_date'].dt.month"
   ]
  },
  {
   "cell_type": "code",
   "execution_count": 19,
   "metadata": {},
   "outputs": [],
   "source": [
    "test_df['booking_month'] = test_df['checkin_date'].dt.month"
   ]
  },
  {
   "cell_type": "code",
   "execution_count": 20,
   "metadata": {},
   "outputs": [],
   "source": [
    "def mark_vacation(row):\n",
    "    if row['booking_month'] in [12,1,4,5]:\n",
    "        return 1\n",
    "    else:\n",
    "        return 0"
   ]
  },
  {
   "cell_type": "code",
   "execution_count": 21,
   "metadata": {},
   "outputs": [],
   "source": [
    "train_df['is_vacation'] = train_df.apply(mark_vacation, axis=1)\n",
    "test_df['is_vacation'] = test_df.apply(mark_vacation, axis=1)"
   ]
  },
  {
   "cell_type": "code",
   "execution_count": 22,
   "metadata": {},
   "outputs": [],
   "source": [
    "train_df = train_df[['reservation_id', 'booking_date', 'checkin_date', 'checkout_date',\n",
    "       'channel_code', 'main_product_code', 'numberofadults',\n",
    "       'numberofchildren', 'persontravellingid', 'resort_region_code',\n",
    "       'resort_type_code', 'room_type_booked_code', 'roomnights',\n",
    "       'season_holidayed_code', 'state_code_residence', 'state_code_resort',\n",
    "       'total_pax', 'member_age_buckets', 'booking_type_code', 'cluster_code',\n",
    "       'reservationstatusid_code', 'resort_id', 'actual_days',\n",
    "       'booking_checkin_days', 'booking_checkout_days',\n",
    "       'booking_month', 'is_vacation', 'amount_spent_per_room_night_scaled']]"
   ]
  },
  {
   "cell_type": "code",
   "execution_count": 23,
   "metadata": {},
   "outputs": [],
   "source": [
    "#Drop Date columns\n",
    "train_df = train_df.drop(['booking_date'], axis=1)\n",
    "test_df = test_df.drop(['booking_date'], axis=1)\n",
    "\n",
    "train_df = train_df.drop(['checkin_date'], axis=1)\n",
    "test_df = test_df.drop(['checkin_date'], axis=1)\n",
    "\n",
    "train_df = train_df.drop(['checkout_date'], axis=1)\n",
    "test_df = test_df.drop(['checkout_date'], axis=1)\n"
   ]
  },
  {
   "cell_type": "code",
   "execution_count": 24,
   "metadata": {},
   "outputs": [
    {
     "data": {
      "text/html": [
       "<div>\n",
       "<style scoped>\n",
       "    .dataframe tbody tr th:only-of-type {\n",
       "        vertical-align: middle;\n",
       "    }\n",
       "\n",
       "    .dataframe tbody tr th {\n",
       "        vertical-align: top;\n",
       "    }\n",
       "\n",
       "    .dataframe thead th {\n",
       "        text-align: right;\n",
       "    }\n",
       "</style>\n",
       "<table border=\"1\" class=\"dataframe\">\n",
       "  <thead>\n",
       "    <tr style=\"text-align: right;\">\n",
       "      <th></th>\n",
       "      <th>reservation_id</th>\n",
       "      <th>channel_code</th>\n",
       "      <th>main_product_code</th>\n",
       "      <th>numberofadults</th>\n",
       "      <th>numberofchildren</th>\n",
       "      <th>persontravellingid</th>\n",
       "      <th>resort_region_code</th>\n",
       "      <th>resort_type_code</th>\n",
       "      <th>room_type_booked_code</th>\n",
       "      <th>roomnights</th>\n",
       "      <th>...</th>\n",
       "      <th>booking_type_code</th>\n",
       "      <th>cluster_code</th>\n",
       "      <th>reservationstatusid_code</th>\n",
       "      <th>resort_id</th>\n",
       "      <th>actual_days</th>\n",
       "      <th>booking_checkin_days</th>\n",
       "      <th>booking_checkout_days</th>\n",
       "      <th>booking_month</th>\n",
       "      <th>is_vacation</th>\n",
       "      <th>amount_spent_per_room_night_scaled</th>\n",
       "    </tr>\n",
       "  </thead>\n",
       "  <tbody>\n",
       "    <tr>\n",
       "      <th>0</th>\n",
       "      <td>07659f3758d8aee27f5a7e2887adeacb67021cb95ada1b...</td>\n",
       "      <td>3</td>\n",
       "      <td>1</td>\n",
       "      <td>2</td>\n",
       "      <td>0</td>\n",
       "      <td>46</td>\n",
       "      <td>3</td>\n",
       "      <td>3</td>\n",
       "      <td>3</td>\n",
       "      <td>1</td>\n",
       "      <td>...</td>\n",
       "      <td>1</td>\n",
       "      <td>5</td>\n",
       "      <td>2</td>\n",
       "      <td>7</td>\n",
       "      <td>1</td>\n",
       "      <td>0</td>\n",
       "      <td>1</td>\n",
       "      <td>4</td>\n",
       "      <td>1</td>\n",
       "      <td>7.706428</td>\n",
       "    </tr>\n",
       "    <tr>\n",
       "      <th>1</th>\n",
       "      <td>03930f033646d073462b35d411616323597715ac4fc398...</td>\n",
       "      <td>1</td>\n",
       "      <td>1</td>\n",
       "      <td>2</td>\n",
       "      <td>0</td>\n",
       "      <td>46</td>\n",
       "      <td>3</td>\n",
       "      <td>3</td>\n",
       "      <td>4</td>\n",
       "      <td>5</td>\n",
       "      <td>...</td>\n",
       "      <td>1</td>\n",
       "      <td>5</td>\n",
       "      <td>0</td>\n",
       "      <td>1</td>\n",
       "      <td>5</td>\n",
       "      <td>78</td>\n",
       "      <td>83</td>\n",
       "      <td>4</td>\n",
       "      <td>1</td>\n",
       "      <td>6.662563</td>\n",
       "    </tr>\n",
       "    <tr>\n",
       "      <th>2</th>\n",
       "      <td>d145a32920e6587ad95bfe299d80c0affa268220535aaf...</td>\n",
       "      <td>1</td>\n",
       "      <td>1</td>\n",
       "      <td>2</td>\n",
       "      <td>0</td>\n",
       "      <td>47</td>\n",
       "      <td>1</td>\n",
       "      <td>5</td>\n",
       "      <td>4</td>\n",
       "      <td>4</td>\n",
       "      <td>...</td>\n",
       "      <td>1</td>\n",
       "      <td>4</td>\n",
       "      <td>0</td>\n",
       "      <td>9</td>\n",
       "      <td>4</td>\n",
       "      <td>4</td>\n",
       "      <td>8</td>\n",
       "      <td>2</td>\n",
       "      <td>0</td>\n",
       "      <td>7.871602</td>\n",
       "    </tr>\n",
       "    <tr>\n",
       "      <th>3</th>\n",
       "      <td>cfd77f44811ed62f25a220b53324cdbafc662a4c9e5f04...</td>\n",
       "      <td>1</td>\n",
       "      <td>1</td>\n",
       "      <td>2</td>\n",
       "      <td>2</td>\n",
       "      <td>46</td>\n",
       "      <td>2</td>\n",
       "      <td>2</td>\n",
       "      <td>3</td>\n",
       "      <td>5</td>\n",
       "      <td>...</td>\n",
       "      <td>1</td>\n",
       "      <td>3</td>\n",
       "      <td>0</td>\n",
       "      <td>25</td>\n",
       "      <td>5</td>\n",
       "      <td>40</td>\n",
       "      <td>45</td>\n",
       "      <td>6</td>\n",
       "      <td>0</td>\n",
       "      <td>5.344943</td>\n",
       "    </tr>\n",
       "    <tr>\n",
       "      <th>4</th>\n",
       "      <td>937cff9e4dcfc2459620153dfc8b9962ac22bea67dfb29...</td>\n",
       "      <td>1</td>\n",
       "      <td>1</td>\n",
       "      <td>2</td>\n",
       "      <td>0</td>\n",
       "      <td>46</td>\n",
       "      <td>2</td>\n",
       "      <td>2</td>\n",
       "      <td>4</td>\n",
       "      <td>5</td>\n",
       "      <td>...</td>\n",
       "      <td>1</td>\n",
       "      <td>3</td>\n",
       "      <td>0</td>\n",
       "      <td>25</td>\n",
       "      <td>5</td>\n",
       "      <td>103</td>\n",
       "      <td>108</td>\n",
       "      <td>12</td>\n",
       "      <td>1</td>\n",
       "      <td>7.059346</td>\n",
       "    </tr>\n",
       "  </tbody>\n",
       "</table>\n",
       "<p>5 rows × 25 columns</p>\n",
       "</div>"
      ],
      "text/plain": [
       "                                      reservation_id  channel_code  \\\n",
       "0  07659f3758d8aee27f5a7e2887adeacb67021cb95ada1b...             3   \n",
       "1  03930f033646d073462b35d411616323597715ac4fc398...             1   \n",
       "2  d145a32920e6587ad95bfe299d80c0affa268220535aaf...             1   \n",
       "3  cfd77f44811ed62f25a220b53324cdbafc662a4c9e5f04...             1   \n",
       "4  937cff9e4dcfc2459620153dfc8b9962ac22bea67dfb29...             1   \n",
       "\n",
       "   main_product_code  numberofadults  numberofchildren  persontravellingid  \\\n",
       "0                  1               2                 0                  46   \n",
       "1                  1               2                 0                  46   \n",
       "2                  1               2                 0                  47   \n",
       "3                  1               2                 2                  46   \n",
       "4                  1               2                 0                  46   \n",
       "\n",
       "   resort_region_code  resort_type_code  room_type_booked_code  roomnights  \\\n",
       "0                   3                 3                      3           1   \n",
       "1                   3                 3                      4           5   \n",
       "2                   1                 5                      4           4   \n",
       "3                   2                 2                      3           5   \n",
       "4                   2                 2                      4           5   \n",
       "\n",
       "                  ...                  booking_type_code  cluster_code  \\\n",
       "0                 ...                                  1             5   \n",
       "1                 ...                                  1             5   \n",
       "2                 ...                                  1             4   \n",
       "3                 ...                                  1             3   \n",
       "4                 ...                                  1             3   \n",
       "\n",
       "   reservationstatusid_code  resort_id  actual_days  booking_checkin_days  \\\n",
       "0                         2          7            1                     0   \n",
       "1                         0          1            5                    78   \n",
       "2                         0          9            4                     4   \n",
       "3                         0         25            5                    40   \n",
       "4                         0         25            5                   103   \n",
       "\n",
       "   booking_checkout_days  booking_month  is_vacation  \\\n",
       "0                      1              4            1   \n",
       "1                     83              4            1   \n",
       "2                      8              2            0   \n",
       "3                     45              6            0   \n",
       "4                    108             12            1   \n",
       "\n",
       "   amount_spent_per_room_night_scaled  \n",
       "0                            7.706428  \n",
       "1                            6.662563  \n",
       "2                            7.871602  \n",
       "3                            5.344943  \n",
       "4                            7.059346  \n",
       "\n",
       "[5 rows x 25 columns]"
      ]
     },
     "execution_count": 24,
     "metadata": {},
     "output_type": "execute_result"
    }
   ],
   "source": [
    "train_df.head()"
   ]
  },
  {
   "cell_type": "code",
   "execution_count": 25,
   "metadata": {},
   "outputs": [],
   "source": [
    "def replace_child_n(row):\n",
    "    if row['numberofchildren'] > 10:\n",
    "        return 10\n",
    "    else:\n",
    "        return row['numberofchildren']"
   ]
  },
  {
   "cell_type": "code",
   "execution_count": 26,
   "metadata": {},
   "outputs": [],
   "source": [
    "train_df['numberofchildren'] = train_df.apply(replace_child_n, axis=1)"
   ]
  },
  {
   "cell_type": "code",
   "execution_count": 545,
   "metadata": {},
   "outputs": [],
   "source": [
    "train_df = train_df.drop(['booking_checkin_days'], axis=1)\n",
    "test_df = test_df.drop(['booking_checkin_days'], axis=1)\n",
    "\n",
    "train_df = train_df.drop(['booking_checkout_days'], axis=1)\n",
    "test_df = test_df.drop(['booking_checkout_days'], axis=1)"
   ]
  },
  {
   "cell_type": "code",
   "execution_count": 579,
   "metadata": {},
   "outputs": [],
   "source": [
    "train_df = train_df.drop(['booking_month'], axis=1)\n",
    "test_df = test_df.drop(['booking_month'], axis=1)"
   ]
  },
  {
   "cell_type": "code",
   "execution_count": 619,
   "metadata": {},
   "outputs": [],
   "source": [
    "train_df = train_df.drop(['actual_days'], axis=1)\n",
    "test_df = test_df.drop(['actual_days'], axis=1)"
   ]
  },
  {
   "cell_type": "code",
   "execution_count": 39,
   "metadata": {},
   "outputs": [],
   "source": [
    "train_df_lbd = train_df\n",
    "test_df_lbd = test_df"
   ]
  },
  {
   "cell_type": "code",
   "execution_count": 40,
   "metadata": {},
   "outputs": [
    {
     "data": {
      "text/plain": [
       "25"
      ]
     },
     "execution_count": 40,
     "metadata": {},
     "output_type": "execute_result"
    }
   ],
   "source": [
    "train_df_lbd.columns.size"
   ]
  },
  {
   "cell_type": "code",
   "execution_count": 41,
   "metadata": {},
   "outputs": [
    {
     "data": {
      "text/html": [
       "<div>\n",
       "<style scoped>\n",
       "    .dataframe tbody tr th:only-of-type {\n",
       "        vertical-align: middle;\n",
       "    }\n",
       "\n",
       "    .dataframe tbody tr th {\n",
       "        vertical-align: top;\n",
       "    }\n",
       "\n",
       "    .dataframe thead th {\n",
       "        text-align: right;\n",
       "    }\n",
       "</style>\n",
       "<table border=\"1\" class=\"dataframe\">\n",
       "  <thead>\n",
       "    <tr style=\"text-align: right;\">\n",
       "      <th></th>\n",
       "      <th>reservation_id</th>\n",
       "      <th>channel_code</th>\n",
       "      <th>main_product_code</th>\n",
       "      <th>numberofadults</th>\n",
       "      <th>numberofchildren</th>\n",
       "      <th>persontravellingid</th>\n",
       "      <th>resort_region_code</th>\n",
       "      <th>resort_type_code</th>\n",
       "      <th>room_type_booked_code</th>\n",
       "      <th>roomnights</th>\n",
       "      <th>...</th>\n",
       "      <th>booking_type_code</th>\n",
       "      <th>cluster_code</th>\n",
       "      <th>reservationstatusid_code</th>\n",
       "      <th>resort_id</th>\n",
       "      <th>actual_days</th>\n",
       "      <th>booking_checkin_days</th>\n",
       "      <th>booking_checkout_days</th>\n",
       "      <th>booking_month</th>\n",
       "      <th>is_vacation</th>\n",
       "      <th>amount_spent_per_room_night_scaled</th>\n",
       "    </tr>\n",
       "  </thead>\n",
       "  <tbody>\n",
       "    <tr>\n",
       "      <th>0</th>\n",
       "      <td>07659f3758d8aee27f5a7e2887adeacb67021cb95ada1b...</td>\n",
       "      <td>3</td>\n",
       "      <td>1</td>\n",
       "      <td>2</td>\n",
       "      <td>0</td>\n",
       "      <td>46</td>\n",
       "      <td>3</td>\n",
       "      <td>3</td>\n",
       "      <td>3</td>\n",
       "      <td>1</td>\n",
       "      <td>...</td>\n",
       "      <td>1</td>\n",
       "      <td>5</td>\n",
       "      <td>2</td>\n",
       "      <td>7</td>\n",
       "      <td>1</td>\n",
       "      <td>0</td>\n",
       "      <td>1</td>\n",
       "      <td>4</td>\n",
       "      <td>1</td>\n",
       "      <td>7.706428</td>\n",
       "    </tr>\n",
       "    <tr>\n",
       "      <th>1</th>\n",
       "      <td>03930f033646d073462b35d411616323597715ac4fc398...</td>\n",
       "      <td>1</td>\n",
       "      <td>1</td>\n",
       "      <td>2</td>\n",
       "      <td>0</td>\n",
       "      <td>46</td>\n",
       "      <td>3</td>\n",
       "      <td>3</td>\n",
       "      <td>4</td>\n",
       "      <td>5</td>\n",
       "      <td>...</td>\n",
       "      <td>1</td>\n",
       "      <td>5</td>\n",
       "      <td>0</td>\n",
       "      <td>1</td>\n",
       "      <td>5</td>\n",
       "      <td>78</td>\n",
       "      <td>83</td>\n",
       "      <td>4</td>\n",
       "      <td>1</td>\n",
       "      <td>6.662563</td>\n",
       "    </tr>\n",
       "    <tr>\n",
       "      <th>2</th>\n",
       "      <td>d145a32920e6587ad95bfe299d80c0affa268220535aaf...</td>\n",
       "      <td>1</td>\n",
       "      <td>1</td>\n",
       "      <td>2</td>\n",
       "      <td>0</td>\n",
       "      <td>47</td>\n",
       "      <td>1</td>\n",
       "      <td>5</td>\n",
       "      <td>4</td>\n",
       "      <td>4</td>\n",
       "      <td>...</td>\n",
       "      <td>1</td>\n",
       "      <td>4</td>\n",
       "      <td>0</td>\n",
       "      <td>9</td>\n",
       "      <td>4</td>\n",
       "      <td>4</td>\n",
       "      <td>8</td>\n",
       "      <td>2</td>\n",
       "      <td>0</td>\n",
       "      <td>7.871602</td>\n",
       "    </tr>\n",
       "    <tr>\n",
       "      <th>3</th>\n",
       "      <td>cfd77f44811ed62f25a220b53324cdbafc662a4c9e5f04...</td>\n",
       "      <td>1</td>\n",
       "      <td>1</td>\n",
       "      <td>2</td>\n",
       "      <td>2</td>\n",
       "      <td>46</td>\n",
       "      <td>2</td>\n",
       "      <td>2</td>\n",
       "      <td>3</td>\n",
       "      <td>5</td>\n",
       "      <td>...</td>\n",
       "      <td>1</td>\n",
       "      <td>3</td>\n",
       "      <td>0</td>\n",
       "      <td>25</td>\n",
       "      <td>5</td>\n",
       "      <td>40</td>\n",
       "      <td>45</td>\n",
       "      <td>6</td>\n",
       "      <td>0</td>\n",
       "      <td>5.344943</td>\n",
       "    </tr>\n",
       "    <tr>\n",
       "      <th>4</th>\n",
       "      <td>937cff9e4dcfc2459620153dfc8b9962ac22bea67dfb29...</td>\n",
       "      <td>1</td>\n",
       "      <td>1</td>\n",
       "      <td>2</td>\n",
       "      <td>0</td>\n",
       "      <td>46</td>\n",
       "      <td>2</td>\n",
       "      <td>2</td>\n",
       "      <td>4</td>\n",
       "      <td>5</td>\n",
       "      <td>...</td>\n",
       "      <td>1</td>\n",
       "      <td>3</td>\n",
       "      <td>0</td>\n",
       "      <td>25</td>\n",
       "      <td>5</td>\n",
       "      <td>103</td>\n",
       "      <td>108</td>\n",
       "      <td>12</td>\n",
       "      <td>1</td>\n",
       "      <td>7.059346</td>\n",
       "    </tr>\n",
       "  </tbody>\n",
       "</table>\n",
       "<p>5 rows × 25 columns</p>\n",
       "</div>"
      ],
      "text/plain": [
       "                                      reservation_id  channel_code  \\\n",
       "0  07659f3758d8aee27f5a7e2887adeacb67021cb95ada1b...             3   \n",
       "1  03930f033646d073462b35d411616323597715ac4fc398...             1   \n",
       "2  d145a32920e6587ad95bfe299d80c0affa268220535aaf...             1   \n",
       "3  cfd77f44811ed62f25a220b53324cdbafc662a4c9e5f04...             1   \n",
       "4  937cff9e4dcfc2459620153dfc8b9962ac22bea67dfb29...             1   \n",
       "\n",
       "   main_product_code  numberofadults  numberofchildren  persontravellingid  \\\n",
       "0                  1               2                 0                  46   \n",
       "1                  1               2                 0                  46   \n",
       "2                  1               2                 0                  47   \n",
       "3                  1               2                 2                  46   \n",
       "4                  1               2                 0                  46   \n",
       "\n",
       "   resort_region_code  resort_type_code  room_type_booked_code  roomnights  \\\n",
       "0                   3                 3                      3           1   \n",
       "1                   3                 3                      4           5   \n",
       "2                   1                 5                      4           4   \n",
       "3                   2                 2                      3           5   \n",
       "4                   2                 2                      4           5   \n",
       "\n",
       "                  ...                  booking_type_code  cluster_code  \\\n",
       "0                 ...                                  1             5   \n",
       "1                 ...                                  1             5   \n",
       "2                 ...                                  1             4   \n",
       "3                 ...                                  1             3   \n",
       "4                 ...                                  1             3   \n",
       "\n",
       "   reservationstatusid_code  resort_id  actual_days  booking_checkin_days  \\\n",
       "0                         2          7            1                     0   \n",
       "1                         0          1            5                    78   \n",
       "2                         0          9            4                     4   \n",
       "3                         0         25            5                    40   \n",
       "4                         0         25            5                   103   \n",
       "\n",
       "   booking_checkout_days  booking_month  is_vacation  \\\n",
       "0                      1              4            1   \n",
       "1                     83              4            1   \n",
       "2                      8              2            0   \n",
       "3                     45              6            0   \n",
       "4                    108             12            1   \n",
       "\n",
       "   amount_spent_per_room_night_scaled  \n",
       "0                            7.706428  \n",
       "1                            6.662563  \n",
       "2                            7.871602  \n",
       "3                            5.344943  \n",
       "4                            7.059346  \n",
       "\n",
       "[5 rows x 25 columns]"
      ]
     },
     "execution_count": 41,
     "metadata": {},
     "output_type": "execute_result"
    }
   ],
   "source": [
    "train_df_lbd.head()"
   ]
  },
  {
   "cell_type": "code",
   "execution_count": 42,
   "metadata": {},
   "outputs": [],
   "source": [
    "X_reservation_id = train_df_lbd.iloc[:, 0].values\n",
    "train_df_lbd = train_df_lbd.drop(['reservation_id'], axis=1)\n",
    "\n",
    "X2_reservation_id = test_df_lbd.iloc[:, 0].values\n",
    "test_df_lbd = test_df_lbd.drop(['reservation_id'], axis=1)"
   ]
  },
  {
   "cell_type": "code",
   "execution_count": 43,
   "metadata": {},
   "outputs": [],
   "source": [
    "y = train_df_lbd.iloc[:, 23].values\n",
    "train_df_lbd = train_df_lbd.drop(['amount_spent_per_room_night_scaled'], axis=1)"
   ]
  },
  {
   "cell_type": "code",
   "execution_count": 44,
   "metadata": {},
   "outputs": [
    {
     "data": {
      "text/plain": [
       "array([7.70642846, 6.66256293, 7.87160208, ..., 8.38193917, 8.85603547,\n",
       "       7.86462734])"
      ]
     },
     "execution_count": 44,
     "metadata": {},
     "output_type": "execute_result"
    }
   ],
   "source": [
    "y"
   ]
  },
  {
   "cell_type": "code",
   "execution_count": 45,
   "metadata": {},
   "outputs": [
    {
     "data": {
      "text/plain": [
       "Index(['channel_code', 'main_product_code', 'numberofadults',\n",
       "       'numberofchildren', 'persontravellingid', 'resort_region_code',\n",
       "       'resort_type_code', 'room_type_booked_code', 'roomnights',\n",
       "       'season_holidayed_code', 'state_code_residence', 'state_code_resort',\n",
       "       'total_pax', 'member_age_buckets', 'booking_type_code', 'cluster_code',\n",
       "       'reservationstatusid_code', 'resort_id', 'actual_days',\n",
       "       'booking_checkin_days', 'booking_checkout_days', 'booking_month',\n",
       "       'is_vacation'],\n",
       "      dtype='object')"
      ]
     },
     "execution_count": 45,
     "metadata": {},
     "output_type": "execute_result"
    }
   ],
   "source": [
    "train_df_lbd.columns"
   ]
  },
  {
   "cell_type": "code",
   "execution_count": 46,
   "metadata": {},
   "outputs": [
    {
     "data": {
      "text/plain": [
       "Index(['channel_code', 'main_product_code', 'numberofadults',\n",
       "       'numberofchildren', 'persontravellingid', 'resort_region_code',\n",
       "       'resort_type_code', 'room_type_booked_code', 'roomnights',\n",
       "       'season_holidayed_code', 'state_code_residence', 'state_code_resort',\n",
       "       'total_pax', 'member_age_buckets', 'booking_type_code', 'cluster_code',\n",
       "       'reservationstatusid_code', 'resort_id', 'actual_days',\n",
       "       'booking_checkin_days', 'booking_checkout_days', 'booking_month',\n",
       "       'is_vacation'],\n",
       "      dtype='object')"
      ]
     },
     "execution_count": 46,
     "metadata": {},
     "output_type": "execute_result"
    }
   ],
   "source": [
    "test_df_lbd.columns"
   ]
  },
  {
   "cell_type": "code",
   "execution_count": 47,
   "metadata": {},
   "outputs": [],
   "source": [
    "train_df_lbd_one = pd.get_dummies(train_df_lbd, columns= ['channel_code', 'main_product_code', 'numberofadults',\n",
    "       'numberofchildren', 'persontravellingid', 'resort_region_code',\n",
    "       'resort_type_code', 'room_type_booked_code', 'roomnights',\n",
    "       'season_holidayed_code', 'state_code_residence', 'state_code_resort',\n",
    "       'total_pax', 'member_age_buckets', 'booking_type_code', 'cluster_code',\n",
    "       'reservationstatusid_code', 'resort_id',\n",
    "       'is_vacation'], drop_first=True)"
   ]
  },
  {
   "cell_type": "code",
   "execution_count": 48,
   "metadata": {},
   "outputs": [],
   "source": [
    "test_df_lbd_one = pd.get_dummies(test_df_lbd, columns=['channel_code', 'main_product_code', 'numberofadults',\n",
    "       'numberofchildren', 'persontravellingid', 'resort_region_code',\n",
    "       'resort_type_code', 'room_type_booked_code', 'roomnights',\n",
    "       'season_holidayed_code', 'state_code_residence', 'state_code_resort',\n",
    "       'total_pax', 'member_age_buckets', 'booking_type_code', 'cluster_code',\n",
    "       'reservationstatusid_code', 'resort_id',\n",
    "       'is_vacation'], drop_first=True)"
   ]
  },
  {
   "cell_type": "code",
   "execution_count": 49,
   "metadata": {},
   "outputs": [
    {
     "data": {
      "text/html": [
       "<div>\n",
       "<style scoped>\n",
       "    .dataframe tbody tr th:only-of-type {\n",
       "        vertical-align: middle;\n",
       "    }\n",
       "\n",
       "    .dataframe tbody tr th {\n",
       "        vertical-align: top;\n",
       "    }\n",
       "\n",
       "    .dataframe thead th {\n",
       "        text-align: right;\n",
       "    }\n",
       "</style>\n",
       "<table border=\"1\" class=\"dataframe\">\n",
       "  <thead>\n",
       "    <tr style=\"text-align: right;\">\n",
       "      <th></th>\n",
       "      <th>actual_days</th>\n",
       "      <th>booking_checkin_days</th>\n",
       "      <th>booking_checkout_days</th>\n",
       "      <th>booking_month</th>\n",
       "      <th>channel_code_2</th>\n",
       "      <th>channel_code_3</th>\n",
       "      <th>main_product_code_2</th>\n",
       "      <th>main_product_code_3</th>\n",
       "      <th>main_product_code_4</th>\n",
       "      <th>main_product_code_7</th>\n",
       "      <th>...</th>\n",
       "      <th>resort_id_23</th>\n",
       "      <th>resort_id_24</th>\n",
       "      <th>resort_id_25</th>\n",
       "      <th>resort_id_26</th>\n",
       "      <th>resort_id_27</th>\n",
       "      <th>resort_id_28</th>\n",
       "      <th>resort_id_29</th>\n",
       "      <th>resort_id_30</th>\n",
       "      <th>resort_id_31</th>\n",
       "      <th>is_vacation_1</th>\n",
       "    </tr>\n",
       "  </thead>\n",
       "  <tbody>\n",
       "    <tr>\n",
       "      <th>0</th>\n",
       "      <td>1</td>\n",
       "      <td>0</td>\n",
       "      <td>1</td>\n",
       "      <td>4</td>\n",
       "      <td>0</td>\n",
       "      <td>1</td>\n",
       "      <td>0</td>\n",
       "      <td>0</td>\n",
       "      <td>0</td>\n",
       "      <td>0</td>\n",
       "      <td>...</td>\n",
       "      <td>0</td>\n",
       "      <td>0</td>\n",
       "      <td>0</td>\n",
       "      <td>0</td>\n",
       "      <td>0</td>\n",
       "      <td>0</td>\n",
       "      <td>0</td>\n",
       "      <td>0</td>\n",
       "      <td>0</td>\n",
       "      <td>1</td>\n",
       "    </tr>\n",
       "    <tr>\n",
       "      <th>1</th>\n",
       "      <td>5</td>\n",
       "      <td>78</td>\n",
       "      <td>83</td>\n",
       "      <td>4</td>\n",
       "      <td>0</td>\n",
       "      <td>0</td>\n",
       "      <td>0</td>\n",
       "      <td>0</td>\n",
       "      <td>0</td>\n",
       "      <td>0</td>\n",
       "      <td>...</td>\n",
       "      <td>0</td>\n",
       "      <td>0</td>\n",
       "      <td>0</td>\n",
       "      <td>0</td>\n",
       "      <td>0</td>\n",
       "      <td>0</td>\n",
       "      <td>0</td>\n",
       "      <td>0</td>\n",
       "      <td>0</td>\n",
       "      <td>1</td>\n",
       "    </tr>\n",
       "    <tr>\n",
       "      <th>2</th>\n",
       "      <td>4</td>\n",
       "      <td>4</td>\n",
       "      <td>8</td>\n",
       "      <td>2</td>\n",
       "      <td>0</td>\n",
       "      <td>0</td>\n",
       "      <td>0</td>\n",
       "      <td>0</td>\n",
       "      <td>0</td>\n",
       "      <td>0</td>\n",
       "      <td>...</td>\n",
       "      <td>0</td>\n",
       "      <td>0</td>\n",
       "      <td>0</td>\n",
       "      <td>0</td>\n",
       "      <td>0</td>\n",
       "      <td>0</td>\n",
       "      <td>0</td>\n",
       "      <td>0</td>\n",
       "      <td>0</td>\n",
       "      <td>0</td>\n",
       "    </tr>\n",
       "    <tr>\n",
       "      <th>3</th>\n",
       "      <td>5</td>\n",
       "      <td>40</td>\n",
       "      <td>45</td>\n",
       "      <td>6</td>\n",
       "      <td>0</td>\n",
       "      <td>0</td>\n",
       "      <td>0</td>\n",
       "      <td>0</td>\n",
       "      <td>0</td>\n",
       "      <td>0</td>\n",
       "      <td>...</td>\n",
       "      <td>0</td>\n",
       "      <td>0</td>\n",
       "      <td>1</td>\n",
       "      <td>0</td>\n",
       "      <td>0</td>\n",
       "      <td>0</td>\n",
       "      <td>0</td>\n",
       "      <td>0</td>\n",
       "      <td>0</td>\n",
       "      <td>0</td>\n",
       "    </tr>\n",
       "    <tr>\n",
       "      <th>4</th>\n",
       "      <td>5</td>\n",
       "      <td>103</td>\n",
       "      <td>108</td>\n",
       "      <td>12</td>\n",
       "      <td>0</td>\n",
       "      <td>0</td>\n",
       "      <td>0</td>\n",
       "      <td>0</td>\n",
       "      <td>0</td>\n",
       "      <td>0</td>\n",
       "      <td>...</td>\n",
       "      <td>0</td>\n",
       "      <td>0</td>\n",
       "      <td>1</td>\n",
       "      <td>0</td>\n",
       "      <td>0</td>\n",
       "      <td>0</td>\n",
       "      <td>0</td>\n",
       "      <td>0</td>\n",
       "      <td>0</td>\n",
       "      <td>1</td>\n",
       "    </tr>\n",
       "  </tbody>\n",
       "</table>\n",
       "<p>5 rows × 210 columns</p>\n",
       "</div>"
      ],
      "text/plain": [
       "   actual_days  booking_checkin_days  booking_checkout_days  booking_month  \\\n",
       "0            1                     0                      1              4   \n",
       "1            5                    78                     83              4   \n",
       "2            4                     4                      8              2   \n",
       "3            5                    40                     45              6   \n",
       "4            5                   103                    108             12   \n",
       "\n",
       "   channel_code_2  channel_code_3  main_product_code_2  main_product_code_3  \\\n",
       "0               0               1                    0                    0   \n",
       "1               0               0                    0                    0   \n",
       "2               0               0                    0                    0   \n",
       "3               0               0                    0                    0   \n",
       "4               0               0                    0                    0   \n",
       "\n",
       "   main_product_code_4  main_product_code_7      ...        resort_id_23  \\\n",
       "0                    0                    0      ...                   0   \n",
       "1                    0                    0      ...                   0   \n",
       "2                    0                    0      ...                   0   \n",
       "3                    0                    0      ...                   0   \n",
       "4                    0                    0      ...                   0   \n",
       "\n",
       "   resort_id_24  resort_id_25  resort_id_26  resort_id_27  resort_id_28  \\\n",
       "0             0             0             0             0             0   \n",
       "1             0             0             0             0             0   \n",
       "2             0             0             0             0             0   \n",
       "3             0             1             0             0             0   \n",
       "4             0             1             0             0             0   \n",
       "\n",
       "   resort_id_29  resort_id_30  resort_id_31  is_vacation_1  \n",
       "0             0             0             0              1  \n",
       "1             0             0             0              1  \n",
       "2             0             0             0              0  \n",
       "3             0             0             0              0  \n",
       "4             0             0             0              1  \n",
       "\n",
       "[5 rows x 210 columns]"
      ]
     },
     "execution_count": 49,
     "metadata": {},
     "output_type": "execute_result"
    }
   ],
   "source": [
    "train_df_lbd_one.head()"
   ]
  },
  {
   "cell_type": "code",
   "execution_count": 50,
   "metadata": {},
   "outputs": [
    {
     "data": {
      "text/plain": [
       "Index(['actual_days', 'booking_checkin_days', 'booking_checkout_days',\n",
       "       'booking_month', 'channel_code_2', 'channel_code_3',\n",
       "       'main_product_code_2', 'main_product_code_3', 'main_product_code_4',\n",
       "       'main_product_code_7',\n",
       "       ...\n",
       "       'resort_id_23', 'resort_id_24', 'resort_id_25', 'resort_id_26',\n",
       "       'resort_id_27', 'resort_id_28', 'resort_id_29', 'resort_id_30',\n",
       "       'resort_id_31', 'is_vacation_1'],\n",
       "      dtype='object', length=210)"
      ]
     },
     "execution_count": 50,
     "metadata": {},
     "output_type": "execute_result"
    }
   ],
   "source": [
    "train_df_lbd_one.columns"
   ]
  },
  {
   "cell_type": "code",
   "execution_count": 51,
   "metadata": {},
   "outputs": [
    {
     "data": {
      "text/plain": [
       "Index(['actual_days', 'booking_checkin_days', 'booking_checkout_days',\n",
       "       'booking_month', 'channel_code_2', 'channel_code_3',\n",
       "       'main_product_code_2', 'main_product_code_3', 'main_product_code_4',\n",
       "       'main_product_code_7',\n",
       "       ...\n",
       "       'resort_id_23', 'resort_id_24', 'resort_id_25', 'resort_id_26',\n",
       "       'resort_id_27', 'resort_id_28', 'resort_id_29', 'resort_id_30',\n",
       "       'resort_id_31', 'is_vacation_1'],\n",
       "      dtype='object', length=210)"
      ]
     },
     "execution_count": 51,
     "metadata": {},
     "output_type": "execute_result"
    }
   ],
   "source": [
    "test_df_lbd_one.columns"
   ]
  },
  {
   "cell_type": "code",
   "execution_count": 54,
   "metadata": {},
   "outputs": [],
   "source": [
    "for i in test_df_lbd_one.columns:\n",
    "    if i not in train_df_lbd_one.columns:\n",
    "        print(i)"
   ]
  },
  {
   "cell_type": "raw",
   "metadata": {},
   "source": [
    "actual_days_16\n",
    "booking_checkin_days_177\n",
    "booking_checkout_days_130\n",
    "booking_checkout_days_180"
   ]
  },
  {
   "cell_type": "code",
   "execution_count": null,
   "metadata": {},
   "outputs": [],
   "source": [
    "numberofchildren_13\n",
    "booking_checkin_days_125\n",
    "booking_checkin_days_126"
   ]
  },
  {
   "cell_type": "code",
   "execution_count": 523,
   "metadata": {},
   "outputs": [],
   "source": [
    "train_df_lbd_one = train_df_lbd_one.drop(['numberofchildren_13'], axis=1)\n",
    "train_df_lbd_one = train_df_lbd_one.drop(['booking_checkin_days_125'], axis=1)\n",
    "train_df_lbd_one = train_df_lbd_one.drop(['booking_checkin_days_126'], axis=1)"
   ]
  },
  {
   "cell_type": "code",
   "execution_count": 593,
   "metadata": {},
   "outputs": [],
   "source": [
    "test_df_lbd_one = test_df_lbd_one.drop(['actual_days_16'], axis=1)\n",
    "#test_df_lbd_one = test_df_lbd_one.drop(['booking_checkin_days_177'], axis=1)\n",
    "#test_df_lbd_one = test_df_lbd_one.drop(['booking_checkout_days_130'], axis=1)\n",
    "#test_df_lbd_one = test_df_lbd_one.drop(['booking_checkout_days_180'], axis=1)"
   ]
  },
  {
   "cell_type": "code",
   "execution_count": 55,
   "metadata": {},
   "outputs": [],
   "source": [
    "X = train_df_lbd_one.iloc[:, 0:].values\n",
    "X2 = test_df_lbd_one.iloc[:, 0:].values # Test SET"
   ]
  },
  {
   "cell_type": "raw",
   "metadata": {},
   "source": [
    "146765 rows × 486"
   ]
  },
  {
   "cell_type": "code",
   "execution_count": 56,
   "metadata": {},
   "outputs": [
    {
     "data": {
      "text/plain": [
       "'\\n# Feature Scaling\\nfrom sklearn.preprocessing import StandardScaler\\n\\nsc = StandardScaler()\\nX_train = sc.fit_transform(X_train)\\nX_test = sc.transform(X_test)\\nX2_Scaled = sc.transform(X2)\\n'"
      ]
     },
     "execution_count": 56,
     "metadata": {},
     "output_type": "execute_result"
    }
   ],
   "source": [
    "# Splitting the dataset into the Training set and Test set\n",
    "from sklearn.model_selection import train_test_split\n",
    "\n",
    "X_train, X_test, y_train, y_test = train_test_split(X, y, test_size=0.2, random_state=0)\n",
    "\n",
    "\"\"\"\n",
    "# Feature Scaling\n",
    "from sklearn.preprocessing import StandardScaler\n",
    "\n",
    "sc = StandardScaler()\n",
    "X_train = sc.fit_transform(X_train)\n",
    "X_test = sc.transform(X_test)\n",
    "X2_Scaled = sc.transform(X2)\n",
    "\"\"\""
   ]
  },
  {
   "cell_type": "code",
   "execution_count": null,
   "metadata": {},
   "outputs": [],
   "source": [
    "len(X_train[0])"
   ]
  },
  {
   "cell_type": "code",
   "execution_count": 58,
   "metadata": {},
   "outputs": [],
   "source": [
    "from tensorflow.keras.models import Sequential\n",
    "from tensorflow.keras.layers import Dense\n",
    "from tensorflow.keras import backend\n",
    "from tensorflow.keras.wrappers.scikit_learn import KerasRegressor\n",
    "from sklearn.model_selection import cross_val_score\n",
    "from sklearn.model_selection import KFold\n",
    "from sklearn.preprocessing import StandardScaler\n",
    "from sklearn.pipeline import Pipeline"
   ]
  },
  {
   "cell_type": "code",
   "execution_count": 59,
   "metadata": {},
   "outputs": [],
   "source": [
    "import tensorflow as tf"
   ]
  },
  {
   "cell_type": "code",
   "execution_count": 61,
   "metadata": {},
   "outputs": [],
   "source": [
    "from keras import backend\n",
    " \n",
    "def rmse(y_true, y_pred):\n",
    "    return backend.sqrt(backend.mean(backend.square(y_pred - y_true), axis=-1))"
   ]
  },
  {
   "cell_type": "code",
   "execution_count": 64,
   "metadata": {},
   "outputs": [
    {
     "name": "stdout",
     "output_type": "stream",
     "text": [
      "Train on 245801 samples, validate on 27312 samples\n",
      "Epoch 1/50\n",
      "245801/245801 [==============================] - 1s 5us/sample - loss: 13.9537 - rmse: 2.8785 - val_loss: 1.9262 - val_rmse: 1.0868\n",
      "Epoch 2/50\n",
      "245801/245801 [==============================] - 1s 4us/sample - loss: 1.4471 - rmse: 0.9113 - val_loss: 1.2722 - val_rmse: 0.8319\n",
      "Epoch 3/50\n",
      "245801/245801 [==============================] - 1s 4us/sample - loss: 1.1528 - rmse: 0.8008 - val_loss: 1.1236 - val_rmse: 0.7774\n",
      "Epoch 4/50\n",
      "245801/245801 [==============================] - 1s 4us/sample - loss: 1.0610 - rmse: 0.7629 - val_loss: 1.0740 - val_rmse: 0.7814\n",
      "Epoch 5/50\n",
      "245801/245801 [==============================] - 1s 4us/sample - loss: 1.0274 - rmse: 0.7488 - val_loss: 1.0648 - val_rmse: 0.7869\n",
      "Epoch 6/50\n",
      "245801/245801 [==============================] - 1s 4us/sample - loss: 1.0107 - rmse: 0.7416 - val_loss: 1.0305 - val_rmse: 0.7509\n",
      "Epoch 7/50\n",
      "245801/245801 [==============================] - 1s 4us/sample - loss: 0.9993 - rmse: 0.7363 - val_loss: 1.0320 - val_rmse: 0.7308\n",
      "Epoch 8/50\n",
      "245801/245801 [==============================] - 1s 4us/sample - loss: 0.9905 - rmse: 0.7319 - val_loss: 1.0408 - val_rmse: 0.7735\n",
      "Epoch 9/50\n",
      "245801/245801 [==============================] - 1s 4us/sample - loss: 0.9992 - rmse: 0.7368 - val_loss: 1.0146 - val_rmse: 0.7310\n",
      "Epoch 10/50\n",
      "245801/245801 [==============================] - 1s 4us/sample - loss: 0.9852 - rmse: 0.7300 - val_loss: 1.0100 - val_rmse: 0.7432\n",
      "Epoch 11/50\n",
      "245801/245801 [==============================] - 1s 4us/sample - loss: 0.9820 - rmse: 0.7288 - val_loss: 1.0088 - val_rmse: 0.7306\n",
      "Epoch 12/50\n",
      "245801/245801 [==============================] - 1s 4us/sample - loss: 0.9809 - rmse: 0.7285 - val_loss: 1.0412 - val_rmse: 0.7859\n",
      "Epoch 13/50\n",
      "245801/245801 [==============================] - 1s 4us/sample - loss: 0.9781 - rmse: 0.7281 - val_loss: 1.0116 - val_rmse: 0.7534\n",
      "Epoch 14/50\n",
      "245801/245801 [==============================] - 1s 4us/sample - loss: 0.9871 - rmse: 0.7316 - val_loss: 1.0045 - val_rmse: 0.7395\n",
      "Epoch 15/50\n",
      "245801/245801 [==============================] - 1s 4us/sample - loss: 0.9813 - rmse: 0.7288 - val_loss: 1.0313 - val_rmse: 0.7776\n",
      "Epoch 16/50\n",
      "245801/245801 [==============================] - 1s 4us/sample - loss: 0.9840 - rmse: 0.7302 - val_loss: 1.0309 - val_rmse: 0.7788\n",
      "Epoch 17/50\n",
      "245801/245801 [==============================] - 1s 4us/sample - loss: 0.9745 - rmse: 0.7260 - val_loss: 1.0405 - val_rmse: 0.7906\n",
      "Epoch 18/50\n",
      "245801/245801 [==============================] - 1s 4us/sample - loss: 0.9790 - rmse: 0.7284 - val_loss: 1.0090 - val_rmse: 0.7570\n",
      "Epoch 19/50\n",
      "245801/245801 [==============================] - 1s 4us/sample - loss: 0.9714 - rmse: 0.7242 - val_loss: 1.0048 - val_rmse: 0.7497\n",
      "Epoch 20/50\n",
      "245801/245801 [==============================] - 1s 4us/sample - loss: 0.9724 - rmse: 0.7254 - val_loss: 1.0125 - val_rmse: 0.7195\n",
      "Epoch 21/50\n",
      "245801/245801 [==============================] - 1s 4us/sample - loss: 0.9653 - rmse: 0.7214 - val_loss: 1.0015 - val_rmse: 0.7467\n",
      "Epoch 22/50\n",
      "245801/245801 [==============================] - 1s 4us/sample - loss: 0.9739 - rmse: 0.7259 - val_loss: 1.0144 - val_rmse: 0.7168\n",
      "Epoch 23/50\n",
      "245801/245801 [==============================] - 1s 4us/sample - loss: 0.9660 - rmse: 0.7220 - val_loss: 0.9994 - val_rmse: 0.7427\n",
      "Epoch 24/50\n",
      "245801/245801 [==============================] - 1s 4us/sample - loss: 0.9793 - rmse: 0.7284 - val_loss: 1.0102 - val_rmse: 0.7185\n",
      "Epoch 25/50\n",
      "245801/245801 [==============================] - 1s 4us/sample - loss: 0.9646 - rmse: 0.7216 - val_loss: 1.0000 - val_rmse: 0.7206\n",
      "Epoch 26/50\n",
      "245801/245801 [==============================] - 1s 4us/sample - loss: 0.9721 - rmse: 0.7257 - val_loss: 0.9963 - val_rmse: 0.7333\n",
      "Epoch 27/50\n",
      "245801/245801 [==============================] - 1s 4us/sample - loss: 0.9629 - rmse: 0.7212 - val_loss: 1.0072 - val_rmse: 0.7581\n",
      "Epoch 28/50\n",
      "245801/245801 [==============================] - 1s 4us/sample - loss: 0.9680 - rmse: 0.7235 - val_loss: 0.9947 - val_rmse: 0.7336\n",
      "Epoch 29/50\n",
      "245801/245801 [==============================] - 1s 4us/sample - loss: 0.9592 - rmse: 0.7192 - val_loss: 0.9989 - val_rmse: 0.7464\n",
      "Epoch 30/50\n",
      "245801/245801 [==============================] - 1s 4us/sample - loss: 0.9887 - rmse: 0.7341 - val_loss: 1.0995 - val_rmse: 0.7275\n",
      "Epoch 31/50\n",
      "245801/245801 [==============================] - 1s 4us/sample - loss: 0.9659 - rmse: 0.7220 - val_loss: 0.9978 - val_rmse: 0.7438\n",
      "Epoch 32/50\n",
      "245801/245801 [==============================] - 1s 4us/sample - loss: 0.9765 - rmse: 0.7286 - val_loss: 1.0180 - val_rmse: 0.7152\n",
      "Epoch 33/50\n",
      "245801/245801 [==============================] - 1s 4us/sample - loss: 0.9644 - rmse: 0.7221 - val_loss: 1.0243 - val_rmse: 0.7147\n",
      "Epoch 34/50\n",
      "245801/245801 [==============================] - 1s 4us/sample - loss: 0.9606 - rmse: 0.7203 - val_loss: 1.0285 - val_rmse: 0.7779\n",
      "Epoch 35/50\n",
      "245801/245801 [==============================] - 1s 4us/sample - loss: 0.9607 - rmse: 0.7208 - val_loss: 1.0020 - val_rmse: 0.7454\n",
      "Epoch 36/50\n",
      "245801/245801 [==============================] - 1s 4us/sample - loss: 0.9565 - rmse: 0.7186 - val_loss: 1.0057 - val_rmse: 0.7175\n",
      "Epoch 37/50\n",
      "245801/245801 [==============================] - 1s 4us/sample - loss: 0.9575 - rmse: 0.7190 - val_loss: 0.9965 - val_rmse: 0.7420\n",
      "Epoch 38/50\n",
      "245801/245801 [==============================] - 1s 4us/sample - loss: 0.9575 - rmse: 0.7194 - val_loss: 0.9972 - val_rmse: 0.7284\n",
      "Epoch 39/50\n",
      "245801/245801 [==============================] - 1s 4us/sample - loss: 0.9582 - rmse: 0.7195 - val_loss: 0.9950 - val_rmse: 0.7277\n",
      "Epoch 40/50\n",
      "245801/245801 [==============================] - 1s 4us/sample - loss: 0.9712 - rmse: 0.7258 - val_loss: 0.9962 - val_rmse: 0.7390\n",
      "Epoch 41/50\n",
      "245801/245801 [==============================] - 1s 4us/sample - loss: 0.9588 - rmse: 0.7202 - val_loss: 0.9992 - val_rmse: 0.7479\n",
      "Epoch 42/50\n",
      "245801/245801 [==============================] - 1s 4us/sample - loss: 0.9568 - rmse: 0.7192 - val_loss: 0.9967 - val_rmse: 0.7296\n",
      "Epoch 43/50\n",
      "245801/245801 [==============================] - 1s 4us/sample - loss: 0.9676 - rmse: 0.7244 - val_loss: 1.0382 - val_rmse: 0.7178\n",
      "Epoch 44/50\n",
      "245801/245801 [==============================] - 1s 4us/sample - loss: 0.9622 - rmse: 0.7215 - val_loss: 1.0259 - val_rmse: 0.7168\n",
      "Epoch 45/50\n",
      "245801/245801 [==============================] - 1s 4us/sample - loss: 0.9738 - rmse: 0.7268 - val_loss: 1.0001 - val_rmse: 0.7468\n",
      "Epoch 46/50\n",
      "245801/245801 [==============================] - 1s 4us/sample - loss: 0.9527 - rmse: 0.7174 - val_loss: 1.0678 - val_rmse: 0.7202\n",
      "Epoch 47/50\n",
      "245801/245801 [==============================] - 1s 4us/sample - loss: 0.9630 - rmse: 0.7224 - val_loss: 1.0050 - val_rmse: 0.7196\n",
      "Epoch 48/50\n",
      "245801/245801 [==============================] - 1s 4us/sample - loss: 0.9627 - rmse: 0.7221 - val_loss: 1.0667 - val_rmse: 0.8122\n",
      "Epoch 49/50\n",
      "245801/245801 [==============================] - 1s 4us/sample - loss: 0.9639 - rmse: 0.7236 - val_loss: 0.9989 - val_rmse: 0.7315\n",
      "Epoch 50/50\n",
      "245801/245801 [==============================] - 1s 4us/sample - loss: 0.9497 - rmse: 0.7161 - val_loss: 0.9990 - val_rmse: 0.7279\n"
     ]
    }
   ],
   "source": [
    "with tf.device('/device:GPU:0'):\n",
    "    # Initialising the ANN\n",
    "    Regressior = Sequential()\n",
    "    \n",
    "    # Adding the input layer and the first hidden layer\n",
    "    Regressior.add(Dense(units=210, kernel_initializer='uniform', activation='relu', input_dim=210))\n",
    "    \n",
    "    # Adding the second hidden layer\n",
    "    Regressior.add(Dense(units=210, kernel_initializer='uniform', activation='relu'))\n",
    "    \n",
    "    # Adding the third hidden layer\n",
    "    Regressior.add(Dense(units=210, kernel_initializer='uniform', activation='relu'))\n",
    "    \n",
    "    # Adding the output layer\n",
    "    Regressior.add(Dense(units=1, kernel_initializer='uniform', activation='linear'))\n",
    "    \n",
    "    # Compiling the ANN\n",
    "    Regressior.compile(loss='mse', optimizer='adam', metrics=[rmse])\n",
    "    \n",
    "    # Fitting the ANN to the Training set\n",
    "    Regressior.fit(X_train, y_train, batch_size=5000, epochs=50, validation_split=0.1)"
   ]
  },
  {
   "cell_type": "code",
   "execution_count": 65,
   "metadata": {},
   "outputs": [],
   "source": [
    "y_pred= Regressior.predict(X_test)"
   ]
  },
  {
   "cell_type": "code",
   "execution_count": 67,
   "metadata": {},
   "outputs": [
    {
     "data": {
      "image/png": "[encoded data removed]",
      "text/plain": [
       "<Figure size 432x288 with 1 Axes>"
      ]
     },
     "metadata": {
      "needs_background": "light"
     },
     "output_type": "display_data"
    }
   ],
   "source": [
    "fig, ax = plt.subplots()\n",
    "ax.scatter(y_test, y_pred)\n",
    "ax.plot([y_test.min(), y_test.max()], [y_test.min(), y_test.max()], 'k--', lw=4)\n",
    "ax.set_xlabel('Measured')\n",
    "ax.set_ylabel('Predicted')\n",
    "plt.show()"
   ]
  },
  {
   "cell_type": "code",
   "execution_count": null,
   "metadata": {},
   "outputs": [],
   "source": [
    "Submit = Regressior.predict(X2_Scaled)"
   ]
  },
  {
   "cell_type": "code",
   "execution_count": 613,
   "metadata": {},
   "outputs": [
    {
     "data": {
      "text/plain": [
       "array([7.7572117, 7.5140996, 7.268451 , ..., 8.027311 , 7.137011 ,\n",
       "       7.750776 ], dtype=float32)"
      ]
     },
     "execution_count": 613,
     "metadata": {},
     "output_type": "execute_result"
    }
   ],
   "source": [
    "Submit.reshape(146765,)"
   ]
  },
  {
   "cell_type": "code",
   "execution_count": 614,
   "metadata": {},
   "outputs": [
    {
     "data": {
      "text/plain": [
       "(146765,)"
      ]
     },
     "execution_count": 614,
     "metadata": {},
     "output_type": "execute_result"
    }
   ],
   "source": [
    "X2_reservation_id.shape"
   ]
  },
  {
   "cell_type": "code",
   "execution_count": 615,
   "metadata": {},
   "outputs": [],
   "source": [
    "Submission = pd.DataFrame({'reservation_id':X2_reservation_id,'amount_spent_per_room_night_scaled':np.around(Submit.reshape(146765,))})"
   ]
  },
  {
   "cell_type": "code",
   "execution_count": 616,
   "metadata": {},
   "outputs": [],
   "source": [
    "Submission['amount_spent_per_room_night_scaled'] = Submission.amount_spent_per_room_night_scaled.astype(int)"
   ]
  },
  {
   "cell_type": "code",
   "execution_count": 617,
   "metadata": {},
   "outputs": [
    {
     "data": {
      "text/html": [
       "<div>\n",
       "<style scoped>\n",
       "    .dataframe tbody tr th:only-of-type {\n",
       "        vertical-align: middle;\n",
       "    }\n",
       "\n",
       "    .dataframe tbody tr th {\n",
       "        vertical-align: top;\n",
       "    }\n",
       "\n",
       "    .dataframe thead th {\n",
       "        text-align: right;\n",
       "    }\n",
       "</style>\n",
       "<table border=\"1\" class=\"dataframe\">\n",
       "  <thead>\n",
       "    <tr style=\"text-align: right;\">\n",
       "      <th></th>\n",
       "      <th>reservation_id</th>\n",
       "      <th>amount_spent_per_room_night_scaled</th>\n",
       "    </tr>\n",
       "  </thead>\n",
       "  <tbody>\n",
       "    <tr>\n",
       "      <th>0</th>\n",
       "      <td>7dae1ce6bc8f69481328f2be5c4943077dad5598b5f66d...</td>\n",
       "      <td>8</td>\n",
       "    </tr>\n",
       "    <tr>\n",
       "      <th>1</th>\n",
       "      <td>fe0d4e444e1818436c88f72f1cf800536c2f785e59baeb...</td>\n",
       "      <td>8</td>\n",
       "    </tr>\n",
       "    <tr>\n",
       "      <th>2</th>\n",
       "      <td>540bd4285ad8168e8388f84ee74a82cd4f97dc0a404d3e...</td>\n",
       "      <td>7</td>\n",
       "    </tr>\n",
       "    <tr>\n",
       "      <th>3</th>\n",
       "      <td>09593c907ae262e46f655b4db9e14f54a19eadcfdd2679...</td>\n",
       "      <td>8</td>\n",
       "    </tr>\n",
       "    <tr>\n",
       "      <th>4</th>\n",
       "      <td>f4c50caac68051faf37551d70bb17eebef2a20e2244cb1...</td>\n",
       "      <td>8</td>\n",
       "    </tr>\n",
       "  </tbody>\n",
       "</table>\n",
       "</div>"
      ],
      "text/plain": [
       "                                      reservation_id  \\\n",
       "0  7dae1ce6bc8f69481328f2be5c4943077dad5598b5f66d...   \n",
       "1  fe0d4e444e1818436c88f72f1cf800536c2f785e59baeb...   \n",
       "2  540bd4285ad8168e8388f84ee74a82cd4f97dc0a404d3e...   \n",
       "3  09593c907ae262e46f655b4db9e14f54a19eadcfdd2679...   \n",
       "4  f4c50caac68051faf37551d70bb17eebef2a20e2244cb1...   \n",
       "\n",
       "   amount_spent_per_room_night_scaled  \n",
       "0                                   8  \n",
       "1                                   8  \n",
       "2                                   7  \n",
       "3                                   8  \n",
       "4                                   8  "
      ]
     },
     "execution_count": 617,
     "metadata": {},
     "output_type": "execute_result"
    }
   ],
   "source": [
    "Submission.head()"
   ]
  },
  {
   "cell_type": "code",
   "execution_count": 618,
   "metadata": {},
   "outputs": [],
   "source": [
    "Submission.to_csv(\"submission_four.csv\", index=False)"
   ]
  },
  {
   "cell_type": "code",
   "execution_count": 298,
   "metadata": {},
   "outputs": [
    {
     "data": {
      "text/plain": [
       "array([ 1,  8,  3,  4,  2,  5,  6,  7, 12, 20, 10, 15,  9, 16, 25, 18, 14,\n",
       "       24, 17, 11, 32, 21, 13, 28, 36, 30, 39, 19, 40, 22, 23, 33, 27, 26,\n",
       "        0, 35], dtype=int64)"
      ]
     },
     "execution_count": 298,
     "metadata": {},
     "output_type": "execute_result"
    }
   ],
   "source": [
    "test.roomnights.unique()"
   ]
  },
  {
   "cell_type": "code",
   "execution_count": null,
   "metadata": {},
   "outputs": [],
   "source": []
  },
  {
   "cell_type": "code",
   "execution_count": 243,
   "metadata": {},
   "outputs": [],
   "source": [
    "train_room = [ 1,  5,  4,  2,  6,  3,  8, 12, 16,  9,  7, 10, 14, 15, 11, 22, 18,\n",
    "       25, 20, 13, 21, 26, 30, 17, 24, 27, 39, 28, 19, 23, 36, 40, 33, 35,\n",
    "       32,  0]\n",
    "test_room = [ 1,  8,  3,  4,  2,  5,  6,  7, 12, 20, 10, 15,  9, 16, 25, 18, 14,\n",
    "       24, 17, 11, 32, 21, 13, 28, 36, 30, 39, 19, 40, 22, 23, 33, 27, 26,\n",
    "        0, 35]"
   ]
  },
  {
   "cell_type": "code",
   "execution_count": 244,
   "metadata": {},
   "outputs": [],
   "source": [
    "train_room.sort()\n",
    "test_room.sort()"
   ]
  },
  {
   "cell_type": "markdown",
   "metadata": {},
   "source": [
    "test_room"
   ]
  },
  {
   "cell_type": "code",
   "execution_count": null,
   "metadata": {},
   "outputs": [],
   "source": []
  }
 ],
 "metadata": {
  "kernelspec": {
   "display_name": "Python 3",
   "language": "python",
   "name": "python3"
  },
  "language_info": {
   "codemirror_mode": {
    "name": "ipython",
    "version": 3
   },
   "file_extension": ".py",
   "mimetype": "text/x-python",
   "name": "python",
   "nbconvert_exporter": "python",
   "pygments_lexer": "ipython3",
   "version": "3.6.7"
  }
 },
 "nbformat": 4,
 "nbformat_minor": 2
}
