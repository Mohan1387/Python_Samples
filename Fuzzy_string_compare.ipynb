{
 "cells": [
  {
   "cell_type": "code",
   "execution_count": 1,
   "metadata": {},
   "outputs": [
    {
     "name": "stdout",
     "output_type": "stream",
     "text": [
      "Collecting fuzzywuzzy\n",
      "  Downloading https://files.pythonhosted.org/packages/d8/f1/5a267addb30ab7eaa1beab2b9323073815da4551076554ecc890a3595ec9/fuzzywuzzy-0.17.0-py2.py3-none-any.whl\n",
      "Installing collected packages: fuzzywuzzy\n",
      "Successfully installed fuzzywuzzy-0.17.0\n"
     ]
    }
   ],
   "source": [
    "!pip install fuzzywuzzy"
   ]
  },
  {
   "cell_type": "code",
   "execution_count": 3,
   "metadata": {},
   "outputs": [
    {
     "name": "stderr",
     "output_type": "stream",
     "text": [
      "C:\\Users\\5029874\\AppData\\Local\\Continuum\\anaconda3\\envs\\trainingenv\\lib\\site-packages\\fuzzywuzzy\\fuzz.py:11: UserWarning: Using slow pure-python SequenceMatcher. Install python-Levenshtein to remove this warning\n",
      "  warnings.warn('Using slow pure-python SequenceMatcher. Install python-Levenshtein to remove this warning')\n"
     ]
    }
   ],
   "source": [
    "from fuzzywuzzy import fuzz"
   ]
  },
  {
   "cell_type": "code",
   "execution_count": 8,
   "metadata": {},
   "outputs": [
    {
     "name": "stdout",
     "output_type": "stream",
     "text": [
      "67\n",
      "79\n"
     ]
    }
   ],
   "source": [
    "Str1 = \"LATI  TOT NAGARAL TQ CHIKODI LATI  TOT NAGARAL TQ CHIKODI  BELGAUM 591247\"\n",
    "Str2 = \"MAIN ROAD NAGARAL TQ CHIKODI MAIN ROAD NAGARAL TQ CHIKODI MAIN ROAD NAGARAL TQ CHIKODI BELGAUM\"\n",
    "Ratio = fuzz.ratio(Str1.lower(),Str2.lower())\n",
    "Partial_Ratio = fuzz.partial_ratio(Str1.lower(),Str2.lower())\n",
    "print(Ratio)\n",
    "print(Partial_Ratio)"
   ]
  },
  {
   "cell_type": "code",
   "execution_count": 4,
   "metadata": {},
   "outputs": [],
   "source": [
    "import pandas as pd"
   ]
  },
  {
   "cell_type": "code",
   "execution_count": 5,
   "metadata": {},
   "outputs": [],
   "source": [
    "data = pd.read_csv(\"E:\\Cons_Dur_Address_Match_Input.csv\")"
   ]
  },
  {
   "cell_type": "code",
   "execution_count": 6,
   "metadata": {},
   "outputs": [
    {
     "data": {
      "text/html": [
       "<div>\n",
       "<style scoped>\n",
       "    .dataframe tbody tr th:only-of-type {\n",
       "        vertical-align: middle;\n",
       "    }\n",
       "\n",
       "    .dataframe tbody tr th {\n",
       "        vertical-align: top;\n",
       "    }\n",
       "\n",
       "    .dataframe thead th {\n",
       "        text-align: right;\n",
       "    }\n",
       "</style>\n",
       "<table border=\"1\" class=\"dataframe\">\n",
       "  <thead>\n",
       "    <tr style=\"text-align: right;\">\n",
       "      <th></th>\n",
       "      <th>AGMTNO</th>\n",
       "      <th>TVSCS_ADDRESS</th>\n",
       "      <th>CIBIL_ADDRESS</th>\n",
       "    </tr>\n",
       "  </thead>\n",
       "  <tbody>\n",
       "    <tr>\n",
       "      <th>0</th>\n",
       "      <td>TN3006CD0002168</td>\n",
       "      <td>202-10 ,KAVUNDANPATTI PALLAPATTI NILAKKOTTAI D...</td>\n",
       "      <td>MADURAI</td>\n",
       "    </tr>\n",
       "    <tr>\n",
       "      <th>1</th>\n",
       "      <td>TN3006CD0002168</td>\n",
       "      <td>202-10 ,KAVUNDANPATTI PALLAPATTI NILAKKOTTAI D...</td>\n",
       "      <td>PITHALAIPATTY,DINDIGUL, BEGAMPUR S.O (DINDIGUL)</td>\n",
       "    </tr>\n",
       "    <tr>\n",
       "      <th>2</th>\n",
       "      <td>TN3006CD0002168</td>\n",
       "      <td>202-10 ,KAVUNDANPATTI PALLAPATTI NILAKKOTTAI D...</td>\n",
       "      <td>202-10 ,KAVUNDANPATTI, PALLAPATTI NILAKKOTTAI ...</td>\n",
       "    </tr>\n",
       "    <tr>\n",
       "      <th>3</th>\n",
       "      <td>MH3085CD0007300</td>\n",
       "      <td>BHOSGA DASTAPUR 413602 BHOSGA DASTAPUR 413602 ...</td>\n",
       "      <td>BHOSGA DASTAPUR 413602 BHOSGA DASTAPUR 413602 ...</td>\n",
       "    </tr>\n",
       "    <tr>\n",
       "      <th>4</th>\n",
       "      <td>MH3085CD0007300</td>\n",
       "      <td>BHOSGA DASTAPUR 413602 BHOSGA DASTAPUR 413602 ...</td>\n",
       "      <td>NaN</td>\n",
       "    </tr>\n",
       "  </tbody>\n",
       "</table>\n",
       "</div>"
      ],
      "text/plain": [
       "            AGMTNO                                      TVSCS_ADDRESS  \\\n",
       "0  TN3006CD0002168  202-10 ,KAVUNDANPATTI PALLAPATTI NILAKKOTTAI D...   \n",
       "1  TN3006CD0002168  202-10 ,KAVUNDANPATTI PALLAPATTI NILAKKOTTAI D...   \n",
       "2  TN3006CD0002168  202-10 ,KAVUNDANPATTI PALLAPATTI NILAKKOTTAI D...   \n",
       "3  MH3085CD0007300  BHOSGA DASTAPUR 413602 BHOSGA DASTAPUR 413602 ...   \n",
       "4  MH3085CD0007300  BHOSGA DASTAPUR 413602 BHOSGA DASTAPUR 413602 ...   \n",
       "\n",
       "                                       CIBIL_ADDRESS  \n",
       "0                                            MADURAI  \n",
       "1    PITHALAIPATTY,DINDIGUL, BEGAMPUR S.O (DINDIGUL)  \n",
       "2  202-10 ,KAVUNDANPATTI, PALLAPATTI NILAKKOTTAI ...  \n",
       "3  BHOSGA DASTAPUR 413602 BHOSGA DASTAPUR 413602 ...  \n",
       "4                                                NaN  "
      ]
     },
     "execution_count": 6,
     "metadata": {},
     "output_type": "execute_result"
    }
   ],
   "source": [
    "data.head()"
   ]
  },
  {
   "cell_type": "code",
   "execution_count": 16,
   "metadata": {},
   "outputs": [],
   "source": [
    "from string import digits\n",
    "\n",
    "s = 'abc123def456ghi789zero0'\n",
    "remove_digits = str.maketrans('', '', digits)\n",
    "res = s.translate(remove_digits)"
   ]
  },
  {
   "cell_type": "code",
   "execution_count": 9,
   "metadata": {},
   "outputs": [],
   "source": [
    "def ratio(row):\n",
    "    St1= str(row['TVSCS_ADDRESS'])\n",
    "    St2 = str(row['CIBIL_ADDRESS'])\n",
    "    #remove_digits = str.maketrans('', '', digits)\n",
    "    #Str1 = St1.translate(remove_digits)\n",
    "    #Str2 = St2.translate(remove_digits)\n",
    "    return fuzz.ratio(St1.lower(),St2.lower())"
   ]
  },
  {
   "cell_type": "code",
   "execution_count": 10,
   "metadata": {},
   "outputs": [],
   "source": [
    "data['sim_perc'] = data.apply(ratio, axis=1)"
   ]
  },
  {
   "cell_type": "code",
   "execution_count": 11,
   "metadata": {},
   "outputs": [],
   "source": [
    "data.to_excel(\"E:\\Cons_Dur_Address_Match_Input_lower_with_perc.xlsx\", index=False)"
   ]
  },
  {
   "cell_type": "code",
   "execution_count": null,
   "metadata": {},
   "outputs": [],
   "source": []
  }
 ],
 "metadata": {
  "kernelspec": {
   "display_name": "Python 3",
   "language": "python",
   "name": "python3"
  },
  "language_info": {
   "codemirror_mode": {
    "name": "ipython",
    "version": 3
   },
   "file_extension": ".py",
   "mimetype": "text/x-python",
   "name": "python",
   "nbconvert_exporter": "python",
   "pygments_lexer": "ipython3",
   "version": "3.6.7"
  }
 },
 "nbformat": 4,
 "nbformat_minor": 2
}
