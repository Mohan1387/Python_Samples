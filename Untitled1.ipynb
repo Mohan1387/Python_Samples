{
 "cells": [
  {
   "cell_type": "code",
   "execution_count": 1,
   "metadata": {},
   "outputs": [],
   "source": [
    "import pandas as pd\n",
    "import cx_Oracle"
   ]
  },
  {
   "cell_type": "code",
   "execution_count": 2,
   "metadata": {},
   "outputs": [],
   "source": [
    "ip = '172.16.80.74'\n",
    "port = '1521'\n",
    "SID = 'RPTDB'\n",
    "\n",
    "dsn_tns = cx_Oracle.makedsn(ip, port, SID)\n",
    "connection = cx_Oracle.connect('ANLYUSR', 'ANLYUSR$', dsn_tns)"
   ]
  },
  {
   "cell_type": "code",
   "execution_count": 54,
   "metadata": {},
   "outputs": [],
   "source": [
    "tab_name = ['TBL_TRN_MB_CIB_ACCOUNT_SEGMENT',\n",
    "'TBL_TRN_MB_CIB_ADDRESSLIST',\n",
    "'TBL_TRN_MB_CIB_EMPLOYMENT_SEG',\n",
    "'TBL_TRN_MB_CIB_RESPONSE_SCORE',\n",
    "'TBL_TRN_MB_CIB_PHONELIST',\n",
    "'TBL_TRN_MB_CIB_ID_SEGMENT',\n",
    "'TBL_TRN_MB_CIB_ENQUIRYLIST',\n",
    "'TBL_TRN_MB_CIB_NAMEHEADER',\n",
    "'TBL_TRN_MB_CIB_ACCOUNTS_DETAIL',\n",
    "'TBL_TRN_MB_HIGH_ACCOUNTSUMMARY',\n",
    "'TBL_TRN_MB_HIGH_INDVRESPONSE',\n",
    "'TBL_TRN_MB_HIGH_INDVRESP_ADDR',\n",
    "'TBL_TRN_MB_HIGH_INDVRESP_ID',\n",
    "'TBL_TRN_MB_HIGH_INDVRESP_PHONE',\n",
    "'TBL_TRN_MB_HIGH_REQUEST',\n",
    "'TBL_TRN_MB_HIGH_SCORE',\n",
    "'TBL_TRN_CV_METADATA',\n",
    "'TBL_TRN_CV_LOCATIONPROFILE',\n",
    "'TBL_TRN_CV_CREDITCARDACCOUNT',\n",
    "'TBL_TRN_CV_LOANACCOUNT',\n",
    "'TBL_TRN_CV_LOANS',\n",
    "'TBL_TRN_CV_CREDITSCORE_FRAUD',\n",
    "'TBL_TRN_CV_BANKACCOUNT',\n",
    "'TBL_TRN_CV_EMAILIDS',\n",
    "'TBL_TRN_CV_INCOME',\n",
    "'TBL_TRN_CV_ALTERNATECONTACT',\n",
    "'TBL_TRN_CV_ACCOUNTS',\n",
    "'TBL_TRN_CV_UTILITYACCOUNT',\n",
    "'TBL_TRN_CV_CREDITCARD',\n",
    "'TBL_TRN_MST_CV_DETAILS']"
   ]
  },
  {
   "cell_type": "raw",
   "metadata": {},
   "source": [
    "query = \"SELECT COLUMN_NAME FROM all_tab_columns \\\n",
    "where OWNER = 'BIUSR' AND TABLE_NAME = {} \".format(\"'\"+'TBL_TRN_MB_CIB_ACCOUNTS_DETAIL'+\"'\")"
   ]
  },
  {
   "cell_type": "raw",
   "metadata": {},
   "source": [
    "data = pd.read_sql(query, con=connection)"
   ]
  },
  {
   "cell_type": "raw",
   "metadata": {},
   "source": [
    "unique_col = []"
   ]
  },
  {
   "cell_type": "raw",
   "metadata": {},
   "source": [
    "for i in data.COLUMN_NAME.values:\n",
    "    unique_col.append(i)"
   ]
  },
  {
   "cell_type": "raw",
   "metadata": {},
   "source": [
    "sql_stat = ''\n",
    "for j in data.COLUMN_NAME.values:\n",
    "    sql_stat += \"SELECT '{}',count(distinct {}) as unique_count FROM BIUSR.{} WHERE PROPNO like '%CD%' UNION ALL \".format(j,j,'TBL_TRN_MB_CIB_ACCOUNTS_DETAIL')"
   ]
  },
  {
   "cell_type": "code",
   "execution_count": 56,
   "metadata": {},
   "outputs": [],
   "source": [
    "flag = True\n",
    "\n",
    "for i in tab_name:\n",
    "    \n",
    "    query = \"SELECT COLUMN_NAME FROM all_tab_columns \\\n",
    "    where OWNER = 'BIUSR' AND TABLE_NAME = {} \".format(\"'\"+i+\"'\")\n",
    "    \n",
    "    data = pd.read_sql(query, con=connection)\n",
    "    \n",
    "    sql_stat = ''\n",
    "    \n",
    "    if '_CV_' in i:\n",
    "        for j in data.COLUMN_NAME.values:\n",
    "            sql_stat += \"SELECT '{}',count(distinct {}) as unique_count FROM BIUSR.{} WHERE PROPNO like '%CD%' UNION ALL \".format(j,j,i)\n",
    "    else:\n",
    "        for j in data.COLUMN_NAME.values:\n",
    "            sql_stat += \"SELECT '{}',count(distinct {}) as unique_count FROM BIUSR.{} WHERE PROSPECT_NO like '%CD%' UNION ALL \".format(j,j,i)\n",
    "        \n",
    "    result = pd.read_sql(sql_stat[:-11], con=connection)\n",
    "    \n",
    "    result.columns = ['Column_Name', 'unique_count']\n",
    "    \n",
    "    result['Table_Name'] = i\n",
    "    \n",
    "    \n",
    "    if flag:\n",
    "        consol_list = result\n",
    "        flag = False\n",
    "    else:\n",
    "        consol_list = pd.concat([consol_list,result])\n"
   ]
  },
  {
   "cell_type": "code",
   "execution_count": null,
   "metadata": {},
   "outputs": [],
   "source": []
  },
  {
   "cell_type": "code",
   "execution_count": 58,
   "metadata": {},
   "outputs": [],
   "source": [
    "consol_list = consol_list[['Table_Name','Column_Name','unique_count']]"
   ]
  },
  {
   "cell_type": "code",
   "execution_count": 59,
   "metadata": {},
   "outputs": [],
   "source": [
    "consol_list.to_csv(\"D:\\CD\\CD_MB_CIBIL_CRIF_CV_Unique_AUdit.csv\")"
   ]
  },
  {
   "cell_type": "code",
   "execution_count": null,
   "metadata": {},
   "outputs": [],
   "source": []
  }
 ],
 "metadata": {
  "kernelspec": {
   "display_name": "Python 3",
   "language": "python",
   "name": "python3"
  },
  "language_info": {
   "codemirror_mode": {
    "name": "ipython",
    "version": 3
   },
   "file_extension": ".py",
   "mimetype": "text/x-python",
   "name": "python",
   "nbconvert_exporter": "python",
   "pygments_lexer": "ipython3",
   "version": "3.6.7"
  }
 },
 "nbformat": 4,
 "nbformat_minor": 2
}
