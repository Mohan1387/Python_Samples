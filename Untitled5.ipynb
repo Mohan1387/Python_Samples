{
 "cells": [
  {
   "cell_type": "code",
   "execution_count": 47,
   "metadata": {},
   "outputs": [],
   "source": [
    "import pandas as pd\n",
    "import cx_Oracle\n",
    "pd.set_option('display.max_columns', None)"
   ]
  },
  {
   "cell_type": "code",
   "execution_count": 3,
   "metadata": {},
   "outputs": [],
   "source": [
    "ip = '172.16.80.74'\n",
    "port = '1521'\n",
    "SID = 'RPTDB'\n",
    "\n",
    "dsn_tns = cx_Oracle.makedsn(ip, port, SID)\n",
    "connection = cx_Oracle.connect('ANLYUSR', 'ANLYUSR$', dsn_tns, encoding='iso-8859-1')"
   ]
  },
  {
   "cell_type": "code",
   "execution_count": 4,
   "metadata": {},
   "outputs": [],
   "source": [
    "query = \"SELECT AGREEMENTNUMBER, sum(exist) IS_EXIST FROM \\\n",
    "(SELECT AGREEMENTNUMBER,CASE \\\n",
    "WHEN AGREEMENTNUMBER = LOAN_ACCOUNT_NUMBER THEN \\\n",
    "0 \\\n",
    "ELSE 1 END as exist, \\\n",
    "LOAN_ACCOUNT_NUMBER \\\n",
    "FROM BIUSR.TBL_TRN_CIBIL_TL_DETAILS \\\n",
    "WHERE SECTOR != 'NOT DISCLOSED' \\\n",
    "AND SUBSTR(AGREEMENTNUMBER,7,2) = 'CD') \\\n",
    "GROUP BY AGREEMENTNUMBER\""
   ]
  },
  {
   "cell_type": "code",
   "execution_count": 5,
   "metadata": {},
   "outputs": [],
   "source": [
    "Data = pd.read_sql(query, con=connection, chunksize=40000)"
   ]
  },
  {
   "cell_type": "code",
   "execution_count": 6,
   "metadata": {},
   "outputs": [],
   "source": [
    "data = pd.concat([chunk for chunk in Data])"
   ]
  },
  {
   "cell_type": "code",
   "execution_count": 17,
   "metadata": {},
   "outputs": [],
   "source": [
    "data.columns = ['AGMTNO', 'IS_EXIST']"
   ]
  },
  {
   "cell_type": "code",
   "execution_count": 18,
   "metadata": {},
   "outputs": [
    {
     "data": {
      "text/html": [
       "<div>\n",
       "<style scoped>\n",
       "    .dataframe tbody tr th:only-of-type {\n",
       "        vertical-align: middle;\n",
       "    }\n",
       "\n",
       "    .dataframe tbody tr th {\n",
       "        vertical-align: top;\n",
       "    }\n",
       "\n",
       "    .dataframe thead th {\n",
       "        text-align: right;\n",
       "    }\n",
       "</style>\n",
       "<table border=\"1\" class=\"dataframe\">\n",
       "  <thead>\n",
       "    <tr style=\"text-align: right;\">\n",
       "      <th></th>\n",
       "      <th>AGMTNO</th>\n",
       "      <th>IS_EXIST</th>\n",
       "    </tr>\n",
       "  </thead>\n",
       "  <tbody>\n",
       "    <tr>\n",
       "      <th>0</th>\n",
       "      <td>AP3019CD0000001</td>\n",
       "      <td>1</td>\n",
       "    </tr>\n",
       "    <tr>\n",
       "      <th>1</th>\n",
       "      <td>AP3019CD0000002</td>\n",
       "      <td>0</td>\n",
       "    </tr>\n",
       "    <tr>\n",
       "      <th>2</th>\n",
       "      <td>AP3019CD0000003</td>\n",
       "      <td>0</td>\n",
       "    </tr>\n",
       "    <tr>\n",
       "      <th>3</th>\n",
       "      <td>AP3019CD0000005</td>\n",
       "      <td>0</td>\n",
       "    </tr>\n",
       "    <tr>\n",
       "      <th>4</th>\n",
       "      <td>AP3019CD0000006</td>\n",
       "      <td>0</td>\n",
       "    </tr>\n",
       "  </tbody>\n",
       "</table>\n",
       "</div>"
      ],
      "text/plain": [
       "            AGMTNO  IS_EXIST\n",
       "0  AP3019CD0000001         1\n",
       "1  AP3019CD0000002         0\n",
       "2  AP3019CD0000003         0\n",
       "3  AP3019CD0000005         0\n",
       "4  AP3019CD0000006         0"
      ]
     },
     "execution_count": 18,
     "metadata": {},
     "output_type": "execute_result"
    }
   ],
   "source": [
    "data.head()"
   ]
  },
  {
   "cell_type": "code",
   "execution_count": 8,
   "metadata": {},
   "outputs": [],
   "source": [
    "data.to_csv(\"D:\\CD\\Existing_customer.csv\")"
   ]
  },
  {
   "cell_type": "code",
   "execution_count": 49,
   "metadata": {},
   "outputs": [],
   "source": [
    "data = pd.read_csv(\"D:\\CD\\EXCISTING_CUST.csv\")"
   ]
  },
  {
   "cell_type": "code",
   "execution_count": 55,
   "metadata": {},
   "outputs": [],
   "source": [
    "data.columns = ['AGMTNO', 'IS_EXIST']"
   ]
  },
  {
   "cell_type": "code",
   "execution_count": 56,
   "metadata": {},
   "outputs": [
    {
     "data": {
      "text/plain": [
       "AGMTNO      481920\n",
       "IS_EXIST    481920\n",
       "dtype: int64"
      ]
     },
     "execution_count": 56,
     "metadata": {},
     "output_type": "execute_result"
    }
   ],
   "source": [
    "data.count()"
   ]
  },
  {
   "cell_type": "code",
   "execution_count": 57,
   "metadata": {},
   "outputs": [
    {
     "data": {
      "text/plain": [
       "AGMTNO      461327\n",
       "IS_EXIST    461327\n",
       "dtype: int64"
      ]
     },
     "execution_count": 57,
     "metadata": {},
     "output_type": "execute_result"
    }
   ],
   "source": [
    "data.loc[data['IS_EXIST'] == 0].count()"
   ]
  },
  {
   "cell_type": "code",
   "execution_count": 58,
   "metadata": {},
   "outputs": [
    {
     "data": {
      "text/plain": [
       "AGMTNO      20593\n",
       "IS_EXIST    20593\n",
       "dtype: int64"
      ]
     },
     "execution_count": 58,
     "metadata": {},
     "output_type": "execute_result"
    }
   ],
   "source": [
    "data.loc[data['IS_EXIST'] != 0].count()"
   ]
  },
  {
   "cell_type": "code",
   "execution_count": 59,
   "metadata": {},
   "outputs": [
    {
     "data": {
      "text/plain": [
       "94.06042496679947"
      ]
     },
     "execution_count": 59,
     "metadata": {},
     "output_type": "execute_result"
    }
   ],
   "source": [
    "(453296/481920)*100 # NEW Customer"
   ]
  },
  {
   "cell_type": "code",
   "execution_count": 60,
   "metadata": {},
   "outputs": [
    {
     "data": {
      "text/plain": [
       "5.939575033200531"
      ]
     },
     "execution_count": 60,
     "metadata": {},
     "output_type": "execute_result"
    }
   ],
   "source": [
    "(28624/481920)*100 # Existing Customer"
   ]
  },
  {
   "cell_type": "code",
   "execution_count": 61,
   "metadata": {},
   "outputs": [
    {
     "data": {
      "text/plain": [
       "4.278510956175299"
      ]
     },
     "execution_count": 61,
     "metadata": {},
     "output_type": "execute_result"
    }
   ],
   "source": [
    "(20619/481920)*100 # Existing Customer"
   ]
  },
  {
   "cell_type": "code",
   "execution_count": 62,
   "metadata": {},
   "outputs": [],
   "source": [
    "data1 = pd.read_csv(\"D:/CD/CD_Variable_all_27_06.csv\")"
   ]
  },
  {
   "cell_type": "code",
   "execution_count": 63,
   "metadata": {},
   "outputs": [],
   "source": [
    "data_exist = pd.merge(data1, data, on=['AGMTNO'], how='left')"
   ]
  },
  {
   "cell_type": "code",
   "execution_count": 64,
   "metadata": {},
   "outputs": [
    {
     "data": {
      "text/html": [
       "<div>\n",
       "<style scoped>\n",
       "    .dataframe tbody tr th:only-of-type {\n",
       "        vertical-align: middle;\n",
       "    }\n",
       "\n",
       "    .dataframe tbody tr th {\n",
       "        vertical-align: top;\n",
       "    }\n",
       "\n",
       "    .dataframe thead th {\n",
       "        text-align: right;\n",
       "    }\n",
       "</style>\n",
       "<table border=\"1\" class=\"dataframe\">\n",
       "  <thead>\n",
       "    <tr style=\"text-align: right;\">\n",
       "      <th></th>\n",
       "      <th>AGMTNO</th>\n",
       "      <th>PROPNO</th>\n",
       "      <th>PREPAIDPOSTPAIDFLAG</th>\n",
       "      <th>LTV</th>\n",
       "      <th>ACTUAL_LOAN_AMOUNT</th>\n",
       "      <th>LATESTBALANCE</th>\n",
       "      <th>ELIGIBILITYGRID</th>\n",
       "      <th>IS_MOBILE</th>\n",
       "      <th>Mobile_Bill_bin</th>\n",
       "      <th>IS_CIBIL_HIT</th>\n",
       "      <th>PRODUCT_CODE</th>\n",
       "      <th>CITY</th>\n",
       "      <th>SCHEME_TYPE</th>\n",
       "      <th>RESIDENT_TYPE</th>\n",
       "      <th>SURROGATE_CAT</th>\n",
       "      <th>AGE</th>\n",
       "      <th>GENDER</th>\n",
       "      <th>QUALIFICATION</th>\n",
       "      <th>TICKET_SIZE</th>\n",
       "      <th>CROSS_SELL_INSURANCE</th>\n",
       "      <th>DEALER_CUST_CITY</th>\n",
       "      <th>AGE_BIN</th>\n",
       "      <th>CIBIL_SCORE_NEW_BIN</th>\n",
       "      <th>Actual_TAT_Days</th>\n",
       "      <th>Disp_Month_bin</th>\n",
       "      <th>IS_WEEKEND</th>\n",
       "      <th>VOTERID</th>\n",
       "      <th>PANNO</th>\n",
       "      <th>DRIVING_LICENSE</th>\n",
       "      <th>PASSPORT</th>\n",
       "      <th>AADHAR</th>\n",
       "      <th>RATION</th>\n",
       "      <th>STATE</th>\n",
       "      <th>IS_MANDATE_REGISTERED</th>\n",
       "      <th>City_Group</th>\n",
       "      <th>PROD_GROUP</th>\n",
       "      <th>IS_EXIST</th>\n",
       "    </tr>\n",
       "  </thead>\n",
       "  <tbody>\n",
       "    <tr>\n",
       "      <th>0</th>\n",
       "      <td>WB3078CD0009160</td>\n",
       "      <td>3078CD0009160</td>\n",
       "      <td>0</td>\n",
       "      <td>68.18</td>\n",
       "      <td>32611</td>\n",
       "      <td>190758.16</td>\n",
       "      <td>NaN</td>\n",
       "      <td>0</td>\n",
       "      <td>0</td>\n",
       "      <td>1</td>\n",
       "      <td>TV</td>\n",
       "      <td>Jalpaiguri</td>\n",
       "      <td>CDOEM</td>\n",
       "      <td>OWNED</td>\n",
       "      <td>0</td>\n",
       "      <td>32</td>\n",
       "      <td>MALE</td>\n",
       "      <td>SSC</td>\n",
       "      <td>10</td>\n",
       "      <td>0</td>\n",
       "      <td>1</td>\n",
       "      <td>5.0</td>\n",
       "      <td>1.0</td>\n",
       "      <td>1</td>\n",
       "      <td>1</td>\n",
       "      <td>0</td>\n",
       "      <td>N</td>\n",
       "      <td>Y</td>\n",
       "      <td>N</td>\n",
       "      <td>N</td>\n",
       "      <td>Y</td>\n",
       "      <td>N</td>\n",
       "      <td>WB</td>\n",
       "      <td>0</td>\n",
       "      <td>1.0</td>\n",
       "      <td>1</td>\n",
       "      <td>0.0</td>\n",
       "    </tr>\n",
       "    <tr>\n",
       "      <th>1</th>\n",
       "      <td>WB3078CD0006318</td>\n",
       "      <td>3078CD0006318</td>\n",
       "      <td>0</td>\n",
       "      <td>77.77</td>\n",
       "      <td>17032</td>\n",
       "      <td>NaN</td>\n",
       "      <td>5.0</td>\n",
       "      <td>0</td>\n",
       "      <td>0</td>\n",
       "      <td>1</td>\n",
       "      <td>TV</td>\n",
       "      <td>Jalpaiguri</td>\n",
       "      <td>CDOEM</td>\n",
       "      <td>OWNED</td>\n",
       "      <td>0</td>\n",
       "      <td>35</td>\n",
       "      <td>MALE</td>\n",
       "      <td>GRADUATE</td>\n",
       "      <td>8</td>\n",
       "      <td>0</td>\n",
       "      <td>1</td>\n",
       "      <td>6.0</td>\n",
       "      <td>6.0</td>\n",
       "      <td>5</td>\n",
       "      <td>1</td>\n",
       "      <td>0</td>\n",
       "      <td>N</td>\n",
       "      <td>N</td>\n",
       "      <td>N</td>\n",
       "      <td>N</td>\n",
       "      <td>Y</td>\n",
       "      <td>N</td>\n",
       "      <td>WB</td>\n",
       "      <td>0</td>\n",
       "      <td>1.0</td>\n",
       "      <td>1</td>\n",
       "      <td>0.0</td>\n",
       "    </tr>\n",
       "    <tr>\n",
       "      <th>2</th>\n",
       "      <td>WB3078CD0007026</td>\n",
       "      <td>3078CD0007026</td>\n",
       "      <td>0</td>\n",
       "      <td>74.66</td>\n",
       "      <td>18664</td>\n",
       "      <td>29890.58</td>\n",
       "      <td>NaN</td>\n",
       "      <td>0</td>\n",
       "      <td>0</td>\n",
       "      <td>1</td>\n",
       "      <td>TV</td>\n",
       "      <td>Jalpaiguri</td>\n",
       "      <td>CDOEM</td>\n",
       "      <td>OWNED</td>\n",
       "      <td>0</td>\n",
       "      <td>34</td>\n",
       "      <td>MALE</td>\n",
       "      <td>UNDER GRADUATE</td>\n",
       "      <td>8</td>\n",
       "      <td>0</td>\n",
       "      <td>1</td>\n",
       "      <td>6.0</td>\n",
       "      <td>7.0</td>\n",
       "      <td>2</td>\n",
       "      <td>1</td>\n",
       "      <td>0</td>\n",
       "      <td>N</td>\n",
       "      <td>N</td>\n",
       "      <td>N</td>\n",
       "      <td>N</td>\n",
       "      <td>Y</td>\n",
       "      <td>N</td>\n",
       "      <td>WB</td>\n",
       "      <td>0</td>\n",
       "      <td>1.0</td>\n",
       "      <td>1</td>\n",
       "      <td>0.0</td>\n",
       "    </tr>\n",
       "    <tr>\n",
       "      <th>3</th>\n",
       "      <td>WB3078CD0040195</td>\n",
       "      <td>3078CD0040195</td>\n",
       "      <td>0</td>\n",
       "      <td>77.78</td>\n",
       "      <td>37332</td>\n",
       "      <td>188925.04</td>\n",
       "      <td>16.0</td>\n",
       "      <td>0</td>\n",
       "      <td>0</td>\n",
       "      <td>1</td>\n",
       "      <td>TV</td>\n",
       "      <td>Jalpaiguri</td>\n",
       "      <td>CDSPL</td>\n",
       "      <td>OWNED</td>\n",
       "      <td>0</td>\n",
       "      <td>53</td>\n",
       "      <td>MALE</td>\n",
       "      <td>GRADUATE</td>\n",
       "      <td>10</td>\n",
       "      <td>1</td>\n",
       "      <td>0</td>\n",
       "      <td>9.0</td>\n",
       "      <td>1.0</td>\n",
       "      <td>8</td>\n",
       "      <td>1</td>\n",
       "      <td>0</td>\n",
       "      <td>N</td>\n",
       "      <td>N</td>\n",
       "      <td>N</td>\n",
       "      <td>N</td>\n",
       "      <td>Y</td>\n",
       "      <td>N</td>\n",
       "      <td>WB</td>\n",
       "      <td>0</td>\n",
       "      <td>1.0</td>\n",
       "      <td>1</td>\n",
       "      <td>0.0</td>\n",
       "    </tr>\n",
       "    <tr>\n",
       "      <th>4</th>\n",
       "      <td>WB3078CD0006403</td>\n",
       "      <td>3078CD0006403</td>\n",
       "      <td>0</td>\n",
       "      <td>77.77</td>\n",
       "      <td>31108</td>\n",
       "      <td>3270.44</td>\n",
       "      <td>22.0</td>\n",
       "      <td>0</td>\n",
       "      <td>0</td>\n",
       "      <td>1</td>\n",
       "      <td>TV</td>\n",
       "      <td>Jalpaiguri</td>\n",
       "      <td>CDOEM</td>\n",
       "      <td>OWNED</td>\n",
       "      <td>0</td>\n",
       "      <td>50</td>\n",
       "      <td>MALE</td>\n",
       "      <td>GRADUATE</td>\n",
       "      <td>10</td>\n",
       "      <td>0</td>\n",
       "      <td>1</td>\n",
       "      <td>9.0</td>\n",
       "      <td>8.0</td>\n",
       "      <td>1</td>\n",
       "      <td>1</td>\n",
       "      <td>1</td>\n",
       "      <td>N</td>\n",
       "      <td>N</td>\n",
       "      <td>N</td>\n",
       "      <td>N</td>\n",
       "      <td>Y</td>\n",
       "      <td>N</td>\n",
       "      <td>WB</td>\n",
       "      <td>0</td>\n",
       "      <td>1.0</td>\n",
       "      <td>1</td>\n",
       "      <td>0.0</td>\n",
       "    </tr>\n",
       "  </tbody>\n",
       "</table>\n",
       "</div>"
      ],
      "text/plain": [
       "            AGMTNO         PROPNO  PREPAIDPOSTPAIDFLAG    LTV  \\\n",
       "0  WB3078CD0009160  3078CD0009160                    0  68.18   \n",
       "1  WB3078CD0006318  3078CD0006318                    0  77.77   \n",
       "2  WB3078CD0007026  3078CD0007026                    0  74.66   \n",
       "3  WB3078CD0040195  3078CD0040195                    0  77.78   \n",
       "4  WB3078CD0006403  3078CD0006403                    0  77.77   \n",
       "\n",
       "   ACTUAL_LOAN_AMOUNT  LATESTBALANCE  ELIGIBILITYGRID  IS_MOBILE  \\\n",
       "0               32611      190758.16              NaN          0   \n",
       "1               17032            NaN              5.0          0   \n",
       "2               18664       29890.58              NaN          0   \n",
       "3               37332      188925.04             16.0          0   \n",
       "4               31108        3270.44             22.0          0   \n",
       "\n",
       "   Mobile_Bill_bin  IS_CIBIL_HIT PRODUCT_CODE        CITY SCHEME_TYPE  \\\n",
       "0                0             1           TV  Jalpaiguri       CDOEM   \n",
       "1                0             1           TV  Jalpaiguri       CDOEM   \n",
       "2                0             1           TV  Jalpaiguri       CDOEM   \n",
       "3                0             1           TV  Jalpaiguri       CDSPL   \n",
       "4                0             1           TV  Jalpaiguri       CDOEM   \n",
       "\n",
       "  RESIDENT_TYPE  SURROGATE_CAT  AGE GENDER   QUALIFICATION  TICKET_SIZE  \\\n",
       "0         OWNED              0   32   MALE             SSC           10   \n",
       "1         OWNED              0   35   MALE        GRADUATE            8   \n",
       "2         OWNED              0   34   MALE  UNDER GRADUATE            8   \n",
       "3         OWNED              0   53   MALE        GRADUATE           10   \n",
       "4         OWNED              0   50   MALE        GRADUATE           10   \n",
       "\n",
       "   CROSS_SELL_INSURANCE  DEALER_CUST_CITY  AGE_BIN  CIBIL_SCORE_NEW_BIN  \\\n",
       "0                     0                 1      5.0                  1.0   \n",
       "1                     0                 1      6.0                  6.0   \n",
       "2                     0                 1      6.0                  7.0   \n",
       "3                     1                 0      9.0                  1.0   \n",
       "4                     0                 1      9.0                  8.0   \n",
       "\n",
       "   Actual_TAT_Days  Disp_Month_bin  IS_WEEKEND VOTERID PANNO DRIVING_LICENSE  \\\n",
       "0                1               1           0       N     Y               N   \n",
       "1                5               1           0       N     N               N   \n",
       "2                2               1           0       N     N               N   \n",
       "3                8               1           0       N     N               N   \n",
       "4                1               1           1       N     N               N   \n",
       "\n",
       "  PASSPORT AADHAR RATION STATE  IS_MANDATE_REGISTERED  City_Group  PROD_GROUP  \\\n",
       "0        N      Y      N    WB                      0         1.0           1   \n",
       "1        N      Y      N    WB                      0         1.0           1   \n",
       "2        N      Y      N    WB                      0         1.0           1   \n",
       "3        N      Y      N    WB                      0         1.0           1   \n",
       "4        N      Y      N    WB                      0         1.0           1   \n",
       "\n",
       "   IS_EXIST  \n",
       "0       0.0  \n",
       "1       0.0  \n",
       "2       0.0  \n",
       "3       0.0  \n",
       "4       0.0  "
      ]
     },
     "execution_count": 64,
     "metadata": {},
     "output_type": "execute_result"
    }
   ],
   "source": [
    "data_exist = data_exist.iloc[:,1:]\n",
    "data_exist.head()"
   ]
  },
  {
   "cell_type": "code",
   "execution_count": 66,
   "metadata": {},
   "outputs": [],
   "source": [
    "def mark_exit_cust(row):\n",
    "    try:\n",
    "        if row['IS_EXIST'] > 0:\n",
    "            return 1\n",
    "        else:\n",
    "            return 0\n",
    "    except:\n",
    "        return -9999"
   ]
  },
  {
   "cell_type": "code",
   "execution_count": 67,
   "metadata": {},
   "outputs": [],
   "source": [
    "data_exist[\"IS_EXIST\"] = data_exist.apply(mark_exit_cust, axis=1)"
   ]
  },
  {
   "cell_type": "code",
   "execution_count": 69,
   "metadata": {},
   "outputs": [],
   "source": [
    "data_exist.to_csv(\"D:/CD/CD_Variable_all_28_06_existing_till_Jan_v2.csv\")"
   ]
  },
  {
   "cell_type": "code",
   "execution_count": 68,
   "metadata": {},
   "outputs": [
    {
     "data": {
      "text/plain": [
       "array([0, 1], dtype=int64)"
      ]
     },
     "execution_count": 68,
     "metadata": {},
     "output_type": "execute_result"
    }
   ],
   "source": [
    "data_exist.IS_EXIST.unique()"
   ]
  },
  {
   "cell_type": "code",
   "execution_count": null,
   "metadata": {},
   "outputs": [],
   "source": []
  }
 ],
 "metadata": {
  "kernelspec": {
   "display_name": "Python 3",
   "language": "python",
   "name": "python3"
  },
  "language_info": {
   "codemirror_mode": {
    "name": "ipython",
    "version": 3
   },
   "file_extension": ".py",
   "mimetype": "text/x-python",
   "name": "python",
   "nbconvert_exporter": "python",
   "pygments_lexer": "ipython3",
   "version": "3.6.7"
  }
 },
 "nbformat": 4,
 "nbformat_minor": 2
}
