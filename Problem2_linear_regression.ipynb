{
 "cells": [
  {
   "cell_type": "code",
   "execution_count": 102,
   "metadata": {},
   "outputs": [],
   "source": [
    "import pandas as pd\n",
    "import matplotlib.pyplot as plt\n",
    "import seaborn as sb\n",
    "pd.set_option('display.max_columns', None)\n",
    "%matplotlib inline"
   ]
  },
  {
   "cell_type": "code",
   "execution_count": 103,
   "metadata": {},
   "outputs": [],
   "source": [
    "data = pd.read_excel(\"data/Dataset_LeslieSalt-1.xlsx\")"
   ]
  },
  {
   "cell_type": "code",
   "execution_count": 104,
   "metadata": {},
   "outputs": [
    {
     "data": {
      "text/html": [
       "<div>\n",
       "<style scoped>\n",
       "    .dataframe tbody tr th:only-of-type {\n",
       "        vertical-align: middle;\n",
       "    }\n",
       "\n",
       "    .dataframe tbody tr th {\n",
       "        vertical-align: top;\n",
       "    }\n",
       "\n",
       "    .dataframe thead th {\n",
       "        text-align: right;\n",
       "    }\n",
       "</style>\n",
       "<table border=\"1\" class=\"dataframe\">\n",
       "  <thead>\n",
       "    <tr style=\"text-align: right;\">\n",
       "      <th></th>\n",
       "      <th>Price</th>\n",
       "      <th>County</th>\n",
       "      <th>Size</th>\n",
       "      <th>Elevation</th>\n",
       "      <th>Sewer</th>\n",
       "      <th>Date</th>\n",
       "      <th>Flood</th>\n",
       "      <th>Distance</th>\n",
       "    </tr>\n",
       "  </thead>\n",
       "  <tbody>\n",
       "    <tr>\n",
       "      <th>0</th>\n",
       "      <td>4.5</td>\n",
       "      <td>1</td>\n",
       "      <td>138.4</td>\n",
       "      <td>10</td>\n",
       "      <td>3000</td>\n",
       "      <td>-103</td>\n",
       "      <td>0</td>\n",
       "      <td>0.3</td>\n",
       "    </tr>\n",
       "    <tr>\n",
       "      <th>1</th>\n",
       "      <td>10.6</td>\n",
       "      <td>1</td>\n",
       "      <td>52.0</td>\n",
       "      <td>4</td>\n",
       "      <td>0</td>\n",
       "      <td>-103</td>\n",
       "      <td>0</td>\n",
       "      <td>2.5</td>\n",
       "    </tr>\n",
       "    <tr>\n",
       "      <th>2</th>\n",
       "      <td>1.7</td>\n",
       "      <td>0</td>\n",
       "      <td>16.1</td>\n",
       "      <td>0</td>\n",
       "      <td>2640</td>\n",
       "      <td>-98</td>\n",
       "      <td>1</td>\n",
       "      <td>10.3</td>\n",
       "    </tr>\n",
       "    <tr>\n",
       "      <th>3</th>\n",
       "      <td>5.0</td>\n",
       "      <td>0</td>\n",
       "      <td>1695.2</td>\n",
       "      <td>1</td>\n",
       "      <td>3500</td>\n",
       "      <td>-93</td>\n",
       "      <td>0</td>\n",
       "      <td>14.0</td>\n",
       "    </tr>\n",
       "    <tr>\n",
       "      <th>4</th>\n",
       "      <td>5.0</td>\n",
       "      <td>0</td>\n",
       "      <td>845.0</td>\n",
       "      <td>1</td>\n",
       "      <td>1000</td>\n",
       "      <td>-92</td>\n",
       "      <td>1</td>\n",
       "      <td>14.0</td>\n",
       "    </tr>\n",
       "  </tbody>\n",
       "</table>\n",
       "</div>"
      ],
      "text/plain": [
       "   Price  County    Size  Elevation  Sewer  Date  Flood  Distance\n",
       "0    4.5       1   138.4         10   3000  -103      0       0.3\n",
       "1   10.6       1    52.0          4      0  -103      0       2.5\n",
       "2    1.7       0    16.1          0   2640   -98      1      10.3\n",
       "3    5.0       0  1695.2          1   3500   -93      0      14.0\n",
       "4    5.0       0   845.0          1   1000   -92      1      14.0"
      ]
     },
     "execution_count": 104,
     "metadata": {},
     "output_type": "execute_result"
    }
   ],
   "source": [
    "data.head()"
   ]
  },
  {
   "cell_type": "code",
   "execution_count": 105,
   "metadata": {},
   "outputs": [
    {
     "name": "stdout",
     "output_type": "stream",
     "text": [
      "<class 'pandas.core.frame.DataFrame'>\n",
      "RangeIndex: 31 entries, 0 to 30\n",
      "Data columns (total 8 columns):\n",
      "Price        31 non-null float64\n",
      "County       31 non-null int64\n",
      "Size         31 non-null float64\n",
      "Elevation    31 non-null int64\n",
      "Sewer        31 non-null int64\n",
      "Date         31 non-null int64\n",
      "Flood        31 non-null int64\n",
      "Distance     31 non-null float64\n",
      "dtypes: float64(3), int64(5)\n",
      "memory usage: 2.0 KB\n"
     ]
    }
   ],
   "source": [
    "data.info() "
   ]
  },
  {
   "cell_type": "code",
   "execution_count": 106,
   "metadata": {},
   "outputs": [
    {
     "data": {
      "text/html": [
       "<div>\n",
       "<style scoped>\n",
       "    .dataframe tbody tr th:only-of-type {\n",
       "        vertical-align: middle;\n",
       "    }\n",
       "\n",
       "    .dataframe tbody tr th {\n",
       "        vertical-align: top;\n",
       "    }\n",
       "\n",
       "    .dataframe thead th {\n",
       "        text-align: right;\n",
       "    }\n",
       "</style>\n",
       "<table border=\"1\" class=\"dataframe\">\n",
       "  <thead>\n",
       "    <tr style=\"text-align: right;\">\n",
       "      <th></th>\n",
       "      <th>Price</th>\n",
       "      <th>County</th>\n",
       "      <th>Size</th>\n",
       "      <th>Elevation</th>\n",
       "      <th>Sewer</th>\n",
       "      <th>Date</th>\n",
       "      <th>Flood</th>\n",
       "      <th>Distance</th>\n",
       "    </tr>\n",
       "  </thead>\n",
       "  <tbody>\n",
       "    <tr>\n",
       "      <th>count</th>\n",
       "      <td>31.000000</td>\n",
       "      <td>31.000000</td>\n",
       "      <td>31.000000</td>\n",
       "      <td>31.000000</td>\n",
       "      <td>31.000000</td>\n",
       "      <td>31.000000</td>\n",
       "      <td>31.000000</td>\n",
       "      <td>31.000000</td>\n",
       "    </tr>\n",
       "    <tr>\n",
       "      <th>mean</th>\n",
       "      <td>11.951613</td>\n",
       "      <td>0.612903</td>\n",
       "      <td>139.974194</td>\n",
       "      <td>4.645161</td>\n",
       "      <td>1981.290323</td>\n",
       "      <td>-58.645161</td>\n",
       "      <td>0.161290</td>\n",
       "      <td>5.132258</td>\n",
       "    </tr>\n",
       "    <tr>\n",
       "      <th>std</th>\n",
       "      <td>7.714699</td>\n",
       "      <td>0.495138</td>\n",
       "      <td>327.167080</td>\n",
       "      <td>4.355444</td>\n",
       "      <td>2481.311135</td>\n",
       "      <td>24.526922</td>\n",
       "      <td>0.373878</td>\n",
       "      <td>4.536400</td>\n",
       "    </tr>\n",
       "    <tr>\n",
       "      <th>min</th>\n",
       "      <td>1.700000</td>\n",
       "      <td>0.000000</td>\n",
       "      <td>6.900000</td>\n",
       "      <td>0.000000</td>\n",
       "      <td>0.000000</td>\n",
       "      <td>-103.000000</td>\n",
       "      <td>0.000000</td>\n",
       "      <td>0.000000</td>\n",
       "    </tr>\n",
       "    <tr>\n",
       "      <th>25%</th>\n",
       "      <td>5.350000</td>\n",
       "      <td>0.000000</td>\n",
       "      <td>20.350000</td>\n",
       "      <td>2.000000</td>\n",
       "      <td>0.000000</td>\n",
       "      <td>-63.500000</td>\n",
       "      <td>0.000000</td>\n",
       "      <td>0.850000</td>\n",
       "    </tr>\n",
       "    <tr>\n",
       "      <th>50%</th>\n",
       "      <td>11.700000</td>\n",
       "      <td>1.000000</td>\n",
       "      <td>51.400000</td>\n",
       "      <td>4.000000</td>\n",
       "      <td>900.000000</td>\n",
       "      <td>-59.000000</td>\n",
       "      <td>0.000000</td>\n",
       "      <td>4.900000</td>\n",
       "    </tr>\n",
       "    <tr>\n",
       "      <th>75%</th>\n",
       "      <td>16.050000</td>\n",
       "      <td>1.000000</td>\n",
       "      <td>104.100000</td>\n",
       "      <td>7.000000</td>\n",
       "      <td>3450.000000</td>\n",
       "      <td>-51.000000</td>\n",
       "      <td>0.000000</td>\n",
       "      <td>5.500000</td>\n",
       "    </tr>\n",
       "    <tr>\n",
       "      <th>max</th>\n",
       "      <td>37.200000</td>\n",
       "      <td>1.000000</td>\n",
       "      <td>1695.200000</td>\n",
       "      <td>20.000000</td>\n",
       "      <td>10000.000000</td>\n",
       "      <td>-4.000000</td>\n",
       "      <td>1.000000</td>\n",
       "      <td>16.500000</td>\n",
       "    </tr>\n",
       "  </tbody>\n",
       "</table>\n",
       "</div>"
      ],
      "text/plain": [
       "           Price     County         Size  Elevation         Sewer        Date  \\\n",
       "count  31.000000  31.000000    31.000000  31.000000     31.000000   31.000000   \n",
       "mean   11.951613   0.612903   139.974194   4.645161   1981.290323  -58.645161   \n",
       "std     7.714699   0.495138   327.167080   4.355444   2481.311135   24.526922   \n",
       "min     1.700000   0.000000     6.900000   0.000000      0.000000 -103.000000   \n",
       "25%     5.350000   0.000000    20.350000   2.000000      0.000000  -63.500000   \n",
       "50%    11.700000   1.000000    51.400000   4.000000    900.000000  -59.000000   \n",
       "75%    16.050000   1.000000   104.100000   7.000000   3450.000000  -51.000000   \n",
       "max    37.200000   1.000000  1695.200000  20.000000  10000.000000   -4.000000   \n",
       "\n",
       "           Flood   Distance  \n",
       "count  31.000000  31.000000  \n",
       "mean    0.161290   5.132258  \n",
       "std     0.373878   4.536400  \n",
       "min     0.000000   0.000000  \n",
       "25%     0.000000   0.850000  \n",
       "50%     0.000000   4.900000  \n",
       "75%     0.000000   5.500000  \n",
       "max     1.000000  16.500000  "
      ]
     },
     "execution_count": 106,
     "metadata": {},
     "output_type": "execute_result"
    }
   ],
   "source": [
    "data.describe()"
   ]
  },
  {
   "cell_type": "code",
   "execution_count": 107,
   "metadata": {},
   "outputs": [
    {
     "data": {
      "text/plain": [
       "<matplotlib.axes._subplots.AxesSubplot at 0x1a117802d68>"
      ]
     },
     "execution_count": 107,
     "metadata": {},
     "output_type": "execute_result"
    },
    {
     "data": {
      "image/png": "[encoded data removed]",
      "text/plain": [
       "<Figure size 432x288 with 1 Axes>"
      ]
     },
     "metadata": {
      "needs_background": "light"
     },
     "output_type": "display_data"
    }
   ],
   "source": [
    "data.boxplot(column=['Elevation', 'Flood', 'Distance', 'Price'])"
   ]
  },
  {
   "cell_type": "code",
   "execution_count": 108,
   "metadata": {},
   "outputs": [
    {
     "data": {
      "text/plain": [
       "<matplotlib.axes._subplots.AxesSubplot at 0x1a117772fd0>"
      ]
     },
     "execution_count": 108,
     "metadata": {},
     "output_type": "execute_result"
    },
    {
     "data": {
      "image/png": "[encoded data removed]",
      "text/plain": [
       "<Figure size 432x288 with 1 Axes>"
      ]
     },
     "metadata": {
      "needs_background": "light"
     },
     "output_type": "display_data"
    }
   ],
   "source": [
    "data.boxplot(column=['Size'])"
   ]
  },
  {
   "cell_type": "code",
   "execution_count": 109,
   "metadata": {},
   "outputs": [
    {
     "data": {
      "text/plain": [
       "<matplotlib.axes._subplots.AxesSubplot at 0x1a117184c18>"
      ]
     },
     "execution_count": 109,
     "metadata": {},
     "output_type": "execute_result"
    },
    {
     "data": {
      "image/png": "[encoded data removed]",
      "text/plain": [
       "<Figure size 432x288 with 1 Axes>"
      ]
     },
     "metadata": {
      "needs_background": "light"
     },
     "output_type": "display_data"
    }
   ],
   "source": [
    "data.boxplot(column=['Sewer'])"
   ]
  },
  {
   "cell_type": "raw",
   "metadata": {},
   "source": [
    "1.\n",
    "County -> [San Mateo=0, Santa Clara =1], Nominal categorical variable\n",
    "Size ->    min = 6.900000, max = 1695.200000, Size of the property in acres -> outliers present -> continuous\n",
    "Elevation -> Average Elevation in foot above sea level -> interval \n",
    "Sewer -> Distance (in feet) to nearest sewer connection - > continuous \n",
    "Date -> Date of sale counting backward from current time (in months) -> Ratio\n",
    "Flood -> Subject to flooding by tidal action = 1; otherwise =0 -> Nominal categorical variable\n",
    "Distance -> Distance in miles from Leslie Property (in almost all cases, this is toward San Francisco -> Ratio"
   ]
  },
  {
   "cell_type": "raw",
   "metadata": {},
   "source": [
    "Price - > is the dependent variable "
   ]
  },
  {
   "cell_type": "code",
   "execution_count": 110,
   "metadata": {},
   "outputs": [],
   "source": [
    "#shifting price to the last column\n",
    "data = data[['County', 'Size', 'Elevation', 'Sewer', 'Date', 'Flood','Distance', 'Price']]"
   ]
  },
  {
   "cell_type": "raw",
   "metadata": {},
   "source": [
    "2. a.Sewer Variable is in 1000's need to scale it to match the other vatiables.\n",
    "   b. convert Date values to positive values."
   ]
  },
  {
   "cell_type": "code",
   "execution_count": 111,
   "metadata": {},
   "outputs": [
    {
     "name": "stderr",
     "output_type": "stream",
     "text": [
      "C:\\Users\\5029874\\AppData\\Local\\Continuum\\anaconda3\\envs\\trainingenv\\lib\\site-packages\\sklearn\\preprocessing\\data.py:625: DataConversionWarning: Data with input dtype int64 were all converted to float64 by StandardScaler.\n",
      "  return self.partial_fit(X, y)\n",
      "C:\\Users\\5029874\\AppData\\Local\\Continuum\\anaconda3\\envs\\trainingenv\\lib\\site-packages\\sklearn\\base.py:462: DataConversionWarning: Data with input dtype int64 were all converted to float64 by StandardScaler.\n",
      "  return self.fit(X, **fit_params).transform(X)\n"
     ]
    }
   ],
   "source": [
    "# Sewer Scaling\n",
    "from sklearn.preprocessing import StandardScaler\n",
    "sc = StandardScaler()\n",
    "data['Sewer'] = sc.fit_transform(data[['Sewer']])"
   ]
  },
  {
   "cell_type": "code",
   "execution_count": 112,
   "metadata": {},
   "outputs": [],
   "source": [
    "# Convert Date diff from negative to positive \n",
    "data['Date'] = data['Date'].abs()"
   ]
  },
  {
   "cell_type": "code",
   "execution_count": 113,
   "metadata": {},
   "outputs": [
    {
     "data": {
      "text/plain": [
       "<matplotlib.axes._subplots.AxesSubplot at 0x1a1175a9080>"
      ]
     },
     "execution_count": 113,
     "metadata": {},
     "output_type": "execute_result"
    },
    {
     "data": {
      "image/png": "[encoded data removed]",
      "text/plain": [
       "<Figure size 432x288 with 2 Axes>"
      ]
     },
     "metadata": {
      "needs_background": "light"
     },
     "output_type": "display_data"
    }
   ],
   "source": [
    "Var_Corr = data.corr()\n",
    "# plot the heatmap and annotation on it\n",
    "sb.heatmap(Var_Corr, xticklabels=Var_Corr.columns, yticklabels=Var_Corr.columns, annot=True)"
   ]
  },
  {
   "cell_type": "code",
   "execution_count": 114,
   "metadata": {},
   "outputs": [],
   "source": [
    "#Distance is highly correlated with Flood, Size, County\n",
    "#Drop Distance\n",
    "data = data.drop('Distance', axis=1)"
   ]
  },
  {
   "cell_type": "raw",
   "metadata": {},
   "source": [
    "0\tCounty\t-7.344553\n",
    "1\tSize\t-0.002990\n",
    "2\tElevation\t0.579784\n",
    "3\tSewer\t-1.694276\n",
    "4\tDate\t-0.090383\n",
    "5\tFlood\t-10.004440"
   ]
  },
  {
   "cell_type": "code",
   "execution_count": 115,
   "metadata": {},
   "outputs": [],
   "source": [
    "#size has very less coeff value so droping it\n",
    "data = data.drop('Size', axis=1)"
   ]
  },
  {
   "cell_type": "code",
   "execution_count": 116,
   "metadata": {},
   "outputs": [],
   "source": [
    "data = data.drop('Elevation', axis=1)"
   ]
  },
  {
   "cell_type": "code",
   "execution_count": 118,
   "metadata": {},
   "outputs": [],
   "source": [
    "X = data.iloc[:,0:4] # independent variables\n",
    "y = data.iloc[:,4]"
   ]
  },
  {
   "cell_type": "code",
   "execution_count": 119,
   "metadata": {},
   "outputs": [],
   "source": [
    "# Splitting the dataset into the Training set and Test set\n",
    "from sklearn.model_selection import train_test_split\n",
    "X_train, X_test, y_train, y_test = train_test_split(X, y, test_size = 0.20, random_state = 0)"
   ]
  },
  {
   "cell_type": "code",
   "execution_count": 120,
   "metadata": {},
   "outputs": [],
   "source": [
    "import numpy as np\n",
    "from sklearn.linear_model import LinearRegression"
   ]
  },
  {
   "cell_type": "code",
   "execution_count": 121,
   "metadata": {},
   "outputs": [],
   "source": [
    "reg = LinearRegression().fit(X_train, y_train)"
   ]
  },
  {
   "cell_type": "code",
   "execution_count": 122,
   "metadata": {},
   "outputs": [
    {
     "data": {
      "text/plain": [
       "0.6629698093646603"
      ]
     },
     "execution_count": 122,
     "metadata": {},
     "output_type": "execute_result"
    }
   ],
   "source": [
    "reg.score(X_train, y_train)"
   ]
  },
  {
   "cell_type": "code",
   "execution_count": 123,
   "metadata": {},
   "outputs": [
    {
     "data": {
      "text/html": [
       "<div>\n",
       "<style scoped>\n",
       "    .dataframe tbody tr th:only-of-type {\n",
       "        vertical-align: middle;\n",
       "    }\n",
       "\n",
       "    .dataframe tbody tr th {\n",
       "        vertical-align: top;\n",
       "    }\n",
       "\n",
       "    .dataframe thead th {\n",
       "        text-align: right;\n",
       "    }\n",
       "</style>\n",
       "<table border=\"1\" class=\"dataframe\">\n",
       "  <thead>\n",
       "    <tr style=\"text-align: right;\">\n",
       "      <th></th>\n",
       "      <th>Variable</th>\n",
       "      <th>Coeff</th>\n",
       "    </tr>\n",
       "  </thead>\n",
       "  <tbody>\n",
       "    <tr>\n",
       "      <th>3</th>\n",
       "      <td>Flood</td>\n",
       "      <td>-10.347022</td>\n",
       "    </tr>\n",
       "    <tr>\n",
       "      <th>0</th>\n",
       "      <td>County</td>\n",
       "      <td>-3.039020</td>\n",
       "    </tr>\n",
       "    <tr>\n",
       "      <th>1</th>\n",
       "      <td>Sewer</td>\n",
       "      <td>-2.323288</td>\n",
       "    </tr>\n",
       "    <tr>\n",
       "      <th>2</th>\n",
       "      <td>Date</td>\n",
       "      <td>-0.134247</td>\n",
       "    </tr>\n",
       "  </tbody>\n",
       "</table>\n",
       "</div>"
      ],
      "text/plain": [
       "  Variable      Coeff\n",
       "3    Flood -10.347022\n",
       "0   County  -3.039020\n",
       "1    Sewer  -2.323288\n",
       "2     Date  -0.134247"
      ]
     },
     "execution_count": 123,
     "metadata": {},
     "output_type": "execute_result"
    }
   ],
   "source": [
    "# Coefficient of variables with dependent variable\n",
    "coeff_df = pd.concat([pd.DataFrame(X_train.columns),pd.DataFrame(np.transpose(reg.coef_))], axis=1)\n",
    "coeff_df.columns = ['Variable','Coeff']\n",
    "coeff_df.sort_values(by=['Coeff'], inplace=True)\n",
    "coeff_df"
   ]
  },
  {
   "cell_type": "code",
   "execution_count": 124,
   "metadata": {},
   "outputs": [
    {
     "data": {
      "text/plain": [
       "22.77280760331892"
      ]
     },
     "execution_count": 124,
     "metadata": {},
     "output_type": "execute_result"
    }
   ],
   "source": [
    "reg.intercept_ "
   ]
  },
  {
   "cell_type": "code",
   "execution_count": 125,
   "metadata": {},
   "outputs": [],
   "source": [
    "y_pred = reg.predict(X_test)"
   ]
  },
  {
   "cell_type": "code",
   "execution_count": 126,
   "metadata": {},
   "outputs": [],
   "source": [
    "from sklearn.metrics import mean_squared_error"
   ]
  },
  {
   "cell_type": "code",
   "execution_count": 127,
   "metadata": {},
   "outputs": [
    {
     "data": {
      "text/plain": [
       "50.78752631489618"
      ]
     },
     "execution_count": 127,
     "metadata": {},
     "output_type": "execute_result"
    }
   ],
   "source": [
    "mean_squared_error(y_test, y_pred)"
   ]
  },
  {
   "cell_type": "code",
   "execution_count": 128,
   "metadata": {},
   "outputs": [
    {
     "data": {
      "image/png": "[encoded data removed]",
      "text/plain": [
       "<Figure size 432x288 with 1 Axes>"
      ]
     },
     "metadata": {
      "needs_background": "light"
     },
     "output_type": "display_data"
    }
   ],
   "source": [
    "fig, ax = plt.subplots()\n",
    "ax.scatter(y_test, y_pred)\n",
    "ax.plot([y_test.min(), y_test.max()], [y_test.min(), y_test.max()], 'k--', lw=2)\n",
    "ax.set_xlabel('Measured')\n",
    "ax.set_ylabel('Predicted')\n",
    "plt.show()"
   ]
  },
  {
   "cell_type": "raw",
   "metadata": {},
   "source": [
    "#3\n",
    "Flood = Flooding by tidal action decrease the price of the property greatly\n",
    "County = Price of the property reduces if the property is in Santa Clara\n",
    "Sewer = higher the distance to the sewer lesser the property price"
   ]
  },
  {
   "cell_type": "code",
   "execution_count": null,
   "metadata": {},
   "outputs": [],
   "source": []
  }
 ],
 "metadata": {
  "kernelspec": {
   "display_name": "Python 3",
   "language": "python",
   "name": "python3"
  },
  "language_info": {
   "codemirror_mode": {
    "name": "ipython",
    "version": 3
   },
   "file_extension": ".py",
   "mimetype": "text/x-python",
   "name": "python",
   "nbconvert_exporter": "python",
   "pygments_lexer": "ipython3",
   "version": "3.6.7"
  }
 },
 "nbformat": 4,
 "nbformat_minor": 2
}
