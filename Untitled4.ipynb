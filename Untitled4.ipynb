{
 "cells": [
  {
   "cell_type": "code",
   "execution_count": 47,
   "metadata": {},
   "outputs": [],
   "source": [
    "import pandas as pd"
   ]
  },
  {
   "cell_type": "code",
   "execution_count": 48,
   "metadata": {},
   "outputs": [],
   "source": [
    "data = pd.read_csv(\"D:/CD/CD_variables_25_06_v2.csv\")"
   ]
  },
  {
   "cell_type": "code",
   "execution_count": 46,
   "metadata": {},
   "outputs": [
    {
     "data": {
      "text/html": [
       "<div>\n",
       "<style scoped>\n",
       "    .dataframe tbody tr th:only-of-type {\n",
       "        vertical-align: middle;\n",
       "    }\n",
       "\n",
       "    .dataframe tbody tr th {\n",
       "        vertical-align: top;\n",
       "    }\n",
       "\n",
       "    .dataframe thead th {\n",
       "        text-align: right;\n",
       "    }\n",
       "</style>\n",
       "<table border=\"1\" class=\"dataframe\">\n",
       "  <thead>\n",
       "    <tr style=\"text-align: right;\">\n",
       "      <th></th>\n",
       "      <th>PRODUCT_CODE_AIR</th>\n",
       "      <th>PRODUCT_CODE_CAM</th>\n",
       "      <th>PRODUCT_CODE_COOLER</th>\n",
       "      <th>PRODUCT_CODE_DSW</th>\n",
       "      <th>PRODUCT_CODE_EC</th>\n",
       "      <th>PRODUCT_CODE_FRIDGE</th>\n",
       "      <th>PRODUCT_CODE_HOBB</th>\n",
       "      <th>PRODUCT_CODE_HT</th>\n",
       "      <th>PRODUCT_CODE_LAP</th>\n",
       "      <th>PRODUCT_CODE_MOBILE</th>\n",
       "      <th>...</th>\n",
       "      <th>AGE_BIN</th>\n",
       "      <th>TICKET_SIZE</th>\n",
       "      <th>CROSS_SELL_INSURANCE</th>\n",
       "      <th>DEALER_CUST_CITY</th>\n",
       "      <th>AGE_BIN.1</th>\n",
       "      <th>CIBIL_SCORE_NEW_BIN</th>\n",
       "      <th>Actual_TAT_Days</th>\n",
       "      <th>Disp_Month_bin</th>\n",
       "      <th>IS_WEEKEND</th>\n",
       "      <th>IS_MANDATE_REGISTERED</th>\n",
       "    </tr>\n",
       "  </thead>\n",
       "  <tbody>\n",
       "    <tr>\n",
       "      <th>0</th>\n",
       "      <td>0</td>\n",
       "      <td>0</td>\n",
       "      <td>0</td>\n",
       "      <td>0</td>\n",
       "      <td>0</td>\n",
       "      <td>0</td>\n",
       "      <td>0</td>\n",
       "      <td>0</td>\n",
       "      <td>0</td>\n",
       "      <td>0</td>\n",
       "      <td>...</td>\n",
       "      <td>5.0</td>\n",
       "      <td>10</td>\n",
       "      <td>0</td>\n",
       "      <td>1</td>\n",
       "      <td>5.0</td>\n",
       "      <td>1.0</td>\n",
       "      <td>1</td>\n",
       "      <td>1</td>\n",
       "      <td>0</td>\n",
       "      <td>1</td>\n",
       "    </tr>\n",
       "    <tr>\n",
       "      <th>1</th>\n",
       "      <td>0</td>\n",
       "      <td>0</td>\n",
       "      <td>0</td>\n",
       "      <td>0</td>\n",
       "      <td>0</td>\n",
       "      <td>0</td>\n",
       "      <td>0</td>\n",
       "      <td>0</td>\n",
       "      <td>0</td>\n",
       "      <td>0</td>\n",
       "      <td>...</td>\n",
       "      <td>1.0</td>\n",
       "      <td>7</td>\n",
       "      <td>0</td>\n",
       "      <td>1</td>\n",
       "      <td>1.0</td>\n",
       "      <td>1.0</td>\n",
       "      <td>3</td>\n",
       "      <td>1</td>\n",
       "      <td>0</td>\n",
       "      <td>1</td>\n",
       "    </tr>\n",
       "    <tr>\n",
       "      <th>2</th>\n",
       "      <td>0</td>\n",
       "      <td>0</td>\n",
       "      <td>0</td>\n",
       "      <td>0</td>\n",
       "      <td>0</td>\n",
       "      <td>1</td>\n",
       "      <td>0</td>\n",
       "      <td>0</td>\n",
       "      <td>0</td>\n",
       "      <td>0</td>\n",
       "      <td>...</td>\n",
       "      <td>8.0</td>\n",
       "      <td>4</td>\n",
       "      <td>0</td>\n",
       "      <td>1</td>\n",
       "      <td>8.0</td>\n",
       "      <td>1.0</td>\n",
       "      <td>0</td>\n",
       "      <td>1</td>\n",
       "      <td>0</td>\n",
       "      <td>1</td>\n",
       "    </tr>\n",
       "    <tr>\n",
       "      <th>3</th>\n",
       "      <td>0</td>\n",
       "      <td>0</td>\n",
       "      <td>0</td>\n",
       "      <td>0</td>\n",
       "      <td>0</td>\n",
       "      <td>0</td>\n",
       "      <td>0</td>\n",
       "      <td>0</td>\n",
       "      <td>0</td>\n",
       "      <td>0</td>\n",
       "      <td>...</td>\n",
       "      <td>2.0</td>\n",
       "      <td>3</td>\n",
       "      <td>0</td>\n",
       "      <td>1</td>\n",
       "      <td>2.0</td>\n",
       "      <td>7.0</td>\n",
       "      <td>2</td>\n",
       "      <td>1</td>\n",
       "      <td>0</td>\n",
       "      <td>1</td>\n",
       "    </tr>\n",
       "    <tr>\n",
       "      <th>4</th>\n",
       "      <td>0</td>\n",
       "      <td>0</td>\n",
       "      <td>0</td>\n",
       "      <td>0</td>\n",
       "      <td>0</td>\n",
       "      <td>0</td>\n",
       "      <td>0</td>\n",
       "      <td>0</td>\n",
       "      <td>0</td>\n",
       "      <td>0</td>\n",
       "      <td>...</td>\n",
       "      <td>1.0</td>\n",
       "      <td>8</td>\n",
       "      <td>0</td>\n",
       "      <td>1</td>\n",
       "      <td>1.0</td>\n",
       "      <td>7.0</td>\n",
       "      <td>4</td>\n",
       "      <td>1</td>\n",
       "      <td>1</td>\n",
       "      <td>1</td>\n",
       "    </tr>\n",
       "  </tbody>\n",
       "</table>\n",
       "<p>5 rows × 65 columns</p>\n",
       "</div>"
      ],
      "text/plain": [
       "   PRODUCT_CODE_AIR  PRODUCT_CODE_CAM  PRODUCT_CODE_COOLER  PRODUCT_CODE_DSW  \\\n",
       "0                 0                 0                    0                 0   \n",
       "1                 0                 0                    0                 0   \n",
       "2                 0                 0                    0                 0   \n",
       "3                 0                 0                    0                 0   \n",
       "4                 0                 0                    0                 0   \n",
       "\n",
       "   PRODUCT_CODE_EC  PRODUCT_CODE_FRIDGE  PRODUCT_CODE_HOBB  PRODUCT_CODE_HT  \\\n",
       "0                0                    0                  0                0   \n",
       "1                0                    0                  0                0   \n",
       "2                0                    1                  0                0   \n",
       "3                0                    0                  0                0   \n",
       "4                0                    0                  0                0   \n",
       "\n",
       "   PRODUCT_CODE_LAP  PRODUCT_CODE_MOBILE          ...            AGE_BIN  \\\n",
       "0                 0                    0          ...                5.0   \n",
       "1                 0                    0          ...                1.0   \n",
       "2                 0                    0          ...                8.0   \n",
       "3                 0                    0          ...                2.0   \n",
       "4                 0                    0          ...                1.0   \n",
       "\n",
       "   TICKET_SIZE  CROSS_SELL_INSURANCE  DEALER_CUST_CITY  AGE_BIN.1  \\\n",
       "0           10                     0                 1        5.0   \n",
       "1            7                     0                 1        1.0   \n",
       "2            4                     0                 1        8.0   \n",
       "3            3                     0                 1        2.0   \n",
       "4            8                     0                 1        1.0   \n",
       "\n",
       "   CIBIL_SCORE_NEW_BIN  Actual_TAT_Days  Disp_Month_bin  IS_WEEKEND  \\\n",
       "0                  1.0                1               1           0   \n",
       "1                  1.0                3               1           0   \n",
       "2                  1.0                0               1           0   \n",
       "3                  7.0                2               1           0   \n",
       "4                  7.0                4               1           1   \n",
       "\n",
       "   IS_MANDATE_REGISTERED  \n",
       "0                      1  \n",
       "1                      1  \n",
       "2                      1  \n",
       "3                      1  \n",
       "4                      1  \n",
       "\n",
       "[5 rows x 65 columns]"
      ]
     },
     "execution_count": 46,
     "metadata": {},
     "output_type": "execute_result"
    }
   ],
   "source": [
    "data.head()"
   ]
  },
  {
   "cell_type": "code",
   "execution_count": 5,
   "metadata": {},
   "outputs": [],
   "source": [
    "y = data[['IS_MANDATE_REGISTERED']]"
   ]
  },
  {
   "cell_type": "code",
   "execution_count": 42,
   "metadata": {},
   "outputs": [],
   "source": [
    "Y = y.values"
   ]
  },
  {
   "cell_type": "code",
   "execution_count": 7,
   "metadata": {},
   "outputs": [],
   "source": [
    "data.drop('IS_MANDATE_REGISTERED', 1, inplace=True)"
   ]
  },
  {
   "cell_type": "code",
   "execution_count": 10,
   "metadata": {},
   "outputs": [],
   "source": [
    "ID = data.PROPNO"
   ]
  },
  {
   "cell_type": "code",
   "execution_count": 11,
   "metadata": {},
   "outputs": [],
   "source": [
    "data.drop('PROPNO', 1, inplace=True)"
   ]
  },
  {
   "cell_type": "code",
   "execution_count": 41,
   "metadata": {},
   "outputs": [],
   "source": [
    "X = data.values"
   ]
  },
  {
   "cell_type": "code",
   "execution_count": 13,
   "metadata": {},
   "outputs": [],
   "source": [
    "from sklearn.linear_model import LogisticRegression\n",
    "from sklearn.model_selection import train_test_split"
   ]
  },
  {
   "cell_type": "code",
   "execution_count": 43,
   "metadata": {},
   "outputs": [],
   "source": [
    "x_train, x_test, y_train, y_test = train_test_split(X, Y, test_size=0.20, random_state=0)"
   ]
  },
  {
   "cell_type": "code",
   "execution_count": 15,
   "metadata": {},
   "outputs": [],
   "source": [
    "# all parameters not specified are set to their defaults\n",
    "logisticRegr = LogisticRegression()"
   ]
  },
  {
   "cell_type": "code",
   "execution_count": 25,
   "metadata": {},
   "outputs": [
    {
     "name": "stderr",
     "output_type": "stream",
     "text": [
      "C:\\Users\\5029874\\AppData\\Local\\Continuum\\anaconda3\\envs\\trainingenv\\lib\\site-packages\\sklearn\\linear_model\\logistic.py:433: FutureWarning: Default solver will be changed to 'lbfgs' in 0.22. Specify a solver to silence this warning.\n",
      "  FutureWarning)\n",
      "C:\\Users\\5029874\\AppData\\Local\\Continuum\\anaconda3\\envs\\trainingenv\\lib\\site-packages\\sklearn\\utils\\validation.py:761: DataConversionWarning: A column-vector y was passed when a 1d array was expected. Please change the shape of y to (n_samples, ), for example using ravel().\n",
      "  y = column_or_1d(y, warn=True)\n"
     ]
    }
   ],
   "source": [
    "res = logisticRegr.fit(x_train, y_train)"
   ]
  },
  {
   "cell_type": "code",
   "execution_count": 28,
   "metadata": {},
   "outputs": [
    {
     "data": {
      "text/plain": [
       "array([0.00220429])"
      ]
     },
     "execution_count": 28,
     "metadata": {},
     "output_type": "execute_result"
    }
   ],
   "source": [
    "res.intercept_"
   ]
  },
  {
   "cell_type": "code",
   "execution_count": 29,
   "metadata": {},
   "outputs": [
    {
     "data": {
      "text/plain": [
       "array([0, 1], dtype=int64)"
      ]
     },
     "execution_count": 29,
     "metadata": {},
     "output_type": "execute_result"
    }
   ],
   "source": [
    "res.classes_"
   ]
  },
  {
   "cell_type": "code",
   "execution_count": 30,
   "metadata": {},
   "outputs": [
    {
     "data": {
      "text/plain": [
       "array([[ 3.16963604e-07, -4.66893673e-06,  7.72005268e-06,\n",
       "         4.63337984e-06, -3.01804739e-07,  1.77244272e-03,\n",
       "         0.00000000e+00, -2.81509701e-06, -1.03218150e-05,\n",
       "        -1.86741236e-03,  5.55454446e-05, -8.67903001e-04,\n",
       "         7.30223166e-07,  1.10687375e-03,  6.48458125e-05,\n",
       "         0.00000000e+00,  8.15206668e-05,  4.99994802e-07,\n",
       "         1.15237173e-04, -2.49582180e-06,  0.00000000e+00,\n",
       "        -1.81502316e-05, -3.49398769e-06,  1.63737409e-04,\n",
       "         0.00000000e+00,  7.08844965e-06, -5.88417111e-04,\n",
       "         2.49818840e-07, -3.06385157e-05, -1.55104527e-06,\n",
       "        -4.39781684e-08,  2.00065173e-06,  0.00000000e+00,\n",
       "        -7.55828296e-04, -2.46548498e-04,  6.47639156e-07,\n",
       "         3.75521012e-04,  1.95670860e-03,  3.05218161e-07,\n",
       "         3.36183779e-07,  0.00000000e+00,  2.12507513e-04,\n",
       "         1.04599189e-06, -3.24389177e-04, -5.51409791e-05,\n",
       "         3.12684365e-07,  3.31577940e-07,  3.31682227e-07,\n",
       "        -1.09214426e-06,  3.73895833e-07, -3.63909755e-07,\n",
       "         3.01013908e-07,  5.45958805e-07,  2.26674813e-07,\n",
       "         2.48205960e-05, -2.69221742e-04,  0.00000000e+00,\n",
       "         9.88276607e-07,  3.42539832e-04,  0.00000000e+00,\n",
       "        -2.13968794e-06,  6.53123502e-05,  3.31773338e-07,\n",
       "        -2.51417231e-06, -2.46188742e-06, -2.13839946e-06,\n",
       "        -2.81608893e-04,  3.57589928e-07, -4.31928266e-05,\n",
       "        -2.43853644e-06,  1.66136022e-04, -2.67088712e-06,\n",
       "        -3.59922508e-05, -6.16893084e-05, -6.74003451e-05,\n",
       "         1.42538491e-05,  2.50577390e-07,  0.00000000e+00,\n",
       "        -9.66722756e-05,  3.57469416e-04, -9.85387584e-05,\n",
       "         1.29053326e-04,  3.04115246e-07,  3.47568291e-07,\n",
       "        -5.34310051e-04,  5.77935929e-07,  5.17124474e-04,\n",
       "        -6.58562260e-05,  3.37771797e-07,  6.74016282e-07,\n",
       "         6.07662370e-07,  6.22826078e-07,  2.23452343e-06,\n",
       "        -6.86740805e-04, -1.64461789e-04, -2.43103749e-06,\n",
       "         3.29472182e-07, -7.43545635e-05,  6.01907530e-07,\n",
       "         1.52199651e-05, -2.20965260e-06,  3.26863151e-07,\n",
       "        -2.54416942e-06,  6.33748150e-07,  2.05009025e-04,\n",
       "         2.29961951e-07, -2.87321178e-05,  6.94597248e-07,\n",
       "         1.69281000e-06,  9.64751214e-07, -1.89959650e-06,\n",
       "        -3.53182072e-05,  2.51443656e-07,  3.54143723e-07,\n",
       "        -2.35791799e-06,  2.51062618e-07,  1.66779145e-05,\n",
       "        -4.20523113e-05,  3.50840605e-07,  7.44539650e-07,\n",
       "         1.27937892e-06,  2.52291876e-07,  3.90638101e-07,\n",
       "         2.54014091e-06,  3.34227900e-07,  8.00753078e-06,\n",
       "         1.26646084e-06,  3.48111101e-07,  1.06860179e-05,\n",
       "         4.64066300e-04,  3.25505064e-07, -2.75644813e-04,\n",
       "        -4.94917500e-05,  3.12205152e-07, -2.63461971e-05,\n",
       "         6.71233582e-04,  5.81370740e-07,  3.02607043e-04,\n",
       "         4.65167404e-05,  2.43165005e-07,  2.17242267e-07,\n",
       "         6.82019170e-07,  0.00000000e+00,  8.90852890e-07,\n",
       "         1.16980329e-06,  1.31268346e-06, -5.36547242e-04,\n",
       "         4.56512333e-06,  3.93194823e-07,  8.84189968e-04,\n",
       "         1.35625259e-06,  3.05774003e-07,  3.27891614e-07,\n",
       "         1.16480679e-06,  3.59903868e-07,  3.24120514e-07,\n",
       "         3.33809874e-07,  3.05612690e-07, -2.53268838e-06,\n",
       "         3.88025661e-05,  3.04979065e-07, -2.18721330e-04,\n",
       "         3.04922057e-07,  6.26159370e-07,  1.50917308e-06,\n",
       "         9.27781310e-07, -1.45409855e-04,  5.19084399e-05,\n",
       "         2.26406232e-04,  4.68979635e-05,  2.19654603e-06,\n",
       "         3.31390494e-07,  3.19024752e-07,  8.00428369e-07,\n",
       "         3.43668186e-07,  3.33931600e-07,  2.75453468e-04,\n",
       "        -4.49073105e-06,  1.97764538e-06, -9.37509548e-05,\n",
       "         9.22851279e-07,  5.90889900e-07, -2.63034345e-04,\n",
       "         3.15529077e-07, -9.78783465e-05,  5.75911647e-04,\n",
       "         6.71088225e-07, -2.12750080e-06,  3.21480211e-07,\n",
       "        -1.99914449e-06,  2.76365947e-04, -6.30100810e-04,\n",
       "         3.14445937e-07,  3.95534099e-04,  6.99074887e-07,\n",
       "        -2.51147310e-06,  3.11579955e-07,  1.41579363e-04,\n",
       "         5.60553022e-07,  0.00000000e+00,  1.57116793e-06,\n",
       "         2.11009164e-04,  3.22306623e-04,  3.46989476e-07,\n",
       "         1.28358187e-06,  2.38705026e-04, -3.47747350e-04,\n",
       "         5.88804533e-07,  2.96687788e-07,  3.38539648e-07,\n",
       "         2.00172407e-04,  3.64927223e-07,  6.51344043e-07,\n",
       "         2.92324185e-06,  6.84192257e-04,  3.78184001e-06,\n",
       "        -1.13400300e-03,  4.09887693e-04,  3.29053703e-07,\n",
       "        -6.92292855e-05,  3.34956466e-07, -1.33028108e-04,\n",
       "         2.80822596e-07,  4.08159234e-04, -1.42932590e-05,\n",
       "         7.83313626e-05,  7.69331032e-05,  7.45379662e-07,\n",
       "        -1.85927678e-04,  3.77240324e-07,  9.83213592e-07,\n",
       "         7.78557251e-05,  2.91635584e-07, -6.58738496e-05,\n",
       "         2.76503356e-05,  2.47223925e-07,  6.70437965e-04,\n",
       "         6.10951699e-07,  1.28914601e-04,  3.37299223e-07,\n",
       "         1.08310077e-06,  3.86010878e-07,  3.56203912e-07,\n",
       "         8.29139769e-07,  1.39441552e-04,  3.32800384e-06,\n",
       "         6.43670401e-07,  3.15854634e-07,  3.24078590e-07,\n",
       "         2.52815359e-07, -6.06280435e-06, -3.64560592e-06,\n",
       "        -7.19233574e-06,  9.48352253e-05,  3.00702373e-04,\n",
       "         3.31331231e-07,  1.97532793e-05, -9.02926613e-05,\n",
       "         8.98885492e-07,  1.26620651e-04, -3.63762573e-05,\n",
       "        -1.02567295e-06,  0.00000000e+00,  0.00000000e+00,\n",
       "         3.58882343e-07,  0.00000000e+00, -5.27463723e-04,\n",
       "        -9.66337988e-05,  6.05261054e-07,  1.43560993e-06,\n",
       "        -1.57010468e-05, -2.45391634e-06,  0.00000000e+00,\n",
       "         3.32806870e-07,  3.97078195e-07, -5.13221048e-04,\n",
       "         2.21256753e-06, -8.44842673e-05,  2.15301901e-06,\n",
       "        -5.62326157e-05,  3.59688251e-07,  5.65263601e-07,\n",
       "         3.66945267e-07,  3.06558031e-07,  3.07562025e-07,\n",
       "        -1.19008778e-04,  3.46636174e-07,  3.29409975e-07,\n",
       "        -5.86898059e-06, -8.30048021e-07, -2.05247538e-05,\n",
       "         7.26657005e-07, -6.77217751e-04,  0.00000000e+00,\n",
       "        -2.45823990e-06,  1.59183389e-04,  1.48354721e-06,\n",
       "         2.01395682e-04,  1.30689740e-06,  0.00000000e+00,\n",
       "        -1.87394358e-06,  1.97058406e-04,  3.00058592e-07,\n",
       "        -7.93481075e-06,  1.22151731e-06,  4.07143073e-07,\n",
       "        -4.87049292e-05,  3.48877694e-05, -1.14962440e-06,\n",
       "         0.00000000e+00,  1.83172319e-04, -3.28857598e-05,\n",
       "        -1.59451927e-05, -5.85138746e-04, -1.52972321e-04,\n",
       "        -1.04316321e-04, -3.92974663e-04, -2.06964388e-04,\n",
       "         2.99154275e-07,  3.46380255e-07, -5.00778773e-05,\n",
       "         3.48150798e-07, -3.99650104e-05, -1.95276875e-06,\n",
       "         3.54572148e-07, -6.04078422e-05, -1.85045214e-04,\n",
       "         1.40978711e-04,  3.99004373e-04,  2.17083096e-04,\n",
       "         2.34472404e-04, -4.48659709e-05, -2.78661135e-05,\n",
       "         2.76901439e-07,  2.34439779e-04, -2.76629444e-04,\n",
       "        -1.45459352e-06, -2.28856900e-05,  3.56011314e-05,\n",
       "         0.00000000e+00,  2.72575715e-03, -1.06127559e-03,\n",
       "         0.00000000e+00,  5.58765019e-04,  6.41819047e-05,\n",
       "         4.45501533e-03,  1.45922183e-06,  5.26881694e-03,\n",
       "        -6.90705730e-04,  1.34737762e-03,  1.24504518e-04,\n",
       "        -2.63357988e-03, -2.36307740e-04,  0.00000000e+00,\n",
       "        -6.72442426e-03,  0.00000000e+00,  2.61365876e-03,\n",
       "         0.00000000e+00, -9.58997963e-04,  0.00000000e+00,\n",
       "         0.00000000e+00,  1.72041983e-02,  0.00000000e+00,\n",
       "         0.00000000e+00, -6.22143081e-03, -1.79909083e-03,\n",
       "        -3.10821091e-03,  8.34185558e-03,  0.00000000e+00,\n",
       "         1.32265426e-03,  2.83623585e-02,  5.32979927e-06,\n",
       "         1.10103829e-06, -1.46734716e-05, -1.86741236e-03,\n",
       "         7.22561740e-04,  2.20543488e-03, -1.72060774e-02,\n",
       "         1.26016566e-05, -2.83348463e-03, -1.09418374e-02,\n",
       "         2.57472695e-03,  1.26016566e-05, -2.48049171e-05,\n",
       "        -2.11357114e-02,  1.83982542e-03,  1.10068872e-03]])"
      ]
     },
     "execution_count": 30,
     "metadata": {},
     "output_type": "execute_result"
    }
   ],
   "source": [
    "res.coef_"
   ]
  },
  {
   "cell_type": "code",
   "execution_count": 32,
   "metadata": {},
   "outputs": [
    {
     "name": "stdout",
     "output_type": "stream",
     "text": [
      "None\n"
     ]
    }
   ],
   "source": [
    "res."
   ]
  },
  {
   "cell_type": "code",
   "execution_count": null,
   "metadata": {},
   "outputs": [],
   "source": [
    "# Returns a NumPy Array\n",
    "# Predict for One Observation (image)\n",
    "logisticRegr.predict(x_test[0].reshape(1,-1))"
   ]
  },
  {
   "cell_type": "code",
   "execution_count": 34,
   "metadata": {},
   "outputs": [],
   "source": [
    "import statsmodels.api as sm"
   ]
  },
  {
   "cell_type": "code",
   "execution_count": 39,
   "metadata": {},
   "outputs": [
    {
     "name": "stdout",
     "output_type": "stream",
     "text": [
      "Warning: Maximum number of iterations has been exceeded.\n",
      "         Current function value: inf\n",
      "         Iterations: 35\n"
     ]
    },
    {
     "ename": "LinAlgError",
     "evalue": "Singular matrix",
     "output_type": "error",
     "traceback": [
      "\u001b[1;31m---------------------------------------------------------------------------\u001b[0m",
      "\u001b[1;31mLinAlgError\u001b[0m                               Traceback (most recent call last)",
      "\u001b[1;32m<ipython-input-39-c69f64daf76a>\u001b[0m in \u001b[0;36m<module>\u001b[1;34m\u001b[0m\n\u001b[0;32m      1\u001b[0m \u001b[0mlogit_model\u001b[0m\u001b[1;33m=\u001b[0m\u001b[0msm\u001b[0m\u001b[1;33m.\u001b[0m\u001b[0mLogit\u001b[0m\u001b[1;33m(\u001b[0m\u001b[0my_train\u001b[0m\u001b[1;33m,\u001b[0m\u001b[0mx_train\u001b[0m\u001b[1;33m)\u001b[0m\u001b[1;33m\u001b[0m\u001b[1;33m\u001b[0m\u001b[0m\n\u001b[1;32m----> 2\u001b[1;33m \u001b[0mresult\u001b[0m\u001b[1;33m=\u001b[0m\u001b[0mlogit_model\u001b[0m\u001b[1;33m.\u001b[0m\u001b[0mfit\u001b[0m\u001b[1;33m(\u001b[0m\u001b[1;33m)\u001b[0m\u001b[1;33m\u001b[0m\u001b[1;33m\u001b[0m\u001b[0m\n\u001b[0m",
      "\u001b[1;32m~\\AppData\\Local\\Continuum\\anaconda3\\envs\\trainingenv\\lib\\site-packages\\statsmodels\\discrete\\discrete_model.py\u001b[0m in \u001b[0;36mfit\u001b[1;34m(self, start_params, method, maxiter, full_output, disp, callback, **kwargs)\u001b[0m\n\u001b[0;32m   1832\u001b[0m         bnryfit = super(Logit, self).fit(start_params=start_params,\n\u001b[0;32m   1833\u001b[0m                 \u001b[0mmethod\u001b[0m\u001b[1;33m=\u001b[0m\u001b[0mmethod\u001b[0m\u001b[1;33m,\u001b[0m \u001b[0mmaxiter\u001b[0m\u001b[1;33m=\u001b[0m\u001b[0mmaxiter\u001b[0m\u001b[1;33m,\u001b[0m \u001b[0mfull_output\u001b[0m\u001b[1;33m=\u001b[0m\u001b[0mfull_output\u001b[0m\u001b[1;33m,\u001b[0m\u001b[1;33m\u001b[0m\u001b[1;33m\u001b[0m\u001b[0m\n\u001b[1;32m-> 1834\u001b[1;33m                 disp=disp, callback=callback, **kwargs)\n\u001b[0m\u001b[0;32m   1835\u001b[0m \u001b[1;33m\u001b[0m\u001b[0m\n\u001b[0;32m   1836\u001b[0m         \u001b[0mdiscretefit\u001b[0m \u001b[1;33m=\u001b[0m \u001b[0mLogitResults\u001b[0m\u001b[1;33m(\u001b[0m\u001b[0mself\u001b[0m\u001b[1;33m,\u001b[0m \u001b[0mbnryfit\u001b[0m\u001b[1;33m)\u001b[0m\u001b[1;33m\u001b[0m\u001b[1;33m\u001b[0m\u001b[0m\n",
      "\u001b[1;32m~\\AppData\\Local\\Continuum\\anaconda3\\envs\\trainingenv\\lib\\site-packages\\statsmodels\\discrete\\discrete_model.py\u001b[0m in \u001b[0;36mfit\u001b[1;34m(self, start_params, method, maxiter, full_output, disp, callback, **kwargs)\u001b[0m\n\u001b[0;32m    218\u001b[0m         mlefit = super(DiscreteModel, self).fit(start_params=start_params,\n\u001b[0;32m    219\u001b[0m                 \u001b[0mmethod\u001b[0m\u001b[1;33m=\u001b[0m\u001b[0mmethod\u001b[0m\u001b[1;33m,\u001b[0m \u001b[0mmaxiter\u001b[0m\u001b[1;33m=\u001b[0m\u001b[0mmaxiter\u001b[0m\u001b[1;33m,\u001b[0m \u001b[0mfull_output\u001b[0m\u001b[1;33m=\u001b[0m\u001b[0mfull_output\u001b[0m\u001b[1;33m,\u001b[0m\u001b[1;33m\u001b[0m\u001b[1;33m\u001b[0m\u001b[0m\n\u001b[1;32m--> 220\u001b[1;33m                 disp=disp, callback=callback, **kwargs)\n\u001b[0m\u001b[0;32m    221\u001b[0m \u001b[1;33m\u001b[0m\u001b[0m\n\u001b[0;32m    222\u001b[0m         \u001b[1;32mreturn\u001b[0m \u001b[0mmlefit\u001b[0m \u001b[1;31m# up to subclasses to wrap results\u001b[0m\u001b[1;33m\u001b[0m\u001b[1;33m\u001b[0m\u001b[0m\n",
      "\u001b[1;32m~\\AppData\\Local\\Continuum\\anaconda3\\envs\\trainingenv\\lib\\site-packages\\statsmodels\\base\\model.py\u001b[0m in \u001b[0;36mfit\u001b[1;34m(self, start_params, method, maxiter, full_output, disp, fargs, callback, retall, skip_hessian, **kwargs)\u001b[0m\n\u001b[0;32m    471\u001b[0m             \u001b[0mHinv\u001b[0m \u001b[1;33m=\u001b[0m \u001b[0mcov_params_func\u001b[0m\u001b[1;33m(\u001b[0m\u001b[0mself\u001b[0m\u001b[1;33m,\u001b[0m \u001b[0mxopt\u001b[0m\u001b[1;33m,\u001b[0m \u001b[0mretvals\u001b[0m\u001b[1;33m)\u001b[0m\u001b[1;33m\u001b[0m\u001b[1;33m\u001b[0m\u001b[0m\n\u001b[0;32m    472\u001b[0m         \u001b[1;32melif\u001b[0m \u001b[0mmethod\u001b[0m \u001b[1;33m==\u001b[0m \u001b[1;34m'newton'\u001b[0m \u001b[1;32mand\u001b[0m \u001b[0mfull_output\u001b[0m\u001b[1;33m:\u001b[0m\u001b[1;33m\u001b[0m\u001b[1;33m\u001b[0m\u001b[0m\n\u001b[1;32m--> 473\u001b[1;33m             \u001b[0mHinv\u001b[0m \u001b[1;33m=\u001b[0m \u001b[0mnp\u001b[0m\u001b[1;33m.\u001b[0m\u001b[0mlinalg\u001b[0m\u001b[1;33m.\u001b[0m\u001b[0minv\u001b[0m\u001b[1;33m(\u001b[0m\u001b[1;33m-\u001b[0m\u001b[0mretvals\u001b[0m\u001b[1;33m[\u001b[0m\u001b[1;34m'Hessian'\u001b[0m\u001b[1;33m]\u001b[0m\u001b[1;33m)\u001b[0m \u001b[1;33m/\u001b[0m \u001b[0mnobs\u001b[0m\u001b[1;33m\u001b[0m\u001b[1;33m\u001b[0m\u001b[0m\n\u001b[0m\u001b[0;32m    474\u001b[0m         \u001b[1;32melif\u001b[0m \u001b[1;32mnot\u001b[0m \u001b[0mskip_hessian\u001b[0m\u001b[1;33m:\u001b[0m\u001b[1;33m\u001b[0m\u001b[1;33m\u001b[0m\u001b[0m\n\u001b[0;32m    475\u001b[0m             \u001b[0mH\u001b[0m \u001b[1;33m=\u001b[0m \u001b[1;33m-\u001b[0m\u001b[1;36m1\u001b[0m \u001b[1;33m*\u001b[0m \u001b[0mself\u001b[0m\u001b[1;33m.\u001b[0m\u001b[0mhessian\u001b[0m\u001b[1;33m(\u001b[0m\u001b[0mxopt\u001b[0m\u001b[1;33m)\u001b[0m\u001b[1;33m\u001b[0m\u001b[1;33m\u001b[0m\u001b[0m\n",
      "\u001b[1;32m~\\AppData\\Local\\Continuum\\anaconda3\\envs\\trainingenv\\lib\\site-packages\\numpy\\linalg\\linalg.py\u001b[0m in \u001b[0;36minv\u001b[1;34m(a)\u001b[0m\n\u001b[0;32m    549\u001b[0m     \u001b[0msignature\u001b[0m \u001b[1;33m=\u001b[0m \u001b[1;34m'D->D'\u001b[0m \u001b[1;32mif\u001b[0m \u001b[0misComplexType\u001b[0m\u001b[1;33m(\u001b[0m\u001b[0mt\u001b[0m\u001b[1;33m)\u001b[0m \u001b[1;32melse\u001b[0m \u001b[1;34m'd->d'\u001b[0m\u001b[1;33m\u001b[0m\u001b[1;33m\u001b[0m\u001b[0m\n\u001b[0;32m    550\u001b[0m     \u001b[0mextobj\u001b[0m \u001b[1;33m=\u001b[0m \u001b[0mget_linalg_error_extobj\u001b[0m\u001b[1;33m(\u001b[0m\u001b[0m_raise_linalgerror_singular\u001b[0m\u001b[1;33m)\u001b[0m\u001b[1;33m\u001b[0m\u001b[1;33m\u001b[0m\u001b[0m\n\u001b[1;32m--> 551\u001b[1;33m     \u001b[0mainv\u001b[0m \u001b[1;33m=\u001b[0m \u001b[0m_umath_linalg\u001b[0m\u001b[1;33m.\u001b[0m\u001b[0minv\u001b[0m\u001b[1;33m(\u001b[0m\u001b[0ma\u001b[0m\u001b[1;33m,\u001b[0m \u001b[0msignature\u001b[0m\u001b[1;33m=\u001b[0m\u001b[0msignature\u001b[0m\u001b[1;33m,\u001b[0m \u001b[0mextobj\u001b[0m\u001b[1;33m=\u001b[0m\u001b[0mextobj\u001b[0m\u001b[1;33m)\u001b[0m\u001b[1;33m\u001b[0m\u001b[1;33m\u001b[0m\u001b[0m\n\u001b[0m\u001b[0;32m    552\u001b[0m     \u001b[1;32mreturn\u001b[0m \u001b[0mwrap\u001b[0m\u001b[1;33m(\u001b[0m\u001b[0mainv\u001b[0m\u001b[1;33m.\u001b[0m\u001b[0mastype\u001b[0m\u001b[1;33m(\u001b[0m\u001b[0mresult_t\u001b[0m\u001b[1;33m,\u001b[0m \u001b[0mcopy\u001b[0m\u001b[1;33m=\u001b[0m\u001b[1;32mFalse\u001b[0m\u001b[1;33m)\u001b[0m\u001b[1;33m)\u001b[0m\u001b[1;33m\u001b[0m\u001b[1;33m\u001b[0m\u001b[0m\n\u001b[0;32m    553\u001b[0m \u001b[1;33m\u001b[0m\u001b[0m\n",
      "\u001b[1;32m~\\AppData\\Local\\Continuum\\anaconda3\\envs\\trainingenv\\lib\\site-packages\\numpy\\linalg\\linalg.py\u001b[0m in \u001b[0;36m_raise_linalgerror_singular\u001b[1;34m(err, flag)\u001b[0m\n\u001b[0;32m     95\u001b[0m \u001b[1;33m\u001b[0m\u001b[0m\n\u001b[0;32m     96\u001b[0m \u001b[1;32mdef\u001b[0m \u001b[0m_raise_linalgerror_singular\u001b[0m\u001b[1;33m(\u001b[0m\u001b[0merr\u001b[0m\u001b[1;33m,\u001b[0m \u001b[0mflag\u001b[0m\u001b[1;33m)\u001b[0m\u001b[1;33m:\u001b[0m\u001b[1;33m\u001b[0m\u001b[1;33m\u001b[0m\u001b[0m\n\u001b[1;32m---> 97\u001b[1;33m     \u001b[1;32mraise\u001b[0m \u001b[0mLinAlgError\u001b[0m\u001b[1;33m(\u001b[0m\u001b[1;34m\"Singular matrix\"\u001b[0m\u001b[1;33m)\u001b[0m\u001b[1;33m\u001b[0m\u001b[1;33m\u001b[0m\u001b[0m\n\u001b[0m\u001b[0;32m     98\u001b[0m \u001b[1;33m\u001b[0m\u001b[0m\n\u001b[0;32m     99\u001b[0m \u001b[1;32mdef\u001b[0m \u001b[0m_raise_linalgerror_nonposdef\u001b[0m\u001b[1;33m(\u001b[0m\u001b[0merr\u001b[0m\u001b[1;33m,\u001b[0m \u001b[0mflag\u001b[0m\u001b[1;33m)\u001b[0m\u001b[1;33m:\u001b[0m\u001b[1;33m\u001b[0m\u001b[1;33m\u001b[0m\u001b[0m\n",
      "\u001b[1;31mLinAlgError\u001b[0m: Singular matrix"
     ]
    }
   ],
   "source": [
    "logit_model=sm.Logit(y_train,x_train)\n",
    "result=logit_model.fit()"
   ]
  },
  {
   "cell_type": "code",
   "execution_count": null,
   "metadata": {},
   "outputs": [],
   "source": [
    "print(result.summary())"
   ]
  },
  {
   "cell_type": "code",
   "execution_count": 35,
   "metadata": {},
   "outputs": [],
   "source": [
    "import scipy.stats as stat"
   ]
  },
  {
   "cell_type": "code",
   "execution_count": null,
   "metadata": {},
   "outputs": [],
   "source": [
    "z_scores = res.coef_"
   ]
  },
  {
   "cell_type": "code",
   "execution_count": null,
   "metadata": {},
   "outputs": [],
   "source": [
    "[stat.norms.sf(abs(data.values))*2 for x in z_scores]"
   ]
  }
 ],
 "metadata": {
  "kernelspec": {
   "display_name": "Python 3",
   "language": "python",
   "name": "python3"
  },
  "language_info": {
   "codemirror_mode": {
    "name": "ipython",
    "version": 3
   },
   "file_extension": ".py",
   "mimetype": "text/x-python",
   "name": "python",
   "nbconvert_exporter": "python",
   "pygments_lexer": "ipython3",
   "version": "3.6.7"
  }
 },
 "nbformat": 4,
 "nbformat_minor": 2
}
